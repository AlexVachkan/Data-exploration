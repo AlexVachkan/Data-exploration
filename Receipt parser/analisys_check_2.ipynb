{
 "cells": [
  {
   "cell_type": "markdown",
   "id": "d1eded69",
   "metadata": {},
   "source": [
    "Получаем код через сайт, но потом сложности воззникают с получением информации по чеку с сайна налоговой."
   ]
  },
  {
   "cell_type": "code",
   "execution_count": 1,
   "id": "ea6d08c2",
   "metadata": {},
   "outputs": [],
   "source": [
    "import requests\n",
    "from bs4 import BeautifulSoup"
   ]
  },
  {
   "cell_type": "code",
   "execution_count": 8,
   "id": "860fd15e",
   "metadata": {},
   "outputs": [],
   "source": [
    "# https://www.qrrd.ru/read/ сайт для чтения qr кода\n",
    "\n",
    "url = 'https://zxing.org/w/decode'\n",
    "filename = 'C:/Users/a.vechkanov/Desktop/Госты, Литература/Остальное/Data analitics/Тестовые/Анализ чеков/1.jpg'\n"
   ]
  },
  {
   "cell_type": "code",
   "execution_count": 10,
   "id": "feef35ce",
   "metadata": {},
   "outputs": [
    {
     "data": {
      "text/plain": [
       "'t=20220820T1133&s=384.99&fn=9960440300622794&i=70282&fp=1568290835&n=1'"
      ]
     },
     "execution_count": 10,
     "metadata": {},
     "output_type": "execute_result"
    }
   ],
   "source": [
    "HEADERS = {\"User-Agent\": \"Mozilla/5.0 (Windows NT 10.0; Win64; x64)\"}\n",
    "\n",
    "fp = open(filename, 'rb')\n",
    "\n",
    "files = {'file': fp}\n",
    "\n",
    "resp = requests.post(url, files=files, headers=HEADERS)\n",
    "fp.close()\n",
    "\n",
    "soup = BeautifulSoup(resp.text, 'html.parser')\n",
    "soup.find('pre').text"
   ]
  },
  {
   "cell_type": "markdown",
   "id": "689a0cfe",
   "metadata": {},
   "source": []
  },
  {
   "cell_type": "markdown",
   "id": "85b9c6e2",
   "metadata": {},
   "source": []
  },
  {
   "cell_type": "markdown",
   "id": "1887dbc9",
   "metadata": {},
   "source": [
    "Пробую через табулу, получить датафрейм с пдф файла, с выписками со сбера это работало...но увы здесь не получилось"
   ]
  },
  {
   "cell_type": "code",
   "execution_count": 2,
   "id": "18bd5ab7",
   "metadata": {},
   "outputs": [
    {
     "name": "stdout",
     "output_type": "stream",
     "text": [
      "Requirement already satisfied: tabula-py in c:\\users\\a.vechkanov\\anaconda3\\lib\\site-packages (2.5.1)\n",
      "Requirement already satisfied: numpy in c:\\users\\a.vechkanov\\anaconda3\\lib\\site-packages (from tabula-py) (1.20.3)\n",
      "Requirement already satisfied: distro in c:\\users\\a.vechkanov\\anaconda3\\lib\\site-packages (from tabula-py) (1.8.0)\n",
      "Requirement already satisfied: pandas>=0.25.3 in c:\\users\\a.vechkanov\\anaconda3\\lib\\site-packages (from tabula-py) (1.3.4)\n",
      "Requirement already satisfied: python-dateutil>=2.7.3 in c:\\users\\a.vechkanov\\anaconda3\\lib\\site-packages (from pandas>=0.25.3->tabula-py) (2.8.2)\n",
      "Requirement already satisfied: pytz>=2017.3 in c:\\users\\a.vechkanov\\anaconda3\\lib\\site-packages (from pandas>=0.25.3->tabula-py) (2021.3)\n",
      "Requirement already satisfied: six>=1.5 in c:\\users\\a.vechkanov\\anaconda3\\lib\\site-packages (from python-dateutil>=2.7.3->pandas>=0.25.3->tabula-py) (1.16.0)\n",
      "Note: you may need to restart the kernel to use updated packages.\n"
     ]
    }
   ],
   "source": [
    "pip install tabula-py"
   ]
  },
  {
   "cell_type": "code",
   "execution_count": 3,
   "id": "8d785fad",
   "metadata": {},
   "outputs": [],
   "source": [
    "import tabula as tb\n",
    "import pandas as pd\n",
    "import re\n",
    "\n",
    "from matplotlib import pyplot as plt\n",
    "import seaborn as sns"
   ]
  },
  {
   "cell_type": "code",
   "execution_count": null,
   "id": "9502ab06",
   "metadata": {},
   "outputs": [],
   "source": [
    "path = 'C:\\\\Users\\\\a.vechkanov\\\\Desktop\\\\Госты, Литература\\\\Остальное\\\\Data analitics\\\\Тестовые\\\\Тестовое CashDrive\\\\'\n",
    "\n",
    "file_1 = 'эд9.pdf' #'Doc1.pdf'\n",
    "\n",
    "data_1 = tb.read_pdf(path+file_1, pages='all', multiple_tables=False, encoding='Windows-1251')\n",
    "\n",
    "# пустой список "
   ]
  },
  {
   "cell_type": "markdown",
   "id": "4b7968d5",
   "metadata": {
    "scrolled": true
   },
   "source": []
  },
  {
   "cell_type": "markdown",
   "id": "d9653738",
   "metadata": {},
   "source": []
  },
  {
   "cell_type": "markdown",
   "id": "dc2a79fa",
   "metadata": {},
   "source": [
    "Пробую через библиотеку Receipt parser"
   ]
  },
  {
   "cell_type": "code",
   "execution_count": null,
   "id": "258565f1",
   "metadata": {},
   "outputs": [],
   "source": []
  },
  {
   "cell_type": "code",
   "execution_count": null,
   "id": "eeddf5d8",
   "metadata": {},
   "outputs": [],
   "source": []
  }
 ],
 "metadata": {
  "kernelspec": {
   "display_name": "Python 3 (ipykernel)",
   "language": "python",
   "name": "python3"
  },
  "language_info": {
   "codemirror_mode": {
    "name": "ipython",
    "version": 3
   },
   "file_extension": ".py",
   "mimetype": "text/x-python",
   "name": "python",
   "nbconvert_exporter": "python",
   "pygments_lexer": "ipython3",
   "version": "3.9.7"
  },
  "toc": {
   "base_numbering": 1,
   "nav_menu": {},
   "number_sections": true,
   "sideBar": true,
   "skip_h1_title": false,
   "title_cell": "Table of Contents",
   "title_sidebar": "Contents",
   "toc_cell": false,
   "toc_position": {},
   "toc_section_display": true,
   "toc_window_display": false
  }
 },
 "nbformat": 4,
 "nbformat_minor": 5
}

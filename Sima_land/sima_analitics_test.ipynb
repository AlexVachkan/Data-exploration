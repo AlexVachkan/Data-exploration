{
 "cells": [
  {
   "cell_type": "code",
   "execution_count": 82,
   "id": "ab53970d",
   "metadata": {},
   "outputs": [],
   "source": [
    "import pandas as pd\n",
    "import numpy as np\n",
    "import seaborn as sns\n",
    "import  matplotlib.pyplot as plt\n",
    "import plotly\n",
    "import plotly.graph_objs as go"
   ]
  },
  {
   "cell_type": "code",
   "execution_count": 2,
   "id": "b30fac24",
   "metadata": {},
   "outputs": [],
   "source": [
    "path_1 = 'https://raw.githubusercontent.com/AlexVachkan/intern-test/master/data-analyst/data/2019-10.csv'\n",
    "path_2 = 'https://raw.githubusercontent.com/AlexVachkan/intern-test/master/data-analyst/data/2019-11.csv'\n",
    "path_3 = 'https://raw.githubusercontent.com/AlexVachkan/intern-test/master/data-analyst/data/2019-12.csv'"
   ]
  },
  {
   "cell_type": "markdown",
   "id": "2ac1f1e9",
   "metadata": {},
   "source": [
    "# Импортировать данные из csv-файлов."
   ]
  },
  {
   "cell_type": "code",
   "execution_count": 3,
   "id": "2cd1ae5b",
   "metadata": {},
   "outputs": [],
   "source": [
    "df_1 = pd.read_csv(path_1, sep=',')\n",
    "df_2 = pd.read_csv(path_2, sep=',')\n",
    "df_3 = pd.read_csv(path_3, sep=',')"
   ]
  },
  {
   "cell_type": "markdown",
   "id": "2a70fde3",
   "metadata": {},
   "source": [
    "# Вывести первые 8 строк из каждого датафрейма."
   ]
  },
  {
   "cell_type": "code",
   "execution_count": 4,
   "id": "b180ea99",
   "metadata": {},
   "outputs": [
    {
     "data": {
      "text/html": [
       "<div>\n",
       "<style scoped>\n",
       "    .dataframe tbody tr th:only-of-type {\n",
       "        vertical-align: middle;\n",
       "    }\n",
       "\n",
       "    .dataframe tbody tr th {\n",
       "        vertical-align: top;\n",
       "    }\n",
       "\n",
       "    .dataframe thead th {\n",
       "        text-align: right;\n",
       "    }\n",
       "</style>\n",
       "<table border=\"1\" class=\"dataframe\">\n",
       "  <thead>\n",
       "    <tr style=\"text-align: right;\">\n",
       "      <th></th>\n",
       "      <th>event_time</th>\n",
       "      <th>event_type</th>\n",
       "      <th>product_id</th>\n",
       "      <th>category_id</th>\n",
       "      <th>category_code</th>\n",
       "      <th>brand</th>\n",
       "      <th>price</th>\n",
       "      <th>user_id</th>\n",
       "      <th>user_session</th>\n",
       "    </tr>\n",
       "  </thead>\n",
       "  <tbody>\n",
       "    <tr>\n",
       "      <th>0</th>\n",
       "      <td>2019-10-01 00:00:00 UTC</td>\n",
       "      <td>cart</td>\n",
       "      <td>5773203</td>\n",
       "      <td>1,48758000513424E+018</td>\n",
       "      <td>NaN</td>\n",
       "      <td>runail</td>\n",
       "      <td>2.62</td>\n",
       "      <td>463240011</td>\n",
       "      <td>26dd6e6e-4dac-4778-8d2c-92e149dab885</td>\n",
       "    </tr>\n",
       "    <tr>\n",
       "      <th>1</th>\n",
       "      <td>2019-10-01 00:29:21 UTC</td>\n",
       "      <td>cart</td>\n",
       "      <td>5857007</td>\n",
       "      <td>1,48758000949631E+018</td>\n",
       "      <td>NaN</td>\n",
       "      <td>runail</td>\n",
       "      <td>3.17</td>\n",
       "      <td>554342223</td>\n",
       "      <td>0b974342-1a53-41c1-a426-23130e770f4b</td>\n",
       "    </tr>\n",
       "    <tr>\n",
       "      <th>2</th>\n",
       "      <td>2019-10-01 00:29:37 UTC</td>\n",
       "      <td>remove_from_cart</td>\n",
       "      <td>5853243</td>\n",
       "      <td>1,48758000513424E+018</td>\n",
       "      <td>NaN</td>\n",
       "      <td>runail</td>\n",
       "      <td>3.17</td>\n",
       "      <td>446404021</td>\n",
       "      <td>abac4e23-d977-47d9-99e9-7faf35e62cc1</td>\n",
       "    </tr>\n",
       "    <tr>\n",
       "      <th>3</th>\n",
       "      <td>2019-10-01 00:29:37 UTC</td>\n",
       "      <td>remove_from_cart</td>\n",
       "      <td>5853243</td>\n",
       "      <td>1,48758000513424E+018</td>\n",
       "      <td>NaN</td>\n",
       "      <td>runail</td>\n",
       "      <td>3.17</td>\n",
       "      <td>446404021</td>\n",
       "      <td>abac4e23-d977-47d9-99e9-7faf35e62cc1</td>\n",
       "    </tr>\n",
       "    <tr>\n",
       "      <th>4</th>\n",
       "      <td>2019-10-01 00:29:58 UTC</td>\n",
       "      <td>view</td>\n",
       "      <td>5866208</td>\n",
       "      <td>1,48758001384161E+018</td>\n",
       "      <td>NaN</td>\n",
       "      <td>concept</td>\n",
       "      <td>3.16</td>\n",
       "      <td>555450661</td>\n",
       "      <td>0c203389-8b1e-4537-a800-d67f8ab0a2c7</td>\n",
       "    </tr>\n",
       "    <tr>\n",
       "      <th>5</th>\n",
       "      <td>2019-10-01 00:29:58 UTC</td>\n",
       "      <td>view</td>\n",
       "      <td>5846437</td>\n",
       "      <td>1,48758001395067E+018</td>\n",
       "      <td>NaN</td>\n",
       "      <td>browxenna</td>\n",
       "      <td>45.24</td>\n",
       "      <td>555450676</td>\n",
       "      <td>48dd305f-a607-449a-b539-86a4757f0ee3</td>\n",
       "    </tr>\n",
       "    <tr>\n",
       "      <th>6</th>\n",
       "      <td>2019-10-01 00:29:59 UTC</td>\n",
       "      <td>view</td>\n",
       "      <td>5815080</td>\n",
       "      <td>1,48758000546139E+018</td>\n",
       "      <td>NaN</td>\n",
       "      <td>bluesky</td>\n",
       "      <td>5.24</td>\n",
       "      <td>489267719</td>\n",
       "      <td>e96af142-3dd6-423f-881d-5d8518ae897e</td>\n",
       "    </tr>\n",
       "    <tr>\n",
       "      <th>7</th>\n",
       "      <td>2019-10-01 00:30:01 UTC</td>\n",
       "      <td>remove_from_cart</td>\n",
       "      <td>5829345</td>\n",
       "      <td>1,48758001158508E+018</td>\n",
       "      <td>NaN</td>\n",
       "      <td>farmstay</td>\n",
       "      <td>0.79</td>\n",
       "      <td>500715786</td>\n",
       "      <td>43222328-70e0-4213-9bb4-ef03a172fabc</td>\n",
       "    </tr>\n",
       "  </tbody>\n",
       "</table>\n",
       "</div>"
      ],
      "text/plain": [
       "                event_time        event_type  product_id  \\\n",
       "0  2019-10-01 00:00:00 UTC              cart     5773203   \n",
       "1  2019-10-01 00:29:21 UTC              cart     5857007   \n",
       "2  2019-10-01 00:29:37 UTC  remove_from_cart     5853243   \n",
       "3  2019-10-01 00:29:37 UTC  remove_from_cart     5853243   \n",
       "4  2019-10-01 00:29:58 UTC              view     5866208   \n",
       "5  2019-10-01 00:29:58 UTC              view     5846437   \n",
       "6  2019-10-01 00:29:59 UTC              view     5815080   \n",
       "7  2019-10-01 00:30:01 UTC  remove_from_cart     5829345   \n",
       "\n",
       "             category_id category_code      brand  price    user_id  \\\n",
       "0  1,48758000513424E+018           NaN     runail   2.62  463240011   \n",
       "1  1,48758000949631E+018           NaN     runail   3.17  554342223   \n",
       "2  1,48758000513424E+018           NaN     runail   3.17  446404021   \n",
       "3  1,48758000513424E+018           NaN     runail   3.17  446404021   \n",
       "4  1,48758001384161E+018           NaN    concept   3.16  555450661   \n",
       "5  1,48758001395067E+018           NaN  browxenna  45.24  555450676   \n",
       "6  1,48758000546139E+018           NaN    bluesky   5.24  489267719   \n",
       "7  1,48758001158508E+018           NaN   farmstay   0.79  500715786   \n",
       "\n",
       "                           user_session  \n",
       "0  26dd6e6e-4dac-4778-8d2c-92e149dab885  \n",
       "1  0b974342-1a53-41c1-a426-23130e770f4b  \n",
       "2  abac4e23-d977-47d9-99e9-7faf35e62cc1  \n",
       "3  abac4e23-d977-47d9-99e9-7faf35e62cc1  \n",
       "4  0c203389-8b1e-4537-a800-d67f8ab0a2c7  \n",
       "5  48dd305f-a607-449a-b539-86a4757f0ee3  \n",
       "6  e96af142-3dd6-423f-881d-5d8518ae897e  \n",
       "7  43222328-70e0-4213-9bb4-ef03a172fabc  "
      ]
     },
     "execution_count": 4,
     "metadata": {},
     "output_type": "execute_result"
    }
   ],
   "source": [
    "df_1.head(8)"
   ]
  },
  {
   "cell_type": "code",
   "execution_count": 5,
   "id": "ffa6fa68",
   "metadata": {},
   "outputs": [
    {
     "data": {
      "text/html": [
       "<div>\n",
       "<style scoped>\n",
       "    .dataframe tbody tr th:only-of-type {\n",
       "        vertical-align: middle;\n",
       "    }\n",
       "\n",
       "    .dataframe tbody tr th {\n",
       "        vertical-align: top;\n",
       "    }\n",
       "\n",
       "    .dataframe thead th {\n",
       "        text-align: right;\n",
       "    }\n",
       "</style>\n",
       "<table border=\"1\" class=\"dataframe\">\n",
       "  <thead>\n",
       "    <tr style=\"text-align: right;\">\n",
       "      <th></th>\n",
       "      <th>event_time</th>\n",
       "      <th>event_type</th>\n",
       "      <th>product_id</th>\n",
       "      <th>category_id</th>\n",
       "      <th>category_code</th>\n",
       "      <th>brand</th>\n",
       "      <th>price</th>\n",
       "      <th>user_id</th>\n",
       "      <th>user_session</th>\n",
       "    </tr>\n",
       "  </thead>\n",
       "  <tbody>\n",
       "    <tr>\n",
       "      <th>0</th>\n",
       "      <td>2019-11-01 00:00:02 UTC</td>\n",
       "      <td>view</td>\n",
       "      <td>5802432</td>\n",
       "      <td>1,4875800092866E+018</td>\n",
       "      <td>NaN</td>\n",
       "      <td>NaN</td>\n",
       "      <td>0.32</td>\n",
       "      <td>562076640</td>\n",
       "      <td>09fafd6c-6c99-46b1-834f-33527f4de241</td>\n",
       "    </tr>\n",
       "    <tr>\n",
       "      <th>1</th>\n",
       "      <td>2019-11-01 00:00:09 UTC</td>\n",
       "      <td>cart</td>\n",
       "      <td>5844397</td>\n",
       "      <td>1,48758000631703E+018</td>\n",
       "      <td>NaN</td>\n",
       "      <td>NaN</td>\n",
       "      <td>2.38</td>\n",
       "      <td>553329724</td>\n",
       "      <td>2067216c-31b5-455d-a1cc-af0575a34ffb</td>\n",
       "    </tr>\n",
       "    <tr>\n",
       "      <th>2</th>\n",
       "      <td>2019-11-01 00:00:10 UTC</td>\n",
       "      <td>view</td>\n",
       "      <td>5837166</td>\n",
       "      <td>1,78399906410319E+018</td>\n",
       "      <td>NaN</td>\n",
       "      <td>pnb</td>\n",
       "      <td>22.22</td>\n",
       "      <td>556138645</td>\n",
       "      <td>57ed222e-a54a-4907-9944-5a875c2d7f4f</td>\n",
       "    </tr>\n",
       "    <tr>\n",
       "      <th>3</th>\n",
       "      <td>2019-11-01 00:00:11 UTC</td>\n",
       "      <td>cart</td>\n",
       "      <td>5876812</td>\n",
       "      <td>1,48758001010029E+018</td>\n",
       "      <td>NaN</td>\n",
       "      <td>jessnail</td>\n",
       "      <td>3.16</td>\n",
       "      <td>564506666</td>\n",
       "      <td>186c1951-8052-4b37-adce-dd9644b1d5f7</td>\n",
       "    </tr>\n",
       "    <tr>\n",
       "      <th>4</th>\n",
       "      <td>2019-11-01 00:00:24 UTC</td>\n",
       "      <td>remove_from_cart</td>\n",
       "      <td>5826182</td>\n",
       "      <td>1,48758000748305E+018</td>\n",
       "      <td>NaN</td>\n",
       "      <td>NaN</td>\n",
       "      <td>3.33</td>\n",
       "      <td>553329724</td>\n",
       "      <td>2067216c-31b5-455d-a1cc-af0575a34ffb</td>\n",
       "    </tr>\n",
       "    <tr>\n",
       "      <th>5</th>\n",
       "      <td>2019-11-01 00:00:24 UTC</td>\n",
       "      <td>remove_from_cart</td>\n",
       "      <td>5826182</td>\n",
       "      <td>1,48758000748305E+018</td>\n",
       "      <td>NaN</td>\n",
       "      <td>NaN</td>\n",
       "      <td>3.33</td>\n",
       "      <td>553329724</td>\n",
       "      <td>2067216c-31b5-455d-a1cc-af0575a34ffb</td>\n",
       "    </tr>\n",
       "    <tr>\n",
       "      <th>6</th>\n",
       "      <td>2019-11-01 00:00:25 UTC</td>\n",
       "      <td>view</td>\n",
       "      <td>5856189</td>\n",
       "      <td>1,48758000902655E+018</td>\n",
       "      <td>NaN</td>\n",
       "      <td>runail</td>\n",
       "      <td>15.71</td>\n",
       "      <td>562076640</td>\n",
       "      <td>09fafd6c-6c99-46b1-834f-33527f4de241</td>\n",
       "    </tr>\n",
       "    <tr>\n",
       "      <th>7</th>\n",
       "      <td>2019-11-01 00:00:32 UTC</td>\n",
       "      <td>view</td>\n",
       "      <td>5837835</td>\n",
       "      <td>1,93347228675342E+018</td>\n",
       "      <td>NaN</td>\n",
       "      <td>NaN</td>\n",
       "      <td>3.49</td>\n",
       "      <td>514649199</td>\n",
       "      <td>432a4e95-375c-4b40-bd36-0fc039e77580</td>\n",
       "    </tr>\n",
       "  </tbody>\n",
       "</table>\n",
       "</div>"
      ],
      "text/plain": [
       "                event_time        event_type  product_id  \\\n",
       "0  2019-11-01 00:00:02 UTC              view     5802432   \n",
       "1  2019-11-01 00:00:09 UTC              cart     5844397   \n",
       "2  2019-11-01 00:00:10 UTC              view     5837166   \n",
       "3  2019-11-01 00:00:11 UTC              cart     5876812   \n",
       "4  2019-11-01 00:00:24 UTC  remove_from_cart     5826182   \n",
       "5  2019-11-01 00:00:24 UTC  remove_from_cart     5826182   \n",
       "6  2019-11-01 00:00:25 UTC              view     5856189   \n",
       "7  2019-11-01 00:00:32 UTC              view     5837835   \n",
       "\n",
       "             category_id category_code     brand  price    user_id  \\\n",
       "0   1,4875800092866E+018           NaN       NaN   0.32  562076640   \n",
       "1  1,48758000631703E+018           NaN       NaN   2.38  553329724   \n",
       "2  1,78399906410319E+018           NaN       pnb  22.22  556138645   \n",
       "3  1,48758001010029E+018           NaN  jessnail   3.16  564506666   \n",
       "4  1,48758000748305E+018           NaN       NaN   3.33  553329724   \n",
       "5  1,48758000748305E+018           NaN       NaN   3.33  553329724   \n",
       "6  1,48758000902655E+018           NaN    runail  15.71  562076640   \n",
       "7  1,93347228675342E+018           NaN       NaN   3.49  514649199   \n",
       "\n",
       "                           user_session  \n",
       "0  09fafd6c-6c99-46b1-834f-33527f4de241  \n",
       "1  2067216c-31b5-455d-a1cc-af0575a34ffb  \n",
       "2  57ed222e-a54a-4907-9944-5a875c2d7f4f  \n",
       "3  186c1951-8052-4b37-adce-dd9644b1d5f7  \n",
       "4  2067216c-31b5-455d-a1cc-af0575a34ffb  \n",
       "5  2067216c-31b5-455d-a1cc-af0575a34ffb  \n",
       "6  09fafd6c-6c99-46b1-834f-33527f4de241  \n",
       "7  432a4e95-375c-4b40-bd36-0fc039e77580  "
      ]
     },
     "execution_count": 5,
     "metadata": {},
     "output_type": "execute_result"
    }
   ],
   "source": [
    "df_2.head(8)"
   ]
  },
  {
   "cell_type": "code",
   "execution_count": 6,
   "id": "fb76361f",
   "metadata": {},
   "outputs": [
    {
     "data": {
      "text/html": [
       "<div>\n",
       "<style scoped>\n",
       "    .dataframe tbody tr th:only-of-type {\n",
       "        vertical-align: middle;\n",
       "    }\n",
       "\n",
       "    .dataframe tbody tr th {\n",
       "        vertical-align: top;\n",
       "    }\n",
       "\n",
       "    .dataframe thead th {\n",
       "        text-align: right;\n",
       "    }\n",
       "</style>\n",
       "<table border=\"1\" class=\"dataframe\">\n",
       "  <thead>\n",
       "    <tr style=\"text-align: right;\">\n",
       "      <th></th>\n",
       "      <th>event_time</th>\n",
       "      <th>event_type</th>\n",
       "      <th>product_id</th>\n",
       "      <th>category_id</th>\n",
       "      <th>category_code</th>\n",
       "      <th>brand</th>\n",
       "      <th>price</th>\n",
       "      <th>user_id</th>\n",
       "      <th>user_session</th>\n",
       "    </tr>\n",
       "  </thead>\n",
       "  <tbody>\n",
       "    <tr>\n",
       "      <th>0</th>\n",
       "      <td>2019-12-01 00:00:00 UTC</td>\n",
       "      <td>remove_from_cart</td>\n",
       "      <td>5712790</td>\n",
       "      <td>1,48758000526846E+018</td>\n",
       "      <td>NaN</td>\n",
       "      <td>f.o.x</td>\n",
       "      <td>6.27</td>\n",
       "      <td>576802932</td>\n",
       "      <td>51d85cb0-897f-48d2-918b-ad63965c12dc</td>\n",
       "    </tr>\n",
       "    <tr>\n",
       "      <th>1</th>\n",
       "      <td>2019-12-01 00:00:00 UTC</td>\n",
       "      <td>view</td>\n",
       "      <td>5764655</td>\n",
       "      <td>1,48758000541106E+018</td>\n",
       "      <td>NaN</td>\n",
       "      <td>cnd</td>\n",
       "      <td>29.05</td>\n",
       "      <td>412120092</td>\n",
       "      <td>8adff31e-2051-4894-9758-224bfa8aec18</td>\n",
       "    </tr>\n",
       "    <tr>\n",
       "      <th>2</th>\n",
       "      <td>2019-12-01 00:00:02 UTC</td>\n",
       "      <td>cart</td>\n",
       "      <td>4958</td>\n",
       "      <td>1,48758000947115E+018</td>\n",
       "      <td>NaN</td>\n",
       "      <td>runail</td>\n",
       "      <td>1.19</td>\n",
       "      <td>494077766</td>\n",
       "      <td>c99a50e8-2fac-4c4d-89ec-41c05f114554</td>\n",
       "    </tr>\n",
       "    <tr>\n",
       "      <th>3</th>\n",
       "      <td>2019-12-01 00:00:05 UTC</td>\n",
       "      <td>view</td>\n",
       "      <td>5848413</td>\n",
       "      <td>1,48758000767599E+018</td>\n",
       "      <td>NaN</td>\n",
       "      <td>freedecor</td>\n",
       "      <td>0.79</td>\n",
       "      <td>348405118</td>\n",
       "      <td>722ffea5-73c0-4924-8e8f-371ff8031af4</td>\n",
       "    </tr>\n",
       "    <tr>\n",
       "      <th>4</th>\n",
       "      <td>2019-12-01 00:00:07 UTC</td>\n",
       "      <td>view</td>\n",
       "      <td>5824148</td>\n",
       "      <td>1,48758000551173E+018</td>\n",
       "      <td>NaN</td>\n",
       "      <td>NaN</td>\n",
       "      <td>5.56</td>\n",
       "      <td>576005683</td>\n",
       "      <td>28172809-7e4a-45ce-bab0-5efa90117cd5</td>\n",
       "    </tr>\n",
       "    <tr>\n",
       "      <th>5</th>\n",
       "      <td>2019-12-01 00:00:09 UTC</td>\n",
       "      <td>view</td>\n",
       "      <td>5773361</td>\n",
       "      <td>1,48758000513424E+018</td>\n",
       "      <td>NaN</td>\n",
       "      <td>runail</td>\n",
       "      <td>2.62</td>\n",
       "      <td>560109803</td>\n",
       "      <td>38cf4ba1-4a0a-4c9e-b870-46685d105f95</td>\n",
       "    </tr>\n",
       "    <tr>\n",
       "      <th>6</th>\n",
       "      <td>2019-12-01 00:00:18 UTC</td>\n",
       "      <td>cart</td>\n",
       "      <td>5629988</td>\n",
       "      <td>1,48758000931176E+018</td>\n",
       "      <td>NaN</td>\n",
       "      <td>NaN</td>\n",
       "      <td>1.19</td>\n",
       "      <td>579966747</td>\n",
       "      <td>1512be50-d0fd-4a92-bcd8-3ea3943f2a3b</td>\n",
       "    </tr>\n",
       "    <tr>\n",
       "      <th>7</th>\n",
       "      <td>2019-12-01 00:00:22 UTC</td>\n",
       "      <td>view</td>\n",
       "      <td>5807805</td>\n",
       "      <td>1,48758000571305E+018</td>\n",
       "      <td>NaN</td>\n",
       "      <td>ingarden</td>\n",
       "      <td>4.44</td>\n",
       "      <td>576005683</td>\n",
       "      <td>28172809-7e4a-45ce-bab0-5efa90117cd5</td>\n",
       "    </tr>\n",
       "  </tbody>\n",
       "</table>\n",
       "</div>"
      ],
      "text/plain": [
       "                event_time        event_type  product_id  \\\n",
       "0  2019-12-01 00:00:00 UTC  remove_from_cart     5712790   \n",
       "1  2019-12-01 00:00:00 UTC              view     5764655   \n",
       "2  2019-12-01 00:00:02 UTC              cart        4958   \n",
       "3  2019-12-01 00:00:05 UTC              view     5848413   \n",
       "4  2019-12-01 00:00:07 UTC              view     5824148   \n",
       "5  2019-12-01 00:00:09 UTC              view     5773361   \n",
       "6  2019-12-01 00:00:18 UTC              cart     5629988   \n",
       "7  2019-12-01 00:00:22 UTC              view     5807805   \n",
       "\n",
       "             category_id category_code      brand  price    user_id  \\\n",
       "0  1,48758000526846E+018           NaN      f.o.x   6.27  576802932   \n",
       "1  1,48758000541106E+018           NaN        cnd  29.05  412120092   \n",
       "2  1,48758000947115E+018           NaN     runail   1.19  494077766   \n",
       "3  1,48758000767599E+018           NaN  freedecor   0.79  348405118   \n",
       "4  1,48758000551173E+018           NaN        NaN   5.56  576005683   \n",
       "5  1,48758000513424E+018           NaN     runail   2.62  560109803   \n",
       "6  1,48758000931176E+018           NaN        NaN   1.19  579966747   \n",
       "7  1,48758000571305E+018           NaN   ingarden   4.44  576005683   \n",
       "\n",
       "                           user_session  \n",
       "0  51d85cb0-897f-48d2-918b-ad63965c12dc  \n",
       "1  8adff31e-2051-4894-9758-224bfa8aec18  \n",
       "2  c99a50e8-2fac-4c4d-89ec-41c05f114554  \n",
       "3  722ffea5-73c0-4924-8e8f-371ff8031af4  \n",
       "4  28172809-7e4a-45ce-bab0-5efa90117cd5  \n",
       "5  38cf4ba1-4a0a-4c9e-b870-46685d105f95  \n",
       "6  1512be50-d0fd-4a92-bcd8-3ea3943f2a3b  \n",
       "7  28172809-7e4a-45ce-bab0-5efa90117cd5  "
      ]
     },
     "execution_count": 6,
     "metadata": {},
     "output_type": "execute_result"
    }
   ],
   "source": [
    "df_3.head(8)"
   ]
  },
  {
   "cell_type": "markdown",
   "id": "043203ed",
   "metadata": {},
   "source": [
    "# Объединить датафреймы за все месяцы в один датфрейм. (дальше все манипуляции должны выполняться с этим датафреймом)"
   ]
  },
  {
   "cell_type": "code",
   "execution_count": 7,
   "id": "ff158792",
   "metadata": {},
   "outputs": [
    {
     "data": {
      "text/html": [
       "<div>\n",
       "<style scoped>\n",
       "    .dataframe tbody tr th:only-of-type {\n",
       "        vertical-align: middle;\n",
       "    }\n",
       "\n",
       "    .dataframe tbody tr th {\n",
       "        vertical-align: top;\n",
       "    }\n",
       "\n",
       "    .dataframe thead th {\n",
       "        text-align: right;\n",
       "    }\n",
       "</style>\n",
       "<table border=\"1\" class=\"dataframe\">\n",
       "  <thead>\n",
       "    <tr style=\"text-align: right;\">\n",
       "      <th></th>\n",
       "      <th>event_time</th>\n",
       "      <th>event_type</th>\n",
       "      <th>product_id</th>\n",
       "      <th>category_id</th>\n",
       "      <th>category_code</th>\n",
       "      <th>brand</th>\n",
       "      <th>price</th>\n",
       "      <th>user_id</th>\n",
       "      <th>user_session</th>\n",
       "    </tr>\n",
       "  </thead>\n",
       "  <tbody>\n",
       "    <tr>\n",
       "      <th>0</th>\n",
       "      <td>2019-10-01 00:00:00 UTC</td>\n",
       "      <td>cart</td>\n",
       "      <td>5773203</td>\n",
       "      <td>1,48758000513424E+018</td>\n",
       "      <td>NaN</td>\n",
       "      <td>runail</td>\n",
       "      <td>2.62</td>\n",
       "      <td>463240011</td>\n",
       "      <td>26dd6e6e-4dac-4778-8d2c-92e149dab885</td>\n",
       "    </tr>\n",
       "    <tr>\n",
       "      <th>1</th>\n",
       "      <td>2019-10-01 00:29:21 UTC</td>\n",
       "      <td>cart</td>\n",
       "      <td>5857007</td>\n",
       "      <td>1,48758000949631E+018</td>\n",
       "      <td>NaN</td>\n",
       "      <td>runail</td>\n",
       "      <td>3.17</td>\n",
       "      <td>554342223</td>\n",
       "      <td>0b974342-1a53-41c1-a426-23130e770f4b</td>\n",
       "    </tr>\n",
       "    <tr>\n",
       "      <th>2</th>\n",
       "      <td>2019-10-01 00:29:37 UTC</td>\n",
       "      <td>remove_from_cart</td>\n",
       "      <td>5853243</td>\n",
       "      <td>1,48758000513424E+018</td>\n",
       "      <td>NaN</td>\n",
       "      <td>runail</td>\n",
       "      <td>3.17</td>\n",
       "      <td>446404021</td>\n",
       "      <td>abac4e23-d977-47d9-99e9-7faf35e62cc1</td>\n",
       "    </tr>\n",
       "    <tr>\n",
       "      <th>3</th>\n",
       "      <td>2019-10-01 00:29:37 UTC</td>\n",
       "      <td>remove_from_cart</td>\n",
       "      <td>5853243</td>\n",
       "      <td>1,48758000513424E+018</td>\n",
       "      <td>NaN</td>\n",
       "      <td>runail</td>\n",
       "      <td>3.17</td>\n",
       "      <td>446404021</td>\n",
       "      <td>abac4e23-d977-47d9-99e9-7faf35e62cc1</td>\n",
       "    </tr>\n",
       "    <tr>\n",
       "      <th>4</th>\n",
       "      <td>2019-10-01 00:29:58 UTC</td>\n",
       "      <td>view</td>\n",
       "      <td>5866208</td>\n",
       "      <td>1,48758001384161E+018</td>\n",
       "      <td>NaN</td>\n",
       "      <td>concept</td>\n",
       "      <td>3.16</td>\n",
       "      <td>555450661</td>\n",
       "      <td>0c203389-8b1e-4537-a800-d67f8ab0a2c7</td>\n",
       "    </tr>\n",
       "  </tbody>\n",
       "</table>\n",
       "</div>"
      ],
      "text/plain": [
       "                event_time        event_type  product_id  \\\n",
       "0  2019-10-01 00:00:00 UTC              cart     5773203   \n",
       "1  2019-10-01 00:29:21 UTC              cart     5857007   \n",
       "2  2019-10-01 00:29:37 UTC  remove_from_cart     5853243   \n",
       "3  2019-10-01 00:29:37 UTC  remove_from_cart     5853243   \n",
       "4  2019-10-01 00:29:58 UTC              view     5866208   \n",
       "\n",
       "             category_id category_code    brand  price    user_id  \\\n",
       "0  1,48758000513424E+018           NaN   runail   2.62  463240011   \n",
       "1  1,48758000949631E+018           NaN   runail   3.17  554342223   \n",
       "2  1,48758000513424E+018           NaN   runail   3.17  446404021   \n",
       "3  1,48758000513424E+018           NaN   runail   3.17  446404021   \n",
       "4  1,48758001384161E+018           NaN  concept   3.16  555450661   \n",
       "\n",
       "                           user_session  \n",
       "0  26dd6e6e-4dac-4778-8d2c-92e149dab885  \n",
       "1  0b974342-1a53-41c1-a426-23130e770f4b  \n",
       "2  abac4e23-d977-47d9-99e9-7faf35e62cc1  \n",
       "3  abac4e23-d977-47d9-99e9-7faf35e62cc1  \n",
       "4  0c203389-8b1e-4537-a800-d67f8ab0a2c7  "
      ]
     },
     "execution_count": 7,
     "metadata": {},
     "output_type": "execute_result"
    }
   ],
   "source": [
    "df = pd.concat([df_1, df_2, df_3], ignore_index=True)\n",
    "df.head()"
   ]
  },
  {
   "cell_type": "markdown",
   "id": "d7dd6525",
   "metadata": {},
   "source": [
    "# Показать информацию о типах данных датафрейма."
   ]
  },
  {
   "cell_type": "code",
   "execution_count": 8,
   "id": "7d1fbac6",
   "metadata": {},
   "outputs": [
    {
     "name": "stdout",
     "output_type": "stream",
     "text": [
      "<class 'pandas.core.frame.DataFrame'>\n",
      "RangeIndex: 21000 entries, 0 to 20999\n",
      "Data columns (total 9 columns):\n",
      " #   Column         Non-Null Count  Dtype  \n",
      "---  ------         --------------  -----  \n",
      " 0   event_time     21000 non-null  object \n",
      " 1   event_type     21000 non-null  object \n",
      " 2   product_id     21000 non-null  int64  \n",
      " 3   category_id    21000 non-null  object \n",
      " 4   category_code  386 non-null    object \n",
      " 5   brand          12549 non-null  object \n",
      " 6   price          21000 non-null  float64\n",
      " 7   user_id        21000 non-null  int64  \n",
      " 8   user_session   20993 non-null  object \n",
      "dtypes: float64(1), int64(2), object(6)\n",
      "memory usage: 1.4+ MB\n"
     ]
    }
   ],
   "source": [
    "df.info()"
   ]
  },
  {
   "cell_type": "markdown",
   "id": "5127b42b",
   "metadata": {},
   "source": [
    "# Найти минимальное и максимальное значение каждого числового столбца."
   ]
  },
  {
   "cell_type": "code",
   "execution_count": 9,
   "id": "acd915c5",
   "metadata": {},
   "outputs": [
    {
     "data": {
      "text/html": [
       "<div>\n",
       "<style scoped>\n",
       "    .dataframe tbody tr th:only-of-type {\n",
       "        vertical-align: middle;\n",
       "    }\n",
       "\n",
       "    .dataframe tbody tr th {\n",
       "        vertical-align: top;\n",
       "    }\n",
       "\n",
       "    .dataframe thead th {\n",
       "        text-align: right;\n",
       "    }\n",
       "</style>\n",
       "<table border=\"1\" class=\"dataframe\">\n",
       "  <thead>\n",
       "    <tr style=\"text-align: right;\">\n",
       "      <th></th>\n",
       "      <th>product_id</th>\n",
       "      <th>price</th>\n",
       "      <th>user_id</th>\n",
       "    </tr>\n",
       "  </thead>\n",
       "  <tbody>\n",
       "    <tr>\n",
       "      <th>count</th>\n",
       "      <td>2.100000e+04</td>\n",
       "      <td>21000.000000</td>\n",
       "      <td>2.100000e+04</td>\n",
       "    </tr>\n",
       "    <tr>\n",
       "      <th>mean</th>\n",
       "      <td>5.438221e+06</td>\n",
       "      <td>9.140807</td>\n",
       "      <td>5.059176e+08</td>\n",
       "    </tr>\n",
       "    <tr>\n",
       "      <th>std</th>\n",
       "      <td>1.388920e+06</td>\n",
       "      <td>21.478538</td>\n",
       "      <td>8.433132e+07</td>\n",
       "    </tr>\n",
       "    <tr>\n",
       "      <th>min</th>\n",
       "      <td>3.762000e+03</td>\n",
       "      <td>0.000000</td>\n",
       "      <td>4.304469e+07</td>\n",
       "    </tr>\n",
       "    <tr>\n",
       "      <th>25%</th>\n",
       "      <td>5.724282e+06</td>\n",
       "      <td>1.980000</td>\n",
       "      <td>4.691592e+08</td>\n",
       "    </tr>\n",
       "    <tr>\n",
       "      <th>50%</th>\n",
       "      <td>5.809568e+06</td>\n",
       "      <td>3.970000</td>\n",
       "      <td>5.404308e+08</td>\n",
       "    </tr>\n",
       "    <tr>\n",
       "      <th>75%</th>\n",
       "      <td>5.854897e+06</td>\n",
       "      <td>7.300000</td>\n",
       "      <td>5.612773e+08</td>\n",
       "    </tr>\n",
       "    <tr>\n",
       "      <th>max</th>\n",
       "      <td>5.909244e+06</td>\n",
       "      <td>299.810000</td>\n",
       "      <td>5.800509e+08</td>\n",
       "    </tr>\n",
       "  </tbody>\n",
       "</table>\n",
       "</div>"
      ],
      "text/plain": [
       "         product_id         price       user_id\n",
       "count  2.100000e+04  21000.000000  2.100000e+04\n",
       "mean   5.438221e+06      9.140807  5.059176e+08\n",
       "std    1.388920e+06     21.478538  8.433132e+07\n",
       "min    3.762000e+03      0.000000  4.304469e+07\n",
       "25%    5.724282e+06      1.980000  4.691592e+08\n",
       "50%    5.809568e+06      3.970000  5.404308e+08\n",
       "75%    5.854897e+06      7.300000  5.612773e+08\n",
       "max    5.909244e+06    299.810000  5.800509e+08"
      ]
     },
     "execution_count": 9,
     "metadata": {},
     "output_type": "execute_result"
    }
   ],
   "source": [
    "df.describe()"
   ]
  },
  {
   "cell_type": "markdown",
   "id": "b65478bf",
   "metadata": {},
   "source": [
    "# Показать корреляцию между столбцами датафрейма."
   ]
  },
  {
   "cell_type": "code",
   "execution_count": 10,
   "id": "66e9456c",
   "metadata": {},
   "outputs": [
    {
     "data": {
      "text/html": [
       "<div>\n",
       "<style scoped>\n",
       "    .dataframe tbody tr th:only-of-type {\n",
       "        vertical-align: middle;\n",
       "    }\n",
       "\n",
       "    .dataframe tbody tr th {\n",
       "        vertical-align: top;\n",
       "    }\n",
       "\n",
       "    .dataframe thead th {\n",
       "        text-align: right;\n",
       "    }\n",
       "</style>\n",
       "<table border=\"1\" class=\"dataframe\">\n",
       "  <thead>\n",
       "    <tr style=\"text-align: right;\">\n",
       "      <th></th>\n",
       "      <th>product_id</th>\n",
       "      <th>price</th>\n",
       "      <th>user_id</th>\n",
       "    </tr>\n",
       "  </thead>\n",
       "  <tbody>\n",
       "    <tr>\n",
       "      <th>product_id</th>\n",
       "      <td>1.000000</td>\n",
       "      <td>-0.041456</td>\n",
       "      <td>-0.006296</td>\n",
       "    </tr>\n",
       "    <tr>\n",
       "      <th>price</th>\n",
       "      <td>-0.041456</td>\n",
       "      <td>1.000000</td>\n",
       "      <td>0.019454</td>\n",
       "    </tr>\n",
       "    <tr>\n",
       "      <th>user_id</th>\n",
       "      <td>-0.006296</td>\n",
       "      <td>0.019454</td>\n",
       "      <td>1.000000</td>\n",
       "    </tr>\n",
       "  </tbody>\n",
       "</table>\n",
       "</div>"
      ],
      "text/plain": [
       "            product_id     price   user_id\n",
       "product_id    1.000000 -0.041456 -0.006296\n",
       "price        -0.041456  1.000000  0.019454\n",
       "user_id      -0.006296  0.019454  1.000000"
      ]
     },
     "execution_count": 10,
     "metadata": {},
     "output_type": "execute_result"
    }
   ],
   "source": [
    "df.corr()"
   ]
  },
  {
   "cell_type": "markdown",
   "id": "410c10ce",
   "metadata": {},
   "source": [
    "# Показать медиану каждого столбца датафрейма."
   ]
  },
  {
   "cell_type": "code",
   "execution_count": 11,
   "id": "911d1bd7",
   "metadata": {},
   "outputs": [
    {
     "name": "stderr",
     "output_type": "stream",
     "text": [
      "C:\\Users\\A01C0~1.VEC\\AppData\\Local\\Temp/ipykernel_61592/530051474.py:1: FutureWarning: Dropping of nuisance columns in DataFrame reductions (with 'numeric_only=None') is deprecated; in a future version this will raise TypeError.  Select only valid columns before calling the reduction.\n",
      "  df.median()\n"
     ]
    },
    {
     "data": {
      "text/plain": [
       "product_id    5.809568e+06\n",
       "price         3.970000e+00\n",
       "user_id       5.404308e+08\n",
       "dtype: float64"
      ]
     },
     "execution_count": 11,
     "metadata": {},
     "output_type": "execute_result"
    }
   ],
   "source": [
    "df.median()"
   ]
  },
  {
   "cell_type": "markdown",
   "id": "fe331e63",
   "metadata": {},
   "source": [
    "# Найти количество ячеек по столбцам которые содержат null."
   ]
  },
  {
   "cell_type": "code",
   "execution_count": 14,
   "id": "8033c1bc",
   "metadata": {},
   "outputs": [
    {
     "data": {
      "text/plain": [
       "event_time           0\n",
       "event_type           0\n",
       "product_id           0\n",
       "category_id          0\n",
       "category_code    20614\n",
       "brand             8451\n",
       "price                0\n",
       "user_id              0\n",
       "user_session         7\n",
       "dtype: int64"
      ]
     },
     "execution_count": 14,
     "metadata": {},
     "output_type": "execute_result"
    }
   ],
   "source": [
    "df.isnull().sum()"
   ]
  },
  {
   "cell_type": "markdown",
   "id": "68b00798",
   "metadata": {},
   "source": [
    "# Построить график количества купленных товаров по дням."
   ]
  },
  {
   "cell_type": "markdown",
   "id": "f28e305f",
   "metadata": {},
   "source": [
    "Назначаем верный тип данных event_time"
   ]
  },
  {
   "cell_type": "code",
   "execution_count": 19,
   "id": "dc377f3e",
   "metadata": {},
   "outputs": [
    {
     "data": {
      "text/plain": [
       "0   2019-10-01 00:00:00+00:00\n",
       "1   2019-10-01 00:29:21+00:00\n",
       "2   2019-10-01 00:29:37+00:00\n",
       "3   2019-10-01 00:29:37+00:00\n",
       "4   2019-10-01 00:29:58+00:00\n",
       "Name: event_time, dtype: datetime64[ns, UTC]"
      ]
     },
     "execution_count": 19,
     "metadata": {},
     "output_type": "execute_result"
    }
   ],
   "source": [
    "df['event_time'] = pd.to_datetime(df['event_time'])\n",
    "df['event_time'].head()"
   ]
  },
  {
   "cell_type": "markdown",
   "id": "340ea9cf",
   "metadata": {},
   "source": [
    "Выделяем день продаж"
   ]
  },
  {
   "cell_type": "code",
   "execution_count": 25,
   "id": "a9f46e1b",
   "metadata": {},
   "outputs": [
    {
     "data": {
      "text/html": [
       "<div>\n",
       "<style scoped>\n",
       "    .dataframe tbody tr th:only-of-type {\n",
       "        vertical-align: middle;\n",
       "    }\n",
       "\n",
       "    .dataframe tbody tr th {\n",
       "        vertical-align: top;\n",
       "    }\n",
       "\n",
       "    .dataframe thead th {\n",
       "        text-align: right;\n",
       "    }\n",
       "</style>\n",
       "<table border=\"1\" class=\"dataframe\">\n",
       "  <thead>\n",
       "    <tr style=\"text-align: right;\">\n",
       "      <th></th>\n",
       "      <th>event_time</th>\n",
       "      <th>event_type</th>\n",
       "      <th>product_id</th>\n",
       "      <th>category_id</th>\n",
       "      <th>category_code</th>\n",
       "      <th>brand</th>\n",
       "      <th>price</th>\n",
       "      <th>user_id</th>\n",
       "      <th>user_session</th>\n",
       "      <th>day</th>\n",
       "    </tr>\n",
       "  </thead>\n",
       "  <tbody>\n",
       "    <tr>\n",
       "      <th>0</th>\n",
       "      <td>2019-10-01 00:00:00+00:00</td>\n",
       "      <td>cart</td>\n",
       "      <td>5773203</td>\n",
       "      <td>1,48758000513424E+018</td>\n",
       "      <td>NaN</td>\n",
       "      <td>runail</td>\n",
       "      <td>2.62</td>\n",
       "      <td>463240011</td>\n",
       "      <td>26dd6e6e-4dac-4778-8d2c-92e149dab885</td>\n",
       "      <td>2019-10-01</td>\n",
       "    </tr>\n",
       "    <tr>\n",
       "      <th>1</th>\n",
       "      <td>2019-10-01 00:29:21+00:00</td>\n",
       "      <td>cart</td>\n",
       "      <td>5857007</td>\n",
       "      <td>1,48758000949631E+018</td>\n",
       "      <td>NaN</td>\n",
       "      <td>runail</td>\n",
       "      <td>3.17</td>\n",
       "      <td>554342223</td>\n",
       "      <td>0b974342-1a53-41c1-a426-23130e770f4b</td>\n",
       "      <td>2019-10-01</td>\n",
       "    </tr>\n",
       "    <tr>\n",
       "      <th>2</th>\n",
       "      <td>2019-10-01 00:29:37+00:00</td>\n",
       "      <td>remove_from_cart</td>\n",
       "      <td>5853243</td>\n",
       "      <td>1,48758000513424E+018</td>\n",
       "      <td>NaN</td>\n",
       "      <td>runail</td>\n",
       "      <td>3.17</td>\n",
       "      <td>446404021</td>\n",
       "      <td>abac4e23-d977-47d9-99e9-7faf35e62cc1</td>\n",
       "      <td>2019-10-01</td>\n",
       "    </tr>\n",
       "    <tr>\n",
       "      <th>3</th>\n",
       "      <td>2019-10-01 00:29:37+00:00</td>\n",
       "      <td>remove_from_cart</td>\n",
       "      <td>5853243</td>\n",
       "      <td>1,48758000513424E+018</td>\n",
       "      <td>NaN</td>\n",
       "      <td>runail</td>\n",
       "      <td>3.17</td>\n",
       "      <td>446404021</td>\n",
       "      <td>abac4e23-d977-47d9-99e9-7faf35e62cc1</td>\n",
       "      <td>2019-10-01</td>\n",
       "    </tr>\n",
       "    <tr>\n",
       "      <th>4</th>\n",
       "      <td>2019-10-01 00:29:58+00:00</td>\n",
       "      <td>view</td>\n",
       "      <td>5866208</td>\n",
       "      <td>1,48758001384161E+018</td>\n",
       "      <td>NaN</td>\n",
       "      <td>concept</td>\n",
       "      <td>3.16</td>\n",
       "      <td>555450661</td>\n",
       "      <td>0c203389-8b1e-4537-a800-d67f8ab0a2c7</td>\n",
       "      <td>2019-10-01</td>\n",
       "    </tr>\n",
       "  </tbody>\n",
       "</table>\n",
       "</div>"
      ],
      "text/plain": [
       "                 event_time        event_type  product_id  \\\n",
       "0 2019-10-01 00:00:00+00:00              cart     5773203   \n",
       "1 2019-10-01 00:29:21+00:00              cart     5857007   \n",
       "2 2019-10-01 00:29:37+00:00  remove_from_cart     5853243   \n",
       "3 2019-10-01 00:29:37+00:00  remove_from_cart     5853243   \n",
       "4 2019-10-01 00:29:58+00:00              view     5866208   \n",
       "\n",
       "             category_id category_code    brand  price    user_id  \\\n",
       "0  1,48758000513424E+018           NaN   runail   2.62  463240011   \n",
       "1  1,48758000949631E+018           NaN   runail   3.17  554342223   \n",
       "2  1,48758000513424E+018           NaN   runail   3.17  446404021   \n",
       "3  1,48758000513424E+018           NaN   runail   3.17  446404021   \n",
       "4  1,48758001384161E+018           NaN  concept   3.16  555450661   \n",
       "\n",
       "                           user_session         day  \n",
       "0  26dd6e6e-4dac-4778-8d2c-92e149dab885  2019-10-01  \n",
       "1  0b974342-1a53-41c1-a426-23130e770f4b  2019-10-01  \n",
       "2  abac4e23-d977-47d9-99e9-7faf35e62cc1  2019-10-01  \n",
       "3  abac4e23-d977-47d9-99e9-7faf35e62cc1  2019-10-01  \n",
       "4  0c203389-8b1e-4537-a800-d67f8ab0a2c7  2019-10-01  "
      ]
     },
     "execution_count": 25,
     "metadata": {},
     "output_type": "execute_result"
    }
   ],
   "source": [
    "df['day'] = df['event_time'].dt.to_period('D')\n",
    "df.head()"
   ]
  },
  {
   "cell_type": "markdown",
   "id": "1617f523",
   "metadata": {},
   "source": [
    "Строим график в seaborn"
   ]
  },
  {
   "cell_type": "code",
   "execution_count": 37,
   "id": "29cd2561",
   "metadata": {},
   "outputs": [
    {
     "data": {
      "image/png": "[encoded data removed]",
      "text/plain": [
       "<Figure size 720x720 with 1 Axes>"
      ]
     },
     "metadata": {
      "needs_background": "light"
     },
     "output_type": "display_data"
    }
   ],
   "source": [
    "fig = plt.figure(figsize=(10,10))\n",
    "\n",
    "ax = fig.add_subplot(1,1,1)\n",
    "\n",
    "sns.barplot(\n",
    "    data=df.pivot_table(index='day', values='product_id', aggfunc='count').reset_index(),\n",
    "    x='day',\n",
    "    y='product_id',\n",
    "    ax=ax,\n",
    ")\n",
    "\n",
    "plt.show()"
   ]
  },
  {
   "cell_type": "markdown",
   "id": "69463ba9",
   "metadata": {},
   "source": [
    "Строим быстрый график в matplotlib"
   ]
  },
  {
   "cell_type": "code",
   "execution_count": 36,
   "id": "585e44b7",
   "metadata": {},
   "outputs": [
    {
     "data": {
      "text/plain": [
       "<AxesSubplot:xlabel='day'>"
      ]
     },
     "execution_count": 36,
     "metadata": {},
     "output_type": "execute_result"
    },
    {
     "data": {
      "image/png": "[encoded data removed]",
      "text/plain": [
       "<Figure size 432x288 with 1 Axes>"
      ]
     },
     "metadata": {
      "needs_background": "light"
     },
     "output_type": "display_data"
    }
   ],
   "source": [
    "# line\n",
    "df.pivot_table(index='day', values='product_id', aggfunc='count').reset_index().plot('day', 'product_id')"
   ]
  },
  {
   "cell_type": "markdown",
   "id": "d4e9bd84",
   "metadata": {},
   "source": [
    "# Найти все уникальные события в общем датафрейме."
   ]
  },
  {
   "cell_type": "code",
   "execution_count": 59,
   "id": "af529343",
   "metadata": {},
   "outputs": [
    {
     "data": {
      "text/plain": [
       "event_time       15059\n",
       "event_type           4\n",
       "product_id        8330\n",
       "category_id        404\n",
       "category_code        8\n",
       "brand              177\n",
       "price              971\n",
       "user_id           3403\n",
       "user_session      5050\n",
       "day                  3\n",
       "dtype: int64"
      ]
     },
     "execution_count": 59,
     "metadata": {},
     "output_type": "execute_result"
    }
   ],
   "source": [
    "df.nunique()"
   ]
  },
  {
   "cell_type": "code",
   "execution_count": 60,
   "id": "1119bdd9",
   "metadata": {},
   "outputs": [
    {
     "data": {
      "text/plain": [
       "array(['cart', 'remove_from_cart', 'view', 'purchase'], dtype=object)"
      ]
     },
     "execution_count": 60,
     "metadata": {},
     "output_type": "execute_result"
    }
   ],
   "source": [
    "df['event_type'].unique()"
   ]
  },
  {
   "cell_type": "markdown",
   "id": "9cf32691",
   "metadata": {},
   "source": [
    "# Построить диаграмму количества событий по месяцам."
   ]
  },
  {
   "cell_type": "markdown",
   "id": "90214b6c",
   "metadata": {},
   "source": [
    "Выделяем месяц "
   ]
  },
  {
   "cell_type": "code",
   "execution_count": 62,
   "id": "35589c15",
   "metadata": {},
   "outputs": [
    {
     "name": "stderr",
     "output_type": "stream",
     "text": [
      "C:\\Users\\a.vechkanov\\Anaconda3\\lib\\site-packages\\pandas\\core\\arrays\\datetimes.py:1143: UserWarning: Converting to PeriodArray/Index representation will drop timezone information.\n",
      "  warnings.warn(\n"
     ]
    },
    {
     "data": {
      "text/html": [
       "<div>\n",
       "<style scoped>\n",
       "    .dataframe tbody tr th:only-of-type {\n",
       "        vertical-align: middle;\n",
       "    }\n",
       "\n",
       "    .dataframe tbody tr th {\n",
       "        vertical-align: top;\n",
       "    }\n",
       "\n",
       "    .dataframe thead th {\n",
       "        text-align: right;\n",
       "    }\n",
       "</style>\n",
       "<table border=\"1\" class=\"dataframe\">\n",
       "  <thead>\n",
       "    <tr style=\"text-align: right;\">\n",
       "      <th></th>\n",
       "      <th>event_time</th>\n",
       "      <th>event_type</th>\n",
       "      <th>product_id</th>\n",
       "      <th>category_id</th>\n",
       "      <th>category_code</th>\n",
       "      <th>brand</th>\n",
       "      <th>price</th>\n",
       "      <th>user_id</th>\n",
       "      <th>user_session</th>\n",
       "      <th>day</th>\n",
       "      <th>month</th>\n",
       "    </tr>\n",
       "  </thead>\n",
       "  <tbody>\n",
       "    <tr>\n",
       "      <th>0</th>\n",
       "      <td>2019-10-01 00:00:00+00:00</td>\n",
       "      <td>cart</td>\n",
       "      <td>5773203</td>\n",
       "      <td>1,48758000513424E+018</td>\n",
       "      <td>NaN</td>\n",
       "      <td>runail</td>\n",
       "      <td>2.62</td>\n",
       "      <td>463240011</td>\n",
       "      <td>26dd6e6e-4dac-4778-8d2c-92e149dab885</td>\n",
       "      <td>2019-10-01</td>\n",
       "      <td>2019-10</td>\n",
       "    </tr>\n",
       "    <tr>\n",
       "      <th>1</th>\n",
       "      <td>2019-10-01 00:29:21+00:00</td>\n",
       "      <td>cart</td>\n",
       "      <td>5857007</td>\n",
       "      <td>1,48758000949631E+018</td>\n",
       "      <td>NaN</td>\n",
       "      <td>runail</td>\n",
       "      <td>3.17</td>\n",
       "      <td>554342223</td>\n",
       "      <td>0b974342-1a53-41c1-a426-23130e770f4b</td>\n",
       "      <td>2019-10-01</td>\n",
       "      <td>2019-10</td>\n",
       "    </tr>\n",
       "    <tr>\n",
       "      <th>2</th>\n",
       "      <td>2019-10-01 00:29:37+00:00</td>\n",
       "      <td>remove_from_cart</td>\n",
       "      <td>5853243</td>\n",
       "      <td>1,48758000513424E+018</td>\n",
       "      <td>NaN</td>\n",
       "      <td>runail</td>\n",
       "      <td>3.17</td>\n",
       "      <td>446404021</td>\n",
       "      <td>abac4e23-d977-47d9-99e9-7faf35e62cc1</td>\n",
       "      <td>2019-10-01</td>\n",
       "      <td>2019-10</td>\n",
       "    </tr>\n",
       "    <tr>\n",
       "      <th>3</th>\n",
       "      <td>2019-10-01 00:29:37+00:00</td>\n",
       "      <td>remove_from_cart</td>\n",
       "      <td>5853243</td>\n",
       "      <td>1,48758000513424E+018</td>\n",
       "      <td>NaN</td>\n",
       "      <td>runail</td>\n",
       "      <td>3.17</td>\n",
       "      <td>446404021</td>\n",
       "      <td>abac4e23-d977-47d9-99e9-7faf35e62cc1</td>\n",
       "      <td>2019-10-01</td>\n",
       "      <td>2019-10</td>\n",
       "    </tr>\n",
       "    <tr>\n",
       "      <th>4</th>\n",
       "      <td>2019-10-01 00:29:58+00:00</td>\n",
       "      <td>view</td>\n",
       "      <td>5866208</td>\n",
       "      <td>1,48758001384161E+018</td>\n",
       "      <td>NaN</td>\n",
       "      <td>concept</td>\n",
       "      <td>3.16</td>\n",
       "      <td>555450661</td>\n",
       "      <td>0c203389-8b1e-4537-a800-d67f8ab0a2c7</td>\n",
       "      <td>2019-10-01</td>\n",
       "      <td>2019-10</td>\n",
       "    </tr>\n",
       "  </tbody>\n",
       "</table>\n",
       "</div>"
      ],
      "text/plain": [
       "                 event_time        event_type  product_id  \\\n",
       "0 2019-10-01 00:00:00+00:00              cart     5773203   \n",
       "1 2019-10-01 00:29:21+00:00              cart     5857007   \n",
       "2 2019-10-01 00:29:37+00:00  remove_from_cart     5853243   \n",
       "3 2019-10-01 00:29:37+00:00  remove_from_cart     5853243   \n",
       "4 2019-10-01 00:29:58+00:00              view     5866208   \n",
       "\n",
       "             category_id category_code    brand  price    user_id  \\\n",
       "0  1,48758000513424E+018           NaN   runail   2.62  463240011   \n",
       "1  1,48758000949631E+018           NaN   runail   3.17  554342223   \n",
       "2  1,48758000513424E+018           NaN   runail   3.17  446404021   \n",
       "3  1,48758000513424E+018           NaN   runail   3.17  446404021   \n",
       "4  1,48758001384161E+018           NaN  concept   3.16  555450661   \n",
       "\n",
       "                           user_session         day    month  \n",
       "0  26dd6e6e-4dac-4778-8d2c-92e149dab885  2019-10-01  2019-10  \n",
       "1  0b974342-1a53-41c1-a426-23130e770f4b  2019-10-01  2019-10  \n",
       "2  abac4e23-d977-47d9-99e9-7faf35e62cc1  2019-10-01  2019-10  \n",
       "3  abac4e23-d977-47d9-99e9-7faf35e62cc1  2019-10-01  2019-10  \n",
       "4  0c203389-8b1e-4537-a800-d67f8ab0a2c7  2019-10-01  2019-10  "
      ]
     },
     "execution_count": 62,
     "metadata": {},
     "output_type": "execute_result"
    }
   ],
   "source": [
    "df['month'] = df['event_time'].dt.to_period('M')\n",
    "df.head()"
   ]
  },
  {
   "cell_type": "code",
   "execution_count": 63,
   "id": "ff76b14e",
   "metadata": {},
   "outputs": [
    {
     "data": {
      "text/html": [
       "<div>\n",
       "<style scoped>\n",
       "    .dataframe tbody tr th:only-of-type {\n",
       "        vertical-align: middle;\n",
       "    }\n",
       "\n",
       "    .dataframe tbody tr th {\n",
       "        vertical-align: top;\n",
       "    }\n",
       "\n",
       "    .dataframe thead th {\n",
       "        text-align: right;\n",
       "    }\n",
       "</style>\n",
       "<table border=\"1\" class=\"dataframe\">\n",
       "  <thead>\n",
       "    <tr style=\"text-align: right;\">\n",
       "      <th></th>\n",
       "      <th>month</th>\n",
       "      <th>product_id</th>\n",
       "    </tr>\n",
       "  </thead>\n",
       "  <tbody>\n",
       "    <tr>\n",
       "      <th>0</th>\n",
       "      <td>2019-10</td>\n",
       "      <td>7000</td>\n",
       "    </tr>\n",
       "    <tr>\n",
       "      <th>1</th>\n",
       "      <td>2019-11</td>\n",
       "      <td>7000</td>\n",
       "    </tr>\n",
       "    <tr>\n",
       "      <th>2</th>\n",
       "      <td>2019-12</td>\n",
       "      <td>7000</td>\n",
       "    </tr>\n",
       "  </tbody>\n",
       "</table>\n",
       "</div>"
      ],
      "text/plain": [
       "     month  product_id\n",
       "0  2019-10        7000\n",
       "1  2019-11        7000\n",
       "2  2019-12        7000"
      ]
     },
     "execution_count": 63,
     "metadata": {},
     "output_type": "execute_result"
    }
   ],
   "source": [
    "df.pivot_table(index='month', values='product_id', aggfunc='count').reset_index()"
   ]
  },
  {
   "cell_type": "code",
   "execution_count": 66,
   "id": "cb2be8fd",
   "metadata": {},
   "outputs": [
    {
     "data": {
      "text/plain": [
       "0    2019-10\n",
       "1    2019-11\n",
       "2    2019-12\n",
       "Name: month, dtype: object"
      ]
     },
     "execution_count": 66,
     "metadata": {},
     "output_type": "execute_result"
    }
   ],
   "source": [
    "df.pivot_table(index='month', values='product_id', aggfunc='count').reset_index()['month'].astype('object')"
   ]
  },
  {
   "cell_type": "code",
   "execution_count": 67,
   "id": "79721f69",
   "metadata": {},
   "outputs": [
    {
     "data": {
      "text/plain": [
       "0    7000\n",
       "1    7000\n",
       "2    7000\n",
       "Name: product_id, dtype: int64"
      ]
     },
     "execution_count": 67,
     "metadata": {},
     "output_type": "execute_result"
    }
   ],
   "source": [
    "df.pivot_table(index='month', values='product_id', aggfunc='count').reset_index()['product_id']"
   ]
  },
  {
   "cell_type": "code",
   "execution_count": 74,
   "id": "93f77084",
   "metadata": {},
   "outputs": [
    {
     "data": {
      "image/png": "[encoded data removed]",
      "text/plain": [
       "<Figure size 720x720 with 1 Axes>"
      ]
     },
     "metadata": {},
     "output_type": "display_data"
    }
   ],
   "source": [
    "fig = plt.figure(figsize=(10,10))\n",
    "ax = fig.add_subplot(1,1,1)\n",
    "\n",
    "data = df.pivot_table(index='month', values='product_id', aggfunc='count').reset_index()['product_id']\n",
    "labels = df.pivot_table(index='month', values='product_id', aggfunc='count').reset_index()['month']\n",
    "\n",
    "\n",
    "plt.pie(data, \n",
    "        labels=labels\n",
    "        )\n",
    "\n",
    "plt.show()"
   ]
  },
  {
   "cell_type": "markdown",
   "id": "b05824ae",
   "metadata": {},
   "source": [
    "# Построить воронку действий пользователя по месяцам."
   ]
  },
  {
   "cell_type": "code",
   "execution_count": 101,
   "id": "c7f4155a",
   "metadata": {},
   "outputs": [
    {
     "name": "stdout",
     "output_type": "stream",
     "text": [
      "<class 'pandas.core.frame.DataFrame'>\n",
      "RangeIndex: 3 entries, 0 to 2\n",
      "Data columns (total 2 columns):\n",
      " #   Column   Non-Null Count  Dtype \n",
      "---  ------   --------------  ----- \n",
      " 0   month    3 non-null      object\n",
      " 1   user_id  3 non-null      int64 \n",
      "dtypes: int64(1), object(1)\n",
      "memory usage: 176.0+ bytes\n"
     ]
    }
   ],
   "source": [
    "data = df.pivot_table(index='month', values='user_id', aggfunc='nunique').reset_index()\n",
    "data['month'] = data['month'].astype('object')\n",
    "data.info()"
   ]
  },
  {
   "cell_type": "code",
   "execution_count": 105,
   "id": "25b6beb5",
   "metadata": {},
   "outputs": [
    {
     "data": {
      "application/vnd.plotly.v1+json": {
       "config": {
        "plotlyServerURL": "https://plot.ly"
       },
       "data": [
        {
         "textinfo": "value+percent initial+percent previous",
         "type": "funnel",
         "x": [
          1264,
          1179,
          991
         ],
         "y": [
          0,
          1,
          2
         ]
        }
       ],
       "layout": {
        "height": 900,
        "template": {
         "data": {
          "bar": [
           {
            "error_x": {
             "color": "#2a3f5f"
            },
            "error_y": {
             "color": "#2a3f5f"
            },
            "marker": {
             "line": {
              "color": "#E5ECF6",
              "width": 0.5
             },
             "pattern": {
              "fillmode": "overlay",
              "size": 10,
              "solidity": 0.2
             }
            },
            "type": "bar"
           }
          ],
          "barpolar": [
           {
            "marker": {
             "line": {
              "color": "#E5ECF6",
              "width": 0.5
             },
             "pattern": {
              "fillmode": "overlay",
              "size": 10,
              "solidity": 0.2
             }
            },
            "type": "barpolar"
           }
          ],
          "carpet": [
           {
            "aaxis": {
             "endlinecolor": "#2a3f5f",
             "gridcolor": "white",
             "linecolor": "white",
             "minorgridcolor": "white",
             "startlinecolor": "#2a3f5f"
            },
            "baxis": {
             "endlinecolor": "#2a3f5f",
             "gridcolor": "white",
             "linecolor": "white",
             "minorgridcolor": "white",
             "startlinecolor": "#2a3f5f"
            },
            "type": "carpet"
           }
          ],
          "choropleth": [
           {
            "colorbar": {
             "outlinewidth": 0,
             "ticks": ""
            },
            "type": "choropleth"
           }
          ],
          "contour": [
           {
            "colorbar": {
             "outlinewidth": 0,
             "ticks": ""
            },
            "colorscale": [
             [
              0,
              "#0d0887"
             ],
             [
              0.1111111111111111,
              "#46039f"
             ],
             [
              0.2222222222222222,
              "#7201a8"
             ],
             [
              0.3333333333333333,
              "#9c179e"
             ],
             [
              0.4444444444444444,
              "#bd3786"
             ],
             [
              0.5555555555555556,
              "#d8576b"
             ],
             [
              0.6666666666666666,
              "#ed7953"
             ],
             [
              0.7777777777777778,
              "#fb9f3a"
             ],
             [
              0.8888888888888888,
              "#fdca26"
             ],
             [
              1,
              "#f0f921"
             ]
            ],
            "type": "contour"
           }
          ],
          "contourcarpet": [
           {
            "colorbar": {
             "outlinewidth": 0,
             "ticks": ""
            },
            "type": "contourcarpet"
           }
          ],
          "heatmap": [
           {
            "colorbar": {
             "outlinewidth": 0,
             "ticks": ""
            },
            "colorscale": [
             [
              0,
              "#0d0887"
             ],
             [
              0.1111111111111111,
              "#46039f"
             ],
             [
              0.2222222222222222,
              "#7201a8"
             ],
             [
              0.3333333333333333,
              "#9c179e"
             ],
             [
              0.4444444444444444,
              "#bd3786"
             ],
             [
              0.5555555555555556,
              "#d8576b"
             ],
             [
              0.6666666666666666,
              "#ed7953"
             ],
             [
              0.7777777777777778,
              "#fb9f3a"
             ],
             [
              0.8888888888888888,
              "#fdca26"
             ],
             [
              1,
              "#f0f921"
             ]
            ],
            "type": "heatmap"
           }
          ],
          "heatmapgl": [
           {
            "colorbar": {
             "outlinewidth": 0,
             "ticks": ""
            },
            "colorscale": [
             [
              0,
              "#0d0887"
             ],
             [
              0.1111111111111111,
              "#46039f"
             ],
             [
              0.2222222222222222,
              "#7201a8"
             ],
             [
              0.3333333333333333,
              "#9c179e"
             ],
             [
              0.4444444444444444,
              "#bd3786"
             ],
             [
              0.5555555555555556,
              "#d8576b"
             ],
             [
              0.6666666666666666,
              "#ed7953"
             ],
             [
              0.7777777777777778,
              "#fb9f3a"
             ],
             [
              0.8888888888888888,
              "#fdca26"
             ],
             [
              1,
              "#f0f921"
             ]
            ],
            "type": "heatmapgl"
           }
          ],
          "histogram": [
           {
            "marker": {
             "pattern": {
              "fillmode": "overlay",
              "size": 10,
              "solidity": 0.2
             }
            },
            "type": "histogram"
           }
          ],
          "histogram2d": [
           {
            "colorbar": {
             "outlinewidth": 0,
             "ticks": ""
            },
            "colorscale": [
             [
              0,
              "#0d0887"
             ],
             [
              0.1111111111111111,
              "#46039f"
             ],
             [
              0.2222222222222222,
              "#7201a8"
             ],
             [
              0.3333333333333333,
              "#9c179e"
             ],
             [
              0.4444444444444444,
              "#bd3786"
             ],
             [
              0.5555555555555556,
              "#d8576b"
             ],
             [
              0.6666666666666666,
              "#ed7953"
             ],
             [
              0.7777777777777778,
              "#fb9f3a"
             ],
             [
              0.8888888888888888,
              "#fdca26"
             ],
             [
              1,
              "#f0f921"
             ]
            ],
            "type": "histogram2d"
           }
          ],
          "histogram2dcontour": [
           {
            "colorbar": {
             "outlinewidth": 0,
             "ticks": ""
            },
            "colorscale": [
             [
              0,
              "#0d0887"
             ],
             [
              0.1111111111111111,
              "#46039f"
             ],
             [
              0.2222222222222222,
              "#7201a8"
             ],
             [
              0.3333333333333333,
              "#9c179e"
             ],
             [
              0.4444444444444444,
              "#bd3786"
             ],
             [
              0.5555555555555556,
              "#d8576b"
             ],
             [
              0.6666666666666666,
              "#ed7953"
             ],
             [
              0.7777777777777778,
              "#fb9f3a"
             ],
             [
              0.8888888888888888,
              "#fdca26"
             ],
             [
              1,
              "#f0f921"
             ]
            ],
            "type": "histogram2dcontour"
           }
          ],
          "mesh3d": [
           {
            "colorbar": {
             "outlinewidth": 0,
             "ticks": ""
            },
            "type": "mesh3d"
           }
          ],
          "parcoords": [
           {
            "line": {
             "colorbar": {
              "outlinewidth": 0,
              "ticks": ""
             }
            },
            "type": "parcoords"
           }
          ],
          "pie": [
           {
            "automargin": true,
            "type": "pie"
           }
          ],
          "scatter": [
           {
            "fillpattern": {
             "fillmode": "overlay",
             "size": 10,
             "solidity": 0.2
            },
            "type": "scatter"
           }
          ],
          "scatter3d": [
           {
            "line": {
             "colorbar": {
              "outlinewidth": 0,
              "ticks": ""
             }
            },
            "marker": {
             "colorbar": {
              "outlinewidth": 0,
              "ticks": ""
             }
            },
            "type": "scatter3d"
           }
          ],
          "scattercarpet": [
           {
            "marker": {
             "colorbar": {
              "outlinewidth": 0,
              "ticks": ""
             }
            },
            "type": "scattercarpet"
           }
          ],
          "scattergeo": [
           {
            "marker": {
             "colorbar": {
              "outlinewidth": 0,
              "ticks": ""
             }
            },
            "type": "scattergeo"
           }
          ],
          "scattergl": [
           {
            "marker": {
             "colorbar": {
              "outlinewidth": 0,
              "ticks": ""
             }
            },
            "type": "scattergl"
           }
          ],
          "scattermapbox": [
           {
            "marker": {
             "colorbar": {
              "outlinewidth": 0,
              "ticks": ""
             }
            },
            "type": "scattermapbox"
           }
          ],
          "scatterpolar": [
           {
            "marker": {
             "colorbar": {
              "outlinewidth": 0,
              "ticks": ""
             }
            },
            "type": "scatterpolar"
           }
          ],
          "scatterpolargl": [
           {
            "marker": {
             "colorbar": {
              "outlinewidth": 0,
              "ticks": ""
             }
            },
            "type": "scatterpolargl"
           }
          ],
          "scatterternary": [
           {
            "marker": {
             "colorbar": {
              "outlinewidth": 0,
              "ticks": ""
             }
            },
            "type": "scatterternary"
           }
          ],
          "surface": [
           {
            "colorbar": {
             "outlinewidth": 0,
             "ticks": ""
            },
            "colorscale": [
             [
              0,
              "#0d0887"
             ],
             [
              0.1111111111111111,
              "#46039f"
             ],
             [
              0.2222222222222222,
              "#7201a8"
             ],
             [
              0.3333333333333333,
              "#9c179e"
             ],
             [
              0.4444444444444444,
              "#bd3786"
             ],
             [
              0.5555555555555556,
              "#d8576b"
             ],
             [
              0.6666666666666666,
              "#ed7953"
             ],
             [
              0.7777777777777778,
              "#fb9f3a"
             ],
             [
              0.8888888888888888,
              "#fdca26"
             ],
             [
              1,
              "#f0f921"
             ]
            ],
            "type": "surface"
           }
          ],
          "table": [
           {
            "cells": {
             "fill": {
              "color": "#EBF0F8"
             },
             "line": {
              "color": "white"
             }
            },
            "header": {
             "fill": {
              "color": "#C8D4E3"
             },
             "line": {
              "color": "white"
             }
            },
            "type": "table"
           }
          ]
         },
         "layout": {
          "annotationdefaults": {
           "arrowcolor": "#2a3f5f",
           "arrowhead": 0,
           "arrowwidth": 1
          },
          "autotypenumbers": "strict",
          "coloraxis": {
           "colorbar": {
            "outlinewidth": 0,
            "ticks": ""
           }
          },
          "colorscale": {
           "diverging": [
            [
             0,
             "#8e0152"
            ],
            [
             0.1,
             "#c51b7d"
            ],
            [
             0.2,
             "#de77ae"
            ],
            [
             0.3,
             "#f1b6da"
            ],
            [
             0.4,
             "#fde0ef"
            ],
            [
             0.5,
             "#f7f7f7"
            ],
            [
             0.6,
             "#e6f5d0"
            ],
            [
             0.7,
             "#b8e186"
            ],
            [
             0.8,
             "#7fbc41"
            ],
            [
             0.9,
             "#4d9221"
            ],
            [
             1,
             "#276419"
            ]
           ],
           "sequential": [
            [
             0,
             "#0d0887"
            ],
            [
             0.1111111111111111,
             "#46039f"
            ],
            [
             0.2222222222222222,
             "#7201a8"
            ],
            [
             0.3333333333333333,
             "#9c179e"
            ],
            [
             0.4444444444444444,
             "#bd3786"
            ],
            [
             0.5555555555555556,
             "#d8576b"
            ],
            [
             0.6666666666666666,
             "#ed7953"
            ],
            [
             0.7777777777777778,
             "#fb9f3a"
            ],
            [
             0.8888888888888888,
             "#fdca26"
            ],
            [
             1,
             "#f0f921"
            ]
           ],
           "sequentialminus": [
            [
             0,
             "#0d0887"
            ],
            [
             0.1111111111111111,
             "#46039f"
            ],
            [
             0.2222222222222222,
             "#7201a8"
            ],
            [
             0.3333333333333333,
             "#9c179e"
            ],
            [
             0.4444444444444444,
             "#bd3786"
            ],
            [
             0.5555555555555556,
             "#d8576b"
            ],
            [
             0.6666666666666666,
             "#ed7953"
            ],
            [
             0.7777777777777778,
             "#fb9f3a"
            ],
            [
             0.8888888888888888,
             "#fdca26"
            ],
            [
             1,
             "#f0f921"
            ]
           ]
          },
          "colorway": [
           "#636efa",
           "#EF553B",
           "#00cc96",
           "#ab63fa",
           "#FFA15A",
           "#19d3f3",
           "#FF6692",
           "#B6E880",
           "#FF97FF",
           "#FECB52"
          ],
          "font": {
           "color": "#2a3f5f"
          },
          "geo": {
           "bgcolor": "white",
           "lakecolor": "white",
           "landcolor": "#E5ECF6",
           "showlakes": true,
           "showland": true,
           "subunitcolor": "white"
          },
          "hoverlabel": {
           "align": "left"
          },
          "hovermode": "closest",
          "mapbox": {
           "style": "light"
          },
          "paper_bgcolor": "white",
          "plot_bgcolor": "#E5ECF6",
          "polar": {
           "angularaxis": {
            "gridcolor": "white",
            "linecolor": "white",
            "ticks": ""
           },
           "bgcolor": "#E5ECF6",
           "radialaxis": {
            "gridcolor": "white",
            "linecolor": "white",
            "ticks": ""
           }
          },
          "scene": {
           "xaxis": {
            "backgroundcolor": "#E5ECF6",
            "gridcolor": "white",
            "gridwidth": 2,
            "linecolor": "white",
            "showbackground": true,
            "ticks": "",
            "zerolinecolor": "white"
           },
           "yaxis": {
            "backgroundcolor": "#E5ECF6",
            "gridcolor": "white",
            "gridwidth": 2,
            "linecolor": "white",
            "showbackground": true,
            "ticks": "",
            "zerolinecolor": "white"
           },
           "zaxis": {
            "backgroundcolor": "#E5ECF6",
            "gridcolor": "white",
            "gridwidth": 2,
            "linecolor": "white",
            "showbackground": true,
            "ticks": "",
            "zerolinecolor": "white"
           }
          },
          "shapedefaults": {
           "line": {
            "color": "#2a3f5f"
           }
          },
          "ternary": {
           "aaxis": {
            "gridcolor": "white",
            "linecolor": "white",
            "ticks": ""
           },
           "baxis": {
            "gridcolor": "white",
            "linecolor": "white",
            "ticks": ""
           },
           "bgcolor": "#E5ECF6",
           "caxis": {
            "gridcolor": "white",
            "linecolor": "white",
            "ticks": ""
           }
          },
          "title": {
           "x": 0.05
          },
          "xaxis": {
           "automargin": true,
           "gridcolor": "white",
           "linecolor": "white",
           "ticks": "",
           "title": {
            "standoff": 15
           },
           "zerolinecolor": "white",
           "zerolinewidth": 2
          },
          "yaxis": {
           "automargin": true,
           "gridcolor": "white",
           "linecolor": "white",
           "ticks": "",
           "title": {
            "standoff": 15
           },
           "zerolinecolor": "white",
           "zerolinewidth": 2
          }
         }
        },
        "title": {
         "text": "Воронка"
        },
        "width": 900,
        "xaxis": {
         "tickangle": 45
        },
        "yaxis": {
         "title": {
          "text": "События"
         }
        }
       }
      },
      "text/html": [
       "<div>                            <div id=\"37067b6c-6610-4540-bf59-77a8ec1b10da\" class=\"plotly-graph-div\" style=\"height:900px; width:900px;\"></div>            <script type=\"text/javascript\">                require([\"plotly\"], function(Plotly) {                    window.PLOTLYENV=window.PLOTLYENV || {};                                    if (document.getElementById(\"37067b6c-6610-4540-bf59-77a8ec1b10da\")) {                    Plotly.newPlot(                        \"37067b6c-6610-4540-bf59-77a8ec1b10da\",                        [{\"textinfo\":\"value+percent initial+percent previous\",\"x\":[1264,1179,991],\"y\":[0,1,2],\"type\":\"funnel\"}],                        {\"template\":{\"data\":{\"histogram2dcontour\":[{\"type\":\"histogram2dcontour\",\"colorbar\":{\"outlinewidth\":0,\"ticks\":\"\"},\"colorscale\":[[0.0,\"#0d0887\"],[0.1111111111111111,\"#46039f\"],[0.2222222222222222,\"#7201a8\"],[0.3333333333333333,\"#9c179e\"],[0.4444444444444444,\"#bd3786\"],[0.5555555555555556,\"#d8576b\"],[0.6666666666666666,\"#ed7953\"],[0.7777777777777778,\"#fb9f3a\"],[0.8888888888888888,\"#fdca26\"],[1.0,\"#f0f921\"]]}],\"choropleth\":[{\"type\":\"choropleth\",\"colorbar\":{\"outlinewidth\":0,\"ticks\":\"\"}}],\"histogram2d\":[{\"type\":\"histogram2d\",\"colorbar\":{\"outlinewidth\":0,\"ticks\":\"\"},\"colorscale\":[[0.0,\"#0d0887\"],[0.1111111111111111,\"#46039f\"],[0.2222222222222222,\"#7201a8\"],[0.3333333333333333,\"#9c179e\"],[0.4444444444444444,\"#bd3786\"],[0.5555555555555556,\"#d8576b\"],[0.6666666666666666,\"#ed7953\"],[0.7777777777777778,\"#fb9f3a\"],[0.8888888888888888,\"#fdca26\"],[1.0,\"#f0f921\"]]}],\"heatmap\":[{\"type\":\"heatmap\",\"colorbar\":{\"outlinewidth\":0,\"ticks\":\"\"},\"colorscale\":[[0.0,\"#0d0887\"],[0.1111111111111111,\"#46039f\"],[0.2222222222222222,\"#7201a8\"],[0.3333333333333333,\"#9c179e\"],[0.4444444444444444,\"#bd3786\"],[0.5555555555555556,\"#d8576b\"],[0.6666666666666666,\"#ed7953\"],[0.7777777777777778,\"#fb9f3a\"],[0.8888888888888888,\"#fdca26\"],[1.0,\"#f0f921\"]]}],\"heatmapgl\":[{\"type\":\"heatmapgl\",\"colorbar\":{\"outlinewidth\":0,\"ticks\":\"\"},\"colorscale\":[[0.0,\"#0d0887\"],[0.1111111111111111,\"#46039f\"],[0.2222222222222222,\"#7201a8\"],[0.3333333333333333,\"#9c179e\"],[0.4444444444444444,\"#bd3786\"],[0.5555555555555556,\"#d8576b\"],[0.6666666666666666,\"#ed7953\"],[0.7777777777777778,\"#fb9f3a\"],[0.8888888888888888,\"#fdca26\"],[1.0,\"#f0f921\"]]}],\"contourcarpet\":[{\"type\":\"contourcarpet\",\"colorbar\":{\"outlinewidth\":0,\"ticks\":\"\"}}],\"contour\":[{\"type\":\"contour\",\"colorbar\":{\"outlinewidth\":0,\"ticks\":\"\"},\"colorscale\":[[0.0,\"#0d0887\"],[0.1111111111111111,\"#46039f\"],[0.2222222222222222,\"#7201a8\"],[0.3333333333333333,\"#9c179e\"],[0.4444444444444444,\"#bd3786\"],[0.5555555555555556,\"#d8576b\"],[0.6666666666666666,\"#ed7953\"],[0.7777777777777778,\"#fb9f3a\"],[0.8888888888888888,\"#fdca26\"],[1.0,\"#f0f921\"]]}],\"surface\":[{\"type\":\"surface\",\"colorbar\":{\"outlinewidth\":0,\"ticks\":\"\"},\"colorscale\":[[0.0,\"#0d0887\"],[0.1111111111111111,\"#46039f\"],[0.2222222222222222,\"#7201a8\"],[0.3333333333333333,\"#9c179e\"],[0.4444444444444444,\"#bd3786\"],[0.5555555555555556,\"#d8576b\"],[0.6666666666666666,\"#ed7953\"],[0.7777777777777778,\"#fb9f3a\"],[0.8888888888888888,\"#fdca26\"],[1.0,\"#f0f921\"]]}],\"mesh3d\":[{\"type\":\"mesh3d\",\"colorbar\":{\"outlinewidth\":0,\"ticks\":\"\"}}],\"scatter\":[{\"fillpattern\":{\"fillmode\":\"overlay\",\"size\":10,\"solidity\":0.2},\"type\":\"scatter\"}],\"parcoords\":[{\"type\":\"parcoords\",\"line\":{\"colorbar\":{\"outlinewidth\":0,\"ticks\":\"\"}}}],\"scatterpolargl\":[{\"type\":\"scatterpolargl\",\"marker\":{\"colorbar\":{\"outlinewidth\":0,\"ticks\":\"\"}}}],\"bar\":[{\"error_x\":{\"color\":\"#2a3f5f\"},\"error_y\":{\"color\":\"#2a3f5f\"},\"marker\":{\"line\":{\"color\":\"#E5ECF6\",\"width\":0.5},\"pattern\":{\"fillmode\":\"overlay\",\"size\":10,\"solidity\":0.2}},\"type\":\"bar\"}],\"scattergeo\":[{\"type\":\"scattergeo\",\"marker\":{\"colorbar\":{\"outlinewidth\":0,\"ticks\":\"\"}}}],\"scatterpolar\":[{\"type\":\"scatterpolar\",\"marker\":{\"colorbar\":{\"outlinewidth\":0,\"ticks\":\"\"}}}],\"histogram\":[{\"marker\":{\"pattern\":{\"fillmode\":\"overlay\",\"size\":10,\"solidity\":0.2}},\"type\":\"histogram\"}],\"scattergl\":[{\"type\":\"scattergl\",\"marker\":{\"colorbar\":{\"outlinewidth\":0,\"ticks\":\"\"}}}],\"scatter3d\":[{\"type\":\"scatter3d\",\"line\":{\"colorbar\":{\"outlinewidth\":0,\"ticks\":\"\"}},\"marker\":{\"colorbar\":{\"outlinewidth\":0,\"ticks\":\"\"}}}],\"scattermapbox\":[{\"type\":\"scattermapbox\",\"marker\":{\"colorbar\":{\"outlinewidth\":0,\"ticks\":\"\"}}}],\"scatterternary\":[{\"type\":\"scatterternary\",\"marker\":{\"colorbar\":{\"outlinewidth\":0,\"ticks\":\"\"}}}],\"scattercarpet\":[{\"type\":\"scattercarpet\",\"marker\":{\"colorbar\":{\"outlinewidth\":0,\"ticks\":\"\"}}}],\"carpet\":[{\"aaxis\":{\"endlinecolor\":\"#2a3f5f\",\"gridcolor\":\"white\",\"linecolor\":\"white\",\"minorgridcolor\":\"white\",\"startlinecolor\":\"#2a3f5f\"},\"baxis\":{\"endlinecolor\":\"#2a3f5f\",\"gridcolor\":\"white\",\"linecolor\":\"white\",\"minorgridcolor\":\"white\",\"startlinecolor\":\"#2a3f5f\"},\"type\":\"carpet\"}],\"table\":[{\"cells\":{\"fill\":{\"color\":\"#EBF0F8\"},\"line\":{\"color\":\"white\"}},\"header\":{\"fill\":{\"color\":\"#C8D4E3\"},\"line\":{\"color\":\"white\"}},\"type\":\"table\"}],\"barpolar\":[{\"marker\":{\"line\":{\"color\":\"#E5ECF6\",\"width\":0.5},\"pattern\":{\"fillmode\":\"overlay\",\"size\":10,\"solidity\":0.2}},\"type\":\"barpolar\"}],\"pie\":[{\"automargin\":true,\"type\":\"pie\"}]},\"layout\":{\"autotypenumbers\":\"strict\",\"colorway\":[\"#636efa\",\"#EF553B\",\"#00cc96\",\"#ab63fa\",\"#FFA15A\",\"#19d3f3\",\"#FF6692\",\"#B6E880\",\"#FF97FF\",\"#FECB52\"],\"font\":{\"color\":\"#2a3f5f\"},\"hovermode\":\"closest\",\"hoverlabel\":{\"align\":\"left\"},\"paper_bgcolor\":\"white\",\"plot_bgcolor\":\"#E5ECF6\",\"polar\":{\"bgcolor\":\"#E5ECF6\",\"angularaxis\":{\"gridcolor\":\"white\",\"linecolor\":\"white\",\"ticks\":\"\"},\"radialaxis\":{\"gridcolor\":\"white\",\"linecolor\":\"white\",\"ticks\":\"\"}},\"ternary\":{\"bgcolor\":\"#E5ECF6\",\"aaxis\":{\"gridcolor\":\"white\",\"linecolor\":\"white\",\"ticks\":\"\"},\"baxis\":{\"gridcolor\":\"white\",\"linecolor\":\"white\",\"ticks\":\"\"},\"caxis\":{\"gridcolor\":\"white\",\"linecolor\":\"white\",\"ticks\":\"\"}},\"coloraxis\":{\"colorbar\":{\"outlinewidth\":0,\"ticks\":\"\"}},\"colorscale\":{\"sequential\":[[0.0,\"#0d0887\"],[0.1111111111111111,\"#46039f\"],[0.2222222222222222,\"#7201a8\"],[0.3333333333333333,\"#9c179e\"],[0.4444444444444444,\"#bd3786\"],[0.5555555555555556,\"#d8576b\"],[0.6666666666666666,\"#ed7953\"],[0.7777777777777778,\"#fb9f3a\"],[0.8888888888888888,\"#fdca26\"],[1.0,\"#f0f921\"]],\"sequentialminus\":[[0.0,\"#0d0887\"],[0.1111111111111111,\"#46039f\"],[0.2222222222222222,\"#7201a8\"],[0.3333333333333333,\"#9c179e\"],[0.4444444444444444,\"#bd3786\"],[0.5555555555555556,\"#d8576b\"],[0.6666666666666666,\"#ed7953\"],[0.7777777777777778,\"#fb9f3a\"],[0.8888888888888888,\"#fdca26\"],[1.0,\"#f0f921\"]],\"diverging\":[[0,\"#8e0152\"],[0.1,\"#c51b7d\"],[0.2,\"#de77ae\"],[0.3,\"#f1b6da\"],[0.4,\"#fde0ef\"],[0.5,\"#f7f7f7\"],[0.6,\"#e6f5d0\"],[0.7,\"#b8e186\"],[0.8,\"#7fbc41\"],[0.9,\"#4d9221\"],[1,\"#276419\"]]},\"xaxis\":{\"gridcolor\":\"white\",\"linecolor\":\"white\",\"ticks\":\"\",\"title\":{\"standoff\":15},\"zerolinecolor\":\"white\",\"automargin\":true,\"zerolinewidth\":2},\"yaxis\":{\"gridcolor\":\"white\",\"linecolor\":\"white\",\"ticks\":\"\",\"title\":{\"standoff\":15},\"zerolinecolor\":\"white\",\"automargin\":true,\"zerolinewidth\":2},\"scene\":{\"xaxis\":{\"backgroundcolor\":\"#E5ECF6\",\"gridcolor\":\"white\",\"linecolor\":\"white\",\"showbackground\":true,\"ticks\":\"\",\"zerolinecolor\":\"white\",\"gridwidth\":2},\"yaxis\":{\"backgroundcolor\":\"#E5ECF6\",\"gridcolor\":\"white\",\"linecolor\":\"white\",\"showbackground\":true,\"ticks\":\"\",\"zerolinecolor\":\"white\",\"gridwidth\":2},\"zaxis\":{\"backgroundcolor\":\"#E5ECF6\",\"gridcolor\":\"white\",\"linecolor\":\"white\",\"showbackground\":true,\"ticks\":\"\",\"zerolinecolor\":\"white\",\"gridwidth\":2}},\"shapedefaults\":{\"line\":{\"color\":\"#2a3f5f\"}},\"annotationdefaults\":{\"arrowcolor\":\"#2a3f5f\",\"arrowhead\":0,\"arrowwidth\":1},\"geo\":{\"bgcolor\":\"white\",\"landcolor\":\"#E5ECF6\",\"subunitcolor\":\"white\",\"showland\":true,\"showlakes\":true,\"lakecolor\":\"white\"},\"title\":{\"x\":0.05},\"mapbox\":{\"style\":\"light\"}}},\"title\":{\"text\":\"\\u0412\\u043e\\u0440\\u043e\\u043d\\u043a\\u0430\"},\"yaxis\":{\"title\":{\"text\":\"\\u0421\\u043e\\u0431\\u044b\\u0442\\u0438\\u044f\"}},\"height\":900,\"width\":900,\"xaxis\":{\"tickangle\":45}},                        {\"responsive\": true}                    ).then(function(){\n",
       "                            \n",
       "var gd = document.getElementById('37067b6c-6610-4540-bf59-77a8ec1b10da');\n",
       "var x = new MutationObserver(function (mutations, observer) {{\n",
       "        var display = window.getComputedStyle(gd).display;\n",
       "        if (!display || display === 'none') {{\n",
       "            console.log([gd, 'removed!']);\n",
       "            Plotly.purge(gd);\n",
       "            observer.disconnect();\n",
       "        }}\n",
       "}});\n",
       "\n",
       "// Listen for the removal of the full notebook cells\n",
       "var notebookContainer = gd.closest('#notebook-container');\n",
       "if (notebookContainer) {{\n",
       "    x.observe(notebookContainer, {childList: true});\n",
       "}}\n",
       "\n",
       "// Listen for the clearing of the current output cell\n",
       "var outputEl = gd.closest('.output');\n",
       "if (outputEl) {{\n",
       "    x.observe(outputEl, {childList: true});\n",
       "}}\n",
       "\n",
       "                        })                };                });            </script>        </div>"
      ]
     },
     "metadata": {},
     "output_type": "display_data"
    }
   ],
   "source": [
    "fig = go.Figure()\n",
    " \n",
    "\n",
    "fig.add_trace(go.Funnel(\n",
    "    y = data.index, # data['month'] data.index\n",
    "    x = data['user_id'],\n",
    "    textinfo = \"value+percent initial+percent previous\"))\n",
    "fig.update_layout(title='Воронка событий')\n",
    "\n",
    "\n",
    "fig.update_layout(title='Воронка',\n",
    "                  yaxis_title='События',\n",
    "                  height=900, width=900\n",
    "                 )\n",
    "fig.update_xaxes(tickangle=45)\n",
    "fig.show() "
   ]
  },
  {
   "cell_type": "markdown",
   "id": "1ed74354",
   "metadata": {},
   "source": [
    "# Найти топ 5 самых покупаемых товаров."
   ]
  },
  {
   "cell_type": "code",
   "execution_count": 123,
   "id": "ccb37435",
   "metadata": {},
   "outputs": [
    {
     "data": {
      "text/plain": [
       "product_id\n",
       "5809910    96\n",
       "5700037    74\n",
       "5815662    62\n",
       "5849033    59\n",
       "5886064    57\n",
       "Name: price, dtype: int64"
      ]
     },
     "execution_count": 123,
     "metadata": {},
     "output_type": "execute_result"
    }
   ],
   "source": [
    "df.groupby('product_id')['price'].count().sort_values(ascending=False).head()"
   ]
  },
  {
   "cell_type": "markdown",
   "id": "7ec5c4e9",
   "metadata": {},
   "source": [
    "# Найти топ 5 самых популярных (по количеству купленных товаров) категорий."
   ]
  },
  {
   "cell_type": "code",
   "execution_count": 131,
   "id": "c1f0cee3",
   "metadata": {},
   "outputs": [
    {
     "data": {
      "text/html": [
       "<div>\n",
       "<style scoped>\n",
       "    .dataframe tbody tr th:only-of-type {\n",
       "        vertical-align: middle;\n",
       "    }\n",
       "\n",
       "    .dataframe tbody tr th {\n",
       "        vertical-align: top;\n",
       "    }\n",
       "\n",
       "    .dataframe thead th {\n",
       "        text-align: right;\n",
       "    }\n",
       "</style>\n",
       "<table border=\"1\" class=\"dataframe\">\n",
       "  <thead>\n",
       "    <tr style=\"text-align: right;\">\n",
       "      <th></th>\n",
       "      <th>event_time</th>\n",
       "      <th>event_type</th>\n",
       "      <th>product_id</th>\n",
       "      <th>category_id</th>\n",
       "      <th>category_code</th>\n",
       "      <th>brand</th>\n",
       "      <th>price</th>\n",
       "      <th>user_id</th>\n",
       "      <th>user_session</th>\n",
       "      <th>day</th>\n",
       "      <th>month</th>\n",
       "    </tr>\n",
       "  </thead>\n",
       "  <tbody>\n",
       "    <tr>\n",
       "      <th>0</th>\n",
       "      <td>2019-10-01 00:00:00+00:00</td>\n",
       "      <td>cart</td>\n",
       "      <td>5773203</td>\n",
       "      <td>1,48758000513424E+018</td>\n",
       "      <td>NaN</td>\n",
       "      <td>runail</td>\n",
       "      <td>2.62</td>\n",
       "      <td>463240011</td>\n",
       "      <td>26dd6e6e-4dac-4778-8d2c-92e149dab885</td>\n",
       "      <td>2019-10-01</td>\n",
       "      <td>2019-10</td>\n",
       "    </tr>\n",
       "    <tr>\n",
       "      <th>1</th>\n",
       "      <td>2019-10-01 00:29:21+00:00</td>\n",
       "      <td>cart</td>\n",
       "      <td>5857007</td>\n",
       "      <td>1,48758000949631E+018</td>\n",
       "      <td>NaN</td>\n",
       "      <td>runail</td>\n",
       "      <td>3.17</td>\n",
       "      <td>554342223</td>\n",
       "      <td>0b974342-1a53-41c1-a426-23130e770f4b</td>\n",
       "      <td>2019-10-01</td>\n",
       "      <td>2019-10</td>\n",
       "    </tr>\n",
       "    <tr>\n",
       "      <th>2</th>\n",
       "      <td>2019-10-01 00:29:37+00:00</td>\n",
       "      <td>remove_from_cart</td>\n",
       "      <td>5853243</td>\n",
       "      <td>1,48758000513424E+018</td>\n",
       "      <td>NaN</td>\n",
       "      <td>runail</td>\n",
       "      <td>3.17</td>\n",
       "      <td>446404021</td>\n",
       "      <td>abac4e23-d977-47d9-99e9-7faf35e62cc1</td>\n",
       "      <td>2019-10-01</td>\n",
       "      <td>2019-10</td>\n",
       "    </tr>\n",
       "    <tr>\n",
       "      <th>3</th>\n",
       "      <td>2019-10-01 00:29:37+00:00</td>\n",
       "      <td>remove_from_cart</td>\n",
       "      <td>5853243</td>\n",
       "      <td>1,48758000513424E+018</td>\n",
       "      <td>NaN</td>\n",
       "      <td>runail</td>\n",
       "      <td>3.17</td>\n",
       "      <td>446404021</td>\n",
       "      <td>abac4e23-d977-47d9-99e9-7faf35e62cc1</td>\n",
       "      <td>2019-10-01</td>\n",
       "      <td>2019-10</td>\n",
       "    </tr>\n",
       "    <tr>\n",
       "      <th>4</th>\n",
       "      <td>2019-10-01 00:29:58+00:00</td>\n",
       "      <td>view</td>\n",
       "      <td>5866208</td>\n",
       "      <td>1,48758001384161E+018</td>\n",
       "      <td>NaN</td>\n",
       "      <td>concept</td>\n",
       "      <td>3.16</td>\n",
       "      <td>555450661</td>\n",
       "      <td>0c203389-8b1e-4537-a800-d67f8ab0a2c7</td>\n",
       "      <td>2019-10-01</td>\n",
       "      <td>2019-10</td>\n",
       "    </tr>\n",
       "  </tbody>\n",
       "</table>\n",
       "</div>"
      ],
      "text/plain": [
       "                 event_time        event_type  product_id  \\\n",
       "0 2019-10-01 00:00:00+00:00              cart     5773203   \n",
       "1 2019-10-01 00:29:21+00:00              cart     5857007   \n",
       "2 2019-10-01 00:29:37+00:00  remove_from_cart     5853243   \n",
       "3 2019-10-01 00:29:37+00:00  remove_from_cart     5853243   \n",
       "4 2019-10-01 00:29:58+00:00              view     5866208   \n",
       "\n",
       "             category_id category_code    brand  price    user_id  \\\n",
       "0  1,48758000513424E+018           NaN   runail   2.62  463240011   \n",
       "1  1,48758000949631E+018           NaN   runail   3.17  554342223   \n",
       "2  1,48758000513424E+018           NaN   runail   3.17  446404021   \n",
       "3  1,48758000513424E+018           NaN   runail   3.17  446404021   \n",
       "4  1,48758001384161E+018           NaN  concept   3.16  555450661   \n",
       "\n",
       "                           user_session         day    month  \n",
       "0  26dd6e6e-4dac-4778-8d2c-92e149dab885  2019-10-01  2019-10  \n",
       "1  0b974342-1a53-41c1-a426-23130e770f4b  2019-10-01  2019-10  \n",
       "2  abac4e23-d977-47d9-99e9-7faf35e62cc1  2019-10-01  2019-10  \n",
       "3  abac4e23-d977-47d9-99e9-7faf35e62cc1  2019-10-01  2019-10  \n",
       "4  0c203389-8b1e-4537-a800-d67f8ab0a2c7  2019-10-01  2019-10  "
      ]
     },
     "execution_count": 131,
     "metadata": {},
     "output_type": "execute_result"
    }
   ],
   "source": [
    "df.head()"
   ]
  },
  {
   "cell_type": "code",
   "execution_count": 130,
   "id": "22bc3128",
   "metadata": {},
   "outputs": [
    {
     "data": {
      "text/html": [
       "<div>\n",
       "<style scoped>\n",
       "    .dataframe tbody tr th:only-of-type {\n",
       "        vertical-align: middle;\n",
       "    }\n",
       "\n",
       "    .dataframe tbody tr th {\n",
       "        vertical-align: top;\n",
       "    }\n",
       "\n",
       "    .dataframe thead th {\n",
       "        text-align: right;\n",
       "    }\n",
       "</style>\n",
       "<table border=\"1\" class=\"dataframe\">\n",
       "  <thead>\n",
       "    <tr style=\"text-align: right;\">\n",
       "      <th></th>\n",
       "      <th>category_id</th>\n",
       "      <th>product_id</th>\n",
       "    </tr>\n",
       "  </thead>\n",
       "  <tbody>\n",
       "    <tr>\n",
       "      <th>81</th>\n",
       "      <td>1,48758000767599E+018</td>\n",
       "      <td>1519</td>\n",
       "    </tr>\n",
       "    <tr>\n",
       "      <th>9</th>\n",
       "      <td>1,4875800050923E+018</td>\n",
       "      <td>826</td>\n",
       "    </tr>\n",
       "    <tr>\n",
       "      <th>40</th>\n",
       "      <td>1,48758000631703E+018</td>\n",
       "      <td>700</td>\n",
       "    </tr>\n",
       "    <tr>\n",
       "      <th>10</th>\n",
       "      <td>1,48758000513424E+018</td>\n",
       "      <td>639</td>\n",
       "    </tr>\n",
       "    <tr>\n",
       "      <th>25</th>\n",
       "      <td>1,48758000567111E+018</td>\n",
       "      <td>571</td>\n",
       "    </tr>\n",
       "  </tbody>\n",
       "</table>\n",
       "</div>"
      ],
      "text/plain": [
       "              category_id  product_id\n",
       "81  1,48758000767599E+018        1519\n",
       "9    1,4875800050923E+018         826\n",
       "40  1,48758000631703E+018         700\n",
       "10  1,48758000513424E+018         639\n",
       "25  1,48758000567111E+018         571"
      ]
     },
     "execution_count": 130,
     "metadata": {},
     "output_type": "execute_result"
    }
   ],
   "source": [
    "df.pivot_table(index='category_id', values='product_id', aggfunc='count').reset_index().sort_values(\n",
    "    by='product_id', ascending=False).head()"
   ]
  },
  {
   "cell_type": "markdown",
   "id": "c50d110a",
   "metadata": {},
   "source": [
    "# Найти самые покупаемые товары по уникальным пользователям."
   ]
  },
  {
   "cell_type": "code",
   "execution_count": 137,
   "id": "d3548bb0",
   "metadata": {},
   "outputs": [
    {
     "data": {
      "text/html": [
       "<div>\n",
       "<style scoped>\n",
       "    .dataframe tbody tr th:only-of-type {\n",
       "        vertical-align: middle;\n",
       "    }\n",
       "\n",
       "    .dataframe tbody tr th {\n",
       "        vertical-align: top;\n",
       "    }\n",
       "\n",
       "    .dataframe thead th {\n",
       "        text-align: right;\n",
       "    }\n",
       "</style>\n",
       "<table border=\"1\" class=\"dataframe\">\n",
       "  <thead>\n",
       "    <tr style=\"text-align: right;\">\n",
       "      <th></th>\n",
       "      <th>product_id</th>\n",
       "      <th>user_id</th>\n",
       "    </tr>\n",
       "  </thead>\n",
       "  <tbody>\n",
       "    <tr>\n",
       "      <th>4007</th>\n",
       "      <td>5809910</td>\n",
       "      <td>73</td>\n",
       "    </tr>\n",
       "    <tr>\n",
       "      <th>7556</th>\n",
       "      <td>5886064</td>\n",
       "      <td>48</td>\n",
       "    </tr>\n",
       "    <tr>\n",
       "      <th>5754</th>\n",
       "      <td>5849033</td>\n",
       "      <td>39</td>\n",
       "    </tr>\n",
       "    <tr>\n",
       "      <th>7807</th>\n",
       "      <td>5892179</td>\n",
       "      <td>39</td>\n",
       "    </tr>\n",
       "    <tr>\n",
       "      <th>2446</th>\n",
       "      <td>5751422</td>\n",
       "      <td>35</td>\n",
       "    </tr>\n",
       "  </tbody>\n",
       "</table>\n",
       "</div>"
      ],
      "text/plain": [
       "      product_id  user_id\n",
       "4007     5809910       73\n",
       "7556     5886064       48\n",
       "5754     5849033       39\n",
       "7807     5892179       39\n",
       "2446     5751422       35"
      ]
     },
     "execution_count": 137,
     "metadata": {},
     "output_type": "execute_result"
    }
   ],
   "source": [
    "df.pivot_table(index='product_id', values='user_id', aggfunc='nunique').reset_index().sort_values(\n",
    "    by='user_id', ascending=False).head()"
   ]
  },
  {
   "cell_type": "markdown",
   "id": "6991ae1f",
   "metadata": {},
   "source": [
    "# Найти пользователя который совершил больше всего покупок."
   ]
  },
  {
   "cell_type": "code",
   "execution_count": 139,
   "id": "29b32d85",
   "metadata": {},
   "outputs": [
    {
     "data": {
      "text/html": [
       "<div>\n",
       "<style scoped>\n",
       "    .dataframe tbody tr th:only-of-type {\n",
       "        vertical-align: middle;\n",
       "    }\n",
       "\n",
       "    .dataframe tbody tr th {\n",
       "        vertical-align: top;\n",
       "    }\n",
       "\n",
       "    .dataframe thead th {\n",
       "        text-align: right;\n",
       "    }\n",
       "</style>\n",
       "<table border=\"1\" class=\"dataframe\">\n",
       "  <thead>\n",
       "    <tr style=\"text-align: right;\">\n",
       "      <th></th>\n",
       "      <th>user_id</th>\n",
       "      <th>product_id</th>\n",
       "    </tr>\n",
       "  </thead>\n",
       "  <tbody>\n",
       "    <tr>\n",
       "      <th>3032</th>\n",
       "      <td>576802932</td>\n",
       "      <td>699</td>\n",
       "    </tr>\n",
       "    <tr>\n",
       "      <th>2292</th>\n",
       "      <td>557908761</td>\n",
       "      <td>351</td>\n",
       "    </tr>\n",
       "    <tr>\n",
       "      <th>460</th>\n",
       "      <td>434112804</td>\n",
       "      <td>172</td>\n",
       "    </tr>\n",
       "    <tr>\n",
       "      <th>1202</th>\n",
       "      <td>528015061</td>\n",
       "      <td>131</td>\n",
       "    </tr>\n",
       "    <tr>\n",
       "      <th>2561</th>\n",
       "      <td>566270067</td>\n",
       "      <td>127</td>\n",
       "    </tr>\n",
       "  </tbody>\n",
       "</table>\n",
       "</div>"
      ],
      "text/plain": [
       "        user_id  product_id\n",
       "3032  576802932         699\n",
       "2292  557908761         351\n",
       "460   434112804         172\n",
       "1202  528015061         131\n",
       "2561  566270067         127"
      ]
     },
     "execution_count": 139,
     "metadata": {},
     "output_type": "execute_result"
    }
   ],
   "source": [
    "df.pivot_table(index='user_id', values='product_id', aggfunc='count').reset_index().sort_values(\n",
    "    by='product_id', ascending=False).head()"
   ]
  },
  {
   "cell_type": "code",
   "execution_count": null,
   "id": "e6aa8701",
   "metadata": {},
   "outputs": [],
   "source": []
  }
 ],
 "metadata": {
  "kernelspec": {
   "display_name": "Python 3 (ipykernel)",
   "language": "python",
   "name": "python3"
  },
  "language_info": {
   "codemirror_mode": {
    "name": "ipython",
    "version": 3
   },
   "file_extension": ".py",
   "mimetype": "text/x-python",
   "name": "python",
   "nbconvert_exporter": "python",
   "pygments_lexer": "ipython3",
   "version": "3.9.7"
  },
  "toc": {
   "base_numbering": 1,
   "nav_menu": {},
   "number_sections": true,
   "sideBar": true,
   "skip_h1_title": false,
   "title_cell": "Table of Contents",
   "title_sidebar": "Contents",
   "toc_cell": false,
   "toc_position": {},
   "toc_section_display": true,
   "toc_window_display": false
  }
 },
 "nbformat": 4,
 "nbformat_minor": 5
}

{
 "cells": [
  {
   "cell_type": "code",
   "execution_count": 1,
   "id": "8390aa15",
   "metadata": {},
   "outputs": [
    {
     "name": "stdout",
     "output_type": "stream",
     "text": [
      "Requirement already satisfied: strsimpy in c:\\users\\a.vechkanov\\anaconda3\\lib\\site-packages (0.2.1)\n",
      "Note: you may need to restart the kernel to use updated packages.\n"
     ]
    }
   ],
   "source": [
    "pip install strsimpy"
   ]
  },
  {
   "cell_type": "markdown",
   "id": "57f14a26",
   "metadata": {
    "toc": true
   },
   "source": [
    "<h1>Содержание<span class=\"tocSkip\"></span></h1>\n",
    "<div class=\"toc\"><ul class=\"toc-item\"><li><span><a href=\"#Анализ-цен\" data-toc-modified-id=\"Анализ-цен-1\"><span class=\"toc-item-num\">1&nbsp;&nbsp;</span>Анализ цен</a></span></li><li><span><a href=\"#Описание-датасетов\" data-toc-modified-id=\"Описание-датасетов-2\"><span class=\"toc-item-num\">2&nbsp;&nbsp;</span>Описание датасетов</a></span></li><li><span><a href=\"#Презентация\" data-toc-modified-id=\"Презентация-3\"><span class=\"toc-item-num\">3&nbsp;&nbsp;</span>Презентация</a></span></li><li><span><a href=\"#Dashbaord\" data-toc-modified-id=\"Dashbaord-4\"><span class=\"toc-item-num\">4&nbsp;&nbsp;</span>Dashbaord</a></span><ul class=\"toc-item\"><li><span><a href=\"#Загрузить-данные-и-подготовить-их-к-анализу\" data-toc-modified-id=\"Загрузить-данные-и-подготовить-их-к-анализу-4.1\"><span class=\"toc-item-num\">4.1&nbsp;&nbsp;</span>Загрузить данные и подготовить их к анализу</a></span></li></ul></li><li><span><a href=\"#Подготовка-данных\" data-toc-modified-id=\"Подготовка-данных-5\"><span class=\"toc-item-num\">5&nbsp;&nbsp;</span>Подготовка данных</a></span></li><li><span><a href=\"#EDA\" data-toc-modified-id=\"EDA-6\"><span class=\"toc-item-num\">6&nbsp;&nbsp;</span>EDA</a></span></li></ul></div>"
   ]
  },
  {
   "cell_type": "markdown",
   "id": "cd28389f",
   "metadata": {},
   "source": [
    "# Анализ цен"
   ]
  },
  {
   "cell_type": "markdown",
   "id": "5570d676",
   "metadata": {},
   "source": [
    "Анализ цен на мужские духи в таких магазинах, как Золотое яблоко, Рив Гош, Летуаль."
   ]
  },
  {
   "cell_type": "markdown",
   "id": "53ed48e9",
   "metadata": {},
   "source": [
    "# Описание датасетов\n",
    "*\t`name` — имя товара,\n",
    "*\t`brand` — бренд,\n",
    "*\t`volume` — объем,\n",
    "*\t`price` — цена без скидки,\n",
    "*\t`best_loyalty_price` — цена с учетом скидки,\n",
    "*\t`shop` — магазин,\n"
   ]
  },
  {
   "cell_type": "markdown",
   "id": "ca44719d",
   "metadata": {},
   "source": [
    "# Презентация\n",
    "https://github.com/AlexVachkan/Present/blob/main/metanprom.pdf"
   ]
  },
  {
   "cell_type": "markdown",
   "id": "7c954e59",
   "metadata": {},
   "source": [
    "# Dashbaord\n",
    "https://github.com/AlexVachkan/Present/blob/main/metanprom_dasboard.md"
   ]
  },
  {
   "cell_type": "markdown",
   "id": "e4da7976",
   "metadata": {},
   "source": [
    "## Загрузить данные и подготовить их к анализу"
   ]
  },
  {
   "cell_type": "markdown",
   "id": "c1f8050e",
   "metadata": {},
   "source": [
    "Импортируем библиотеки"
   ]
  },
  {
   "cell_type": "code",
   "execution_count": 2,
   "id": "a5618f45",
   "metadata": {},
   "outputs": [],
   "source": [
    "import pandas as pd\n",
    "import numpy as np\n",
    "\n",
    "import os\n",
    "\n",
    "import seaborn as sns\n",
    "import matplotlib.pyplot as plt\n",
    "\n",
    "from scipy import stats as st\n",
    "\n",
    "from statsmodels.stats.proportion import proportions_ztest\n",
    "\n",
    "from strsimpy.levenshtein import Levenshtein\n",
    "\n",
    "# from pandas_profiling import ProfileReport\n"
   ]
  },
  {
   "cell_type": "markdown",
   "id": "1283e812",
   "metadata": {},
   "source": [
    "Загружаем датасет:"
   ]
  },
  {
   "cell_type": "code",
   "execution_count": 3,
   "id": "a15bdd1d",
   "metadata": {},
   "outputs": [],
   "source": [
    "# Прописываем пути\n",
    "pth1 = 'C:\\\\Users\\\\a.vechkanov\\\\Desktop\\\\Госты, Литература\\\\Остальное\\\\Data analitics\\\\Тестовые\\\\Золотое яблоко\\\\'\n",
    "pth2 = 'C:\\\\Users\\\\Александр\\\\OneDrive\\\\Рабочий стол\\\\Python\\\\ЯндексПрактикум\\\\Тестовые\\\\Золотое яблоко\\\\'\n",
    "# pth3 = '/datasets/'\n",
    "\n",
    "# конструция для загрузки файлов if elif\n",
    "if os.path.exists(pth1):\n",
    "    ap_df = pd.read_csv(pth1+'prices_gold_apple.csv', sep=',')\n",
    "    rg_df = pd.read_csv(pth1+'prices_riv_gosh.csv', sep=',')\n",
    "    #le_df = pd.read_csv(pth1+'prices_letual.csv', sep=',')\n",
    "    \n",
    "elif os.path.exists(pth2):\n",
    "    ap_df = pd.read_csv(pth1+'prices_gold_apple.csv', sep=',')\n",
    "    rg_df = pd.read_csv(pth1+'prices_riv_gosh.csv', sep=',')\n",
    "    #le_df = pd.read_csv(pth1+'prices_letual.csv', sep=',')\n",
    "    \n",
    "# elif os.path.exists(pth3):\n",
    "#     df = pd.read_csv(pth3+'bank_dataset.csv', sep=',')\n",
    "            \n",
    "else:\n",
    "    print('Увы и ах, но нет файлов')"
   ]
  },
  {
   "cell_type": "markdown",
   "id": "55c12c42",
   "metadata": {},
   "source": [
    "Склеиваем таблицы в один датафрей для более удобной работы "
   ]
  },
  {
   "cell_type": "code",
   "execution_count": 4,
   "id": "484f9784",
   "metadata": {},
   "outputs": [
    {
     "name": "stdout",
     "output_type": "stream",
     "text": [
      "<class 'pandas.core.frame.DataFrame'>\n",
      "RangeIndex: 4444 entries, 0 to 4443\n",
      "Data columns (total 7 columns):\n",
      " #   Column              Non-Null Count  Dtype  \n",
      "---  ------              --------------  -----  \n",
      " 0   id                  4444 non-null   object \n",
      " 1   name                4444 non-null   object \n",
      " 2   brand               4434 non-null   object \n",
      " 3   volume              4444 non-null   object \n",
      " 4   price               4444 non-null   float64\n",
      " 5   best_loyalty_price  4444 non-null   object \n",
      " 6   shop                4444 non-null   object \n",
      "dtypes: float64(1), object(6)\n",
      "memory usage: 243.2+ KB\n"
     ]
    }
   ],
   "source": [
    "data = pd.concat(\n",
    "            [ap_df, rg_df], # , le_df - удалил для проверки гипотезы \n",
    "            axis=0\n",
    "                    ).drop(\n",
    "            columns='Unnamed: 0',\n",
    "            axis=0\n",
    "                    ).reset_index(drop=True) \n",
    "\n",
    "data.info()"
   ]
  },
  {
   "cell_type": "markdown",
   "id": "1ce9c682",
   "metadata": {},
   "source": [
    "Создадим список таблицы"
   ]
  },
  {
   "cell_type": "code",
   "execution_count": 5,
   "id": "2abcbb0f",
   "metadata": {},
   "outputs": [],
   "source": [
    "tables = [data]"
   ]
  },
  {
   "cell_type": "markdown",
   "id": "284f1e6a",
   "metadata": {},
   "source": [
    "Напишем функцию для вывода информации по нашим таблицам"
   ]
  },
  {
   "cell_type": "code",
   "execution_count": 6,
   "id": "f8c94374",
   "metadata": {},
   "outputs": [],
   "source": [
    "def info(tables):\n",
    "    '''\n",
    "    Функция выводит необходимую информацию для первичного изучения данных.\n",
    "    \n",
    "    На вход принимает список с датайрефмами (tables=[df1,df2,...,dfn]).\n",
    "    '''\n",
    "    for table in tables:\n",
    "        display(table.head(3))\n",
    "        print('-------------------------------------------------------------------\\n')\n",
    "        print(table.info())            \n",
    "        print('-------------------------------------------------------------------\\n')\n",
    "        print(table.describe())\n",
    "        print('\\n$$$$$$$$$$$$$$$$$$$$$$$$$$$$$$$$$$$$$$$$$$$$$$$$$$$$$$$$$$$$$$$$$$$\\n')"
   ]
  },
  {
   "cell_type": "markdown",
   "id": "60a2a49e",
   "metadata": {},
   "source": [
    "Посмотрим наши данные в таблицах"
   ]
  },
  {
   "cell_type": "code",
   "execution_count": 7,
   "id": "5aa5b708",
   "metadata": {
    "scrolled": false
   },
   "outputs": [
    {
     "data": {
      "text/html": [
       "<div>\n",
       "<style scoped>\n",
       "    .dataframe tbody tr th:only-of-type {\n",
       "        vertical-align: middle;\n",
       "    }\n",
       "\n",
       "    .dataframe tbody tr th {\n",
       "        vertical-align: top;\n",
       "    }\n",
       "\n",
       "    .dataframe thead th {\n",
       "        text-align: right;\n",
       "    }\n",
       "</style>\n",
       "<table border=\"1\" class=\"dataframe\">\n",
       "  <thead>\n",
       "    <tr style=\"text-align: right;\">\n",
       "      <th></th>\n",
       "      <th>id</th>\n",
       "      <th>name</th>\n",
       "      <th>brand</th>\n",
       "      <th>volume</th>\n",
       "      <th>price</th>\n",
       "      <th>best_loyalty_price</th>\n",
       "      <th>shop</th>\n",
       "    </tr>\n",
       "  </thead>\n",
       "  <tbody>\n",
       "    <tr>\n",
       "      <th>0</th>\n",
       "      <td>185723</td>\n",
       "      <td>Soleil de Capri</td>\n",
       "      <td>MONTALE</td>\n",
       "      <td>20</td>\n",
       "      <td>3000.0</td>\n",
       "      <td>2400</td>\n",
       "      <td>Золотое яблоко</td>\n",
       "    </tr>\n",
       "    <tr>\n",
       "      <th>1</th>\n",
       "      <td>232909</td>\n",
       "      <td>Meditation box</td>\n",
       "      <td>Home Owner</td>\n",
       "      <td>нет объема</td>\n",
       "      <td>4690.0</td>\n",
       "      <td>4221</td>\n",
       "      <td>Золотое яблоко</td>\n",
       "    </tr>\n",
       "    <tr>\n",
       "      <th>2</th>\n",
       "      <td>85653</td>\n",
       "      <td>Bal d'Afrique</td>\n",
       "      <td>Byredo</td>\n",
       "      <td>нет объема</td>\n",
       "      <td>16790.0</td>\n",
       "      <td>14271</td>\n",
       "      <td>Золотое яблоко</td>\n",
       "    </tr>\n",
       "  </tbody>\n",
       "</table>\n",
       "</div>"
      ],
      "text/plain": [
       "       id              name       brand      volume    price  \\\n",
       "0  185723  Soleil de Capri      MONTALE          20   3000.0   \n",
       "1  232909    Meditation box  Home Owner  нет объема   4690.0   \n",
       "2   85653     Bal d'Afrique      Byredo  нет объема  16790.0   \n",
       "\n",
       "  best_loyalty_price            shop  \n",
       "0               2400  Золотое яблоко  \n",
       "1               4221  Золотое яблоко  \n",
       "2              14271  Золотое яблоко  "
      ]
     },
     "metadata": {},
     "output_type": "display_data"
    },
    {
     "name": "stdout",
     "output_type": "stream",
     "text": [
      "-------------------------------------------------------------------\n",
      "\n",
      "<class 'pandas.core.frame.DataFrame'>\n",
      "RangeIndex: 4444 entries, 0 to 4443\n",
      "Data columns (total 7 columns):\n",
      " #   Column              Non-Null Count  Dtype  \n",
      "---  ------              --------------  -----  \n",
      " 0   id                  4444 non-null   object \n",
      " 1   name                4444 non-null   object \n",
      " 2   brand               4434 non-null   object \n",
      " 3   volume              4444 non-null   object \n",
      " 4   price               4444 non-null   float64\n",
      " 5   best_loyalty_price  4444 non-null   object \n",
      " 6   shop                4444 non-null   object \n",
      "dtypes: float64(1), object(6)\n",
      "memory usage: 243.2+ KB\n",
      "None\n",
      "-------------------------------------------------------------------\n",
      "\n",
      "              price\n",
      "count   4444.000000\n",
      "mean    9749.421242\n",
      "std     9537.841026\n",
      "min      131.000000\n",
      "25%     2735.250000\n",
      "50%     7500.000000\n",
      "75%    11100.000000\n",
      "max    58010.000000\n",
      "\n",
      "$$$$$$$$$$$$$$$$$$$$$$$$$$$$$$$$$$$$$$$$$$$$$$$$$$$$$$$$$$$$$$$$$$$\n",
      "\n"
     ]
    }
   ],
   "source": [
    "info(tables)"
   ]
  },
  {
   "cell_type": "markdown",
   "id": "2f36049c",
   "metadata": {},
   "source": [
    "**Вывод**    \n",
    "\n",
    "    info()\n",
    "    \n",
    "    1) Пропусков нет\n",
    "    2) Тип данных столбца best_loyalty_price необходимо поменять на float\n",
    "    \n",
    "    describe()\n",
    "    \n",
    "    1) Стандартное почти равно медиане\n",
    "    2) Видим большую разницу между min и max  "
   ]
  },
  {
   "cell_type": "markdown",
   "id": "19bc1f64",
   "metadata": {},
   "source": [
    "# Подготовка данных"
   ]
  },
  {
   "cell_type": "markdown",
   "id": "a069fd50",
   "metadata": {},
   "source": [
    "Приведём все столбцы к единому регистру "
   ]
  },
  {
   "cell_type": "code",
   "execution_count": 8,
   "id": "ccd7442f",
   "metadata": {},
   "outputs": [],
   "source": [
    "for i in data.columns:\n",
    "    if i == 'id':\n",
    "        continue\n",
    "    try:\n",
    "        data[i] = data[i].str.lower()\n",
    "    except:\n",
    "        continue"
   ]
  },
  {
   "cell_type": "markdown",
   "id": "21f91309",
   "metadata": {},
   "source": [
    "У нас очень много дубликатов, поработаем с этим:"
   ]
  },
  {
   "cell_type": "code",
   "execution_count": 9,
   "id": "b8815223",
   "metadata": {},
   "outputs": [
    {
     "data": {
      "text/html": [
       "<div>\n",
       "<style scoped>\n",
       "    .dataframe tbody tr th:only-of-type {\n",
       "        vertical-align: middle;\n",
       "    }\n",
       "\n",
       "    .dataframe tbody tr th {\n",
       "        vertical-align: top;\n",
       "    }\n",
       "\n",
       "    .dataframe thead th {\n",
       "        text-align: right;\n",
       "    }\n",
       "</style>\n",
       "<table border=\"1\" class=\"dataframe\">\n",
       "  <thead>\n",
       "    <tr style=\"text-align: right;\">\n",
       "      <th></th>\n",
       "      <th>id</th>\n",
       "      <th>name</th>\n",
       "      <th>brand</th>\n",
       "      <th>volume</th>\n",
       "      <th>price</th>\n",
       "      <th>best_loyalty_price</th>\n",
       "      <th>shop</th>\n",
       "    </tr>\n",
       "  </thead>\n",
       "  <tbody>\n",
       "    <tr>\n",
       "      <th>90</th>\n",
       "      <td>119868</td>\n",
       "      <td>guilty pour homme</td>\n",
       "      <td>gucci</td>\n",
       "      <td>50</td>\n",
       "      <td>4200.0</td>\n",
       "      <td>нет скидки</td>\n",
       "      <td>золотое яблоко</td>\n",
       "    </tr>\n",
       "    <tr>\n",
       "      <th>122</th>\n",
       "      <td>143704</td>\n",
       "      <td>pour homme</td>\n",
       "      <td>gucci</td>\n",
       "      <td>нет объема</td>\n",
       "      <td>7811.0</td>\n",
       "      <td>нет скидки</td>\n",
       "      <td>золотое яблоко</td>\n",
       "    </tr>\n",
       "    <tr>\n",
       "      <th>156</th>\n",
       "      <td>110963</td>\n",
       "      <td>guilty cologne</td>\n",
       "      <td>gucci</td>\n",
       "      <td>90</td>\n",
       "      <td>5971.0</td>\n",
       "      <td>нет скидки</td>\n",
       "      <td>золотое яблоко</td>\n",
       "    </tr>\n",
       "    <tr>\n",
       "      <th>179</th>\n",
       "      <td>142116</td>\n",
       "      <td>guilty pour homme</td>\n",
       "      <td>gucci</td>\n",
       "      <td>90</td>\n",
       "      <td>8470.0</td>\n",
       "      <td>нет скидки</td>\n",
       "      <td>золотое яблоко</td>\n",
       "    </tr>\n",
       "    <tr>\n",
       "      <th>234</th>\n",
       "      <td>151402</td>\n",
       "      <td>guilty pour homme black</td>\n",
       "      <td>gucci</td>\n",
       "      <td>90</td>\n",
       "      <td>6405.0</td>\n",
       "      <td>нет скидки</td>\n",
       "      <td>золотое яблоко</td>\n",
       "    </tr>\n",
       "  </tbody>\n",
       "</table>\n",
       "</div>"
      ],
      "text/plain": [
       "         id                     name  brand      volume   price  \\\n",
       "90   119868        guilty pour homme  gucci          50  4200.0   \n",
       "122  143704               pour homme  gucci  нет объема  7811.0   \n",
       "156  110963           guilty cologne  gucci          90  5971.0   \n",
       "179  142116        guilty pour homme  gucci          90  8470.0   \n",
       "234  151402  guilty pour homme black  gucci          90  6405.0   \n",
       "\n",
       "    best_loyalty_price            shop  \n",
       "90          нет скидки  золотое яблоко  \n",
       "122         нет скидки  золотое яблоко  \n",
       "156         нет скидки  золотое яблоко  \n",
       "179         нет скидки  золотое яблоко  \n",
       "234         нет скидки  золотое яблоко  "
      ]
     },
     "execution_count": 9,
     "metadata": {},
     "output_type": "execute_result"
    }
   ],
   "source": [
    "data.query('brand==\"gucci\"').head()"
   ]
  },
  {
   "cell_type": "markdown",
   "id": "8bab435b",
   "metadata": {},
   "source": [
    "Уберем явные дубликаты "
   ]
  },
  {
   "cell_type": "code",
   "execution_count": 10,
   "id": "980d7328",
   "metadata": {},
   "outputs": [
    {
     "data": {
      "text/html": [
       "<div>\n",
       "<style scoped>\n",
       "    .dataframe tbody tr th:only-of-type {\n",
       "        vertical-align: middle;\n",
       "    }\n",
       "\n",
       "    .dataframe tbody tr th {\n",
       "        vertical-align: top;\n",
       "    }\n",
       "\n",
       "    .dataframe thead th {\n",
       "        text-align: right;\n",
       "    }\n",
       "</style>\n",
       "<table border=\"1\" class=\"dataframe\">\n",
       "  <thead>\n",
       "    <tr style=\"text-align: right;\">\n",
       "      <th></th>\n",
       "      <th>id</th>\n",
       "      <th>name</th>\n",
       "      <th>brand</th>\n",
       "      <th>volume</th>\n",
       "      <th>price</th>\n",
       "      <th>best_loyalty_price</th>\n",
       "      <th>shop</th>\n",
       "    </tr>\n",
       "  </thead>\n",
       "  <tbody>\n",
       "    <tr>\n",
       "      <th>20</th>\n",
       "      <td>185723</td>\n",
       "      <td>soleil de capri</td>\n",
       "      <td>montale</td>\n",
       "      <td>20</td>\n",
       "      <td>3000.0</td>\n",
       "      <td>2400</td>\n",
       "      <td>золотое яблоко</td>\n",
       "    </tr>\n",
       "    <tr>\n",
       "      <th>21</th>\n",
       "      <td>232909</td>\n",
       "      <td>meditation box</td>\n",
       "      <td>home owner</td>\n",
       "      <td>нет объема</td>\n",
       "      <td>4690.0</td>\n",
       "      <td>4221</td>\n",
       "      <td>золотое яблоко</td>\n",
       "    </tr>\n",
       "    <tr>\n",
       "      <th>22</th>\n",
       "      <td>85653</td>\n",
       "      <td>bal d'afrique</td>\n",
       "      <td>byredo</td>\n",
       "      <td>нет объема</td>\n",
       "      <td>16790.0</td>\n",
       "      <td>14271</td>\n",
       "      <td>золотое яблоко</td>\n",
       "    </tr>\n",
       "    <tr>\n",
       "      <th>23</th>\n",
       "      <td>111568</td>\n",
       "      <td>stronger with you intensely</td>\n",
       "      <td>giorgio armani</td>\n",
       "      <td>50</td>\n",
       "      <td>4449.0</td>\n",
       "      <td>нет скидки</td>\n",
       "      <td>золотое яблоко</td>\n",
       "    </tr>\n",
       "    <tr>\n",
       "      <th>24</th>\n",
       "      <td>113641</td>\n",
       "      <td>molecule 02</td>\n",
       "      <td>escentric molecules</td>\n",
       "      <td>30</td>\n",
       "      <td>7530.0</td>\n",
       "      <td>6400</td>\n",
       "      <td>золотое яблоко</td>\n",
       "    </tr>\n",
       "    <tr>\n",
       "      <th>...</th>\n",
       "      <td>...</td>\n",
       "      <td>...</td>\n",
       "      <td>...</td>\n",
       "      <td>...</td>\n",
       "      <td>...</td>\n",
       "      <td>...</td>\n",
       "      <td>...</td>\n",
       "    </tr>\n",
       "    <tr>\n",
       "      <th>4439</th>\n",
       "      <td>base_987973</td>\n",
       "      <td>l'eau kenzo pour homme eau de toilette</td>\n",
       "      <td>kenzo</td>\n",
       "      <td>100</td>\n",
       "      <td>4820.0</td>\n",
       "      <td>NaN</td>\n",
       "      <td>рив гош</td>\n",
       "    </tr>\n",
       "    <tr>\n",
       "      <th>4440</th>\n",
       "      <td>985594</td>\n",
       "      <td>tiziana terenzi kristina 2022 parfum</td>\n",
       "      <td>tiziana terenzi</td>\n",
       "      <td>мужчин и женщин</td>\n",
       "      <td>33150.0</td>\n",
       "      <td>NaN</td>\n",
       "      <td>рив гош</td>\n",
       "    </tr>\n",
       "    <tr>\n",
       "      <th>4441</th>\n",
       "      <td>base_987536</td>\n",
       "      <td>giorgio armani stronger with you only eau de t...</td>\n",
       "      <td>giorgio armani</td>\n",
       "      <td>100</td>\n",
       "      <td>7995.0</td>\n",
       "      <td>NaN</td>\n",
       "      <td>рив гош</td>\n",
       "    </tr>\n",
       "    <tr>\n",
       "      <th>4442</th>\n",
       "      <td>base_988276</td>\n",
       "      <td>giorgio armani acqua di gio eau de parfum</td>\n",
       "      <td>giorgio armani</td>\n",
       "      <td>125</td>\n",
       "      <td>9360.0</td>\n",
       "      <td>NaN</td>\n",
       "      <td>рив гош</td>\n",
       "    </tr>\n",
       "    <tr>\n",
       "      <th>4443</th>\n",
       "      <td>986948</td>\n",
       "      <td>gucci alchemist's garden tears from the moon e...</td>\n",
       "      <td>gucci</td>\n",
       "      <td>100</td>\n",
       "      <td>38210.0</td>\n",
       "      <td>NaN</td>\n",
       "      <td>рив гош</td>\n",
       "    </tr>\n",
       "  </tbody>\n",
       "</table>\n",
       "<p>2420 rows × 7 columns</p>\n",
       "</div>"
      ],
      "text/plain": [
       "               id                                               name  \\\n",
       "20         185723                                   soleil de capri    \n",
       "21         232909                                     meditation box   \n",
       "22          85653                                      bal d'afrique   \n",
       "23         111568                        stronger with you intensely   \n",
       "24         113641                                        molecule 02   \n",
       "...           ...                                                ...   \n",
       "4439  base_987973             l'eau kenzo pour homme eau de toilette   \n",
       "4440       985594               tiziana terenzi kristina 2022 parfum   \n",
       "4441  base_987536  giorgio armani stronger with you only eau de t...   \n",
       "4442  base_988276          giorgio armani acqua di gio eau de parfum   \n",
       "4443       986948  gucci alchemist's garden tears from the moon e...   \n",
       "\n",
       "                    brand           volume    price best_loyalty_price  \\\n",
       "20                montale               20   3000.0               2400   \n",
       "21             home owner       нет объема   4690.0               4221   \n",
       "22                 byredo       нет объема  16790.0              14271   \n",
       "23         giorgio armani               50   4449.0         нет скидки   \n",
       "24    escentric molecules               30   7530.0               6400   \n",
       "...                   ...              ...      ...                ...   \n",
       "4439                kenzo              100   4820.0                NaN   \n",
       "4440      tiziana terenzi  мужчин и женщин  33150.0                NaN   \n",
       "4441       giorgio armani              100   7995.0                NaN   \n",
       "4442       giorgio armani              125   9360.0                NaN   \n",
       "4443                gucci              100  38210.0                NaN   \n",
       "\n",
       "                shop  \n",
       "20    золотое яблоко  \n",
       "21    золотое яблоко  \n",
       "22    золотое яблоко  \n",
       "23    золотое яблоко  \n",
       "24    золотое яблоко  \n",
       "...              ...  \n",
       "4439         рив гош  \n",
       "4440         рив гош  \n",
       "4441         рив гош  \n",
       "4442         рив гош  \n",
       "4443         рив гош  \n",
       "\n",
       "[2420 rows x 7 columns]"
      ]
     },
     "execution_count": 10,
     "metadata": {},
     "output_type": "execute_result"
    }
   ],
   "source": [
    "data[data.duplicated() == True]"
   ]
  },
  {
   "cell_type": "code",
   "execution_count": 11,
   "id": "c90a9308",
   "metadata": {},
   "outputs": [
    {
     "data": {
      "text/plain": [
       "2420"
      ]
     },
     "execution_count": 11,
     "metadata": {},
     "output_type": "execute_result"
    }
   ],
   "source": [
    "data.duplicated().sum()"
   ]
  },
  {
   "cell_type": "code",
   "execution_count": 12,
   "id": "dd5e2e57",
   "metadata": {},
   "outputs": [
    {
     "data": {
      "text/html": [
       "<div>\n",
       "<style scoped>\n",
       "    .dataframe tbody tr th:only-of-type {\n",
       "        vertical-align: middle;\n",
       "    }\n",
       "\n",
       "    .dataframe tbody tr th {\n",
       "        vertical-align: top;\n",
       "    }\n",
       "\n",
       "    .dataframe thead th {\n",
       "        text-align: right;\n",
       "    }\n",
       "</style>\n",
       "<table border=\"1\" class=\"dataframe\">\n",
       "  <thead>\n",
       "    <tr style=\"text-align: right;\">\n",
       "      <th></th>\n",
       "      <th>id</th>\n",
       "      <th>name</th>\n",
       "      <th>brand</th>\n",
       "      <th>volume</th>\n",
       "      <th>price</th>\n",
       "      <th>best_loyalty_price</th>\n",
       "      <th>shop</th>\n",
       "    </tr>\n",
       "  </thead>\n",
       "  <tbody>\n",
       "    <tr>\n",
       "      <th>0</th>\n",
       "      <td>185723</td>\n",
       "      <td>soleil de capri</td>\n",
       "      <td>montale</td>\n",
       "      <td>20</td>\n",
       "      <td>3000.0</td>\n",
       "      <td>2400</td>\n",
       "      <td>золотое яблоко</td>\n",
       "    </tr>\n",
       "    <tr>\n",
       "      <th>1</th>\n",
       "      <td>232909</td>\n",
       "      <td>meditation box</td>\n",
       "      <td>home owner</td>\n",
       "      <td>нет объема</td>\n",
       "      <td>4690.0</td>\n",
       "      <td>4221</td>\n",
       "      <td>золотое яблоко</td>\n",
       "    </tr>\n",
       "    <tr>\n",
       "      <th>2</th>\n",
       "      <td>85653</td>\n",
       "      <td>bal d'afrique</td>\n",
       "      <td>byredo</td>\n",
       "      <td>нет объема</td>\n",
       "      <td>16790.0</td>\n",
       "      <td>14271</td>\n",
       "      <td>золотое яблоко</td>\n",
       "    </tr>\n",
       "    <tr>\n",
       "      <th>3</th>\n",
       "      <td>111568</td>\n",
       "      <td>stronger with you intensely</td>\n",
       "      <td>giorgio armani</td>\n",
       "      <td>50</td>\n",
       "      <td>4449.0</td>\n",
       "      <td>нет скидки</td>\n",
       "      <td>золотое яблоко</td>\n",
       "    </tr>\n",
       "    <tr>\n",
       "      <th>4</th>\n",
       "      <td>113641</td>\n",
       "      <td>molecule 02</td>\n",
       "      <td>escentric molecules</td>\n",
       "      <td>30</td>\n",
       "      <td>7530.0</td>\n",
       "      <td>6400</td>\n",
       "      <td>золотое яблоко</td>\n",
       "    </tr>\n",
       "  </tbody>\n",
       "</table>\n",
       "</div>"
      ],
      "text/plain": [
       "       id                         name                brand      volume  \\\n",
       "0  185723             soleil de capri               montale          20   \n",
       "1  232909               meditation box           home owner  нет объема   \n",
       "2   85653                bal d'afrique               byredo  нет объема   \n",
       "3  111568  stronger with you intensely       giorgio armani          50   \n",
       "4  113641                  molecule 02  escentric molecules          30   \n",
       "\n",
       "     price best_loyalty_price            shop  \n",
       "0   3000.0               2400  золотое яблоко  \n",
       "1   4690.0               4221  золотое яблоко  \n",
       "2  16790.0              14271  золотое яблоко  \n",
       "3   4449.0         нет скидки  золотое яблоко  \n",
       "4   7530.0               6400  золотое яблоко  "
      ]
     },
     "execution_count": 12,
     "metadata": {},
     "output_type": "execute_result"
    }
   ],
   "source": [
    "data = data.drop_duplicates()\n",
    "data.head()"
   ]
  },
  {
   "cell_type": "code",
   "execution_count": 13,
   "id": "95f94fcc",
   "metadata": {},
   "outputs": [
    {
     "data": {
      "text/html": [
       "<div>\n",
       "<style scoped>\n",
       "    .dataframe tbody tr th:only-of-type {\n",
       "        vertical-align: middle;\n",
       "    }\n",
       "\n",
       "    .dataframe tbody tr th {\n",
       "        vertical-align: top;\n",
       "    }\n",
       "\n",
       "    .dataframe thead th {\n",
       "        text-align: right;\n",
       "    }\n",
       "</style>\n",
       "<table border=\"1\" class=\"dataframe\">\n",
       "  <thead>\n",
       "    <tr style=\"text-align: right;\">\n",
       "      <th></th>\n",
       "      <th>id</th>\n",
       "      <th>name</th>\n",
       "      <th>brand</th>\n",
       "      <th>volume</th>\n",
       "      <th>price</th>\n",
       "      <th>best_loyalty_price</th>\n",
       "      <th>shop</th>\n",
       "    </tr>\n",
       "  </thead>\n",
       "  <tbody>\n",
       "  </tbody>\n",
       "</table>\n",
       "</div>"
      ],
      "text/plain": [
       "Empty DataFrame\n",
       "Columns: [id, name, brand, volume, price, best_loyalty_price, shop]\n",
       "Index: []"
      ]
     },
     "execution_count": 13,
     "metadata": {},
     "output_type": "execute_result"
    }
   ],
   "source": [
    "data[data.duplicated() == True]"
   ]
  },
  {
   "cell_type": "markdown",
   "id": "a580f684",
   "metadata": {},
   "source": [
    "Далее поработаем с неявными дубликатами"
   ]
  },
  {
   "cell_type": "code",
   "execution_count": 14,
   "id": "5d9ca5b0",
   "metadata": {},
   "outputs": [
    {
     "data": {
      "text/html": [
       "<div>\n",
       "<style scoped>\n",
       "    .dataframe tbody tr th:only-of-type {\n",
       "        vertical-align: middle;\n",
       "    }\n",
       "\n",
       "    .dataframe tbody tr th {\n",
       "        vertical-align: top;\n",
       "    }\n",
       "\n",
       "    .dataframe thead th {\n",
       "        text-align: right;\n",
       "    }\n",
       "</style>\n",
       "<table border=\"1\" class=\"dataframe\">\n",
       "  <thead>\n",
       "    <tr style=\"text-align: right;\">\n",
       "      <th></th>\n",
       "      <th>id</th>\n",
       "      <th>name</th>\n",
       "      <th>brand</th>\n",
       "      <th>volume</th>\n",
       "      <th>price</th>\n",
       "      <th>best_loyalty_price</th>\n",
       "      <th>shop</th>\n",
       "    </tr>\n",
       "  </thead>\n",
       "  <tbody>\n",
       "    <tr>\n",
       "      <th>90</th>\n",
       "      <td>119868</td>\n",
       "      <td>guilty pour homme</td>\n",
       "      <td>gucci</td>\n",
       "      <td>50</td>\n",
       "      <td>4200.0</td>\n",
       "      <td>нет скидки</td>\n",
       "      <td>золотое яблоко</td>\n",
       "    </tr>\n",
       "    <tr>\n",
       "      <th>122</th>\n",
       "      <td>143704</td>\n",
       "      <td>pour homme</td>\n",
       "      <td>gucci</td>\n",
       "      <td>нет объема</td>\n",
       "      <td>7811.0</td>\n",
       "      <td>нет скидки</td>\n",
       "      <td>золотое яблоко</td>\n",
       "    </tr>\n",
       "    <tr>\n",
       "      <th>156</th>\n",
       "      <td>110963</td>\n",
       "      <td>guilty cologne</td>\n",
       "      <td>gucci</td>\n",
       "      <td>90</td>\n",
       "      <td>5971.0</td>\n",
       "      <td>нет скидки</td>\n",
       "      <td>золотое яблоко</td>\n",
       "    </tr>\n",
       "    <tr>\n",
       "      <th>179</th>\n",
       "      <td>142116</td>\n",
       "      <td>guilty pour homme</td>\n",
       "      <td>gucci</td>\n",
       "      <td>90</td>\n",
       "      <td>8470.0</td>\n",
       "      <td>нет скидки</td>\n",
       "      <td>золотое яблоко</td>\n",
       "    </tr>\n",
       "    <tr>\n",
       "      <th>234</th>\n",
       "      <td>151402</td>\n",
       "      <td>guilty pour homme black</td>\n",
       "      <td>gucci</td>\n",
       "      <td>90</td>\n",
       "      <td>6405.0</td>\n",
       "      <td>нет скидки</td>\n",
       "      <td>золотое яблоко</td>\n",
       "    </tr>\n",
       "    <tr>\n",
       "      <th>471</th>\n",
       "      <td>119276</td>\n",
       "      <td>mémoire d'une odeur</td>\n",
       "      <td>gucci</td>\n",
       "      <td>нет объема</td>\n",
       "      <td>6755.0</td>\n",
       "      <td>нет скидки</td>\n",
       "      <td>золотое яблоко</td>\n",
       "    </tr>\n",
       "    <tr>\n",
       "      <th>1147</th>\n",
       "      <td>163605</td>\n",
       "      <td>the alchemist's garden a song for the rose eau...</td>\n",
       "      <td>gucci</td>\n",
       "      <td>100</td>\n",
       "      <td>37780.0</td>\n",
       "      <td>32113</td>\n",
       "      <td>золотое яблоко</td>\n",
       "    </tr>\n",
       "    <tr>\n",
       "      <th>1148</th>\n",
       "      <td>163607</td>\n",
       "      <td>the alchemist's garden winter's spring  eau de...</td>\n",
       "      <td>gucci</td>\n",
       "      <td>100</td>\n",
       "      <td>37780.0</td>\n",
       "      <td>32113</td>\n",
       "      <td>золотое яблоко</td>\n",
       "    </tr>\n",
       "    <tr>\n",
       "      <th>1149</th>\n",
       "      <td>163609</td>\n",
       "      <td>the alchemist's garden the last day of summer ...</td>\n",
       "      <td>gucci</td>\n",
       "      <td>100</td>\n",
       "      <td>37780.0</td>\n",
       "      <td>32113</td>\n",
       "      <td>золотое яблоко</td>\n",
       "    </tr>\n",
       "    <tr>\n",
       "      <th>1150</th>\n",
       "      <td>163610</td>\n",
       "      <td>the alchemist's garden tears of iris eau de pa...</td>\n",
       "      <td>gucci</td>\n",
       "      <td>100</td>\n",
       "      <td>37780.0</td>\n",
       "      <td>32113</td>\n",
       "      <td>золотое яблоко</td>\n",
       "    </tr>\n",
       "    <tr>\n",
       "      <th>1151</th>\n",
       "      <td>163612</td>\n",
       "      <td>the alchemist's garden fading autumn acqua pro...</td>\n",
       "      <td>gucci</td>\n",
       "      <td>150</td>\n",
       "      <td>24810.0</td>\n",
       "      <td>21088</td>\n",
       "      <td>золотое яблоко</td>\n",
       "    </tr>\n",
       "    <tr>\n",
       "      <th>1152</th>\n",
       "      <td>163613</td>\n",
       "      <td>the alchemist's garden  a winter melody acqua ...</td>\n",
       "      <td>gucci</td>\n",
       "      <td>150</td>\n",
       "      <td>24810.0</td>\n",
       "      <td>21088</td>\n",
       "      <td>золотое яблоко</td>\n",
       "    </tr>\n",
       "    <tr>\n",
       "      <th>1153</th>\n",
       "      <td>163619</td>\n",
       "      <td>the alchemist's garden a chant for the nymph e...</td>\n",
       "      <td>gucci</td>\n",
       "      <td>100</td>\n",
       "      <td>37780.0</td>\n",
       "      <td>32113</td>\n",
       "      <td>золотое яблоко</td>\n",
       "    </tr>\n",
       "    <tr>\n",
       "      <th>1154</th>\n",
       "      <td>163620</td>\n",
       "      <td>the alchemist's garden a midnight stroll eau d...</td>\n",
       "      <td>gucci</td>\n",
       "      <td>100</td>\n",
       "      <td>37780.0</td>\n",
       "      <td>32113</td>\n",
       "      <td>золотое яблоко</td>\n",
       "    </tr>\n",
       "    <tr>\n",
       "      <th>1326</th>\n",
       "      <td>172049</td>\n",
       "      <td>alchemist's garden a gloaming night</td>\n",
       "      <td>gucci</td>\n",
       "      <td>100</td>\n",
       "      <td>37780.0</td>\n",
       "      <td>32113</td>\n",
       "      <td>золотое яблоко</td>\n",
       "    </tr>\n",
       "    <tr>\n",
       "      <th>2036</th>\n",
       "      <td>base_994148</td>\n",
       "      <td>gucci guilty pour homme parfum</td>\n",
       "      <td>gucci</td>\n",
       "      <td>90</td>\n",
       "      <td>10030.0</td>\n",
       "      <td>NaN</td>\n",
       "      <td>рив гош</td>\n",
       "    </tr>\n",
       "    <tr>\n",
       "      <th>2043</th>\n",
       "      <td>986948</td>\n",
       "      <td>gucci alchemist's garden tears from the moon e...</td>\n",
       "      <td>gucci</td>\n",
       "      <td>100</td>\n",
       "      <td>38210.0</td>\n",
       "      <td>NaN</td>\n",
       "      <td>рив гош</td>\n",
       "    </tr>\n",
       "  </tbody>\n",
       "</table>\n",
       "</div>"
      ],
      "text/plain": [
       "               id                                               name  brand  \\\n",
       "90         119868                                  guilty pour homme  gucci   \n",
       "122        143704                                         pour homme  gucci   \n",
       "156        110963                                     guilty cologne  gucci   \n",
       "179        142116                                  guilty pour homme  gucci   \n",
       "234        151402                            guilty pour homme black  gucci   \n",
       "471        119276                               mémoire d'une odeur   gucci   \n",
       "1147       163605  the alchemist's garden a song for the rose eau...  gucci   \n",
       "1148       163607  the alchemist's garden winter's spring  eau de...  gucci   \n",
       "1149       163609  the alchemist's garden the last day of summer ...  gucci   \n",
       "1150       163610  the alchemist's garden tears of iris eau de pa...  gucci   \n",
       "1151       163612  the alchemist's garden fading autumn acqua pro...  gucci   \n",
       "1152       163613  the alchemist's garden  a winter melody acqua ...  gucci   \n",
       "1153       163619  the alchemist's garden a chant for the nymph e...  gucci   \n",
       "1154       163620  the alchemist's garden a midnight stroll eau d...  gucci   \n",
       "1326       172049                alchemist's garden a gloaming night  gucci   \n",
       "2036  base_994148                     gucci guilty pour homme parfum  gucci   \n",
       "2043       986948  gucci alchemist's garden tears from the moon e...  gucci   \n",
       "\n",
       "          volume    price best_loyalty_price            shop  \n",
       "90            50   4200.0         нет скидки  золотое яблоко  \n",
       "122   нет объема   7811.0         нет скидки  золотое яблоко  \n",
       "156           90   5971.0         нет скидки  золотое яблоко  \n",
       "179           90   8470.0         нет скидки  золотое яблоко  \n",
       "234           90   6405.0         нет скидки  золотое яблоко  \n",
       "471   нет объема   6755.0         нет скидки  золотое яблоко  \n",
       "1147         100  37780.0              32113  золотое яблоко  \n",
       "1148         100  37780.0              32113  золотое яблоко  \n",
       "1149         100  37780.0              32113  золотое яблоко  \n",
       "1150         100  37780.0              32113  золотое яблоко  \n",
       "1151         150  24810.0              21088  золотое яблоко  \n",
       "1152         150  24810.0              21088  золотое яблоко  \n",
       "1153         100  37780.0              32113  золотое яблоко  \n",
       "1154         100  37780.0              32113  золотое яблоко  \n",
       "1326         100  37780.0              32113  золотое яблоко  \n",
       "2036          90  10030.0                NaN         рив гош  \n",
       "2043         100  38210.0                NaN         рив гош  "
      ]
     },
     "execution_count": 14,
     "metadata": {},
     "output_type": "execute_result"
    }
   ],
   "source": [
    "data.query('brand==\"gucci\"').head(30)"
   ]
  },
  {
   "cell_type": "code",
   "execution_count": 15,
   "id": "09ee7ee9",
   "metadata": {},
   "outputs": [
    {
     "name": "stdout",
     "output_type": "stream",
     "text": [
      "15\n",
      "8\n",
      "16\n"
     ]
    }
   ],
   "source": [
    "levenshtein = Levenshtein()\n",
    "print(levenshtein.distance('Gucci Guilty Pour Homme', 'Gucci Guilty Pour Homme Eau de Parfume'))\n",
    "print(levenshtein.distance('Gucci Guilty Pour Homme Eau de Parfume', 'Gucci Guilty Pour Hommе Eau de Toilette'))\n",
    "print(levenshtein.distance('Gucci Guilty Pour Homme', 'Gucci Guilty Pour Hommе Eau de Toilette'))"
   ]
  },
  {
   "cell_type": "code",
   "execution_count": 24,
   "id": "e360f1b3",
   "metadata": {},
   "outputs": [
    {
     "data": {
      "text/html": [
       "<div>\n",
       "<style scoped>\n",
       "    .dataframe tbody tr th:only-of-type {\n",
       "        vertical-align: middle;\n",
       "    }\n",
       "\n",
       "    .dataframe tbody tr th {\n",
       "        vertical-align: top;\n",
       "    }\n",
       "\n",
       "    .dataframe thead th {\n",
       "        text-align: right;\n",
       "    }\n",
       "</style>\n",
       "<table border=\"1\" class=\"dataframe\">\n",
       "  <thead>\n",
       "    <tr style=\"text-align: right;\">\n",
       "      <th></th>\n",
       "      <th>id</th>\n",
       "      <th>name</th>\n",
       "      <th>brand</th>\n",
       "      <th>volume</th>\n",
       "      <th>price</th>\n",
       "      <th>best_loyalty_price</th>\n",
       "      <th>shop</th>\n",
       "    </tr>\n",
       "  </thead>\n",
       "  <tbody>\n",
       "    <tr>\n",
       "      <th>90</th>\n",
       "      <td>119868</td>\n",
       "      <td>guilty pour homme</td>\n",
       "      <td>gucci</td>\n",
       "      <td>50</td>\n",
       "      <td>4200.0</td>\n",
       "      <td>нет скидки</td>\n",
       "      <td>золотое яблоко</td>\n",
       "    </tr>\n",
       "    <tr>\n",
       "      <th>122</th>\n",
       "      <td>143704</td>\n",
       "      <td>pour homme</td>\n",
       "      <td>gucci</td>\n",
       "      <td>нет объема</td>\n",
       "      <td>7811.0</td>\n",
       "      <td>нет скидки</td>\n",
       "      <td>золотое яблоко</td>\n",
       "    </tr>\n",
       "    <tr>\n",
       "      <th>156</th>\n",
       "      <td>110963</td>\n",
       "      <td>guilty cologne</td>\n",
       "      <td>gucci</td>\n",
       "      <td>90</td>\n",
       "      <td>5971.0</td>\n",
       "      <td>нет скидки</td>\n",
       "      <td>золотое яблоко</td>\n",
       "    </tr>\n",
       "    <tr>\n",
       "      <th>179</th>\n",
       "      <td>142116</td>\n",
       "      <td>guilty pour homme</td>\n",
       "      <td>gucci</td>\n",
       "      <td>90</td>\n",
       "      <td>8470.0</td>\n",
       "      <td>нет скидки</td>\n",
       "      <td>золотое яблоко</td>\n",
       "    </tr>\n",
       "    <tr>\n",
       "      <th>234</th>\n",
       "      <td>151402</td>\n",
       "      <td>guilty pour homme black</td>\n",
       "      <td>gucci</td>\n",
       "      <td>90</td>\n",
       "      <td>6405.0</td>\n",
       "      <td>нет скидки</td>\n",
       "      <td>золотое яблоко</td>\n",
       "    </tr>\n",
       "    <tr>\n",
       "      <th>471</th>\n",
       "      <td>119276</td>\n",
       "      <td>mémoire d'une odeur</td>\n",
       "      <td>gucci</td>\n",
       "      <td>нет объема</td>\n",
       "      <td>6755.0</td>\n",
       "      <td>нет скидки</td>\n",
       "      <td>золотое яблоко</td>\n",
       "    </tr>\n",
       "    <tr>\n",
       "      <th>1147</th>\n",
       "      <td>163605</td>\n",
       "      <td>the alchemist's garden a song for the rose eau...</td>\n",
       "      <td>gucci</td>\n",
       "      <td>100</td>\n",
       "      <td>37780.0</td>\n",
       "      <td>32113</td>\n",
       "      <td>золотое яблоко</td>\n",
       "    </tr>\n",
       "    <tr>\n",
       "      <th>1148</th>\n",
       "      <td>163607</td>\n",
       "      <td>the alchemist's garden winter's spring  eau de...</td>\n",
       "      <td>gucci</td>\n",
       "      <td>100</td>\n",
       "      <td>37780.0</td>\n",
       "      <td>32113</td>\n",
       "      <td>золотое яблоко</td>\n",
       "    </tr>\n",
       "    <tr>\n",
       "      <th>1149</th>\n",
       "      <td>163609</td>\n",
       "      <td>the alchemist's garden the last day of summer ...</td>\n",
       "      <td>gucci</td>\n",
       "      <td>100</td>\n",
       "      <td>37780.0</td>\n",
       "      <td>32113</td>\n",
       "      <td>золотое яблоко</td>\n",
       "    </tr>\n",
       "    <tr>\n",
       "      <th>1150</th>\n",
       "      <td>163610</td>\n",
       "      <td>the alchemist's garden tears of iris eau de pa...</td>\n",
       "      <td>gucci</td>\n",
       "      <td>100</td>\n",
       "      <td>37780.0</td>\n",
       "      <td>32113</td>\n",
       "      <td>золотое яблоко</td>\n",
       "    </tr>\n",
       "    <tr>\n",
       "      <th>1151</th>\n",
       "      <td>163612</td>\n",
       "      <td>the alchemist's garden fading autumn acqua pro...</td>\n",
       "      <td>gucci</td>\n",
       "      <td>150</td>\n",
       "      <td>24810.0</td>\n",
       "      <td>21088</td>\n",
       "      <td>золотое яблоко</td>\n",
       "    </tr>\n",
       "    <tr>\n",
       "      <th>1152</th>\n",
       "      <td>163613</td>\n",
       "      <td>the alchemist's garden  a winter melody acqua ...</td>\n",
       "      <td>gucci</td>\n",
       "      <td>150</td>\n",
       "      <td>24810.0</td>\n",
       "      <td>21088</td>\n",
       "      <td>золотое яблоко</td>\n",
       "    </tr>\n",
       "    <tr>\n",
       "      <th>1153</th>\n",
       "      <td>163619</td>\n",
       "      <td>the alchemist's garden a chant for the nymph e...</td>\n",
       "      <td>gucci</td>\n",
       "      <td>100</td>\n",
       "      <td>37780.0</td>\n",
       "      <td>32113</td>\n",
       "      <td>золотое яблоко</td>\n",
       "    </tr>\n",
       "    <tr>\n",
       "      <th>1154</th>\n",
       "      <td>163620</td>\n",
       "      <td>the alchemist's garden a midnight stroll eau d...</td>\n",
       "      <td>gucci</td>\n",
       "      <td>100</td>\n",
       "      <td>37780.0</td>\n",
       "      <td>32113</td>\n",
       "      <td>золотое яблоко</td>\n",
       "    </tr>\n",
       "    <tr>\n",
       "      <th>1326</th>\n",
       "      <td>172049</td>\n",
       "      <td>alchemist's garden a gloaming night</td>\n",
       "      <td>gucci</td>\n",
       "      <td>100</td>\n",
       "      <td>37780.0</td>\n",
       "      <td>32113</td>\n",
       "      <td>золотое яблоко</td>\n",
       "    </tr>\n",
       "    <tr>\n",
       "      <th>2036</th>\n",
       "      <td>base_994148</td>\n",
       "      <td>gucci guilty pour homme parfum</td>\n",
       "      <td>gucci</td>\n",
       "      <td>90</td>\n",
       "      <td>10030.0</td>\n",
       "      <td>NaN</td>\n",
       "      <td>рив гош</td>\n",
       "    </tr>\n",
       "    <tr>\n",
       "      <th>2043</th>\n",
       "      <td>986948</td>\n",
       "      <td>gucci alchemist's garden tears from the moon e...</td>\n",
       "      <td>gucci</td>\n",
       "      <td>100</td>\n",
       "      <td>38210.0</td>\n",
       "      <td>NaN</td>\n",
       "      <td>рив гош</td>\n",
       "    </tr>\n",
       "  </tbody>\n",
       "</table>\n",
       "</div>"
      ],
      "text/plain": [
       "               id                                               name  brand  \\\n",
       "90         119868                                  guilty pour homme  gucci   \n",
       "122        143704                                         pour homme  gucci   \n",
       "156        110963                                     guilty cologne  gucci   \n",
       "179        142116                                  guilty pour homme  gucci   \n",
       "234        151402                            guilty pour homme black  gucci   \n",
       "471        119276                               mémoire d'une odeur   gucci   \n",
       "1147       163605  the alchemist's garden a song for the rose eau...  gucci   \n",
       "1148       163607  the alchemist's garden winter's spring  eau de...  gucci   \n",
       "1149       163609  the alchemist's garden the last day of summer ...  gucci   \n",
       "1150       163610  the alchemist's garden tears of iris eau de pa...  gucci   \n",
       "1151       163612  the alchemist's garden fading autumn acqua pro...  gucci   \n",
       "1152       163613  the alchemist's garden  a winter melody acqua ...  gucci   \n",
       "1153       163619  the alchemist's garden a chant for the nymph e...  gucci   \n",
       "1154       163620  the alchemist's garden a midnight stroll eau d...  gucci   \n",
       "1326       172049                alchemist's garden a gloaming night  gucci   \n",
       "2036  base_994148                     gucci guilty pour homme parfum  gucci   \n",
       "2043       986948  gucci alchemist's garden tears from the moon e...  gucci   \n",
       "\n",
       "          volume    price best_loyalty_price            shop  \n",
       "90            50   4200.0         нет скидки  золотое яблоко  \n",
       "122   нет объема   7811.0         нет скидки  золотое яблоко  \n",
       "156           90   5971.0         нет скидки  золотое яблоко  \n",
       "179           90   8470.0         нет скидки  золотое яблоко  \n",
       "234           90   6405.0         нет скидки  золотое яблоко  \n",
       "471   нет объема   6755.0         нет скидки  золотое яблоко  \n",
       "1147         100  37780.0              32113  золотое яблоко  \n",
       "1148         100  37780.0              32113  золотое яблоко  \n",
       "1149         100  37780.0              32113  золотое яблоко  \n",
       "1150         100  37780.0              32113  золотое яблоко  \n",
       "1151         150  24810.0              21088  золотое яблоко  \n",
       "1152         150  24810.0              21088  золотое яблоко  \n",
       "1153         100  37780.0              32113  золотое яблоко  \n",
       "1154         100  37780.0              32113  золотое яблоко  \n",
       "1326         100  37780.0              32113  золотое яблоко  \n",
       "2036          90  10030.0                NaN         рив гош  \n",
       "2043         100  38210.0                NaN         рив гош  "
      ]
     },
     "execution_count": 24,
     "metadata": {},
     "output_type": "execute_result"
    }
   ],
   "source": [
    "data_test = data.query('brand==\"gucci\"').head(30)\n",
    "data_test"
   ]
  },
  {
   "cell_type": "code",
   "execution_count": 65,
   "id": "e407bcb0",
   "metadata": {},
   "outputs": [
    {
     "ename": "AttributeError",
     "evalue": "'Series' object has no attribute 'query'",
     "output_type": "error",
     "traceback": [
      "\u001b[1;31m---------------------------------------------------------------------------\u001b[0m",
      "\u001b[1;31mAttributeError\u001b[0m                            Traceback (most recent call last)",
      "\u001b[1;32mC:\\Users\\A01C0~1.VEC\\AppData\\Local\\Temp/ipykernel_101728/2948542282.py\u001b[0m in \u001b[0;36m<module>\u001b[1;34m\u001b[0m\n\u001b[0;32m      6\u001b[0m         \u001b[1;32mreturn\u001b[0m \u001b[0mtext_1\u001b[0m\u001b[1;33m\u001b[0m\u001b[1;33m\u001b[0m\u001b[0m\n\u001b[0;32m      7\u001b[0m \u001b[1;33m\u001b[0m\u001b[0m\n\u001b[1;32m----> 8\u001b[1;33m \u001b[0mdata_test\u001b[0m\u001b[1;33m.\u001b[0m\u001b[0mapply\u001b[0m\u001b[1;33m(\u001b[0m\u001b[0msrav\u001b[0m\u001b[1;33m)\u001b[0m\u001b[1;33m\u001b[0m\u001b[1;33m\u001b[0m\u001b[0m\n\u001b[0m",
      "\u001b[1;32m~\\Anaconda3\\lib\\site-packages\\pandas\\core\\frame.py\u001b[0m in \u001b[0;36mapply\u001b[1;34m(self, func, axis, raw, result_type, args, **kwargs)\u001b[0m\n\u001b[0;32m   8738\u001b[0m             \u001b[0mkwargs\u001b[0m\u001b[1;33m=\u001b[0m\u001b[0mkwargs\u001b[0m\u001b[1;33m,\u001b[0m\u001b[1;33m\u001b[0m\u001b[1;33m\u001b[0m\u001b[0m\n\u001b[0;32m   8739\u001b[0m         )\n\u001b[1;32m-> 8740\u001b[1;33m         \u001b[1;32mreturn\u001b[0m \u001b[0mop\u001b[0m\u001b[1;33m.\u001b[0m\u001b[0mapply\u001b[0m\u001b[1;33m(\u001b[0m\u001b[1;33m)\u001b[0m\u001b[1;33m\u001b[0m\u001b[1;33m\u001b[0m\u001b[0m\n\u001b[0m\u001b[0;32m   8741\u001b[0m \u001b[1;33m\u001b[0m\u001b[0m\n\u001b[0;32m   8742\u001b[0m     def applymap(\n",
      "\u001b[1;32m~\\Anaconda3\\lib\\site-packages\\pandas\\core\\apply.py\u001b[0m in \u001b[0;36mapply\u001b[1;34m(self)\u001b[0m\n\u001b[0;32m    686\u001b[0m             \u001b[1;32mreturn\u001b[0m \u001b[0mself\u001b[0m\u001b[1;33m.\u001b[0m\u001b[0mapply_raw\u001b[0m\u001b[1;33m(\u001b[0m\u001b[1;33m)\u001b[0m\u001b[1;33m\u001b[0m\u001b[1;33m\u001b[0m\u001b[0m\n\u001b[0;32m    687\u001b[0m \u001b[1;33m\u001b[0m\u001b[0m\n\u001b[1;32m--> 688\u001b[1;33m         \u001b[1;32mreturn\u001b[0m \u001b[0mself\u001b[0m\u001b[1;33m.\u001b[0m\u001b[0mapply_standard\u001b[0m\u001b[1;33m(\u001b[0m\u001b[1;33m)\u001b[0m\u001b[1;33m\u001b[0m\u001b[1;33m\u001b[0m\u001b[0m\n\u001b[0m\u001b[0;32m    689\u001b[0m \u001b[1;33m\u001b[0m\u001b[0m\n\u001b[0;32m    690\u001b[0m     \u001b[1;32mdef\u001b[0m \u001b[0magg\u001b[0m\u001b[1;33m(\u001b[0m\u001b[0mself\u001b[0m\u001b[1;33m)\u001b[0m\u001b[1;33m:\u001b[0m\u001b[1;33m\u001b[0m\u001b[1;33m\u001b[0m\u001b[0m\n",
      "\u001b[1;32m~\\Anaconda3\\lib\\site-packages\\pandas\\core\\apply.py\u001b[0m in \u001b[0;36mapply_standard\u001b[1;34m(self)\u001b[0m\n\u001b[0;32m    810\u001b[0m \u001b[1;33m\u001b[0m\u001b[0m\n\u001b[0;32m    811\u001b[0m     \u001b[1;32mdef\u001b[0m \u001b[0mapply_standard\u001b[0m\u001b[1;33m(\u001b[0m\u001b[0mself\u001b[0m\u001b[1;33m)\u001b[0m\u001b[1;33m:\u001b[0m\u001b[1;33m\u001b[0m\u001b[1;33m\u001b[0m\u001b[0m\n\u001b[1;32m--> 812\u001b[1;33m         \u001b[0mresults\u001b[0m\u001b[1;33m,\u001b[0m \u001b[0mres_index\u001b[0m \u001b[1;33m=\u001b[0m \u001b[0mself\u001b[0m\u001b[1;33m.\u001b[0m\u001b[0mapply_series_generator\u001b[0m\u001b[1;33m(\u001b[0m\u001b[1;33m)\u001b[0m\u001b[1;33m\u001b[0m\u001b[1;33m\u001b[0m\u001b[0m\n\u001b[0m\u001b[0;32m    813\u001b[0m \u001b[1;33m\u001b[0m\u001b[0m\n\u001b[0;32m    814\u001b[0m         \u001b[1;31m# wrap results\u001b[0m\u001b[1;33m\u001b[0m\u001b[1;33m\u001b[0m\u001b[0m\n",
      "\u001b[1;32m~\\Anaconda3\\lib\\site-packages\\pandas\\core\\apply.py\u001b[0m in \u001b[0;36mapply_series_generator\u001b[1;34m(self)\u001b[0m\n\u001b[0;32m    826\u001b[0m             \u001b[1;32mfor\u001b[0m \u001b[0mi\u001b[0m\u001b[1;33m,\u001b[0m \u001b[0mv\u001b[0m \u001b[1;32min\u001b[0m \u001b[0menumerate\u001b[0m\u001b[1;33m(\u001b[0m\u001b[0mseries_gen\u001b[0m\u001b[1;33m)\u001b[0m\u001b[1;33m:\u001b[0m\u001b[1;33m\u001b[0m\u001b[1;33m\u001b[0m\u001b[0m\n\u001b[0;32m    827\u001b[0m                 \u001b[1;31m# ignore SettingWithCopy here in case the user mutates\u001b[0m\u001b[1;33m\u001b[0m\u001b[1;33m\u001b[0m\u001b[0m\n\u001b[1;32m--> 828\u001b[1;33m                 \u001b[0mresults\u001b[0m\u001b[1;33m[\u001b[0m\u001b[0mi\u001b[0m\u001b[1;33m]\u001b[0m \u001b[1;33m=\u001b[0m \u001b[0mself\u001b[0m\u001b[1;33m.\u001b[0m\u001b[0mf\u001b[0m\u001b[1;33m(\u001b[0m\u001b[0mv\u001b[0m\u001b[1;33m)\u001b[0m\u001b[1;33m\u001b[0m\u001b[1;33m\u001b[0m\u001b[0m\n\u001b[0m\u001b[0;32m    829\u001b[0m                 \u001b[1;32mif\u001b[0m \u001b[0misinstance\u001b[0m\u001b[1;33m(\u001b[0m\u001b[0mresults\u001b[0m\u001b[1;33m[\u001b[0m\u001b[0mi\u001b[0m\u001b[1;33m]\u001b[0m\u001b[1;33m,\u001b[0m \u001b[0mABCSeries\u001b[0m\u001b[1;33m)\u001b[0m\u001b[1;33m:\u001b[0m\u001b[1;33m\u001b[0m\u001b[1;33m\u001b[0m\u001b[0m\n\u001b[0;32m    830\u001b[0m                     \u001b[1;31m# If we have a view on v, we need to make a copy because\u001b[0m\u001b[1;33m\u001b[0m\u001b[1;33m\u001b[0m\u001b[0m\n",
      "\u001b[1;32mC:\\Users\\A01C0~1.VEC\\AppData\\Local\\Temp/ipykernel_101728/2948542282.py\u001b[0m in \u001b[0;36msrav\u001b[1;34m(row)\u001b[0m\n\u001b[0;32m      1\u001b[0m \u001b[1;32mdef\u001b[0m \u001b[0msrav\u001b[0m\u001b[1;33m(\u001b[0m\u001b[0mrow\u001b[0m\u001b[1;33m)\u001b[0m\u001b[1;33m:\u001b[0m\u001b[1;33m\u001b[0m\u001b[1;33m\u001b[0m\u001b[0m\n\u001b[1;32m----> 2\u001b[1;33m     \u001b[0mtext_1\u001b[0m \u001b[1;33m=\u001b[0m \u001b[0mrow\u001b[0m\u001b[1;33m.\u001b[0m\u001b[0mquery\u001b[0m\u001b[1;33m(\u001b[0m\u001b[1;34m'shop==\"золотое яблоко\"'\u001b[0m\u001b[1;33m)\u001b[0m\u001b[1;33m[\u001b[0m\u001b[1;34m'name'\u001b[0m\u001b[1;33m]\u001b[0m\u001b[1;33m\u001b[0m\u001b[1;33m\u001b[0m\u001b[0m\n\u001b[0m\u001b[0;32m      3\u001b[0m     \u001b[0mtext_2\u001b[0m \u001b[1;33m=\u001b[0m \u001b[0mrow\u001b[0m\u001b[1;33m.\u001b[0m\u001b[0mquery\u001b[0m\u001b[1;33m(\u001b[0m\u001b[1;34m'shop==\"рив гош\"'\u001b[0m\u001b[1;33m)\u001b[0m\u001b[1;33m[\u001b[0m\u001b[1;34m'name'\u001b[0m\u001b[1;33m]\u001b[0m\u001b[1;33m\u001b[0m\u001b[1;33m\u001b[0m\u001b[0m\n\u001b[0;32m      4\u001b[0m \u001b[1;33m\u001b[0m\u001b[0m\n\u001b[0;32m      5\u001b[0m     \u001b[1;32mif\u001b[0m \u001b[0mlevenshtein\u001b[0m\u001b[1;33m.\u001b[0m\u001b[0mdistance\u001b[0m\u001b[1;33m(\u001b[0m\u001b[0mtext_1\u001b[0m\u001b[1;33m,\u001b[0m \u001b[0mtext_2\u001b[0m\u001b[1;33m)\u001b[0m \u001b[1;33m<\u001b[0m \u001b[1;36m15\u001b[0m\u001b[1;33m:\u001b[0m\u001b[1;33m\u001b[0m\u001b[1;33m\u001b[0m\u001b[0m\n",
      "\u001b[1;32m~\\Anaconda3\\lib\\site-packages\\pandas\\core\\generic.py\u001b[0m in \u001b[0;36m__getattr__\u001b[1;34m(self, name)\u001b[0m\n\u001b[0;32m   5485\u001b[0m         ):\n\u001b[0;32m   5486\u001b[0m             \u001b[1;32mreturn\u001b[0m \u001b[0mself\u001b[0m\u001b[1;33m[\u001b[0m\u001b[0mname\u001b[0m\u001b[1;33m]\u001b[0m\u001b[1;33m\u001b[0m\u001b[1;33m\u001b[0m\u001b[0m\n\u001b[1;32m-> 5487\u001b[1;33m         \u001b[1;32mreturn\u001b[0m \u001b[0mobject\u001b[0m\u001b[1;33m.\u001b[0m\u001b[0m__getattribute__\u001b[0m\u001b[1;33m(\u001b[0m\u001b[0mself\u001b[0m\u001b[1;33m,\u001b[0m \u001b[0mname\u001b[0m\u001b[1;33m)\u001b[0m\u001b[1;33m\u001b[0m\u001b[1;33m\u001b[0m\u001b[0m\n\u001b[0m\u001b[0;32m   5488\u001b[0m \u001b[1;33m\u001b[0m\u001b[0m\n\u001b[0;32m   5489\u001b[0m     \u001b[1;32mdef\u001b[0m \u001b[0m__setattr__\u001b[0m\u001b[1;33m(\u001b[0m\u001b[0mself\u001b[0m\u001b[1;33m,\u001b[0m \u001b[0mname\u001b[0m\u001b[1;33m:\u001b[0m \u001b[0mstr\u001b[0m\u001b[1;33m,\u001b[0m \u001b[0mvalue\u001b[0m\u001b[1;33m)\u001b[0m \u001b[1;33m->\u001b[0m \u001b[1;32mNone\u001b[0m\u001b[1;33m:\u001b[0m\u001b[1;33m\u001b[0m\u001b[1;33m\u001b[0m\u001b[0m\n",
      "\u001b[1;31mAttributeError\u001b[0m: 'Series' object has no attribute 'query'"
     ]
    }
   ],
   "source": [
    "def srav(row):\n",
    "    text_1 = row.query('shop==\"золотое яблоко\"')['name']\n",
    "    text_2 = row.query('shop==\"рив гош\"')['name']\n",
    "    \n",
    "    if levenshtein.distance(text_1, text_2) < 15:\n",
    "        return text_1\n",
    "\n",
    "data_test.apply(srav)"
   ]
  },
  {
   "cell_type": "code",
   "execution_count": 56,
   "id": "fc27e835",
   "metadata": {},
   "outputs": [
    {
     "name": "stdout",
     "output_type": "stream",
     "text": [
      "guilty pour homme\n",
      "pour homme\n",
      "guilty cologne\n",
      "guilty pour homme\n",
      "guilty pour homme black\n",
      "mémoire d'une odeur \n",
      "the alchemist's garden a song for the rose eau de parfum\n",
      "the alchemist's garden winter's spring  eau de parfum\n",
      "the alchemist's garden the last day of summer eau de parfum\n",
      "the alchemist's garden tears of iris eau de parfum\n",
      "the alchemist's garden fading autumn acqua profumata\n",
      "the alchemist's garden  a winter melody acqua profumata\n",
      "the alchemist's garden a chant for the nymph eau de parfum\n",
      "the alchemist's garden a midnight stroll eau de parfum\n",
      "alchemist's garden a gloaming night\n"
     ]
    },
    {
     "ename": "IndexError",
     "evalue": "single positional indexer is out-of-bounds",
     "output_type": "error",
     "traceback": [
      "\u001b[1;31m---------------------------------------------------------------------------\u001b[0m",
      "\u001b[1;31mIndexError\u001b[0m                                Traceback (most recent call last)",
      "\u001b[1;32mC:\\Users\\A01C0~1.VEC\\AppData\\Local\\Temp/ipykernel_101728/658660227.py\u001b[0m in \u001b[0;36m<module>\u001b[1;34m\u001b[0m\n\u001b[0;32m      1\u001b[0m \u001b[1;32mfor\u001b[0m \u001b[0mi\u001b[0m \u001b[1;32min\u001b[0m \u001b[0mrange\u001b[0m\u001b[1;33m(\u001b[0m\u001b[0mlen\u001b[0m\u001b[1;33m(\u001b[0m\u001b[0mdata_test\u001b[0m\u001b[1;33m.\u001b[0m\u001b[0mindex\u001b[0m\u001b[1;33m)\u001b[0m\u001b[1;33m)\u001b[0m\u001b[1;33m:\u001b[0m\u001b[1;33m\u001b[0m\u001b[1;33m\u001b[0m\u001b[0m\n\u001b[1;32m----> 2\u001b[1;33m     \u001b[0mprint\u001b[0m\u001b[1;33m(\u001b[0m\u001b[0mdata_test\u001b[0m\u001b[1;33m.\u001b[0m\u001b[0mquery\u001b[0m\u001b[1;33m(\u001b[0m\u001b[1;34m'shop==\"золотое яблоко\"'\u001b[0m\u001b[1;33m)\u001b[0m\u001b[1;33m.\u001b[0m\u001b[0miloc\u001b[0m\u001b[1;33m[\u001b[0m\u001b[0mi\u001b[0m\u001b[1;33m]\u001b[0m\u001b[1;33m[\u001b[0m\u001b[1;34m'name'\u001b[0m\u001b[1;33m]\u001b[0m\u001b[1;33m)\u001b[0m\u001b[1;33m\u001b[0m\u001b[1;33m\u001b[0m\u001b[0m\n\u001b[0m\u001b[0;32m      3\u001b[0m \u001b[1;33m\u001b[0m\u001b[0m\n\u001b[0;32m      4\u001b[0m \u001b[1;33m\u001b[0m\u001b[0m\n\u001b[0;32m      5\u001b[0m \u001b[1;33m\u001b[0m\u001b[0m\n",
      "\u001b[1;32m~\\Anaconda3\\lib\\site-packages\\pandas\\core\\indexing.py\u001b[0m in \u001b[0;36m__getitem__\u001b[1;34m(self, key)\u001b[0m\n\u001b[0;32m    929\u001b[0m \u001b[1;33m\u001b[0m\u001b[0m\n\u001b[0;32m    930\u001b[0m             \u001b[0mmaybe_callable\u001b[0m \u001b[1;33m=\u001b[0m \u001b[0mcom\u001b[0m\u001b[1;33m.\u001b[0m\u001b[0mapply_if_callable\u001b[0m\u001b[1;33m(\u001b[0m\u001b[0mkey\u001b[0m\u001b[1;33m,\u001b[0m \u001b[0mself\u001b[0m\u001b[1;33m.\u001b[0m\u001b[0mobj\u001b[0m\u001b[1;33m)\u001b[0m\u001b[1;33m\u001b[0m\u001b[1;33m\u001b[0m\u001b[0m\n\u001b[1;32m--> 931\u001b[1;33m             \u001b[1;32mreturn\u001b[0m \u001b[0mself\u001b[0m\u001b[1;33m.\u001b[0m\u001b[0m_getitem_axis\u001b[0m\u001b[1;33m(\u001b[0m\u001b[0mmaybe_callable\u001b[0m\u001b[1;33m,\u001b[0m \u001b[0maxis\u001b[0m\u001b[1;33m=\u001b[0m\u001b[0maxis\u001b[0m\u001b[1;33m)\u001b[0m\u001b[1;33m\u001b[0m\u001b[1;33m\u001b[0m\u001b[0m\n\u001b[0m\u001b[0;32m    932\u001b[0m \u001b[1;33m\u001b[0m\u001b[0m\n\u001b[0;32m    933\u001b[0m     \u001b[1;32mdef\u001b[0m \u001b[0m_is_scalar_access\u001b[0m\u001b[1;33m(\u001b[0m\u001b[0mself\u001b[0m\u001b[1;33m,\u001b[0m \u001b[0mkey\u001b[0m\u001b[1;33m:\u001b[0m \u001b[0mtuple\u001b[0m\u001b[1;33m)\u001b[0m\u001b[1;33m:\u001b[0m\u001b[1;33m\u001b[0m\u001b[1;33m\u001b[0m\u001b[0m\n",
      "\u001b[1;32m~\\Anaconda3\\lib\\site-packages\\pandas\\core\\indexing.py\u001b[0m in \u001b[0;36m_getitem_axis\u001b[1;34m(self, key, axis)\u001b[0m\n\u001b[0;32m   1564\u001b[0m \u001b[1;33m\u001b[0m\u001b[0m\n\u001b[0;32m   1565\u001b[0m             \u001b[1;31m# validate the location\u001b[0m\u001b[1;33m\u001b[0m\u001b[1;33m\u001b[0m\u001b[0m\n\u001b[1;32m-> 1566\u001b[1;33m             \u001b[0mself\u001b[0m\u001b[1;33m.\u001b[0m\u001b[0m_validate_integer\u001b[0m\u001b[1;33m(\u001b[0m\u001b[0mkey\u001b[0m\u001b[1;33m,\u001b[0m \u001b[0maxis\u001b[0m\u001b[1;33m)\u001b[0m\u001b[1;33m\u001b[0m\u001b[1;33m\u001b[0m\u001b[0m\n\u001b[0m\u001b[0;32m   1567\u001b[0m \u001b[1;33m\u001b[0m\u001b[0m\n\u001b[0;32m   1568\u001b[0m             \u001b[1;32mreturn\u001b[0m \u001b[0mself\u001b[0m\u001b[1;33m.\u001b[0m\u001b[0mobj\u001b[0m\u001b[1;33m.\u001b[0m\u001b[0m_ixs\u001b[0m\u001b[1;33m(\u001b[0m\u001b[0mkey\u001b[0m\u001b[1;33m,\u001b[0m \u001b[0maxis\u001b[0m\u001b[1;33m=\u001b[0m\u001b[0maxis\u001b[0m\u001b[1;33m)\u001b[0m\u001b[1;33m\u001b[0m\u001b[1;33m\u001b[0m\u001b[0m\n",
      "\u001b[1;32m~\\Anaconda3\\lib\\site-packages\\pandas\\core\\indexing.py\u001b[0m in \u001b[0;36m_validate_integer\u001b[1;34m(self, key, axis)\u001b[0m\n\u001b[0;32m   1498\u001b[0m         \u001b[0mlen_axis\u001b[0m \u001b[1;33m=\u001b[0m \u001b[0mlen\u001b[0m\u001b[1;33m(\u001b[0m\u001b[0mself\u001b[0m\u001b[1;33m.\u001b[0m\u001b[0mobj\u001b[0m\u001b[1;33m.\u001b[0m\u001b[0m_get_axis\u001b[0m\u001b[1;33m(\u001b[0m\u001b[0maxis\u001b[0m\u001b[1;33m)\u001b[0m\u001b[1;33m)\u001b[0m\u001b[1;33m\u001b[0m\u001b[1;33m\u001b[0m\u001b[0m\n\u001b[0;32m   1499\u001b[0m         \u001b[1;32mif\u001b[0m \u001b[0mkey\u001b[0m \u001b[1;33m>=\u001b[0m \u001b[0mlen_axis\u001b[0m \u001b[1;32mor\u001b[0m \u001b[0mkey\u001b[0m \u001b[1;33m<\u001b[0m \u001b[1;33m-\u001b[0m\u001b[0mlen_axis\u001b[0m\u001b[1;33m:\u001b[0m\u001b[1;33m\u001b[0m\u001b[1;33m\u001b[0m\u001b[0m\n\u001b[1;32m-> 1500\u001b[1;33m             \u001b[1;32mraise\u001b[0m \u001b[0mIndexError\u001b[0m\u001b[1;33m(\u001b[0m\u001b[1;34m\"single positional indexer is out-of-bounds\"\u001b[0m\u001b[1;33m)\u001b[0m\u001b[1;33m\u001b[0m\u001b[1;33m\u001b[0m\u001b[0m\n\u001b[0m\u001b[0;32m   1501\u001b[0m \u001b[1;33m\u001b[0m\u001b[0m\n\u001b[0;32m   1502\u001b[0m     \u001b[1;31m# -------------------------------------------------------------------\u001b[0m\u001b[1;33m\u001b[0m\u001b[1;33m\u001b[0m\u001b[0m\n",
      "\u001b[1;31mIndexError\u001b[0m: single positional indexer is out-of-bounds"
     ]
    }
   ],
   "source": [
    "for i in range(len(data_test.index)):\n",
    "    print(data_test.query('shop==\"золотое яблоко\"').iloc[i]['name'])\n",
    "    \n",
    "    \n",
    "    \n",
    "    "
   ]
  },
  {
   "cell_type": "code",
   "execution_count": null,
   "id": "2b5dcc8f",
   "metadata": {},
   "outputs": [],
   "source": []
  },
  {
   "cell_type": "code",
   "execution_count": null,
   "id": "27b463fe",
   "metadata": {},
   "outputs": [],
   "source": []
  },
  {
   "cell_type": "markdown",
   "id": "de785419",
   "metadata": {},
   "source": [
    "# EDA"
   ]
  },
  {
   "cell_type": "markdown",
   "id": "b1b3875c",
   "metadata": {},
   "source": [
    "Самые дорогие бренды "
   ]
  },
  {
   "cell_type": "code",
   "execution_count": 17,
   "id": "3c473c99",
   "metadata": {},
   "outputs": [
    {
     "data": {
      "text/html": [
       "<div>\n",
       "<style scoped>\n",
       "    .dataframe tbody tr th:only-of-type {\n",
       "        vertical-align: middle;\n",
       "    }\n",
       "\n",
       "    .dataframe tbody tr th {\n",
       "        vertical-align: top;\n",
       "    }\n",
       "\n",
       "    .dataframe thead tr th {\n",
       "        text-align: left;\n",
       "    }\n",
       "</style>\n",
       "<table border=\"1\" class=\"dataframe\">\n",
       "  <thead>\n",
       "    <tr>\n",
       "      <th></th>\n",
       "      <th>brand</th>\n",
       "      <th>mean</th>\n",
       "      <th>median</th>\n",
       "      <th>count</th>\n",
       "    </tr>\n",
       "    <tr>\n",
       "      <th></th>\n",
       "      <th></th>\n",
       "      <th>price</th>\n",
       "      <th>price</th>\n",
       "      <th>id</th>\n",
       "    </tr>\n",
       "  </thead>\n",
       "  <tbody>\n",
       "    <tr>\n",
       "      <th>0</th>\n",
       "      <td>initio parfums prives</td>\n",
       "      <td>42180.000000</td>\n",
       "      <td>41110.0</td>\n",
       "      <td>11</td>\n",
       "    </tr>\n",
       "    <tr>\n",
       "      <th>1</th>\n",
       "      <td>roja dove</td>\n",
       "      <td>41848.333333</td>\n",
       "      <td>42190.0</td>\n",
       "      <td>6</td>\n",
       "    </tr>\n",
       "    <tr>\n",
       "      <th>2</th>\n",
       "      <td>ex nihilo</td>\n",
       "      <td>41016.125000</td>\n",
       "      <td>43600.0</td>\n",
       "      <td>16</td>\n",
       "    </tr>\n",
       "    <tr>\n",
       "      <th>3</th>\n",
       "      <td>amouage</td>\n",
       "      <td>37223.333333</td>\n",
       "      <td>40010.0</td>\n",
       "      <td>6</td>\n",
       "    </tr>\n",
       "    <tr>\n",
       "      <th>4</th>\n",
       "      <td>shaik</td>\n",
       "      <td>34366.666667</td>\n",
       "      <td>31170.0</td>\n",
       "      <td>3</td>\n",
       "    </tr>\n",
       "    <tr>\n",
       "      <th>5</th>\n",
       "      <td>tiziana terenzi</td>\n",
       "      <td>33150.000000</td>\n",
       "      <td>33150.0</td>\n",
       "      <td>1</td>\n",
       "    </tr>\n",
       "    <tr>\n",
       "      <th>6</th>\n",
       "      <td>hfc</td>\n",
       "      <td>32574.285714</td>\n",
       "      <td>35900.0</td>\n",
       "      <td>7</td>\n",
       "    </tr>\n",
       "    <tr>\n",
       "      <th>7</th>\n",
       "      <td>parfums de marly</td>\n",
       "      <td>30449.812500</td>\n",
       "      <td>33530.0</td>\n",
       "      <td>16</td>\n",
       "    </tr>\n",
       "    <tr>\n",
       "      <th>8</th>\n",
       "      <td>dr. vranjes firenze</td>\n",
       "      <td>28856.279070</td>\n",
       "      <td>29400.0</td>\n",
       "      <td>43</td>\n",
       "    </tr>\n",
       "    <tr>\n",
       "      <th>9</th>\n",
       "      <td>kilian</td>\n",
       "      <td>27372.121212</td>\n",
       "      <td>29390.0</td>\n",
       "      <td>33</td>\n",
       "    </tr>\n",
       "  </tbody>\n",
       "</table>\n",
       "</div>"
      ],
      "text/plain": [
       "                   brand          mean   median count\n",
       "                                 price    price    id\n",
       "0  initio parfums prives  42180.000000  41110.0    11\n",
       "1              roja dove  41848.333333  42190.0     6\n",
       "2              ex nihilo  41016.125000  43600.0    16\n",
       "3                amouage  37223.333333  40010.0     6\n",
       "4                  shaik  34366.666667  31170.0     3\n",
       "5        tiziana terenzi  33150.000000  33150.0     1\n",
       "6                    hfc  32574.285714  35900.0     7\n",
       "7       parfums de marly  30449.812500  33530.0    16\n",
       "8    dr. vranjes firenze  28856.279070  29400.0    43\n",
       "9                 kilian  27372.121212  29390.0    33"
      ]
     },
     "execution_count": 17,
     "metadata": {},
     "output_type": "execute_result"
    }
   ],
   "source": [
    "top_brand = data.pivot_table(\n",
    "            index='brand', aggfunc=['mean', 'median', 'count']).drop(\n",
    "            columns=[('count','name'),('count','price'),('count','shop'),('count','volume'),('count','best_loyalty_price')], axis=1).sort_values(\n",
    "            by=[('mean', 'price')], ascending=False).reset_index().head(10)\n",
    "top_brand"
   ]
  },
  {
   "cell_type": "code",
   "execution_count": 18,
   "id": "671e2f0b",
   "metadata": {},
   "outputs": [
    {
     "data": {
      "image/png": "[encoded data removed]",
      "text/plain": [
       "<Figure size 1440x432 with 1 Axes>"
      ]
     },
     "metadata": {
      "needs_background": "light"
     },
     "output_type": "display_data"
    }
   ],
   "source": [
    "fig = plt.figure(figsize=(20,6))\n",
    "ax1 = fig.add_subplot(1,1,1)\n",
    "\n",
    "sns.barplot( \n",
    "            data = top_brand,\n",
    "            y=('mean', 'price'),\n",
    "            x='brand',\n",
    "            ax=ax1\n",
    "            )\n",
    "            \n",
    "ax1.set_title('Ярославль')\n",
    "plt.xticks(rotation=0)\n",
    "plt.ylabel('price')\n",
    "plt.show()"
   ]
  },
  {
   "cell_type": "markdown",
   "id": "09a39eec",
   "metadata": {},
   "source": [
    "Самые дорогие бернды с делением по магазинам и с общими продуктами, потому что ассортимент отличется в своей массе "
   ]
  },
  {
   "cell_type": "code",
   "execution_count": 19,
   "id": "c1aad70d",
   "metadata": {},
   "outputs": [
    {
     "data": {
      "text/html": [
       "<div>\n",
       "<style scoped>\n",
       "    .dataframe tbody tr th:only-of-type {\n",
       "        vertical-align: middle;\n",
       "    }\n",
       "\n",
       "    .dataframe tbody tr th {\n",
       "        vertical-align: top;\n",
       "    }\n",
       "\n",
       "    .dataframe thead tr th {\n",
       "        text-align: left;\n",
       "    }\n",
       "</style>\n",
       "<table border=\"1\" class=\"dataframe\">\n",
       "  <thead>\n",
       "    <tr>\n",
       "      <th></th>\n",
       "      <th>brand</th>\n",
       "      <th colspan=\"2\" halign=\"left\">price</th>\n",
       "    </tr>\n",
       "    <tr>\n",
       "      <th>shop</th>\n",
       "      <th></th>\n",
       "      <th>золотое яблоко</th>\n",
       "      <th>рив гош</th>\n",
       "    </tr>\n",
       "  </thead>\n",
       "  <tbody>\n",
       "    <tr>\n",
       "      <th>28</th>\n",
       "      <td>carolina herrera</td>\n",
       "      <td>7101.250000</td>\n",
       "      <td>8120.0</td>\n",
       "    </tr>\n",
       "    <tr>\n",
       "      <th>41</th>\n",
       "      <td>dior</td>\n",
       "      <td>10129.411765</td>\n",
       "      <td>13700.0</td>\n",
       "    </tr>\n",
       "    <tr>\n",
       "      <th>58</th>\n",
       "      <td>giorgio armani</td>\n",
       "      <td>16371.250000</td>\n",
       "      <td>8677.5</td>\n",
       "    </tr>\n",
       "    <tr>\n",
       "      <th>61</th>\n",
       "      <td>gucci</td>\n",
       "      <td>23579.466667</td>\n",
       "      <td>24120.0</td>\n",
       "    </tr>\n",
       "    <tr>\n",
       "      <th>68</th>\n",
       "      <td>hugo boss</td>\n",
       "      <td>7560.000000</td>\n",
       "      <td>6800.0</td>\n",
       "    </tr>\n",
       "    <tr>\n",
       "      <th>77</th>\n",
       "      <td>kenzo</td>\n",
       "      <td>4165.500000</td>\n",
       "      <td>4820.0</td>\n",
       "    </tr>\n",
       "    <tr>\n",
       "      <th>86</th>\n",
       "      <td>lacoste</td>\n",
       "      <td>7441.818182</td>\n",
       "      <td>7995.0</td>\n",
       "    </tr>\n",
       "  </tbody>\n",
       "</table>\n",
       "</div>"
      ],
      "text/plain": [
       "                 brand          price         \n",
       "shop                   золотое яблоко  рив гош\n",
       "28    carolina herrera    7101.250000   8120.0\n",
       "41                dior   10129.411765  13700.0\n",
       "58      giorgio armani   16371.250000   8677.5\n",
       "61               gucci   23579.466667  24120.0\n",
       "68           hugo boss    7560.000000   6800.0\n",
       "77               kenzo    4165.500000   4820.0\n",
       "86             lacoste    7441.818182   7995.0"
      ]
     },
     "execution_count": 19,
     "metadata": {},
     "output_type": "execute_result"
    }
   ],
   "source": [
    "top_brand_shop = data.pivot_table(\n",
    "                index='brand', columns='shop', aggfunc='mean').reset_index().dropna()\n",
    "top_brand_shop"
   ]
  },
  {
   "cell_type": "code",
   "execution_count": 20,
   "id": "0ed54d4c",
   "metadata": {},
   "outputs": [
    {
     "data": {
      "image/png": "[encoded data removed]",
      "text/plain": [
       "<Figure size 1440x432 with 1 Axes>"
      ]
     },
     "metadata": {
      "needs_background": "light"
     },
     "output_type": "display_data"
    }
   ],
   "source": [
    "fig = plt.figure(figsize=(20,6))\n",
    "ax1 = fig.add_subplot(1,1,1)\n",
    "\n",
    "sns.lineplot( \n",
    "            data = top_brand_shop,\n",
    "            y=('price', 'золотое яблоко'),\n",
    "            x='brand',\n",
    "            legend='full',\n",
    "            ax=ax1          \n",
    "            )\n",
    "\n",
    "# sns.lineplot( \n",
    "#             data = top_brand_shop,\n",
    "#             y=('price', 'летуаль'),\n",
    "#             x='brand',\n",
    "#             ax=ax1\n",
    "#             )\n",
    "\n",
    "sns.lineplot( \n",
    "            data = top_brand_shop,\n",
    "            y=('price', 'рив гош'),\n",
    "            x='brand',\n",
    "            ax=ax1\n",
    "            )\n",
    "            \n",
    "ax1.set_title('СРЕДНЯЯ ЦЕНА ПО БРЕНДАМ')\n",
    "plt.xticks(rotation=0)\n",
    "plt.ylabel('price')\n",
    "ax1.legend(['ЗОЛОТОЕ ЯБЛОКО', 'ЛЕТУАЛЬ', 'РИВ ГОШ'])\n",
    "plt.show()"
   ]
  },
  {
   "cell_type": "markdown",
   "id": "e0201bc4",
   "metadata": {},
   "source": [
    "Как видим бренды дешевли всего в Летуали, но опять таки, зависит от какие именно товары топовых брендов продаются в магазине"
   ]
  },
  {
   "cell_type": "markdown",
   "id": "c1f18654",
   "metadata": {},
   "source": [
    "Рассмотрим срез по наименованию товара"
   ]
  },
  {
   "cell_type": "code",
   "execution_count": 21,
   "id": "52026f76",
   "metadata": {},
   "outputs": [
    {
     "data": {
      "text/html": [
       "<div>\n",
       "<style scoped>\n",
       "    .dataframe tbody tr th:only-of-type {\n",
       "        vertical-align: middle;\n",
       "    }\n",
       "\n",
       "    .dataframe tbody tr th {\n",
       "        vertical-align: top;\n",
       "    }\n",
       "\n",
       "    .dataframe thead th {\n",
       "        text-align: right;\n",
       "    }\n",
       "</style>\n",
       "<table border=\"1\" class=\"dataframe\">\n",
       "  <thead>\n",
       "    <tr style=\"text-align: right;\">\n",
       "      <th></th>\n",
       "      <th>brand</th>\n",
       "      <th>name</th>\n",
       "      <th>priceзолотое яблоко</th>\n",
       "      <th>priceрив гош</th>\n",
       "    </tr>\n",
       "  </thead>\n",
       "  <tbody>\n",
       "    <tr>\n",
       "      <th>367</th>\n",
       "      <td>dior</td>\n",
       "      <td>dior homme</td>\n",
       "      <td>9850.0</td>\n",
       "      <td>NaN</td>\n",
       "    </tr>\n",
       "    <tr>\n",
       "      <th>368</th>\n",
       "      <td>dior</td>\n",
       "      <td>dior homme cologne</td>\n",
       "      <td>11250.0</td>\n",
       "      <td>NaN</td>\n",
       "    </tr>\n",
       "    <tr>\n",
       "      <th>369</th>\n",
       "      <td>dior</td>\n",
       "      <td>dior homme intense</td>\n",
       "      <td>10800.0</td>\n",
       "      <td>NaN</td>\n",
       "    </tr>\n",
       "    <tr>\n",
       "      <th>370</th>\n",
       "      <td>dior</td>\n",
       "      <td>dior sauvage elixir parfum</td>\n",
       "      <td>NaN</td>\n",
       "      <td>13700.0</td>\n",
       "    </tr>\n",
       "    <tr>\n",
       "      <th>371</th>\n",
       "      <td>dior</td>\n",
       "      <td>eau sauvage</td>\n",
       "      <td>10325.0</td>\n",
       "      <td>NaN</td>\n",
       "    </tr>\n",
       "    <tr>\n",
       "      <th>372</th>\n",
       "      <td>dior</td>\n",
       "      <td>eau sauvage cologne</td>\n",
       "      <td>9850.0</td>\n",
       "      <td>NaN</td>\n",
       "    </tr>\n",
       "    <tr>\n",
       "      <th>373</th>\n",
       "      <td>dior</td>\n",
       "      <td>eau sauvage extreme</td>\n",
       "      <td>10800.0</td>\n",
       "      <td>NaN</td>\n",
       "    </tr>\n",
       "    <tr>\n",
       "      <th>374</th>\n",
       "      <td>dior</td>\n",
       "      <td>fahrenheit</td>\n",
       "      <td>7050.0</td>\n",
       "      <td>NaN</td>\n",
       "    </tr>\n",
       "    <tr>\n",
       "      <th>375</th>\n",
       "      <td>dior</td>\n",
       "      <td>higher</td>\n",
       "      <td>9850.0</td>\n",
       "      <td>NaN</td>\n",
       "    </tr>\n",
       "    <tr>\n",
       "      <th>376</th>\n",
       "      <td>dior</td>\n",
       "      <td>higher energy</td>\n",
       "      <td>9850.0</td>\n",
       "      <td>NaN</td>\n",
       "    </tr>\n",
       "    <tr>\n",
       "      <th>377</th>\n",
       "      <td>dior</td>\n",
       "      <td>homme sport eau de toilette</td>\n",
       "      <td>11250.0</td>\n",
       "      <td>NaN</td>\n",
       "    </tr>\n",
       "    <tr>\n",
       "      <th>378</th>\n",
       "      <td>dior</td>\n",
       "      <td>sauvage</td>\n",
       "      <td>10275.0</td>\n",
       "      <td>NaN</td>\n",
       "    </tr>\n",
       "    <tr>\n",
       "      <th>379</th>\n",
       "      <td>dior</td>\n",
       "      <td>sauvage</td>\n",
       "      <td>6200.0</td>\n",
       "      <td>NaN</td>\n",
       "    </tr>\n",
       "    <tr>\n",
       "      <th>380</th>\n",
       "      <td>dior</td>\n",
       "      <td>sauvage elixir</td>\n",
       "      <td>13700.0</td>\n",
       "      <td>NaN</td>\n",
       "    </tr>\n",
       "  </tbody>\n",
       "</table>\n",
       "</div>"
      ],
      "text/plain": [
       "    brand                         name  priceзолотое яблоко  priceрив гош\n",
       "367  dior                  dior homme                9850.0           NaN\n",
       "368  dior           dior homme cologne              11250.0           NaN\n",
       "369  dior           dior homme intense              10800.0           NaN\n",
       "370  dior   dior sauvage elixir parfum                  NaN       13700.0\n",
       "371  dior                  eau sauvage              10325.0           NaN\n",
       "372  dior          eau sauvage cologne               9850.0           NaN\n",
       "373  dior          eau sauvage extreme              10800.0           NaN\n",
       "374  dior                   fahrenheit               7050.0           NaN\n",
       "375  dior                       higher               9850.0           NaN\n",
       "376  dior                higher energy               9850.0           NaN\n",
       "377  dior  homme sport eau de toilette              11250.0           NaN\n",
       "378  dior                      sauvage              10275.0           NaN\n",
       "379  dior                     sauvage                6200.0           NaN\n",
       "380  dior               sauvage elixir              13700.0           NaN"
      ]
     },
     "execution_count": 21,
     "metadata": {},
     "output_type": "execute_result"
    }
   ],
   "source": [
    "top_name_shop = data.pivot_table(\n",
    "                index=['brand', 'name'], columns='shop', aggfunc='mean').reset_index()#.dropna()\n",
    "\n",
    "top_name_shop.columns = top_name_shop.columns.map(''.join)\n",
    "\n",
    "top_name_shop\n",
    "\n",
    "# top_name_shop.dropna()\n",
    "top_name_shop.query('brand ==\"dior\"')\n",
    "# data.query('brand==\"gucci\"').head(50)"
   ]
  },
  {
   "cell_type": "code",
   "execution_count": 22,
   "id": "18ef1c35",
   "metadata": {},
   "outputs": [
    {
     "data": {
      "text/html": [
       "<div>\n",
       "<style scoped>\n",
       "    .dataframe tbody tr th:only-of-type {\n",
       "        vertical-align: middle;\n",
       "    }\n",
       "\n",
       "    .dataframe tbody tr th {\n",
       "        vertical-align: top;\n",
       "    }\n",
       "\n",
       "    .dataframe thead th {\n",
       "        text-align: right;\n",
       "    }\n",
       "</style>\n",
       "<table border=\"1\" class=\"dataframe\">\n",
       "  <thead>\n",
       "    <tr style=\"text-align: right;\">\n",
       "      <th></th>\n",
       "      <th>id</th>\n",
       "      <th>name</th>\n",
       "      <th>brand</th>\n",
       "      <th>volume</th>\n",
       "      <th>price</th>\n",
       "      <th>best_loyalty_price</th>\n",
       "      <th>shop</th>\n",
       "    </tr>\n",
       "  </thead>\n",
       "  <tbody>\n",
       "    <tr>\n",
       "      <th>0</th>\n",
       "      <td>185723</td>\n",
       "      <td>soleil de capri</td>\n",
       "      <td>montale</td>\n",
       "      <td>20</td>\n",
       "      <td>3000.0</td>\n",
       "      <td>2400</td>\n",
       "      <td>золотое яблоко</td>\n",
       "    </tr>\n",
       "    <tr>\n",
       "      <th>1</th>\n",
       "      <td>232909</td>\n",
       "      <td>meditation box</td>\n",
       "      <td>home owner</td>\n",
       "      <td>нет объема</td>\n",
       "      <td>4690.0</td>\n",
       "      <td>4221</td>\n",
       "      <td>золотое яблоко</td>\n",
       "    </tr>\n",
       "    <tr>\n",
       "      <th>2</th>\n",
       "      <td>85653</td>\n",
       "      <td>bal d'afrique</td>\n",
       "      <td>byredo</td>\n",
       "      <td>нет объема</td>\n",
       "      <td>16790.0</td>\n",
       "      <td>14271</td>\n",
       "      <td>золотое яблоко</td>\n",
       "    </tr>\n",
       "    <tr>\n",
       "      <th>3</th>\n",
       "      <td>111568</td>\n",
       "      <td>stronger with you intensely</td>\n",
       "      <td>giorgio armani</td>\n",
       "      <td>50</td>\n",
       "      <td>4449.0</td>\n",
       "      <td>нет скидки</td>\n",
       "      <td>золотое яблоко</td>\n",
       "    </tr>\n",
       "    <tr>\n",
       "      <th>4</th>\n",
       "      <td>113641</td>\n",
       "      <td>molecule 02</td>\n",
       "      <td>escentric molecules</td>\n",
       "      <td>30</td>\n",
       "      <td>7530.0</td>\n",
       "      <td>6400</td>\n",
       "      <td>золотое яблоко</td>\n",
       "    </tr>\n",
       "    <tr>\n",
       "      <th>...</th>\n",
       "      <td>...</td>\n",
       "      <td>...</td>\n",
       "      <td>...</td>\n",
       "      <td>...</td>\n",
       "      <td>...</td>\n",
       "      <td>...</td>\n",
       "      <td>...</td>\n",
       "    </tr>\n",
       "    <tr>\n",
       "      <th>2039</th>\n",
       "      <td>base_987973</td>\n",
       "      <td>l'eau kenzo pour homme eau de toilette</td>\n",
       "      <td>kenzo</td>\n",
       "      <td>100</td>\n",
       "      <td>4820.0</td>\n",
       "      <td>NaN</td>\n",
       "      <td>рив гош</td>\n",
       "    </tr>\n",
       "    <tr>\n",
       "      <th>2040</th>\n",
       "      <td>985594</td>\n",
       "      <td>tiziana terenzi kristina 2022 parfum</td>\n",
       "      <td>tiziana terenzi</td>\n",
       "      <td>мужчин и женщин</td>\n",
       "      <td>33150.0</td>\n",
       "      <td>NaN</td>\n",
       "      <td>рив гош</td>\n",
       "    </tr>\n",
       "    <tr>\n",
       "      <th>2041</th>\n",
       "      <td>base_987536</td>\n",
       "      <td>giorgio armani stronger with you only eau de t...</td>\n",
       "      <td>giorgio armani</td>\n",
       "      <td>100</td>\n",
       "      <td>7995.0</td>\n",
       "      <td>NaN</td>\n",
       "      <td>рив гош</td>\n",
       "    </tr>\n",
       "    <tr>\n",
       "      <th>2042</th>\n",
       "      <td>base_988276</td>\n",
       "      <td>giorgio armani acqua di gio eau de parfum</td>\n",
       "      <td>giorgio armani</td>\n",
       "      <td>125</td>\n",
       "      <td>9360.0</td>\n",
       "      <td>NaN</td>\n",
       "      <td>рив гош</td>\n",
       "    </tr>\n",
       "    <tr>\n",
       "      <th>2043</th>\n",
       "      <td>986948</td>\n",
       "      <td>gucci alchemist's garden tears from the moon e...</td>\n",
       "      <td>gucci</td>\n",
       "      <td>100</td>\n",
       "      <td>38210.0</td>\n",
       "      <td>NaN</td>\n",
       "      <td>рив гош</td>\n",
       "    </tr>\n",
       "  </tbody>\n",
       "</table>\n",
       "<p>2024 rows × 7 columns</p>\n",
       "</div>"
      ],
      "text/plain": [
       "               id                                               name  \\\n",
       "0          185723                                   soleil de capri    \n",
       "1          232909                                     meditation box   \n",
       "2           85653                                      bal d'afrique   \n",
       "3          111568                        stronger with you intensely   \n",
       "4          113641                                        molecule 02   \n",
       "...           ...                                                ...   \n",
       "2039  base_987973             l'eau kenzo pour homme eau de toilette   \n",
       "2040       985594               tiziana terenzi kristina 2022 parfum   \n",
       "2041  base_987536  giorgio armani stronger with you only eau de t...   \n",
       "2042  base_988276          giorgio armani acqua di gio eau de parfum   \n",
       "2043       986948  gucci alchemist's garden tears from the moon e...   \n",
       "\n",
       "                    brand           volume    price best_loyalty_price  \\\n",
       "0                 montale               20   3000.0               2400   \n",
       "1              home owner       нет объема   4690.0               4221   \n",
       "2                  byredo       нет объема  16790.0              14271   \n",
       "3          giorgio armani               50   4449.0         нет скидки   \n",
       "4     escentric molecules               30   7530.0               6400   \n",
       "...                   ...              ...      ...                ...   \n",
       "2039                kenzo              100   4820.0                NaN   \n",
       "2040      tiziana terenzi  мужчин и женщин  33150.0                NaN   \n",
       "2041       giorgio armani              100   7995.0                NaN   \n",
       "2042       giorgio armani              125   9360.0                NaN   \n",
       "2043                gucci              100  38210.0                NaN   \n",
       "\n",
       "                shop  \n",
       "0     золотое яблоко  \n",
       "1     золотое яблоко  \n",
       "2     золотое яблоко  \n",
       "3     золотое яблоко  \n",
       "4     золотое яблоко  \n",
       "...              ...  \n",
       "2039         рив гош  \n",
       "2040         рив гош  \n",
       "2041         рив гош  \n",
       "2042         рив гош  \n",
       "2043         рив гош  \n",
       "\n",
       "[2024 rows x 7 columns]"
      ]
     },
     "execution_count": 22,
     "metadata": {},
     "output_type": "execute_result"
    }
   ],
   "source": [
    "data"
   ]
  },
  {
   "cell_type": "code",
   "execution_count": null,
   "id": "1c5a5834",
   "metadata": {},
   "outputs": [],
   "source": []
  },
  {
   "cell_type": "raw",
   "id": "4c4d7573",
   "metadata": {},
   "source": [
    "<div class='alert alert-danger'> ⛔️\n",
    "Не хватает исследования возможных причин появления пропусков. Нужно посмотреть на число пропусков в различных разрезах данных и выдвинуть релевантные гипотезы.\n"
   ]
  },
  {
   "cell_type": "raw",
   "id": "449e52f5",
   "metadata": {},
   "source": [
    "sns.histplot(data=df, x=df.query('balance==\"unknow\"')['balance'], hue=\"city\", multiple='stack')\n",
    "plt.title('unknow в разрезе по городам')        \n",
    "plt.show()"
   ]
  },
  {
   "cell_type": "raw",
   "id": "d4321af1",
   "metadata": {},
   "source": [
    "Как видим в Ростове Великом нет пропусков "
   ]
  },
  {
   "cell_type": "raw",
   "id": "1f5345d4",
   "metadata": {},
   "source": [
    "fig = plt.figure(figsize=(20,6))\n",
    "ax1 = fig.add_subplot(1,3,1)\n",
    "ax2 = fig.add_subplot(1,3,2)\n",
    "ax3 = fig.add_subplot(1,3,3)\n",
    "\n",
    "sns.histplot(data=df,\n",
    "             x=df.query('balance==\"unknow\" and city==\"Ярославль\"')['balance'],\n",
    "             hue=\"credit_card\",\n",
    "             multiple='stack',\n",
    "            ax=ax1)\n",
    "\n",
    "sns.histplot(data=df,\n",
    "             x=df.query('balance==\"unknow\" and city==\"Рыбинск\"')['balance'],\n",
    "             hue=\"credit_card\",\n",
    "             multiple='stack',\n",
    "            ax=ax2)\n",
    "\n",
    "sns.histplot(data=df,\n",
    "             x=df.query('balance==\"unknow\" and city==\"Ростов Великий\"')['balance'],\n",
    "             hue=\"credit_card\",\n",
    "             multiple='stack',\n",
    "            ax=ax3)\n",
    "\n",
    "ax1.set_title('Ярославль')\n",
    "ax2.set_title('Рыбинск')  \n",
    "ax3.set_title('остов Великий') \n",
    "\n",
    "plt.show()"
   ]
  },
  {
   "cell_type": "raw",
   "id": "d5ceec0f",
   "metadata": {},
   "source": [
    "Как видим в Ростове нет кредитных карт"
   ]
  },
  {
   "cell_type": "raw",
   "id": "a9eab0a5",
   "metadata": {},
   "source": [
    "В разрезе кредитных карт по городам ничего странного нет. На основе этих данных можно сказать у кого есть кредитная карта у тех баланс скрыт."
   ]
  },
  {
   "cell_type": "raw",
   "id": "56741162",
   "metadata": {},
   "source": [
    "<div class='alert alert-info'> \n",
    "Посмотрел в разных разрехах и сделал вывод."
   ]
  },
  {
   "cell_type": "raw",
   "id": "c2aea395",
   "metadata": {},
   "source": [
    "### Определим аномалии(выбросы) в данных"
   ]
  },
  {
   "cell_type": "raw",
   "id": "f54d5de9",
   "metadata": {
    "scrolled": false
   },
   "source": [
    "for i in df.columns:\n",
    "    try:    \n",
    "        sns.boxplot(df[i])\n",
    "        plt.show()\n",
    "    except:\n",
    "        print(f'График {i} невыведен')"
   ]
  },
  {
   "cell_type": "raw",
   "id": "5c490c4b",
   "metadata": {},
   "source": [
    "Как видим есть у нас выбросы у age, products и score. Посмотрим какой процент данных у нас выйдет за 95 квантиль."
   ]
  },
  {
   "cell_type": "raw",
   "id": "8ee6154f",
   "metadata": {},
   "source": [
    "quan_age_95 = df['age'].quantile(0.95)\n",
    "display(quan_age_95)\n",
    "\n",
    "quan_products_95 = df['products'].quantile(0.95)\n",
    "display(quan_products_95)\n",
    "\n",
    "quan_score_95 = df['score'].quantile(0.95)\n",
    "display(quan_score_95)"
   ]
  },
  {
   "cell_type": "raw",
   "id": "023c8ca0",
   "metadata": {},
   "source": [
    "print('Выбросы у нас состовляют {:.4} %'.format(\n",
    "len(df.query('age > @quan_age_95 or products > @quan_products_95 or score > @quan_score_95'))\n",
    "    /len(df['user_id'])*100\n",
    "))"
   ]
  },
  {
   "cell_type": "raw",
   "id": "5727221a",
   "metadata": {},
   "source": [
    "Удалим данные выбросы "
   ]
  },
  {
   "cell_type": "raw",
   "id": "5af342ef",
   "metadata": {},
   "source": [
    "df = df.query(\n",
    "    'age <= @quan_age_95 and products <= @quan_products_95 and score <= @quan_score_95'\n",
    ") "
   ]
  },
  {
   "cell_type": "raw",
   "id": "e85cea02",
   "metadata": {},
   "source": [
    "df.info()"
   ]
  },
  {
   "cell_type": "raw",
   "id": "ecb5d82d",
   "metadata": {},
   "source": [
    "### Определить явные и неявные дубликаты"
   ]
  },
  {
   "cell_type": "raw",
   "id": "298c85a1",
   "metadata": {},
   "source": [
    "def dupl(table):\n",
    "    '''\n",
    "    Считает % дубликатов.\n",
    "    \n",
    "    Ф-ия принимает таблицу, если дубликатов меньше 10%, тогда удаляет их \n",
    "    '''\n",
    "    if 0<= table.duplicated().sum()/table.duplicated().count()  <= 0.1:\n",
    "        print('Кол-во дубликатов равно {}\\n\\n'.format(table.duplicated().sum()))\n",
    "    #    table = table.drop_duplicates().reset_index(drop=True)\n",
    "    else:\n",
    "        print('Дубликатов больше 10% от общего кол-ва данных')"
   ]
  },
  {
   "cell_type": "raw",
   "id": "3c5a3c28",
   "metadata": {},
   "source": [
    "dupl(df)"
   ]
  },
  {
   "cell_type": "raw",
   "id": "3a486ad7",
   "metadata": {},
   "source": [
    "<div class='alert alert-success'> 👍\n",
    "В целом отличная предобработка"
   ]
  },
  {
   "cell_type": "raw",
   "id": "db53ea4e",
   "metadata": {},
   "source": [
    "## Провести исследовательский анализ данных (EDA):"
   ]
  },
  {
   "cell_type": "raw",
   "id": "8f9a9c17",
   "metadata": {},
   "source": [
    "### 2.1 Изучить распределение наших данных(describe())."
   ]
  },
  {
   "cell_type": "raw",
   "id": "eb65310b",
   "metadata": {},
   "source": [
    "### Рассмотрим распределение по городам  "
   ]
  },
  {
   "cell_type": "raw",
   "id": "a8e7b304",
   "metadata": {},
   "source": [
    "df.head()"
   ]
  },
  {
   "cell_type": "raw",
   "id": "29ed95d6",
   "metadata": {
    "scrolled": false
   },
   "source": [
    "for i in df.columns:\n",
    "    try:    \n",
    "        sns.histplot(data=df, x=df[i], hue=\"city\", multiple='stack')\n",
    "        plt.title(i)        \n",
    "        plt.show()\n",
    "    except:\n",
    "        print('График не вышел')\n",
    "        "
   ]
  },
  {
   "cell_type": "raw",
   "id": "e4957264",
   "metadata": {},
   "source": [
    "Отдельно выведим баланс"
   ]
  },
  {
   "cell_type": "raw",
   "id": "ec03b9ec",
   "metadata": {},
   "source": [
    "sns.histplot(data=df.query('balance!=\"unknow\"'), x='balance', hue='city', multiple='stack')\n",
    "plt.title('balance')"
   ]
  },
  {
   "cell_type": "raw",
   "id": "b941614e",
   "metadata": {},
   "source": [
    "sns.histplot(data=df.query('balance==\"unknow\"'), x='balance', hue='city', multiple='stack')\n",
    "plt.title('balance')"
   ]
  },
  {
   "cell_type": "raw",
   "id": "c0b9a428",
   "metadata": {},
   "source": [
    "**Вывод**\n",
    "\n",
    "    1) user_id - в Ярославле больше всего клиентов. В Рыбинске и Ростове Великом пользователей одинаково.\n",
    "    2) score - нормальные распределения во всех городах.\n",
    "    3) city - в Рыбинске и Ростове Великом по 2000 клиентов, в Ярославле 4500.\n",
    "    4) gender - Ярославль женщин 2000, мужчин 2500. Рыбинск женщин 1000, мужчин 1200. Ростов Великий женщин 900, мужчин 1100. \n",
    "    5) age - есть стрынный скачок в районе 40 лет во всех трех городах.  \n",
    "    6) object - редко встречатся 0 и 10 объектов.\n",
    "    7) balance - в Ростове нет счетов unknow, в Ярославле unknow в два раза больше чем Рыбинске. И в Ростове нет счетов, на которых 0, в Ярославле 0 в два раза больше чем Рыбинске.        \n",
    "    8) product - кол-во продкутов 3 и 4 отпало, видимо они были у редких любителей.\n",
    "    9) creditcard - людей с кредитными картами в два раа больше. \n",
    "    10) loyalty - активность распределяется 50% на 50%.\n",
    "    11) estimated_salary - доходы в Ярославле выше, в Ростове и РЫбинске одинаковые.\n",
    "    12) churn - мы видим что в **Ростове и в Ярославле** одинаковый отток клиентов. "
   ]
  },
  {
   "cell_type": "raw",
   "id": "6a91667f",
   "metadata": {},
   "source": [
    "<div class='alert alert-info'> 🔬\n",
    "Рекомендую не делать графики с наложением в будущем. Это создает неоднозначность восприятия, не понятно как правильно читать информация. Либо столбцы являются вложенными и их нужно вычитать, либо нужно смотреть на вершину каждого из столбцов. Также при наличии дух и более категорий столбцы могут перекрывать друг друга.\n"
   ]
  },
  {
   "cell_type": "raw",
   "id": "63c4a792",
   "metadata": {},
   "source": [
    "<div class='alert alert-info'> \n",
    "Исправил"
   ]
  },
  {
   "cell_type": "raw",
   "id": "81fad360",
   "metadata": {},
   "source": [
    "### Рассмотрим корреляцию между отдельными столбцами."
   ]
  },
  {
   "attachments": {
    "%D0%B8%D0%B7%D0%BE%D0%B1%D1%80%D0%B0%D0%B6%D0%B5%D0%BD%D0%B8%D0%B5.png": {
     "image/png": "[encoded data removed]"
    }
   },
   "cell_type": "raw",
   "id": "513ea041",
   "metadata": {},
   "source": [
    "![%D0%B8%D0%B7%D0%BE%D0%B1%D1%80%D0%B0%D0%B6%D0%B5%D0%BD%D0%B8%D0%B5.png](attachment:%D0%B8%D0%B7%D0%BE%D0%B1%D1%80%D0%B0%D0%B6%D0%B5%D0%BD%D0%B8%D0%B5.png)"
   ]
  },
  {
   "cell_type": "raw",
   "id": "dc8993fc",
   "metadata": {},
   "source": [
    "sns.heatmap(round(df.corr(),2), annot=True, cmap='RdYlGn')\n",
    "plt.title('Корреляция')\n",
    "plt.show()"
   ]
  },
  {
   "cell_type": "raw",
   "id": "7caa3e71",
   "metadata": {},
   "source": [
    "test = pd.get_dummies(df, columns=['gender','city','products','credit_card','loyalty'])\n",
    "test\n",
    "fig = plt.figure(figsize=(15,15))\n",
    "ax1 = fig.add_subplot(1,1,1)\n",
    "\n",
    "sns.heatmap(round(test.corr(),2), annot=True, cmap='RdYlGn', ax=ax1)\n",
    "\n",
    "plt.title('Корреляция')\n",
    "plt.show()"
   ]
  },
  {
   "cell_type": "raw",
   "id": "802ddfa8",
   "metadata": {},
   "source": [
    "<div class='alert alert-success'> 👍\n",
    "Круто что владеешь такой мощной техникой визуализации как тепловая карта. На ней прекрасно видно что особых корреляций между признаками нет. В такой ситуации стоит подумать о том, что возможно признаки имеют нелинейные связи. Для выявления таких нелинейных взаимосвязей я рекомендую дополнительно посмотреть на корреляцию Спирмена, а в идеале познакомиться с очень продвинутым коэффициентом корреляции Phik. С его помощью можно получать адекватные значения корреляции для данных любой природы. https://phik.readthedocs.io/en/latest/introduction.html\n"
   ]
  },
  {
   "cell_type": "raw",
   "id": "8d69f4b7",
   "metadata": {},
   "source": [
    "<div class='alert alert-warning'> ⚠️\n",
    "objects можно рассматривать как числовой признак, для него не нужно делать one_hot кодирование"
   ]
  },
  {
   "cell_type": "raw",
   "id": "f4d5cc24",
   "metadata": {},
   "source": [
    "<div class='alert alert-info'> \n",
    "Посмотрел в разных разрехах и сделал вывод."
   ]
  },
  {
   "cell_type": "raw",
   "id": "f101772d",
   "metadata": {},
   "source": [
    "**Вывод**\n",
    "\n",
    "    1) churn - есть слабая корреляция с возростом, есть очень слабая отриц. корреляция числом продуктов.\n",
    "    В остальном корреляция не прослеживается."
   ]
  },
  {
   "cell_type": "raw",
   "id": "22866cb9",
   "metadata": {},
   "source": [
    "## 3. Выделить портреты клиентов, которые склонны уходить из банков."
   ]
  },
  {
   "cell_type": "raw",
   "id": "974f72fe",
   "metadata": {},
   "source": [
    "Сегментируем наших клиентов, по итогам коррелиция, по продуктам и возрасту."
   ]
  },
  {
   "cell_type": "raw",
   "id": "cd2d3895",
   "metadata": {},
   "source": [
    "df[['age','products']].describe()"
   ]
  },
  {
   "cell_type": "raw",
   "id": "240cd90a",
   "metadata": {},
   "source": [
    "age_25 = df['age'].quantile(0.25)\n",
    "age_75 = df['age'].quantile(0.75\n",
    "                         )\n",
    "prod_min = df['products'].min()\n",
    "prod_max = df['products'].max()\n",
    "\n",
    "def category(row):\n",
    "    # определение переменных\n",
    "    age = row['age']\n",
    "    products = row['products']\n",
    "    \n",
    " \n",
    "    # условия для категоризации \n",
    "    if age <= age_25 and products == prod_min:\n",
    "        return '31 и моложе - имеет один продукт'\n",
    " \n",
    "    elif age_25 < age <= age_75 and products == prod_min:\n",
    "        return 'от 31 до 42 включительно - имеет один продукт'  \n",
    " \n",
    "    elif age > age_75 and products == prod_min:\n",
    "        return 'старше 60 - имеет один продукт'\n",
    "            \n",
    "    elif age <= age_25 and products == prod_max:\n",
    "        return '31 и моложе - имеет два продукта'\n",
    " \n",
    "    elif age_25 < age <= age_75 and products == prod_max:\n",
    "        return 'от 31 до 42 включительно - имеет два продукта'  \n",
    " \n",
    "    elif age > age_75 and products == prod_max:\n",
    "        return 'старше 60 - имеет два продукта'\n",
    "\n",
    "  \n",
    "df['category'] = df.apply(category, axis=1)\n",
    "df.sample(3)\n"
   ]
  },
  {
   "cell_type": "raw",
   "id": "d7c2f10d",
   "metadata": {},
   "source": [
    "pd.qcut(df['age'], q=4).value_counts()"
   ]
  },
  {
   "cell_type": "raw",
   "id": "63951b32",
   "metadata": {},
   "source": [
    "pd.cut(df['age'], bins=4).value_counts()"
   ]
  },
  {
   "cell_type": "raw",
   "id": "70320683",
   "metadata": {},
   "source": [
    "<div class='alert alert-info'> \n",
    "ХМ...жизнь то упращается намного, делал тестовое где надо было выявить категории обуви по кол-ву продаж...так бы удобней. Спасибо! А если по именам делать категории? Например есть слово Осень, Зима, Лето, то там уже через функцию с if \"зима\" in df[\"name\"]: Только так можно? Или есть метод у панадса?"
   ]
  },
  {
   "cell_type": "raw",
   "id": "dd577a81",
   "metadata": {},
   "source": [
    "<div class='alert alert-success'>👍\n",
    "Мне очень понравилась твоя техника предобработки данных с категоризацией численных признаков. Это действительно позволяет упростить работу с данными и дальнейшую интерпретацию. Данная техника повсеместно используется в реальных проектах, поэтому держи её всегда на вооружении. Также подобное преобразование можно делать с помощью https://pandas.pydata.org/pandas-docs/stable/reference/api/pandas.cut.html\n"
   ]
  },
  {
   "cell_type": "raw",
   "id": "ced5fef7",
   "metadata": {},
   "source": [
    "fig = plt.figure(figsize=(15,6))\n",
    "sns.barplot(y=df['churn'], x='city', data=df, hue='category')\n",
    "plt.show()"
   ]
  },
  {
   "cell_type": "raw",
   "id": "054190b8",
   "metadata": {},
   "source": [
    "Доля оттока по категориям "
   ]
  },
  {
   "cell_type": "raw",
   "id": "538b7d1f",
   "metadata": {},
   "source": [
    "plt.pie(\n",
    "         df.query('churn==1').groupby('category')['churn'].count(), \n",
    "         labels=df.query('churn==1').groupby('category')['churn'].count().index, \n",
    "         autopct='%1.1f%%'\n",
    ")\n",
    "plt.title('Доля оттока')\n",
    "plt.show()"
   ]
  },
  {
   "cell_type": "raw",
   "id": "fb1b09d7",
   "metadata": {},
   "source": [
    "**Вывод**  \n",
    "\n",
    "    Самая многочисленная группа по оттоку страше 60 и имеет один продукт. Так же стоит обратить внимание на отток в Ростове Великом."
   ]
  },
  {
   "cell_type": "raw",
   "id": "185cc0df",
   "metadata": {},
   "source": [
    "## Гипотеза №1"
   ]
  },
  {
   "cell_type": "raw",
   "id": "ed4c427a",
   "metadata": {},
   "source": [
    "Возраст клиентов, которые попали в отток БОЛЬШЕ возраста клиентов, которые остались."
   ]
  },
  {
   "cell_type": "raw",
   "id": "3986326f",
   "metadata": {},
   "source": [
    "$\\begin{equation*}\n",
    " \\begin{cases}\n",
    "   H_0 :\\text{Средние возрасты оттока и оставшихся клиентов одинаковы}\\\\\n",
    "   H_1 :\\text{Средние возрасты оттока больше средних возростов оставшихся клиентов}\n",
    " \\end{cases}\n",
    "\\end{equation*}$"
   ]
  },
  {
   "cell_type": "raw",
   "id": "7cbdbe48",
   "metadata": {},
   "source": [
    "alpha=.05\n",
    "\n",
    "results = st.ttest_ind(df.query('churn==0')['age'], df.query('churn==1')['age'])\n",
    "print('p-значение: ', results.pvalue)\n",
    "\n",
    "if (results.pvalue < alpha):\n",
    "    print(\"Отвергаем нулевую гипотезу\")\n",
    "else:\n",
    "    print(\"Не получилось отвергнуть нулевую гипотезу\")"
   ]
  },
  {
   "cell_type": "raw",
   "id": "dc5d42fb",
   "metadata": {},
   "source": [
    "**Вывод**  \n",
    "\n",
    "    Да, подтвредилось, что средний возраст оттока выше."
   ]
  },
  {
   "cell_type": "raw",
   "id": "5005c9c9",
   "metadata": {},
   "source": [
    "## Гипотеза №2"
   ]
  },
  {
   "cell_type": "raw",
   "id": "bd49c719",
   "metadata": {},
   "source": [
    "Клиенты, которые попали в отток менее активны, чем клиенты которые остались."
   ]
  },
  {
   "cell_type": "raw",
   "id": "3638c367",
   "metadata": {},
   "source": [
    "$\\begin{equation*}\n",
    " \\begin{cases}\n",
    "   H_0 :\\text{Средняя активность оттока и оставшихся клиентов одинаковы}\\\\\n",
    "   H_1 :\\text{Средняя активность оттока больше средней активности оставшихся клиентов}\n",
    " \\end{cases}\n",
    "\\end{equation*}$"
   ]
  },
  {
   "cell_type": "raw",
   "id": "ed2f3a3f",
   "metadata": {},
   "source": [
    "alpha=.05\n",
    "\n",
    "results = st.ttest_ind(df.query('churn==1')['loyalty'], df.query('churn==0')['loyalty'], alternative='greater')\n",
    "print('p-значение: ', results.pvalue)\n",
    "\n",
    "if (results.pvalue < alpha):\n",
    "    print(\"Отвергаем нулевую гипотезу\")\n",
    "else:\n",
    "    print(\"Не получилось отвергнуть нулевую гипотезу\")"
   ]
  },
  {
   "cell_type": "raw",
   "id": "fa6468a4",
   "metadata": {},
   "source": [
    "**Вывод**  \n",
    "\n",
    "    Хм, актиновсть клиентов не различается... Значит не влияет на отток."
   ]
  },
  {
   "cell_type": "raw",
   "id": "be5880b4",
   "metadata": {},
   "source": [
    "## Гипотеза №3"
   ]
  },
  {
   "cell_type": "raw",
   "id": "50ea44f1",
   "metadata": {},
   "source": [
    "Клиенты, которые попали в отток не имеют кредитных карт."
   ]
  },
  {
   "cell_type": "raw",
   "id": "472f0a6d",
   "metadata": {},
   "source": [
    "$\\begin{equation*}\n",
    " \\begin{cases}\n",
    "   H_0 :\\text{Доля кол-ва кредитных карт к кол-ву клиентов оттока и оставшихся клиентов не отличается}\\\\\n",
    "   H_1 :\\text{оля кол-ва кредитных карт к кол-ву клиентов оттока и оставшихся клиентов различна}\n",
    " \\end{cases}\n",
    "\\end{equation*}$"
   ]
  },
  {
   "cell_type": "raw",
   "id": "4142bffb",
   "metadata": {},
   "source": [
    "Проверка равенства долей"
   ]
  },
  {
   "cell_type": "raw",
   "id": "23eb2393",
   "metadata": {},
   "source": []
  },
  {
   "cell_type": "raw",
   "id": "5474cbd7",
   "metadata": {},
   "source": [
    "#пропорции\n",
    "data = {'Отток': [df.query('churn==1')['credit_card'].sum(),\n",
    "                  df.query('churn==1')['churn'].count()],\n",
    "        'Оставшиеся': [df.query('churn==0')['credit_card'].sum(),\n",
    "                       df.query('churn==0')['churn'].count()]}\n",
    "pr = pd.DataFrame(data=data)\n",
    "pr"
   ]
  },
  {
   "cell_type": "raw",
   "id": "47e5daa1",
   "metadata": {},
   "source": [
    "pr.iloc[0,0]"
   ]
  },
  {
   "cell_type": "raw",
   "id": "3d9cc0e0",
   "metadata": {},
   "source": [
    "    '''\n",
    "    Функция проверки пропорций\n",
    "    \n",
    "    На вход принимает датафрейм с названием перехода(логин, корзина ..) в индексе, и кол-вом просмотров.\n",
    "    '''\n",
    "        \n",
    "    count = np.array(\n",
    "        [\n",
    "            pr.iloc[0,0], pr.iloc[0,1]\n",
    "        ]\n",
    "    ) \n",
    "    nobs = np.array(\n",
    "        [\n",
    "             pr.iloc[1,0], pr.iloc[1,1]\n",
    "        ]\n",
    "    )\n",
    "    alpha = 0.01\n",
    "    stat, pval = proportions_ztest(count, nobs)\n",
    "    \n",
    "    if pval < alpha:\n",
    "        print('Результат: {}'.format(pval), \"Нулевая гипотеза отвергнута: между долями есть значимая разница\\n\")\n",
    "    else:\n",
    "        print('Результат: {}.'.format(pval), \"Нулевая гипотеза не отвергнута: нет оснований считать доли разными\\n\")"
   ]
  },
  {
   "cell_type": "raw",
   "id": "effe8536",
   "metadata": {},
   "source": [
    "Сделаем проверку"
   ]
  },
  {
   "cell_type": "raw",
   "id": "c115ba1d",
   "metadata": {},
   "source": [
    "alpha=.05\n",
    "\n",
    "results = st.ttest_ind(df.query('churn==0')['credit_card'], df.query('churn==1')['credit_card'])\n",
    "print('p-значение: ', results.pvalue)\n",
    "\n",
    "if (results.pvalue < alpha):\n",
    "    print(\"Отвергаем нулевую гипотезу\")\n",
    "else:\n",
    "    print(\"Не получилось отвергнуть нулевую гипотезу\")"
   ]
  },
  {
   "cell_type": "raw",
   "id": "27c5ae0e",
   "metadata": {},
   "source": [
    "**Вывод**  \n",
    "\n",
    "    ХМм, и кредитные карты тоже не влияют на отток."
   ]
  },
  {
   "cell_type": "raw",
   "id": "d28eb918",
   "metadata": {},
   "source": [
    "<div class='alert alert-danger'> ⛔️\n",
    "Для гипотезы о долях нужен statmodels z-test proportion"
   ]
  },
  {
   "cell_type": "raw",
   "id": "ce0c2967",
   "metadata": {},
   "source": [
    "<div class='alert alert-info'> \n",
    "Стат st тест равен z тесту. Ну и гипотеза еще раз подтвердилась. Кредитные карты не влияют на отток или удержание клиентов."
   ]
  },
  {
   "cell_type": "raw",
   "id": "962e785d",
   "metadata": {},
   "source": [
    "## Вывод. Рекомендации\n",
    "    1) В Ярославле клиентов в два раза больше чем в Ростове и Рыбинске.\n",
    "    2) Во всех городах есть небольшое перевес клиентов мужского пола.\n",
    "    3) Объекты равномерно распределены по клиентам.\n",
    "    4) Присуствует скачок клиентов от 38 до 40 лет. Думаю это просто самый благоприятный возраст для работы\n",
    "    и для кредитования. Доход уже хороший, и до пенсии далеко.\n",
    "    5) 50 процентов клиентов используют 1 продукт, 50% два.\n",
    "    6) 2 из 3 клиентов имеют кредитные карты.\n",
    "    7) Активность также 50% на 50%.\n",
    "    НО мы выяснили, что есть небольшая корреляция по возрасту и продукту. Чем выше возраст, тем больше\n",
    "    вероятность, что клиент попадет в отток, и чем меньше продуктов он использует, тем выше вероятность, \n",
    "    что клиент нас покинет.\n",
    "\n",
    "    Мы выделили несколько категорий клиентов и нашли тех, кто в зоне риска нашей потери:\n",
    "    1) в Ростове более 70% страше 60 и имеющих один продукт попадают в отток.\n",
    "    2) в Ярославле 50% страше 60 и имеющих один продукт попадают в отток. \n",
    "    3) в Рыбинске 45% страше 60 и имеющих один продукт попадают в отток. \n",
    "    и того у нас 46% клиентов страше 60 и использующих один продукт попадают в отток. Причем, если \n",
    "    эта категория имеет два продукта, то отток составляет 10%\n",
    "\n",
    "    РЕКОМЕНДАЦИИ\n",
    "    Заинтересовать группу страше 60 и имеющих один продукт, использовать два продукта.\n",
    "\n",
    "    4) Категория от 31 до 42 имеющих один продкут в зоне риска.\n",
    "\n",
    "    РЕКОМЕНДАЦИИ\n",
    "    Заинтересовать данную группу, использовать два продукта.\n",
    "\n",
    "    Так же гипотезы подтвердили, что активность и использование кредитных карт не влияет на отток.\n",
    "    \n",
    "    РЕКОМЕНДАЦИИ\n",
    "    Стоит обратить внимание на отток клиентов в Ростове великом, он там по числу клиентов равен Ярославскому оттоку!\n",
    "    "
   ]
  },
  {
   "cell_type": "raw",
   "id": "06656703",
   "metadata": {},
   "source": [
    "<div class='alert alert-success'> 👍\n",
    "Выводы и рекомендации вполне релевантные"
   ]
  },
  {
   "cell_type": "raw",
   "id": "088583fe",
   "metadata": {},
   "source": [
    "<div class='alert alert-info'> \n",
    "    Спасибо большое за проверку, подправил с категоризацей след раз попробую pd.cut.\n",
    "\n",
    "    Хотел спросить совета ну или какого-то наставления) \n",
    "\n",
    "\n",
    "    И вопрос еще такой, в карьерном треке мне ответа на него не дали, мужет у тебя получится с высоты твоего опыта делал два тестовых задания в разных компания, вроде как весьма удачно)) Но суть работы аналитика такая, аналиировать склад, делать выводы какие товары залеживается, делать abc-xyz анализ. Ну и выявлять товары по жизненому циклу какие уже умиращие, а какие набирают обороты. \n",
    "\n",
    "    Если мне сделают оффер, стоит соглашаться? будет потом этот опыт релевантен в айти компании? А то без опыта даже на собеседование не зовут... План такой, годик там отработать и дальше, НО там эксель, а данные из 1С тащат. Тестовые сделал на питоне) им тоже зашло. страсть к данным есть) любовь к профессии тоже) Или лучше сразу искать айти компанию? \n",
    "\n",
    "    Заранее благодарю и сотавляю свои контакты 89122795209)"
   ]
  },
  {
   "cell_type": "code",
   "execution_count": null,
   "id": "7d3b24d7",
   "metadata": {},
   "outputs": [],
   "source": []
  }
 ],
 "metadata": {
  "ExecuteTimeLog": [
   {
    "duration": 1104,
    "start_time": "2022-07-21T10:05:21.039Z"
   },
   {
    "duration": 146,
    "start_time": "2022-07-21T10:05:22.145Z"
   },
   {
    "duration": 3,
    "start_time": "2022-07-21T10:05:22.292Z"
   },
   {
    "duration": 3,
    "start_time": "2022-07-21T10:05:22.498Z"
   },
   {
    "duration": 50,
    "start_time": "2022-07-21T10:05:23.357Z"
   },
   {
    "duration": 4,
    "start_time": "2022-07-21T10:06:17.261Z"
   },
   {
    "duration": 9,
    "start_time": "2022-07-21T10:06:17.965Z"
   },
   {
    "duration": 5,
    "start_time": "2022-07-21T10:06:19.787Z"
   },
   {
    "duration": 15,
    "start_time": "2022-07-21T10:06:20.667Z"
   },
   {
    "duration": 4,
    "start_time": "2022-07-21T10:06:23.086Z"
   },
   {
    "duration": 6,
    "start_time": "2022-07-21T10:06:28.424Z"
   },
   {
    "duration": 324,
    "start_time": "2022-07-21T10:06:32.534Z"
   },
   {
    "duration": 10,
    "start_time": "2022-07-21T10:06:37.454Z"
   },
   {
    "duration": 80,
    "start_time": "2022-07-21T10:08:09.175Z"
   },
   {
    "duration": 11,
    "start_time": "2022-07-21T10:08:37.044Z"
   },
   {
    "duration": 3417,
    "start_time": "2022-07-21T10:08:37.057Z"
   },
   {
    "duration": 93,
    "start_time": "2022-07-21T10:10:11.208Z"
   },
   {
    "duration": 76,
    "start_time": "2022-07-21T10:11:20.374Z"
   }
  ],
  "kernelspec": {
   "display_name": "Python 3 (ipykernel)",
   "language": "python",
   "name": "python3"
  },
  "language_info": {
   "codemirror_mode": {
    "name": "ipython",
    "version": 3
   },
   "file_extension": ".py",
   "mimetype": "text/x-python",
   "name": "python",
   "nbconvert_exporter": "python",
   "pygments_lexer": "ipython3",
   "version": "3.9.7"
  },
  "toc": {
   "base_numbering": 1,
   "nav_menu": {},
   "number_sections": true,
   "sideBar": true,
   "skip_h1_title": false,
   "title_cell": "Содержание",
   "title_sidebar": "Contents",
   "toc_cell": true,
   "toc_position": {},
   "toc_section_display": true,
   "toc_window_display": true
  }
 },
 "nbformat": 4,
 "nbformat_minor": 5
}

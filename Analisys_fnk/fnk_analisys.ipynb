{
 "cells": [
  {
   "cell_type": "code",
   "execution_count": 1,
   "id": "a549b928",
   "metadata": {},
   "outputs": [],
   "source": [
    "from bs4 import BeautifulSoup\n",
    "import requests\n",
    "import pandas as pd\n",
    "import numpy as np"
   ]
  },
  {
   "cell_type": "code",
   "execution_count": 2,
   "id": "f4c498ab",
   "metadata": {},
   "outputs": [
    {
     "name": "stdout",
     "output_type": "stream",
     "text": [
      "Сезон рпл: 2023\n",
      "C какого тура: 1\n",
      "По какой: 2\n"
     ]
    }
   ],
   "source": [
    "season_rpl = int(input('Сезон рпл: '))\n",
    "tur_start = int(input('C какого тура: '))\n",
    "tur_finish = int(input('По какой: '))"
   ]
  },
  {
   "cell_type": "code",
   "execution_count": 3,
   "id": "afaaaa2e",
   "metadata": {
    "scrolled": true
   },
   "outputs": [],
   "source": [
    "list_trans = []\n",
    "\n",
    "for i in range(tur_start,tur_finish+1):\n",
    "    \n",
    "    # Получаю суп страницы \n",
    "\n",
    "    URL = f'https://football.kulichki.net/ruschamp/{season_rpl}/{i}/' # чемпионат, год, тур\n",
    "    HEADERS = {\"User-Agent\": \"Mozilla/5.0 (Windows NT 10.0; Win64; x64)\"}\n",
    "\n",
    "    data = requests.get(URL, headers=HEADERS)\n",
    "#    print(data.status_code)\n",
    "    soup = BeautifulSoup(data.text, 'html.parser')\n",
    "\n",
    "    # Выделяю из супа ссылки тестовых трансляций кажого матча\n",
    "\n",
    "    \n",
    "    trans = soup.findAll('b')\n",
    "    for i in trans:\n",
    "        list_atr_a = i.find_all('a', href=True)\n",
    "        for i in list_atr_a:\n",
    "            list_contain_href = i['href']\n",
    "            if 'trans' in list_contain_href:\n",
    "                list_trans.append(list_contain_href)"
   ]
  },
  {
   "cell_type": "code",
   "execution_count": 4,
   "id": "cd562c45",
   "metadata": {},
   "outputs": [
    {
     "name": "stdout",
     "output_type": "stream",
     "text": [
      "Сколько матчей сыграно:  16\n"
     ]
    }
   ],
   "source": [
    "print('Сколько матчей сыграно: ',len(list_trans))"
   ]
  },
  {
   "cell_type": "code",
   "execution_count": 5,
   "id": "1cc5e401",
   "metadata": {},
   "outputs": [],
   "source": [
    "# Открываю ссылку, получаю суп страницы с текстом матча\n",
    "\n",
    "site_found = 'https://football.kulichki.net/'\n",
    "HEADERS = {\"User-Agent\": \"Mozilla/5.0 (Windows NT 10.0; Win64; x64)\"}\n",
    "\n",
    "players = []\n",
    "events = []\n",
    "\n",
    "for match in list_trans:    \n",
    "    data = requests.get(site_found+match, headers=HEADERS)\n",
    "    soup = BeautifulSoup(data.text, 'html.parser')\n",
    "#    print(data.status_code)\n",
    "    \n",
    "    # получаю кто играл и текст матча\n",
    "\n",
    "    text = soup.findAll('tr')\n",
    "\n",
    "    for i in text:    \n",
    "        a = i.find_all('a', href=True)\n",
    "\n",
    "        for i in a:\n",
    "            if 'players' in i['href']:\n",
    "                if '' != i.text:\n",
    "                    players.append(i.text.strip())\n",
    "    players=list(set(players))\n",
    "    \n",
    "    text = soup.findAll('tr')\n",
    "\n",
    "    for i in text:    \n",
    "        list_span = i.find_all('span')\n",
    "        for i in list_span:\n",
    "            if '' != i.text:\n",
    "                events.append(i.text.strip())"
   ]
  },
  {
   "cell_type": "code",
   "execution_count": 6,
   "id": "aa8e2a6d",
   "metadata": {},
   "outputs": [],
   "source": [
    "# Делим события по запятым\n",
    "\n",
    "events_divide=[]\n",
    "for i in events:\n",
    "    if ', ' in i:\n",
    "        a=i.split(', ')\n",
    "        \n",
    "    elif '. ' in i:    \n",
    "        a=i.split('. ')\n",
    "     \n",
    "    elif '! ' in i:    \n",
    "        a=i.split('! ')\n",
    "        \n",
    "    else:\n",
    "        a=i.split('... ')\n",
    "    events_divide.append(a)\n",
    "\n",
    "events_divide = list(set(sum(events_divide, [])))"
   ]
  },
  {
   "cell_type": "code",
   "execution_count": 7,
   "id": "5a6eef45",
   "metadata": {},
   "outputs": [],
   "source": [
    "# Анализирую действия игроков по тексту матча\n",
    "s1=[]\n",
    "s2=[]\n",
    "\n",
    "for i in players:\n",
    "    for j in events_divide:\n",
    "        if i in j:\n",
    "            s1.append(i)\n",
    "            s2.append(j)\n",
    "\n",
    "\n",
    "df=pd.DataFrame()\n",
    "df['players'] = s1\n",
    "df['events'] = s2"
   ]
  },
  {
   "cell_type": "code",
   "execution_count": 14,
   "id": "1a9ff980",
   "metadata": {},
   "outputs": [
    {
     "data": {
      "text/html": [
       "<div>\n",
       "<style scoped>\n",
       "    .dataframe tbody tr th:only-of-type {\n",
       "        vertical-align: middle;\n",
       "    }\n",
       "\n",
       "    .dataframe tbody tr th {\n",
       "        vertical-align: top;\n",
       "    }\n",
       "\n",
       "    .dataframe thead th {\n",
       "        text-align: right;\n",
       "    }\n",
       "</style>\n",
       "<table border=\"1\" class=\"dataframe\">\n",
       "  <thead>\n",
       "    <tr style=\"text-align: right;\">\n",
       "      <th></th>\n",
       "      <th>players</th>\n",
       "      <th>events</th>\n",
       "      <th>pass</th>\n",
       "      <th>goal</th>\n",
       "      <th>shoot</th>\n",
       "    </tr>\n",
       "  </thead>\n",
       "  <tbody>\n",
       "    <tr>\n",
       "      <th>262</th>\n",
       "      <td>Комличенко</td>\n",
       "      <td>получает по ногам Комличенко</td>\n",
       "      <td>0</td>\n",
       "      <td>0</td>\n",
       "      <td>0</td>\n",
       "    </tr>\n",
       "    <tr>\n",
       "      <th>838</th>\n",
       "      <td>Агаларов</td>\n",
       "      <td>который прострелил на Агаларова</td>\n",
       "      <td>0</td>\n",
       "      <td>0</td>\n",
       "      <td>0</td>\n",
       "    </tr>\n",
       "    <tr>\n",
       "      <th>556</th>\n",
       "      <td>Жоау Милсон</td>\n",
       "      <td>Жоау Милсон уже успел отметиться в атаке</td>\n",
       "      <td>0</td>\n",
       "      <td>0</td>\n",
       "      <td>0</td>\n",
       "    </tr>\n",
       "    <tr>\n",
       "      <th>96</th>\n",
       "      <td>Клаудиньо</td>\n",
       "      <td>после чего разыграли оного в касание слева от ...</td>\n",
       "      <td>0</td>\n",
       "      <td>0</td>\n",
       "      <td>0</td>\n",
       "    </tr>\n",
       "    <tr>\n",
       "      <th>783</th>\n",
       "      <td>Вячеслав Грулев</td>\n",
       "      <td>Вячеслав Грулев отправил мяч в сетку</td>\n",
       "      <td>0</td>\n",
       "      <td>0</td>\n",
       "      <td>0</td>\n",
       "    </tr>\n",
       "  </tbody>\n",
       "</table>\n",
       "</div>"
      ],
      "text/plain": [
       "             players                                             events  pass  \\\n",
       "262       Комличенко                       получает по ногам Комличенко     0   \n",
       "838         Агаларов                    который прострелил на Агаларова     0   \n",
       "556      Жоау Милсон           Жоау Милсон уже успел отметиться в атаке     0   \n",
       "96         Клаудиньо  после чего разыграли оного в касание слева от ...     0   \n",
       "783  Вячеслав Грулев               Вячеслав Грулев отправил мяч в сетку     0   \n",
       "\n",
       "     goal  shoot  \n",
       "262     0      0  \n",
       "838     0      0  \n",
       "556     0      0  \n",
       "96      0      0  \n",
       "783     0      0  "
      ]
     },
     "execution_count": 14,
     "metadata": {},
     "output_type": "execute_result"
    }
   ],
   "source": [
    "df.sample(5)"
   ]
  },
  {
   "cell_type": "code",
   "execution_count": 9,
   "id": "121f1d0f",
   "metadata": {},
   "outputs": [
    {
     "data": {
      "text/plain": [
       "Изидор        32\n",
       "Комличенко    32\n",
       "Сперцян       24\n",
       "Миранчук      24\n",
       "Обляков       21\n",
       "Уткин         21\n",
       "Смолов        20\n",
       "Глушенков     20\n",
       "Карраскаль    19\n",
       "Клаудиньо     17\n",
       "Name: players, dtype: int64"
      ]
     },
     "execution_count": 9,
     "metadata": {},
     "output_type": "execute_result"
    }
   ],
   "source": [
    "df['players'].value_counts().head(10)"
   ]
  },
  {
   "cell_type": "code",
   "execution_count": 10,
   "id": "f92ed3f3",
   "metadata": {},
   "outputs": [],
   "source": [
    "events_name  = {\n",
    "    'pass':'пас',\n",
    "    'goal':'гол',\n",
    "    'shoot':'удар'\n",
    "               }\n",
    "\n",
    "for key in events_name:\n",
    "#     print(events_name[key])\n",
    "    df[key] = df['events'].apply(lambda x: 1 if events_name[key] in x else 0)"
   ]
  },
  {
   "cell_type": "code",
   "execution_count": 11,
   "id": "b4702473",
   "metadata": {},
   "outputs": [],
   "source": [
    "df.to_csv('players_events_rpl_2022_2023.csv', sep=',', encoding='utf-8')"
   ]
  },
  {
   "cell_type": "code",
   "execution_count": 12,
   "id": "b4bd2fb5",
   "metadata": {},
   "outputs": [
    {
     "data": {
      "text/html": [
       "<div>\n",
       "<style scoped>\n",
       "    .dataframe tbody tr th:only-of-type {\n",
       "        vertical-align: middle;\n",
       "    }\n",
       "\n",
       "    .dataframe tbody tr th {\n",
       "        vertical-align: top;\n",
       "    }\n",
       "\n",
       "    .dataframe thead th {\n",
       "        text-align: right;\n",
       "    }\n",
       "</style>\n",
       "<table border=\"1\" class=\"dataframe\">\n",
       "  <thead>\n",
       "    <tr style=\"text-align: right;\">\n",
       "      <th></th>\n",
       "      <th>players</th>\n",
       "      <th>events</th>\n",
       "      <th>pass</th>\n",
       "      <th>goal</th>\n",
       "      <th>shoot</th>\n",
       "    </tr>\n",
       "  </thead>\n",
       "  <tbody>\n",
       "    <tr>\n",
       "      <th>0</th>\n",
       "      <td>Сарвели</td>\n",
       "      <td>Вот это ахнул! Подхватил Сарвели мяч перед чуж...</td>\n",
       "      <td>0</td>\n",
       "      <td>0</td>\n",
       "      <td>0</td>\n",
       "    </tr>\n",
       "    <tr>\n",
       "      <th>1</th>\n",
       "      <td>Сарвели</td>\n",
       "      <td>чем надо. Сарвели с правого угла вратарской би...</td>\n",
       "      <td>0</td>\n",
       "      <td>0</td>\n",
       "      <td>0</td>\n",
       "    </tr>\n",
       "    <tr>\n",
       "      <th>2</th>\n",
       "      <td>Сарвели</td>\n",
       "      <td>Сарвели отлетает от Зайнутдинова в верховой бо...</td>\n",
       "      <td>0</td>\n",
       "      <td>0</td>\n",
       "      <td>0</td>\n",
       "    </tr>\n",
       "    <tr>\n",
       "      <th>3</th>\n",
       "      <td>Сарвели</td>\n",
       "      <td>Снова у нас в центре внимания Сарвели</td>\n",
       "      <td>0</td>\n",
       "      <td>0</td>\n",
       "      <td>0</td>\n",
       "    </tr>\n",
       "    <tr>\n",
       "      <th>4</th>\n",
       "      <td>Сарвели</td>\n",
       "      <td>после чего Сарвели справа пытался найти пасом ...</td>\n",
       "      <td>1</td>\n",
       "      <td>0</td>\n",
       "      <td>0</td>\n",
       "    </tr>\n",
       "  </tbody>\n",
       "</table>\n",
       "</div>"
      ],
      "text/plain": [
       "   players                                             events  pass  goal  \\\n",
       "0  Сарвели  Вот это ахнул! Подхватил Сарвели мяч перед чуж...     0     0   \n",
       "1  Сарвели  чем надо. Сарвели с правого угла вратарской би...     0     0   \n",
       "2  Сарвели  Сарвели отлетает от Зайнутдинова в верховой бо...     0     0   \n",
       "3  Сарвели              Снова у нас в центре внимания Сарвели     0     0   \n",
       "4  Сарвели  после чего Сарвели справа пытался найти пасом ...     1     0   \n",
       "\n",
       "   shoot  \n",
       "0      0  \n",
       "1      0  \n",
       "2      0  \n",
       "3      0  \n",
       "4      0  "
      ]
     },
     "execution_count": 12,
     "metadata": {},
     "output_type": "execute_result"
    }
   ],
   "source": [
    "df.head()"
   ]
  },
  {
   "cell_type": "code",
   "execution_count": null,
   "id": "7bbd3861",
   "metadata": {},
   "outputs": [],
   "source": []
  }
 ],
 "metadata": {
  "kernelspec": {
   "display_name": "Python 3 (ipykernel)",
   "language": "python",
   "name": "python3"
  },
  "language_info": {
   "codemirror_mode": {
    "name": "ipython",
    "version": 3
   },
   "file_extension": ".py",
   "mimetype": "text/x-python",
   "name": "python",
   "nbconvert_exporter": "python",
   "pygments_lexer": "ipython3",
   "version": "3.9.7"
  },
  "toc": {
   "base_numbering": 1,
   "nav_menu": {},
   "number_sections": true,
   "sideBar": true,
   "skip_h1_title": false,
   "title_cell": "Table of Contents",
   "title_sidebar": "Contents",
   "toc_cell": false,
   "toc_position": {},
   "toc_section_display": true,
   "toc_window_display": false
  }
 },
 "nbformat": 4,
 "nbformat_minor": 5
}

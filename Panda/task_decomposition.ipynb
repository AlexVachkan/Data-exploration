{
 "cells": [
  {
   "cell_type": "markdown",
   "id": "37e91746",
   "metadata": {},
   "source": [
    "## Цель\n",
    "\n",
    "1) Выявить модели, которые хорошо продаются по категориям(зима, осень...ботинки, туфли...)\\\n",
    "2) Выявить модели, которые плохо продаются по категориям(зима, осень...ботинки, туфли...)\\\n",
    "3) Проблемные модели по оборачиваемости(залеживаются на складе)\\\n",
    "4) Проблемные модели по оборачиваемости(заканчиваются на складе)\\\n",
    "5) Рекомендуемое кол-во на складе"
   ]
  },
  {
   "cell_type": "markdown",
   "id": "9f033951",
   "metadata": {
    "toc": true
   },
   "source": [
    "<h1>Table of Contents<span class=\"tocSkip\"></span></h1>\n",
    "<div class=\"toc\"><ul class=\"toc-item\"><li><ul class=\"toc-item\"><li><span><a href=\"#Цель\" data-toc-modified-id=\"Цель-0.1\"><span class=\"toc-item-num\">0.1&nbsp;&nbsp;</span>Цель</a></span></li></ul></li><li><span><a href=\"#Создать-единый-датафрейм\" data-toc-modified-id=\"Создать-единый-датафрейм-1\"><span class=\"toc-item-num\">1&nbsp;&nbsp;</span>Создать единый датафрейм</a></span></li><li><span><a href=\"#Создать-колонку-с-датами-в-правой-части-тадлицы,-удалить-лишнии-столбцы\" data-toc-modified-id=\"Создать-колонку-с-датами-в-правой-части-тадлицы,-удалить-лишнии-столбцы-2\"><span class=\"toc-item-num\">2&nbsp;&nbsp;</span>Создать колонку с датами в правой части тадлицы, удалить лишнии столбцы</a></span></li><li><span><a href=\"#Посчитать-оборачиваемость-моделей-обуви.\" data-toc-modified-id=\"Посчитать-оборачиваемость-моделей-обуви.-3\"><span class=\"toc-item-num\">3&nbsp;&nbsp;</span>Посчитать оборачиваемость моделей обуви.</a></span><ul class=\"toc-item\"><li><span><a href=\"#Предложить-оптимальную-оборачиваемость-и-оптимальное-кол-во-начала-периода\" data-toc-modified-id=\"Предложить-оптимальную-оборачиваемость-и-оптимальное-кол-во-начала-периода-3.1\"><span class=\"toc-item-num\">3.1&nbsp;&nbsp;</span>Предложить оптимальную оборачиваемость и оптимальное кол-во начала периода</a></span></li></ul></li><li><span><a href=\"#Выделить-топ-моделей-за-весь-период\" data-toc-modified-id=\"Выделить-топ-моделей-за-весь-период-4\"><span class=\"toc-item-num\">4&nbsp;&nbsp;</span>Выделить топ моделей за весь период</a></span></li><li><span><a href=\"#Выделить-категории(сезон,-вид,-продажи)\" data-toc-modified-id=\"Выделить-категории(сезон,-вид,-продажи)-5\"><span class=\"toc-item-num\">5&nbsp;&nbsp;</span>Выделить категории(сезон, вид, продажи)</a></span></li></ul></div>"
   ]
  },
  {
   "cell_type": "markdown",
   "id": "904f8e13",
   "metadata": {},
   "source": [
    "# Создать единый датафрейм"
   ]
  },
  {
   "cell_type": "code",
   "execution_count": 1,
   "id": "2c47f94a",
   "metadata": {},
   "outputs": [],
   "source": [
    "import pandas as pd\n",
    "import numpy as np\n",
    "\n",
    "from matplotlib import pyplot as plt\n",
    "import seaborn as sns\n",
    "\n",
    "import os"
   ]
  },
  {
   "cell_type": "code",
   "execution_count": 2,
   "id": "f62dcc55",
   "metadata": {},
   "outputs": [],
   "source": [
    "def  get_files_in_folder(path):\n",
    "   return os.listdir(path)"
   ]
  },
  {
   "cell_type": "code",
   "execution_count": 3,
   "id": "989823da",
   "metadata": {},
   "outputs": [
    {
     "name": "stdout",
     "output_type": "stream",
     "text": [
      "Начало 2022-2022-07-18-12-54-42.xls ... конец 2022-2022-07-18-13-06-47.xls\n"
     ]
    }
   ],
   "source": [
    "try:\n",
    "    files = get_files_in_folder(\n",
    "    'C:\\\\Users\\\\a.vechkanov\\\\Desktop\\\\Госты, Литература\\\\Остальное\\\\Data analitics\\\\Тестовые\\\\Тестовое задание Панда\\\\tables\\\\'\n",
    "                                )\n",
    "except:\n",
    "    files = get_files_in_folder(\n",
    "    'C:\\\\Users\\\\Александр\\\\OneDrive\\\\Рабочий стол\\\\Python\\\\ЯндексПрактикум\\\\Тестовые\\\\Тестовое задание Панда\\\\tables\\\\'\n",
    "                                )\n",
    "print(\n",
    "    'Начало {} ... конец {}'.format(files[0], files[-1])\n",
    "        ) "
   ]
  },
  {
   "cell_type": "code",
   "execution_count": 4,
   "id": "33ae2f35",
   "metadata": {},
   "outputs": [
    {
     "data": {
      "text/plain": [
       "['table0', 'table1', 'table2', 'table3']"
      ]
     },
     "execution_count": 4,
     "metadata": {},
     "output_type": "execute_result"
    }
   ],
   "source": [
    "table_names=[]\n",
    "for i in range(len(files)): \n",
    "    a = 'table'+f'{i}'\n",
    "    table_names.append(a)\n",
    "table_names[0:4]"
   ]
  },
  {
   "cell_type": "code",
   "execution_count": 5,
   "id": "08fbcd3a",
   "metadata": {},
   "outputs": [],
   "source": [
    "\n",
    "\n",
    "def open_file(file_name, table_name):    \n",
    "            # Прописываем пути\n",
    "            pth1 = 'C:\\\\Users\\\\a.vechkanov\\\\Desktop\\\\Госты, Литература\\\\Остальное\\\\Data analitics\\\\Тестовые\\\\Тестовое задание Панда\\\\tables\\\\'\n",
    "            pth2 = 'C:\\\\Users\\\\Александр\\\\OneDrive\\\\Рабочий стол\\\\Python\\\\ЯндексПрактикум\\\\Тестовые\\\\Тестовое задание Панда\\\\tables\\\\'\n",
    "\n",
    "            # конструция для загрузки файлов if elif\n",
    "            if os.path.exists(pth1):\n",
    "\n",
    "                table_name = pd.read_excel(pth1+file_name)\n",
    "\n",
    "            elif os.path.exists(pth2):\n",
    "\n",
    "                table_name = pd.read_excel(pth2+file_name)\n",
    "\n",
    "            else:\n",
    "                print('Увы и ах, но нет файлов')\n",
    "\n",
    "            return table_name\n",
    "\n",
    "tables=[]\n",
    "for i in range(len(files)):\n",
    "    globals()[table_names[i]]=open_file(files[i], table_names[i])\n",
    "    tables.append(globals()[table_names[i]])"
   ]
  },
  {
   "cell_type": "markdown",
   "id": "68670089",
   "metadata": {},
   "source": [
    "# Создать колонку с датами в правой части тадлицы, удалить лишнии столбцы"
   ]
  },
  {
   "cell_type": "code",
   "execution_count": 6,
   "id": "054e899c",
   "metadata": {},
   "outputs": [],
   "source": [
    "def preob(table):\n",
    "    table=table.drop(index=[0,1,2,3,4,7,9], axis=1)\n",
    "    table=table.drop(\n",
    "    columns=['Unnamed: 0','Unnamed: 6', 'Unnamed: 8', 'Unnamed: 10', 'Unnamed: 12'], axis=0\n",
    ")\n",
    "    table['start_period'] = table.loc[5,'Unnamed: 3']\n",
    "    table['finish_period'] = table.loc[8,'Unnamed: 3']\n",
    "    table['stock'] = table.loc[6,'Unnamed: 3']\n",
    "    table=table.drop(index=[5,6,8,11], axis=1)\n",
    "    table=table.reset_index(drop=True)\n",
    "    table=table.drop(index=[1], axis=1)\n",
    "    table.columns=table.iloc[0,:]\n",
    "    table=table.drop(index=[0], axis=1)\n",
    "    table=table.rename(columns={table.columns[3]:'Кол-во',\n",
    "                         table.columns[-1]:'Старт',\n",
    "                         table.columns[-3]:'Финиш'}).reset_index(drop=True)\n",
    "    return table"
   ]
  },
  {
   "cell_type": "code",
   "execution_count": 7,
   "id": "de8334de",
   "metadata": {},
   "outputs": [],
   "source": [
    "for i in range(len(tables)):\n",
    "    \n",
    "    tables[i]=preob(tables[i])"
   ]
  },
  {
   "cell_type": "code",
   "execution_count": 8,
   "id": "93f650e6",
   "metadata": {},
   "outputs": [
    {
     "data": {
      "text/html": [
       "<div>\n",
       "<style scoped>\n",
       "    .dataframe tbody tr th:only-of-type {\n",
       "        vertical-align: middle;\n",
       "    }\n",
       "\n",
       "    .dataframe tbody tr th {\n",
       "        vertical-align: top;\n",
       "    }\n",
       "\n",
       "    .dataframe thead th {\n",
       "        text-align: right;\n",
       "    }\n",
       "</style>\n",
       "<table border=\"1\" class=\"dataframe\">\n",
       "  <thead>\n",
       "    <tr style=\"text-align: right;\">\n",
       "      <th></th>\n",
       "      <th>Код</th>\n",
       "      <th>Артикул</th>\n",
       "      <th>Наименование</th>\n",
       "      <th>Кол-во</th>\n",
       "      <th>Начало периода</th>\n",
       "      <th>Приход</th>\n",
       "      <th>Расход</th>\n",
       "      <th>Конец периода</th>\n",
       "      <th>Финиш</th>\n",
       "      <th>Ольга+Лана (ЕКБ)</th>\n",
       "      <th>Старт</th>\n",
       "    </tr>\n",
       "  </thead>\n",
       "  <tbody>\n",
       "    <tr>\n",
       "      <th>0</th>\n",
       "      <td>01025</td>\n",
       "      <td>32100</td>\n",
       "      <td>Ботинки женские MARKO (арт. 32100)</td>\n",
       "      <td>шт</td>\n",
       "      <td>58</td>\n",
       "      <td>0</td>\n",
       "      <td>1</td>\n",
       "      <td>57</td>\n",
       "      <td>2022-01-24</td>\n",
       "      <td>Ольга+Лана (ЕКБ)</td>\n",
       "      <td>2022-01-30 23:59:00</td>\n",
       "    </tr>\n",
       "    <tr>\n",
       "      <th>1</th>\n",
       "      <td>01026</td>\n",
       "      <td>32106</td>\n",
       "      <td>Ботинки женские MARKO (арт. 32106)</td>\n",
       "      <td>шт</td>\n",
       "      <td>34</td>\n",
       "      <td>0</td>\n",
       "      <td>1</td>\n",
       "      <td>29</td>\n",
       "      <td>2022-01-24</td>\n",
       "      <td>Ольга+Лана (ЕКБ)</td>\n",
       "      <td>2022-01-30 23:59:00</td>\n",
       "    </tr>\n",
       "    <tr>\n",
       "      <th>2</th>\n",
       "      <td>01032</td>\n",
       "      <td>350251</td>\n",
       "      <td>Ботинки женские MARKO (арт. 350251)</td>\n",
       "      <td>шт</td>\n",
       "      <td>35</td>\n",
       "      <td>0</td>\n",
       "      <td>2</td>\n",
       "      <td>33</td>\n",
       "      <td>2022-01-24</td>\n",
       "      <td>Ольга+Лана (ЕКБ)</td>\n",
       "      <td>2022-01-30 23:59:00</td>\n",
       "    </tr>\n",
       "    <tr>\n",
       "      <th>3</th>\n",
       "      <td>01041</td>\n",
       "      <td>421061</td>\n",
       "      <td>Ботинки Мужской MARKO (арт. 421061)</td>\n",
       "      <td>шт</td>\n",
       "      <td>37</td>\n",
       "      <td>0</td>\n",
       "      <td>1</td>\n",
       "      <td>34</td>\n",
       "      <td>2022-01-24</td>\n",
       "      <td>Ольга+Лана (ЕКБ)</td>\n",
       "      <td>2022-01-30 23:59:00</td>\n",
       "    </tr>\n",
       "    <tr>\n",
       "      <th>4</th>\n",
       "      <td>00148</td>\n",
       "      <td>В 13-2</td>\n",
       "      <td>Женские ботинки MARKO (коричневые, осень) (арт...</td>\n",
       "      <td>шт</td>\n",
       "      <td>1</td>\n",
       "      <td>0</td>\n",
       "      <td>1</td>\n",
       "      <td>0</td>\n",
       "      <td>2022-01-24</td>\n",
       "      <td>Ольга+Лана (ЕКБ)</td>\n",
       "      <td>2022-01-30 23:59:00</td>\n",
       "    </tr>\n",
       "  </tbody>\n",
       "</table>\n",
       "</div>"
      ],
      "text/plain": [
       "0    Код Артикул                                       Наименование Кол-во  \\\n",
       "0  01025   32100                 Ботинки женские MARKO (арт. 32100)     шт   \n",
       "1  01026   32106                 Ботинки женские MARKO (арт. 32106)     шт   \n",
       "2  01032  350251                Ботинки женские MARKO (арт. 350251)     шт   \n",
       "3  01041  421061                Ботинки Мужской MARKO (арт. 421061)     шт   \n",
       "4  00148  В 13-2  Женские ботинки MARKO (коричневые, осень) (арт...     шт   \n",
       "\n",
       "0  Начало периода  Приход  Расход  Конец периода      Финиш  Ольга+Лана (ЕКБ)  \\\n",
       "0              58       0       1             57 2022-01-24  Ольга+Лана (ЕКБ)   \n",
       "1              34       0       1             29 2022-01-24  Ольга+Лана (ЕКБ)   \n",
       "2              35       0       2             33 2022-01-24  Ольга+Лана (ЕКБ)   \n",
       "3              37       0       1             34 2022-01-24  Ольга+Лана (ЕКБ)   \n",
       "4               1       0       1              0 2022-01-24  Ольга+Лана (ЕКБ)   \n",
       "\n",
       "0               Старт  \n",
       "0 2022-01-30 23:59:00  \n",
       "1 2022-01-30 23:59:00  \n",
       "2 2022-01-30 23:59:00  \n",
       "3 2022-01-30 23:59:00  \n",
       "4 2022-01-30 23:59:00  "
      ]
     },
     "execution_count": 8,
     "metadata": {},
     "output_type": "execute_result"
    }
   ],
   "source": [
    "finish_table=pd.concat(tables)\n",
    "finish_table = finish_table.dropna()\n",
    "finish_table.iloc[:,[4,5,6,7]]=finish_table.iloc[:,[4,5,6,7]].astype('int')\n",
    "finish_table.head()"
   ]
  },
  {
   "cell_type": "code",
   "execution_count": 9,
   "id": "5cb5ca76",
   "metadata": {},
   "outputs": [
    {
     "name": "stdout",
     "output_type": "stream",
     "text": [
      "<class 'pandas.core.frame.DataFrame'>\n",
      "Int64Index: 3094 entries, 0 to 119\n",
      "Data columns (total 11 columns):\n",
      " #   Column            Non-Null Count  Dtype         \n",
      "---  ------            --------------  -----         \n",
      " 0   Код               3094 non-null   object        \n",
      " 1   Артикул           3094 non-null   object        \n",
      " 2   Наименование      3094 non-null   object        \n",
      " 3   Кол-во            3094 non-null   object        \n",
      " 4   Начало периода    3094 non-null   int32         \n",
      " 5   Приход            3094 non-null   int32         \n",
      " 6   Расход            3094 non-null   int32         \n",
      " 7   Конец периода     3094 non-null   int32         \n",
      " 8   Финиш             3094 non-null   datetime64[ns]\n",
      " 9   Ольга+Лана (ЕКБ)  3094 non-null   object        \n",
      " 10  Старт             3094 non-null   datetime64[ns]\n",
      "dtypes: datetime64[ns](2), int32(4), object(5)\n",
      "memory usage: 241.7+ KB\n"
     ]
    }
   ],
   "source": [
    "finish_table.info()"
   ]
  },
  {
   "cell_type": "code",
   "execution_count": 10,
   "id": "3031740c",
   "metadata": {},
   "outputs": [
    {
     "data": {
      "text/html": [
       "<div>\n",
       "<style scoped>\n",
       "    .dataframe tbody tr th:only-of-type {\n",
       "        vertical-align: middle;\n",
       "    }\n",
       "\n",
       "    .dataframe tbody tr th {\n",
       "        vertical-align: top;\n",
       "    }\n",
       "\n",
       "    .dataframe thead th {\n",
       "        text-align: right;\n",
       "    }\n",
       "</style>\n",
       "<table border=\"1\" class=\"dataframe\">\n",
       "  <thead>\n",
       "    <tr style=\"text-align: right;\">\n",
       "      <th></th>\n",
       "      <th>Начало периода</th>\n",
       "      <th>Приход</th>\n",
       "      <th>Расход</th>\n",
       "      <th>Конец периода</th>\n",
       "    </tr>\n",
       "  </thead>\n",
       "  <tbody>\n",
       "    <tr>\n",
       "      <th>count</th>\n",
       "      <td>3094.000000</td>\n",
       "      <td>3094.000000</td>\n",
       "      <td>3094.000000</td>\n",
       "      <td>3094.000000</td>\n",
       "    </tr>\n",
       "    <tr>\n",
       "      <th>mean</th>\n",
       "      <td>45.634131</td>\n",
       "      <td>0.619263</td>\n",
       "      <td>2.769877</td>\n",
       "      <td>39.993859</td>\n",
       "    </tr>\n",
       "    <tr>\n",
       "      <th>std</th>\n",
       "      <td>43.761063</td>\n",
       "      <td>2.028371</td>\n",
       "      <td>2.748197</td>\n",
       "      <td>40.984415</td>\n",
       "    </tr>\n",
       "    <tr>\n",
       "      <th>min</th>\n",
       "      <td>0.000000</td>\n",
       "      <td>0.000000</td>\n",
       "      <td>0.000000</td>\n",
       "      <td>-1.000000</td>\n",
       "    </tr>\n",
       "    <tr>\n",
       "      <th>25%</th>\n",
       "      <td>15.000000</td>\n",
       "      <td>0.000000</td>\n",
       "      <td>1.000000</td>\n",
       "      <td>12.000000</td>\n",
       "    </tr>\n",
       "    <tr>\n",
       "      <th>50%</th>\n",
       "      <td>36.000000</td>\n",
       "      <td>0.000000</td>\n",
       "      <td>2.000000</td>\n",
       "      <td>30.000000</td>\n",
       "    </tr>\n",
       "    <tr>\n",
       "      <th>75%</th>\n",
       "      <td>67.000000</td>\n",
       "      <td>0.000000</td>\n",
       "      <td>3.000000</td>\n",
       "      <td>58.000000</td>\n",
       "    </tr>\n",
       "    <tr>\n",
       "      <th>max</th>\n",
       "      <td>696.000000</td>\n",
       "      <td>27.000000</td>\n",
       "      <td>28.000000</td>\n",
       "      <td>575.000000</td>\n",
       "    </tr>\n",
       "  </tbody>\n",
       "</table>\n",
       "</div>"
      ],
      "text/plain": [
       "0      Начало периода       Приход       Расход  Конец периода\n",
       "count     3094.000000  3094.000000  3094.000000    3094.000000\n",
       "mean        45.634131     0.619263     2.769877      39.993859\n",
       "std         43.761063     2.028371     2.748197      40.984415\n",
       "min          0.000000     0.000000     0.000000      -1.000000\n",
       "25%         15.000000     0.000000     1.000000      12.000000\n",
       "50%         36.000000     0.000000     2.000000      30.000000\n",
       "75%         67.000000     0.000000     3.000000      58.000000\n",
       "max        696.000000    27.000000    28.000000     575.000000"
      ]
     },
     "execution_count": 10,
     "metadata": {},
     "output_type": "execute_result"
    }
   ],
   "source": [
    "finish_table.describe()"
   ]
  },
  {
   "cell_type": "markdown",
   "id": "5bad5b7c",
   "metadata": {},
   "source": [
    "# Посчитать оборачиваемость моделей обуви."
   ]
  },
  {
   "cell_type": "code",
   "execution_count": 11,
   "id": "5ba1a192",
   "metadata": {},
   "outputs": [],
   "source": [
    "cicle=7"
   ]
  },
  {
   "cell_type": "markdown",
   "id": "b2c963e6",
   "metadata": {},
   "source": [
    "Средняя оборачиваемость моделей за весь период"
   ]
  },
  {
   "cell_type": "code",
   "execution_count": 12,
   "id": "20da0bec",
   "metadata": {},
   "outputs": [
    {
     "data": {
      "text/html": [
       "<div>\n",
       "<style scoped>\n",
       "    .dataframe tbody tr th:only-of-type {\n",
       "        vertical-align: middle;\n",
       "    }\n",
       "\n",
       "    .dataframe tbody tr th {\n",
       "        vertical-align: top;\n",
       "    }\n",
       "\n",
       "    .dataframe thead th {\n",
       "        text-align: right;\n",
       "    }\n",
       "</style>\n",
       "<table border=\"1\" class=\"dataframe\">\n",
       "  <thead>\n",
       "    <tr style=\"text-align: right;\">\n",
       "      <th></th>\n",
       "      <th>Начало периода</th>\n",
       "      <th>Расход</th>\n",
       "      <th>Оборачиваемость</th>\n",
       "    </tr>\n",
       "  </thead>\n",
       "  <tbody>\n",
       "    <tr>\n",
       "      <th>count</th>\n",
       "      <td>966.000000</td>\n",
       "      <td>966.000000</td>\n",
       "      <td>966.000000</td>\n",
       "    </tr>\n",
       "    <tr>\n",
       "      <th>mean</th>\n",
       "      <td>40.526398</td>\n",
       "      <td>2.489648</td>\n",
       "      <td>140.629271</td>\n",
       "    </tr>\n",
       "    <tr>\n",
       "      <th>std</th>\n",
       "      <td>40.140757</td>\n",
       "      <td>1.915277</td>\n",
       "      <td>144.680275</td>\n",
       "    </tr>\n",
       "    <tr>\n",
       "      <th>min</th>\n",
       "      <td>0.500000</td>\n",
       "      <td>0.500000</td>\n",
       "      <td>2.333333</td>\n",
       "    </tr>\n",
       "    <tr>\n",
       "      <th>25%</th>\n",
       "      <td>12.000000</td>\n",
       "      <td>1.000000</td>\n",
       "      <td>42.000000</td>\n",
       "    </tr>\n",
       "    <tr>\n",
       "      <th>50%</th>\n",
       "      <td>32.500000</td>\n",
       "      <td>2.000000</td>\n",
       "      <td>98.000000</td>\n",
       "    </tr>\n",
       "    <tr>\n",
       "      <th>75%</th>\n",
       "      <td>61.500000</td>\n",
       "      <td>3.000000</td>\n",
       "      <td>186.375000</td>\n",
       "    </tr>\n",
       "    <tr>\n",
       "      <th>max</th>\n",
       "      <td>575.000000</td>\n",
       "      <td>13.000000</td>\n",
       "      <td>1085.000000</td>\n",
       "    </tr>\n",
       "  </tbody>\n",
       "</table>\n",
       "</div>"
      ],
      "text/plain": [
       "0      Начало периода      Расход  Оборачиваемость\n",
       "count      966.000000  966.000000       966.000000\n",
       "mean        40.526398    2.489648       140.629271\n",
       "std         40.140757    1.915277       144.680275\n",
       "min          0.500000    0.500000         2.333333\n",
       "25%         12.000000    1.000000        42.000000\n",
       "50%         32.500000    2.000000        98.000000\n",
       "75%         61.500000    3.000000       186.375000\n",
       "max        575.000000   13.000000      1085.000000"
      ]
     },
     "execution_count": 12,
     "metadata": {},
     "output_type": "execute_result"
    }
   ],
   "source": [
    "turnover=finish_table.groupby(['Код' ,'Наименование']).agg({\n",
    "                                                                'Начало периода':'median',\n",
    "                                                                'Расход':'median'\n",
    "                                                          })\n",
    "turnover['Оборачиваемость'] = turnover['Начало периода'] * cicle / turnover['Расход']\n",
    "turnover.describe()"
   ]
  },
  {
   "cell_type": "code",
   "execution_count": 13,
   "id": "36c53546",
   "metadata": {},
   "outputs": [
    {
     "data": {
      "text/html": [
       "<div>\n",
       "<style scoped>\n",
       "    .dataframe tbody tr th:only-of-type {\n",
       "        vertical-align: middle;\n",
       "    }\n",
       "\n",
       "    .dataframe tbody tr th {\n",
       "        vertical-align: top;\n",
       "    }\n",
       "\n",
       "    .dataframe thead th {\n",
       "        text-align: right;\n",
       "    }\n",
       "</style>\n",
       "<table border=\"1\" class=\"dataframe\">\n",
       "  <thead>\n",
       "    <tr style=\"text-align: right;\">\n",
       "      <th></th>\n",
       "      <th></th>\n",
       "      <th>Начало периода</th>\n",
       "      <th>Расход</th>\n",
       "      <th>Оборачиваемость</th>\n",
       "    </tr>\n",
       "    <tr>\n",
       "      <th>Код</th>\n",
       "      <th>Наименование</th>\n",
       "      <th></th>\n",
       "      <th></th>\n",
       "      <th></th>\n",
       "    </tr>\n",
       "  </thead>\n",
       "  <tbody>\n",
       "    <tr>\n",
       "      <th>01284</th>\n",
       "      <th>Женские ботинки MARKO (черные, осень) (арт. E 3007-2)</th>\n",
       "      <td>1.5</td>\n",
       "      <td>4.5</td>\n",
       "      <td>2.333333</td>\n",
       "    </tr>\n",
       "    <tr>\n",
       "      <th>01817</th>\n",
       "      <th>Женские сапоги MARKO (черные, зима) (арт. Н 3151-1)</th>\n",
       "      <td>1.0</td>\n",
       "      <td>2.0</td>\n",
       "      <td>3.500000</td>\n",
       "    </tr>\n",
       "    <tr>\n",
       "      <th>01741</th>\n",
       "      <th>Женские полусапоги MARKO (черные, осень) (арт. b 703)</th>\n",
       "      <td>0.5</td>\n",
       "      <td>1.0</td>\n",
       "      <td>3.500000</td>\n",
       "    </tr>\n",
       "    <tr>\n",
       "      <th>01298</th>\n",
       "      <th>Женские ботинки MARKO (синие, осень) (арт. BK 255-5)</th>\n",
       "      <td>3.0</td>\n",
       "      <td>5.0</td>\n",
       "      <td>4.200000</td>\n",
       "    </tr>\n",
       "    <tr>\n",
       "      <th>00039</th>\n",
       "      <th>Женские полусапоги MARKO (черные, осень) (арт. Е 963-1)</th>\n",
       "      <td>1.0</td>\n",
       "      <td>1.0</td>\n",
       "      <td>7.000000</td>\n",
       "    </tr>\n",
       "    <tr>\n",
       "      <th>...</th>\n",
       "      <th>...</th>\n",
       "      <td>...</td>\n",
       "      <td>...</td>\n",
       "      <td>...</td>\n",
       "    </tr>\n",
       "    <tr>\n",
       "      <th>02492</th>\n",
       "      <th>Женские туфли MARKO (черные, лето) (арт. Z 83-3)</th>\n",
       "      <td>112.0</td>\n",
       "      <td>1.0</td>\n",
       "      <td>784.000000</td>\n",
       "    </tr>\n",
       "    <tr>\n",
       "      <th>02498</th>\n",
       "      <th>Женские туфли MARKO (серебристо-черные, лето) (арт. K 25-5)</th>\n",
       "      <td>115.0</td>\n",
       "      <td>1.0</td>\n",
       "      <td>805.000000</td>\n",
       "    </tr>\n",
       "    <tr>\n",
       "      <th>01144</th>\n",
       "      <th>Женские ботинки MARKO (бордовые, зима) (арт. 623-9)</th>\n",
       "      <td>122.0</td>\n",
       "      <td>1.0</td>\n",
       "      <td>854.000000</td>\n",
       "    </tr>\n",
       "    <tr>\n",
       "      <th>01373</th>\n",
       "      <th>Мужские ботинки MARKO (коричневые, осень) (арт. B 88160-001)</th>\n",
       "      <td>143.0</td>\n",
       "      <td>1.0</td>\n",
       "      <td>1001.000000</td>\n",
       "    </tr>\n",
       "    <tr>\n",
       "      <th>02586</th>\n",
       "      <th>Женские туфли MARKO (серые, лето) (арт. BK 336-10)</th>\n",
       "      <td>155.0</td>\n",
       "      <td>1.0</td>\n",
       "      <td>1085.000000</td>\n",
       "    </tr>\n",
       "  </tbody>\n",
       "</table>\n",
       "<p>966 rows × 3 columns</p>\n",
       "</div>"
      ],
      "text/plain": [
       "0                                                         Начало периода  \\\n",
       "Код   Наименование                                                         \n",
       "01284 Женские ботинки MARKO (черные, осень) (арт. E 3...             1.5   \n",
       "01817 Женские сапоги MARKO (черные, зима) (арт. Н 315...             1.0   \n",
       "01741 Женские полусапоги MARKO (черные, осень) (арт. ...             0.5   \n",
       "01298 Женские ботинки MARKO (синие, осень) (арт. BK 2...             3.0   \n",
       "00039 Женские полусапоги MARKO (черные, осень) (арт. ...             1.0   \n",
       "...                                                                  ...   \n",
       "02492 Женские туфли MARKO (черные, лето) (арт. Z 83-3)             112.0   \n",
       "02498 Женские туфли MARKO (серебристо-черные, лето) (...           115.0   \n",
       "01144 Женские ботинки MARKO (бордовые, зима) (арт. 62...           122.0   \n",
       "01373 Мужские ботинки MARKO (коричневые, осень) (арт....           143.0   \n",
       "02586 Женские туфли MARKO (серые, лето) (арт. BK 336-10)           155.0   \n",
       "\n",
       "0                                                         Расход  \\\n",
       "Код   Наименование                                                 \n",
       "01284 Женские ботинки MARKO (черные, осень) (арт. E 3...     4.5   \n",
       "01817 Женские сапоги MARKO (черные, зима) (арт. Н 315...     2.0   \n",
       "01741 Женские полусапоги MARKO (черные, осень) (арт. ...     1.0   \n",
       "01298 Женские ботинки MARKO (синие, осень) (арт. BK 2...     5.0   \n",
       "00039 Женские полусапоги MARKO (черные, осень) (арт. ...     1.0   \n",
       "...                                                          ...   \n",
       "02492 Женские туфли MARKO (черные, лето) (арт. Z 83-3)       1.0   \n",
       "02498 Женские туфли MARKO (серебристо-черные, лето) (...     1.0   \n",
       "01144 Женские ботинки MARKO (бордовые, зима) (арт. 62...     1.0   \n",
       "01373 Мужские ботинки MARKO (коричневые, осень) (арт....     1.0   \n",
       "02586 Женские туфли MARKO (серые, лето) (арт. BK 336-10)     1.0   \n",
       "\n",
       "0                                                         Оборачиваемость  \n",
       "Код   Наименование                                                         \n",
       "01284 Женские ботинки MARKO (черные, осень) (арт. E 3...         2.333333  \n",
       "01817 Женские сапоги MARKO (черные, зима) (арт. Н 315...         3.500000  \n",
       "01741 Женские полусапоги MARKO (черные, осень) (арт. ...         3.500000  \n",
       "01298 Женские ботинки MARKO (синие, осень) (арт. BK 2...         4.200000  \n",
       "00039 Женские полусапоги MARKO (черные, осень) (арт. ...         7.000000  \n",
       "...                                                                   ...  \n",
       "02492 Женские туфли MARKO (черные, лето) (арт. Z 83-3)         784.000000  \n",
       "02498 Женские туфли MARKO (серебристо-черные, лето) (...       805.000000  \n",
       "01144 Женские ботинки MARKO (бордовые, зима) (арт. 62...       854.000000  \n",
       "01373 Мужские ботинки MARKO (коричневые, осень) (арт....      1001.000000  \n",
       "02586 Женские туфли MARKO (серые, лето) (арт. BK 336-10)      1085.000000  \n",
       "\n",
       "[966 rows x 3 columns]"
      ]
     },
     "execution_count": 13,
     "metadata": {},
     "output_type": "execute_result"
    }
   ],
   "source": [
    "turnover.sort_values(by='Оборачиваемость')"
   ]
  },
  {
   "cell_type": "markdown",
   "id": "38c30d12",
   "metadata": {},
   "source": [
    ">Чем больше оборачиваемость, тем меньше товар залеживется на складе."
   ]
  },
  {
   "cell_type": "code",
   "execution_count": 14,
   "id": "2a4f08a4",
   "metadata": {},
   "outputs": [
    {
     "data": {
      "text/plain": [
       "<AxesSubplot:xlabel='Оборачиваемость', ylabel='Count'>"
      ]
     },
     "execution_count": 14,
     "metadata": {},
     "output_type": "execute_result"
    },
    {
     "data": {
      "image/png": "[encoded data removed]",
      "text/plain": [
       "<Figure size 432x288 with 1 Axes>"
      ]
     },
     "metadata": {
      "needs_background": "light"
     },
     "output_type": "display_data"
    }
   ],
   "source": [
    "sns.histplot(turnover['Оборачиваемость'])"
   ]
  },
  {
   "cell_type": "markdown",
   "id": "e010f29c",
   "metadata": {},
   "source": [
    "    Для на оптимально держать оборачиваемость на уровне 7, что бы раз в неделю поплнять запасы магазина. И иметь страховой запас еще на 7 дней. Значит будем держать оборачиваемость в районе 14 дней. \n",
    "    \n",
    "    Как видим из графика склад у нас очень забит"
   ]
  },
  {
   "cell_type": "markdown",
   "id": "7f95d41b",
   "metadata": {},
   "source": [
    "## Предложить оптимальную оборачиваемость и оптимальное кол-во начала периода "
   ]
  },
  {
   "cell_type": "code",
   "execution_count": 15,
   "id": "7db12112",
   "metadata": {},
   "outputs": [],
   "source": [
    "turnover_optim=14"
   ]
  },
  {
   "cell_type": "code",
   "execution_count": 16,
   "id": "3aa80261",
   "metadata": {},
   "outputs": [
    {
     "data": {
      "text/html": [
       "<div>\n",
       "<style scoped>\n",
       "    .dataframe tbody tr th:only-of-type {\n",
       "        vertical-align: middle;\n",
       "    }\n",
       "\n",
       "    .dataframe tbody tr th {\n",
       "        vertical-align: top;\n",
       "    }\n",
       "\n",
       "    .dataframe thead th {\n",
       "        text-align: right;\n",
       "    }\n",
       "</style>\n",
       "<table border=\"1\" class=\"dataframe\">\n",
       "  <thead>\n",
       "    <tr style=\"text-align: right;\">\n",
       "      <th></th>\n",
       "      <th></th>\n",
       "      <th>Начало периода</th>\n",
       "      <th>Расход</th>\n",
       "      <th>Оборачиваемость</th>\n",
       "      <th>Начало периода - оптимальное</th>\n",
       "    </tr>\n",
       "    <tr>\n",
       "      <th>Код</th>\n",
       "      <th>Наименование</th>\n",
       "      <th></th>\n",
       "      <th></th>\n",
       "      <th></th>\n",
       "      <th></th>\n",
       "    </tr>\n",
       "  </thead>\n",
       "  <tbody>\n",
       "    <tr>\n",
       "      <th>00039</th>\n",
       "      <th>Женские полусапоги MARKO (черные, осень) (арт. Е 963-1)</th>\n",
       "      <td>1.0</td>\n",
       "      <td>1.0</td>\n",
       "      <td>7.000000</td>\n",
       "      <td>2.0</td>\n",
       "    </tr>\n",
       "    <tr>\n",
       "      <th>00044</th>\n",
       "      <th>Мужские ботинки MARKO (серые, зима) (арт. ОМ 56 z)</th>\n",
       "      <td>1.0</td>\n",
       "      <td>1.0</td>\n",
       "      <td>7.000000</td>\n",
       "      <td>2.0</td>\n",
       "    </tr>\n",
       "    <tr>\n",
       "      <th>00095</th>\n",
       "      <th>Женские ботинки MARKO (синие, осень) (арт. F 07-3)</th>\n",
       "      <td>1.0</td>\n",
       "      <td>1.0</td>\n",
       "      <td>7.000000</td>\n",
       "      <td>2.0</td>\n",
       "    </tr>\n",
       "    <tr>\n",
       "      <th>00097</th>\n",
       "      <th>Женские ботинки MARKO (синие, осень) (арт. F 09-3)</th>\n",
       "      <td>4.0</td>\n",
       "      <td>1.0</td>\n",
       "      <td>28.000000</td>\n",
       "      <td>2.0</td>\n",
       "    </tr>\n",
       "    <tr>\n",
       "      <th>00099</th>\n",
       "      <th>Женские ботинки MARKO (синие, осень) (арт. H 08-3)</th>\n",
       "      <td>9.0</td>\n",
       "      <td>8.0</td>\n",
       "      <td>7.875000</td>\n",
       "      <td>16.0</td>\n",
       "    </tr>\n",
       "    <tr>\n",
       "      <th>...</th>\n",
       "      <th>...</th>\n",
       "      <td>...</td>\n",
       "      <td>...</td>\n",
       "      <td>...</td>\n",
       "      <td>...</td>\n",
       "    </tr>\n",
       "    <tr>\n",
       "      <th>02636</th>\n",
       "      <th>Женские туфли MARKO (бело-коричневые, лето) (арт. 5016-3)</th>\n",
       "      <td>81.0</td>\n",
       "      <td>2.0</td>\n",
       "      <td>283.500000</td>\n",
       "      <td>4.0</td>\n",
       "    </tr>\n",
       "    <tr>\n",
       "      <th>02641</th>\n",
       "      <th>Женские туфли MARKO (серо-бежевые, лето) (арт. 1612-1)</th>\n",
       "      <td>67.0</td>\n",
       "      <td>4.0</td>\n",
       "      <td>117.250000</td>\n",
       "      <td>8.0</td>\n",
       "    </tr>\n",
       "    <tr>\n",
       "      <th>02643</th>\n",
       "      <th>Женские кроссовки MARKO (в ассортименте, лето) (арт. 3202)</th>\n",
       "      <td>575.0</td>\n",
       "      <td>13.0</td>\n",
       "      <td>309.615385</td>\n",
       "      <td>26.0</td>\n",
       "    </tr>\n",
       "    <tr>\n",
       "      <th>02644</th>\n",
       "      <th>Мужские кроссовки MARKO (в ассортименте, лето) (арт. 2102)</th>\n",
       "      <td>523.0</td>\n",
       "      <td>11.0</td>\n",
       "      <td>332.818182</td>\n",
       "      <td>22.0</td>\n",
       "    </tr>\n",
       "    <tr>\n",
       "      <th>02660</th>\n",
       "      <th>Женские туфли MARKO (коричнево-бежевые, лето) (арт. A 6209-1)</th>\n",
       "      <td>80.0</td>\n",
       "      <td>4.0</td>\n",
       "      <td>140.000000</td>\n",
       "      <td>8.0</td>\n",
       "    </tr>\n",
       "  </tbody>\n",
       "</table>\n",
       "<p>966 rows × 4 columns</p>\n",
       "</div>"
      ],
      "text/plain": [
       "0                                                         Начало периода  \\\n",
       "Код   Наименование                                                         \n",
       "00039 Женские полусапоги MARKO (черные, осень) (арт. ...             1.0   \n",
       "00044 Мужские ботинки MARKO (серые, зима) (арт. ОМ 56 z)             1.0   \n",
       "00095 Женские ботинки MARKO (синие, осень) (арт. F 07-3)             1.0   \n",
       "00097 Женские ботинки MARKO (синие, осень) (арт. F 09-3)             4.0   \n",
       "00099 Женские ботинки MARKO (синие, осень) (арт. H 08-3)             9.0   \n",
       "...                                                                  ...   \n",
       "02636 Женские туфли MARKO (бело-коричневые, лето) (ар...            81.0   \n",
       "02641 Женские туфли MARKO (серо-бежевые, лето) (арт. ...            67.0   \n",
       "02643 Женские кроссовки MARKO (в ассортименте, лето) ...           575.0   \n",
       "02644 Мужские кроссовки MARKO (в ассортименте, лето) ...           523.0   \n",
       "02660 Женские туфли MARKO (коричнево-бежевые, лето) (...            80.0   \n",
       "\n",
       "0                                                         Расход  \\\n",
       "Код   Наименование                                                 \n",
       "00039 Женские полусапоги MARKO (черные, осень) (арт. ...     1.0   \n",
       "00044 Мужские ботинки MARKO (серые, зима) (арт. ОМ 56 z)     1.0   \n",
       "00095 Женские ботинки MARKO (синие, осень) (арт. F 07-3)     1.0   \n",
       "00097 Женские ботинки MARKO (синие, осень) (арт. F 09-3)     1.0   \n",
       "00099 Женские ботинки MARKO (синие, осень) (арт. H 08-3)     8.0   \n",
       "...                                                          ...   \n",
       "02636 Женские туфли MARKO (бело-коричневые, лето) (ар...     2.0   \n",
       "02641 Женские туфли MARKO (серо-бежевые, лето) (арт. ...     4.0   \n",
       "02643 Женские кроссовки MARKO (в ассортименте, лето) ...    13.0   \n",
       "02644 Мужские кроссовки MARKO (в ассортименте, лето) ...    11.0   \n",
       "02660 Женские туфли MARKO (коричнево-бежевые, лето) (...     4.0   \n",
       "\n",
       "0                                                         Оборачиваемость  \\\n",
       "Код   Наименование                                                          \n",
       "00039 Женские полусапоги MARKO (черные, осень) (арт. ...         7.000000   \n",
       "00044 Мужские ботинки MARKO (серые, зима) (арт. ОМ 56 z)         7.000000   \n",
       "00095 Женские ботинки MARKO (синие, осень) (арт. F 07-3)         7.000000   \n",
       "00097 Женские ботинки MARKO (синие, осень) (арт. F 09-3)        28.000000   \n",
       "00099 Женские ботинки MARKO (синие, осень) (арт. H 08-3)         7.875000   \n",
       "...                                                                   ...   \n",
       "02636 Женские туфли MARKO (бело-коричневые, лето) (ар...       283.500000   \n",
       "02641 Женские туфли MARKO (серо-бежевые, лето) (арт. ...       117.250000   \n",
       "02643 Женские кроссовки MARKO (в ассортименте, лето) ...       309.615385   \n",
       "02644 Мужские кроссовки MARKO (в ассортименте, лето) ...       332.818182   \n",
       "02660 Женские туфли MARKO (коричнево-бежевые, лето) (...       140.000000   \n",
       "\n",
       "0                                                         Начало периода - оптимальное  \n",
       "Код   Наименование                                                                      \n",
       "00039 Женские полусапоги MARKO (черные, осень) (арт. ...                           2.0  \n",
       "00044 Мужские ботинки MARKO (серые, зима) (арт. ОМ 56 z)                           2.0  \n",
       "00095 Женские ботинки MARKO (синие, осень) (арт. F 07-3)                           2.0  \n",
       "00097 Женские ботинки MARKO (синие, осень) (арт. F 09-3)                           2.0  \n",
       "00099 Женские ботинки MARKO (синие, осень) (арт. H 08-3)                          16.0  \n",
       "...                                                                                ...  \n",
       "02636 Женские туфли MARKO (бело-коричневые, лето) (ар...                           4.0  \n",
       "02641 Женские туфли MARKO (серо-бежевые, лето) (арт. ...                           8.0  \n",
       "02643 Женские кроссовки MARKO (в ассортименте, лето) ...                          26.0  \n",
       "02644 Мужские кроссовки MARKO (в ассортименте, лето) ...                          22.0  \n",
       "02660 Женские туфли MARKO (коричнево-бежевые, лето) (...                           8.0  \n",
       "\n",
       "[966 rows x 4 columns]"
      ]
     },
     "execution_count": 16,
     "metadata": {},
     "output_type": "execute_result"
    }
   ],
   "source": [
    "turnover['Начало периода - оптимальное'] = turnover_optim * turnover['Расход'] / cicle\n",
    "turnover"
   ]
  },
  {
   "cell_type": "code",
   "execution_count": 17,
   "id": "8178ebc9",
   "metadata": {},
   "outputs": [
    {
     "data": {
      "text/plain": [
       "<AxesSubplot:xlabel='Начало периода - оптимальное', ylabel='Count'>"
      ]
     },
     "execution_count": 17,
     "metadata": {},
     "output_type": "execute_result"
    },
    {
     "data": {
      "image/png": "[encoded data removed]",
      "text/plain": [
       "<Figure size 432x288 with 1 Axes>"
      ]
     },
     "metadata": {
      "needs_background": "light"
     },
     "output_type": "display_data"
    }
   ],
   "source": [
    "sns.histplot(turnover['Начало периода - оптимальное'])"
   ]
  },
  {
   "cell_type": "markdown",
   "id": "acca89f2",
   "metadata": {},
   "source": [
    "Выявим те модели которые необходимо пополнить"
   ]
  },
  {
   "cell_type": "code",
   "execution_count": 18,
   "id": "4f8ea90a",
   "metadata": {},
   "outputs": [],
   "source": [
    "def add_model(row):\n",
    "    \n",
    "    if row['Начало периода'] < row['Начало периода - оптимальное']:\n",
    "        return 'Поплнить склад'\n",
    "    elif row['Начало периода'] > 2*row['Начало периода - оптимальное']:\n",
    "        return 'Много излишков'\n",
    "    else:\n",
    "        return 'Оптимально'"
   ]
  },
  {
   "cell_type": "code",
   "execution_count": 19,
   "id": "128eb1ab",
   "metadata": {},
   "outputs": [
    {
     "data": {
      "text/plain": [
       "<AxesSubplot:xlabel='Итог по складу', ylabel='Count'>"
      ]
     },
     "execution_count": 19,
     "metadata": {},
     "output_type": "execute_result"
    },
    {
     "data": {
      "image/png": "[encoded data removed]",
      "text/plain": [
       "<Figure size 432x288 with 1 Axes>"
      ]
     },
     "metadata": {
      "needs_background": "light"
     },
     "output_type": "display_data"
    }
   ],
   "source": [
    "turnover['Итог по складу'] = turnover.apply(add_model, axis=1)\n",
    "\n",
    "sns.histplot(data=turnover, x=turnover[\"Итог по складу\"], hue=\"Итог по складу\")"
   ]
  },
  {
   "cell_type": "markdown",
   "id": "9958ad98",
   "metadata": {},
   "source": [
    "Очень много излишков."
   ]
  },
  {
   "cell_type": "markdown",
   "id": "67203616",
   "metadata": {},
   "source": [
    "# Выделить топ моделей за весь период"
   ]
  },
  {
   "cell_type": "code",
   "execution_count": 20,
   "id": "5d161fc4",
   "metadata": {},
   "outputs": [
    {
     "data": {
      "text/plain": [
       "['Женские ботинки MARKO (красные, осень) (арт. D 3135-2)',\n",
       " 'Женские ботинки MARKO (красные, осень) (арт. Z 03-2)',\n",
       " 'Женские ботинки MARKO (бордовые, осень) (арт. BK 262-8a)',\n",
       " 'Женские туфли MARKO (бордовые, лето) (арт. BK 370-8)',\n",
       " 'Женские туфли MARKO (белые, лето) (арт. 301-3)',\n",
       " 'Женские туфли MARKO (белые, лето) (арт. 2845-1)',\n",
       " 'Женские туфли MARKO (белые, лето) (арт. 8802-3)',\n",
       " 'Женские туфли MARKO (голубые, лето) (арт. 301-10)',\n",
       " 'Женские кроссовки MARKO (в ассортименте, лето) (арт. 3202)',\n",
       " 'Мужские кроссовки MARKO (в ассортименте, лето) (арт. 2102)']"
      ]
     },
     "execution_count": 20,
     "metadata": {},
     "output_type": "execute_result"
    }
   ],
   "source": [
    "top=list(turnover.query('Расход > 8').reset_index()['Наименование'])\n",
    "top"
   ]
  },
  {
   "cell_type": "code",
   "execution_count": 21,
   "id": "3319e6c0",
   "metadata": {},
   "outputs": [
    {
     "data": {
      "text/plain": [
       "<AxesSubplot:xlabel='Финиш'>"
      ]
     },
     "execution_count": 21,
     "metadata": {},
     "output_type": "execute_result"
    },
    {
     "data": {
      "image/png": "[encoded data removed]",
      "text/plain": [
       "<Figure size 1152x432 with 1 Axes>"
      ]
     },
     "metadata": {
      "needs_background": "light"
     },
     "output_type": "display_data"
    }
   ],
   "source": [
    "fig = plt.figure(figsize=(16,6))\n",
    "\n",
    "sns.lineplot(\n",
    "    data=finish_table.query(\"Наименование==@top\").pivot_table(\n",
    "        index='Наименование', columns='Финиш', values='Расход').T, legend=True, palette=\"flare\", markers=True \n",
    ")"
   ]
  },
  {
   "cell_type": "markdown",
   "id": "ad9e79a4",
   "metadata": {},
   "source": [
    "На графике мы можем наблюдать цикл продаж топ товаров "
   ]
  },
  {
   "cell_type": "markdown",
   "id": "5a86571c",
   "metadata": {},
   "source": [
    "# Выделить категории(сезон, вид, продажи)"
   ]
  },
  {
   "cell_type": "code",
   "execution_count": 22,
   "id": "8608c946",
   "metadata": {},
   "outputs": [],
   "source": [
    "def category_season(row):\n",
    "    \n",
    "    if 'осень' in row['Наименование']:\n",
    "        return 'Осенняя обувь'\n",
    "    \n",
    "    elif 'осень' in row['Наименование']:\n",
    "        return 'зимняя обувь'\n",
    "    \n",
    "    elif 'лето' in row['Наименование']:\n",
    "        return 'летняя обувь'\n",
    "    \n",
    "    else:\n",
    "        return 'другой'\n",
    "    \n",
    "def category_type(row):\n",
    "    \n",
    "    if 'ботинки' in row['Наименование']:\n",
    "        return 'ботинки'\n",
    "    \n",
    "    elif 'сапоги' in row['Наименование']:\n",
    "        return 'сапоги'\n",
    "    \n",
    "    elif 'лето' in row['Наименование']:\n",
    "        return 'туфли'\n",
    "    \n",
    "    else:\n",
    "        return 'другой'"
   ]
  },
  {
   "cell_type": "code",
   "execution_count": 23,
   "id": "df8541b2",
   "metadata": {},
   "outputs": [
    {
     "data": {
      "text/html": [
       "<div>\n",
       "<style scoped>\n",
       "    .dataframe tbody tr th:only-of-type {\n",
       "        vertical-align: middle;\n",
       "    }\n",
       "\n",
       "    .dataframe tbody tr th {\n",
       "        vertical-align: top;\n",
       "    }\n",
       "\n",
       "    .dataframe thead th {\n",
       "        text-align: right;\n",
       "    }\n",
       "</style>\n",
       "<table border=\"1\" class=\"dataframe\">\n",
       "  <thead>\n",
       "    <tr style=\"text-align: right;\">\n",
       "      <th></th>\n",
       "      <th>Код</th>\n",
       "      <th>Артикул</th>\n",
       "      <th>Наименование</th>\n",
       "      <th>Кол-во</th>\n",
       "      <th>Начало периода</th>\n",
       "      <th>Приход</th>\n",
       "      <th>Расход</th>\n",
       "      <th>Конец периода</th>\n",
       "      <th>Финиш</th>\n",
       "      <th>Ольга+Лана (ЕКБ)</th>\n",
       "      <th>Старт</th>\n",
       "      <th>сезон</th>\n",
       "      <th>вид</th>\n",
       "    </tr>\n",
       "  </thead>\n",
       "  <tbody>\n",
       "    <tr>\n",
       "      <th>0</th>\n",
       "      <td>01025</td>\n",
       "      <td>32100</td>\n",
       "      <td>Ботинки женские MARKO (арт. 32100)</td>\n",
       "      <td>шт</td>\n",
       "      <td>58</td>\n",
       "      <td>0</td>\n",
       "      <td>1</td>\n",
       "      <td>57</td>\n",
       "      <td>2022-01-24</td>\n",
       "      <td>Ольга+Лана (ЕКБ)</td>\n",
       "      <td>2022-01-30 23:59:00</td>\n",
       "      <td>другой</td>\n",
       "      <td>другой</td>\n",
       "    </tr>\n",
       "    <tr>\n",
       "      <th>1</th>\n",
       "      <td>01026</td>\n",
       "      <td>32106</td>\n",
       "      <td>Ботинки женские MARKO (арт. 32106)</td>\n",
       "      <td>шт</td>\n",
       "      <td>34</td>\n",
       "      <td>0</td>\n",
       "      <td>1</td>\n",
       "      <td>29</td>\n",
       "      <td>2022-01-24</td>\n",
       "      <td>Ольга+Лана (ЕКБ)</td>\n",
       "      <td>2022-01-30 23:59:00</td>\n",
       "      <td>другой</td>\n",
       "      <td>другой</td>\n",
       "    </tr>\n",
       "    <tr>\n",
       "      <th>2</th>\n",
       "      <td>01032</td>\n",
       "      <td>350251</td>\n",
       "      <td>Ботинки женские MARKO (арт. 350251)</td>\n",
       "      <td>шт</td>\n",
       "      <td>35</td>\n",
       "      <td>0</td>\n",
       "      <td>2</td>\n",
       "      <td>33</td>\n",
       "      <td>2022-01-24</td>\n",
       "      <td>Ольга+Лана (ЕКБ)</td>\n",
       "      <td>2022-01-30 23:59:00</td>\n",
       "      <td>другой</td>\n",
       "      <td>другой</td>\n",
       "    </tr>\n",
       "    <tr>\n",
       "      <th>3</th>\n",
       "      <td>01041</td>\n",
       "      <td>421061</td>\n",
       "      <td>Ботинки Мужской MARKO (арт. 421061)</td>\n",
       "      <td>шт</td>\n",
       "      <td>37</td>\n",
       "      <td>0</td>\n",
       "      <td>1</td>\n",
       "      <td>34</td>\n",
       "      <td>2022-01-24</td>\n",
       "      <td>Ольга+Лана (ЕКБ)</td>\n",
       "      <td>2022-01-30 23:59:00</td>\n",
       "      <td>другой</td>\n",
       "      <td>другой</td>\n",
       "    </tr>\n",
       "    <tr>\n",
       "      <th>4</th>\n",
       "      <td>00148</td>\n",
       "      <td>В 13-2</td>\n",
       "      <td>Женские ботинки MARKO (коричневые, осень) (арт...</td>\n",
       "      <td>шт</td>\n",
       "      <td>1</td>\n",
       "      <td>0</td>\n",
       "      <td>1</td>\n",
       "      <td>0</td>\n",
       "      <td>2022-01-24</td>\n",
       "      <td>Ольга+Лана (ЕКБ)</td>\n",
       "      <td>2022-01-30 23:59:00</td>\n",
       "      <td>Осенняя обувь</td>\n",
       "      <td>ботинки</td>\n",
       "    </tr>\n",
       "  </tbody>\n",
       "</table>\n",
       "</div>"
      ],
      "text/plain": [
       "0    Код Артикул                                       Наименование Кол-во  \\\n",
       "0  01025   32100                 Ботинки женские MARKO (арт. 32100)     шт   \n",
       "1  01026   32106                 Ботинки женские MARKO (арт. 32106)     шт   \n",
       "2  01032  350251                Ботинки женские MARKO (арт. 350251)     шт   \n",
       "3  01041  421061                Ботинки Мужской MARKO (арт. 421061)     шт   \n",
       "4  00148  В 13-2  Женские ботинки MARKO (коричневые, осень) (арт...     шт   \n",
       "\n",
       "0  Начало периода  Приход  Расход  Конец периода      Финиш  Ольга+Лана (ЕКБ)  \\\n",
       "0              58       0       1             57 2022-01-24  Ольга+Лана (ЕКБ)   \n",
       "1              34       0       1             29 2022-01-24  Ольга+Лана (ЕКБ)   \n",
       "2              35       0       2             33 2022-01-24  Ольга+Лана (ЕКБ)   \n",
       "3              37       0       1             34 2022-01-24  Ольга+Лана (ЕКБ)   \n",
       "4               1       0       1              0 2022-01-24  Ольга+Лана (ЕКБ)   \n",
       "\n",
       "0               Старт          сезон      вид  \n",
       "0 2022-01-30 23:59:00         другой   другой  \n",
       "1 2022-01-30 23:59:00         другой   другой  \n",
       "2 2022-01-30 23:59:00         другой   другой  \n",
       "3 2022-01-30 23:59:00         другой   другой  \n",
       "4 2022-01-30 23:59:00  Осенняя обувь  ботинки  "
      ]
     },
     "execution_count": 23,
     "metadata": {},
     "output_type": "execute_result"
    }
   ],
   "source": [
    "finish_table['сезон'] = finish_table.apply(category_season, axis=1)\n",
    "finish_table['вид'] = finish_table.apply(category_type, axis=1)\n",
    "finish_table.head()"
   ]
  },
  {
   "cell_type": "code",
   "execution_count": 24,
   "id": "be1229e5",
   "metadata": {},
   "outputs": [
    {
     "data": {
      "text/html": [
       "<div>\n",
       "<style scoped>\n",
       "    .dataframe tbody tr th:only-of-type {\n",
       "        vertical-align: middle;\n",
       "    }\n",
       "\n",
       "    .dataframe tbody tr th {\n",
       "        vertical-align: top;\n",
       "    }\n",
       "\n",
       "    .dataframe thead th {\n",
       "        text-align: right;\n",
       "    }\n",
       "</style>\n",
       "<table border=\"1\" class=\"dataframe\">\n",
       "  <thead>\n",
       "    <tr style=\"text-align: right;\">\n",
       "      <th></th>\n",
       "      <th>сезон</th>\n",
       "      <th>вид</th>\n",
       "      <th>Расход</th>\n",
       "    </tr>\n",
       "  </thead>\n",
       "  <tbody>\n",
       "    <tr>\n",
       "      <th>0</th>\n",
       "      <td>Осенняя обувь</td>\n",
       "      <td>ботинки</td>\n",
       "      <td>2041</td>\n",
       "    </tr>\n",
       "    <tr>\n",
       "      <th>1</th>\n",
       "      <td>Осенняя обувь</td>\n",
       "      <td>другой</td>\n",
       "      <td>2</td>\n",
       "    </tr>\n",
       "    <tr>\n",
       "      <th>2</th>\n",
       "      <td>Осенняя обувь</td>\n",
       "      <td>сапоги</td>\n",
       "      <td>201</td>\n",
       "    </tr>\n",
       "    <tr>\n",
       "      <th>3</th>\n",
       "      <td>другой</td>\n",
       "      <td>ботинки</td>\n",
       "      <td>626</td>\n",
       "    </tr>\n",
       "    <tr>\n",
       "      <th>4</th>\n",
       "      <td>другой</td>\n",
       "      <td>другой</td>\n",
       "      <td>304</td>\n",
       "    </tr>\n",
       "    <tr>\n",
       "      <th>5</th>\n",
       "      <td>другой</td>\n",
       "      <td>сапоги</td>\n",
       "      <td>467</td>\n",
       "    </tr>\n",
       "    <tr>\n",
       "      <th>6</th>\n",
       "      <td>летняя обувь</td>\n",
       "      <td>ботинки</td>\n",
       "      <td>16</td>\n",
       "    </tr>\n",
       "    <tr>\n",
       "      <th>7</th>\n",
       "      <td>летняя обувь</td>\n",
       "      <td>туфли</td>\n",
       "      <td>4913</td>\n",
       "    </tr>\n",
       "  </tbody>\n",
       "</table>\n",
       "</div>"
      ],
      "text/plain": [
       "0          сезон      вид  Расход\n",
       "0  Осенняя обувь  ботинки    2041\n",
       "1  Осенняя обувь   другой       2\n",
       "2  Осенняя обувь   сапоги     201\n",
       "3         другой  ботинки     626\n",
       "4         другой   другой     304\n",
       "5         другой   сапоги     467\n",
       "6   летняя обувь  ботинки      16\n",
       "7   летняя обувь    туфли    4913"
      ]
     },
     "execution_count": 24,
     "metadata": {},
     "output_type": "execute_result"
    }
   ],
   "source": [
    "finish_table.pivot_table(index=['сезон','вид'], values='Расход', aggfunc='sum').reset_index()"
   ]
  },
  {
   "cell_type": "code",
   "execution_count": 25,
   "id": "11c375ff",
   "metadata": {},
   "outputs": [
    {
     "data": {
      "text/plain": [
       "<AxesSubplot:xlabel='вид', ylabel='Расход'>"
      ]
     },
     "execution_count": 25,
     "metadata": {},
     "output_type": "execute_result"
    },
    {
     "data": {
      "image/png": "[encoded data removed]",
      "text/plain": [
       "<Figure size 1152x432 with 2 Axes>"
      ]
     },
     "metadata": {
      "needs_background": "light"
     },
     "output_type": "display_data"
    }
   ],
   "source": [
    "fig = plt.figure(figsize=(16,6))\n",
    "\n",
    "ax1=fig.add_subplot(1,2,1)\n",
    "ax2=fig.add_subplot(1,2,2)\n",
    "\n",
    "\n",
    "sns.barplot(data=finish_table.pivot_table(index=['сезон','вид'], values='Расход', aggfunc='sum').reset_index(),\n",
    "             x='сезон',\n",
    "             y='Расход',\n",
    "             #hue=finish_table.pivot_table(index=['сезон','вид'], values='Расход', aggfunc='sum').reset_index().iloc[:,0],\n",
    "             ax=ax1\n",
    "            )\n",
    "\n",
    "sns.barplot(data=finish_table.pivot_table(index=['сезон','вид'], values='Расход', aggfunc='sum').reset_index(),\n",
    "             x='вид',\n",
    "             y='Расход',\n",
    "             #hue=finish_table.pivot_table(index=['сезон','вид'], values='Расход', aggfunc='sum').reset_index().iloc[:,1],\n",
    "             ax=ax2\n",
    "            )"
   ]
  },
  {
   "cell_type": "markdown",
   "id": "123d5042",
   "metadata": {},
   "source": [
    "На графике наглядно видно обувь какого сезона и вида. Лучше продавалась, скажем основа ABC-XYZ анализа."
   ]
  },
  {
   "cell_type": "markdown",
   "id": "c09a98b3",
   "metadata": {},
   "source": [
    "    1) Выявить модели, которые хорошо продаются по категориям(зима, осень...ботинки, туфли...)\n",
    "    2) Выявить модели, которые плохо продаются по категориям(зима, осень...ботинки, туфли...)\n",
    "    3) Проблемные модели по оборачиваемости(залеживаются на складе)\n",
    "    4) Проблемные модели по оборачиваемости(заканчиваются на складе)\n",
    "    5) Рекомендуемое кол-во на складе\n",
    "    \n",
    "    \n",
    "    Я могу выдать эксель файл с кодами и артикулами моделей которые хорошо продаются, и у них дефицит. Что будет значить что именно эти позоции пополнить.\n",
    "    Так же можно выявить модели которые плохо продаются и у них излишки на складе, можно будет реализовать их со скидной, иначе так и пролежат.\n",
    "    Так же можно выделаить категории, которые приносят нам основной доход, на них делать упор взависимости от сезона.\n",
    "    Ну и могу выдать рекомендуемо кол-во товара на складе относительно его продажи.\n",
    "    "
   ]
  },
  {
   "cell_type": "code",
   "execution_count": null,
   "id": "0b5a03da",
   "metadata": {},
   "outputs": [],
   "source": []
  }
 ],
 "metadata": {
  "kernelspec": {
   "display_name": "Python 3 (ipykernel)",
   "language": "python",
   "name": "python3"
  },
  "language_info": {
   "codemirror_mode": {
    "name": "ipython",
    "version": 3
   },
   "file_extension": ".py",
   "mimetype": "text/x-python",
   "name": "python",
   "nbconvert_exporter": "python",
   "pygments_lexer": "ipython3",
   "version": "3.9.7"
  },
  "toc": {
   "base_numbering": 1,
   "nav_menu": {},
   "number_sections": true,
   "sideBar": true,
   "skip_h1_title": false,
   "title_cell": "Table of Contents",
   "title_sidebar": "Contents",
   "toc_cell": true,
   "toc_position": {
    "height": "calc(100% - 180px)",
    "left": "10px",
    "top": "150px",
    "width": "165px"
   },
   "toc_section_display": true,
   "toc_window_display": false
  }
 },
 "nbformat": 4,
 "nbformat_minor": 5
}

{
 "cells": [
  {
   "cell_type": "markdown",
   "id": "4a6ac735",
   "metadata": {},
   "source": [
    "# Необходимо проанализировать итоги эксперемента и сделать выводы, запускать ли новую механику оплаты пользователей."
   ]
  },
  {
   "cell_type": "markdown",
   "id": "58387311",
   "metadata": {},
   "source": [
    "    Декомпозиция задачи:\n",
    "    \n",
    "    1 Сделать единый датафрейм, отбросить неактивных пользователей, в итоге получися столбцы id, grp и rew. \n",
    "    \n",
    "    2 Сравним количество пользователей\n",
    "    \n",
    "    3 Сравним обплату пользователей суммарную, среднюю, медианную  \n",
    "    \n",
    "    4 Сравним статистическую разницу этих групп (пропорция отношения числа пользовтелей к сумме оплаты)"
   ]
  },
  {
   "cell_type": "code",
   "execution_count": 1,
   "id": "8fd63634",
   "metadata": {},
   "outputs": [],
   "source": [
    "import pandas as pd\n",
    "import matplotlib.pyplot as plt\n",
    "import seaborn as sns"
   ]
  },
  {
   "cell_type": "code",
   "execution_count": 2,
   "id": "6b23bac8",
   "metadata": {},
   "outputs": [],
   "source": [
    "groups = pd.read_csv('groups.csv', sep=';')\n",
    "active_studs = pd.read_csv('active_studs.csv', sep=';')\n",
    "checks = pd.read_csv('checks.csv', sep=';')"
   ]
  },
  {
   "cell_type": "code",
   "execution_count": 3,
   "id": "6426c6c7",
   "metadata": {},
   "outputs": [],
   "source": [
    "tables = [groups, active_studs, checks]"
   ]
  },
  {
   "cell_type": "code",
   "execution_count": 4,
   "id": "aa2e3e21",
   "metadata": {},
   "outputs": [],
   "source": [
    "def info_table(tables):\n",
    "    for i in tables:\n",
    "        display(i.info())\n",
    "        display(i.head())\n",
    "        print('++++++++++++++++++++++++++++++++++++++++++++++++++')\n",
    "        "
   ]
  },
  {
   "cell_type": "code",
   "execution_count": 5,
   "id": "0a3228d1",
   "metadata": {},
   "outputs": [
    {
     "name": "stdout",
     "output_type": "stream",
     "text": [
      "<class 'pandas.core.frame.DataFrame'>\n",
      "RangeIndex: 74576 entries, 0 to 74575\n",
      "Data columns (total 2 columns):\n",
      " #   Column  Non-Null Count  Dtype \n",
      "---  ------  --------------  ----- \n",
      " 0   id      74576 non-null  int64 \n",
      " 1   grp     74576 non-null  object\n",
      "dtypes: int64(1), object(1)\n",
      "memory usage: 1.1+ MB\n"
     ]
    },
    {
     "data": {
      "text/plain": [
       "None"
      ]
     },
     "metadata": {},
     "output_type": "display_data"
    },
    {
     "data": {
      "text/html": [
       "<div>\n",
       "<style scoped>\n",
       "    .dataframe tbody tr th:only-of-type {\n",
       "        vertical-align: middle;\n",
       "    }\n",
       "\n",
       "    .dataframe tbody tr th {\n",
       "        vertical-align: top;\n",
       "    }\n",
       "\n",
       "    .dataframe thead th {\n",
       "        text-align: right;\n",
       "    }\n",
       "</style>\n",
       "<table border=\"1\" class=\"dataframe\">\n",
       "  <thead>\n",
       "    <tr style=\"text-align: right;\">\n",
       "      <th></th>\n",
       "      <th>id</th>\n",
       "      <th>grp</th>\n",
       "    </tr>\n",
       "  </thead>\n",
       "  <tbody>\n",
       "    <tr>\n",
       "      <th>0</th>\n",
       "      <td>1206794</td>\n",
       "      <td>B</td>\n",
       "    </tr>\n",
       "    <tr>\n",
       "      <th>1</th>\n",
       "      <td>331024</td>\n",
       "      <td>B</td>\n",
       "    </tr>\n",
       "    <tr>\n",
       "      <th>2</th>\n",
       "      <td>1733498</td>\n",
       "      <td>A</td>\n",
       "    </tr>\n",
       "    <tr>\n",
       "      <th>3</th>\n",
       "      <td>161574</td>\n",
       "      <td>B</td>\n",
       "    </tr>\n",
       "    <tr>\n",
       "      <th>4</th>\n",
       "      <td>168443</td>\n",
       "      <td>B</td>\n",
       "    </tr>\n",
       "  </tbody>\n",
       "</table>\n",
       "</div>"
      ],
      "text/plain": [
       "        id grp\n",
       "0  1206794   B\n",
       "1   331024   B\n",
       "2  1733498   A\n",
       "3   161574   B\n",
       "4   168443   B"
      ]
     },
     "metadata": {},
     "output_type": "display_data"
    },
    {
     "name": "stdout",
     "output_type": "stream",
     "text": [
      "++++++++++++++++++++++++++++++++++++++++++++++++++\n",
      "<class 'pandas.core.frame.DataFrame'>\n",
      "RangeIndex: 8341 entries, 0 to 8340\n",
      "Data columns (total 1 columns):\n",
      " #   Column      Non-Null Count  Dtype\n",
      "---  ------      --------------  -----\n",
      " 0   student_id  8341 non-null   int64\n",
      "dtypes: int64(1)\n",
      "memory usage: 65.3 KB\n"
     ]
    },
    {
     "data": {
      "text/plain": [
       "None"
      ]
     },
     "metadata": {},
     "output_type": "display_data"
    },
    {
     "data": {
      "text/html": [
       "<div>\n",
       "<style scoped>\n",
       "    .dataframe tbody tr th:only-of-type {\n",
       "        vertical-align: middle;\n",
       "    }\n",
       "\n",
       "    .dataframe tbody tr th {\n",
       "        vertical-align: top;\n",
       "    }\n",
       "\n",
       "    .dataframe thead th {\n",
       "        text-align: right;\n",
       "    }\n",
       "</style>\n",
       "<table border=\"1\" class=\"dataframe\">\n",
       "  <thead>\n",
       "    <tr style=\"text-align: right;\">\n",
       "      <th></th>\n",
       "      <th>student_id</th>\n",
       "    </tr>\n",
       "  </thead>\n",
       "  <tbody>\n",
       "    <tr>\n",
       "      <th>0</th>\n",
       "      <td>581585</td>\n",
       "    </tr>\n",
       "    <tr>\n",
       "      <th>1</th>\n",
       "      <td>5723133</td>\n",
       "    </tr>\n",
       "    <tr>\n",
       "      <th>2</th>\n",
       "      <td>3276743</td>\n",
       "    </tr>\n",
       "    <tr>\n",
       "      <th>3</th>\n",
       "      <td>4238589</td>\n",
       "    </tr>\n",
       "    <tr>\n",
       "      <th>4</th>\n",
       "      <td>4475369</td>\n",
       "    </tr>\n",
       "  </tbody>\n",
       "</table>\n",
       "</div>"
      ],
      "text/plain": [
       "   student_id\n",
       "0      581585\n",
       "1     5723133\n",
       "2     3276743\n",
       "3     4238589\n",
       "4     4475369"
      ]
     },
     "metadata": {},
     "output_type": "display_data"
    },
    {
     "name": "stdout",
     "output_type": "stream",
     "text": [
      "++++++++++++++++++++++++++++++++++++++++++++++++++\n",
      "<class 'pandas.core.frame.DataFrame'>\n",
      "RangeIndex: 541 entries, 0 to 540\n",
      "Data columns (total 2 columns):\n",
      " #   Column      Non-Null Count  Dtype  \n",
      "---  ------      --------------  -----  \n",
      " 0   student_id  541 non-null    int64  \n",
      " 1   rev         541 non-null    float64\n",
      "dtypes: float64(1), int64(1)\n",
      "memory usage: 8.6 KB\n"
     ]
    },
    {
     "data": {
      "text/plain": [
       "None"
      ]
     },
     "metadata": {},
     "output_type": "display_data"
    },
    {
     "data": {
      "text/html": [
       "<div>\n",
       "<style scoped>\n",
       "    .dataframe tbody tr th:only-of-type {\n",
       "        vertical-align: middle;\n",
       "    }\n",
       "\n",
       "    .dataframe tbody tr th {\n",
       "        vertical-align: top;\n",
       "    }\n",
       "\n",
       "    .dataframe thead th {\n",
       "        text-align: right;\n",
       "    }\n",
       "</style>\n",
       "<table border=\"1\" class=\"dataframe\">\n",
       "  <thead>\n",
       "    <tr style=\"text-align: right;\">\n",
       "      <th></th>\n",
       "      <th>student_id</th>\n",
       "      <th>rev</th>\n",
       "    </tr>\n",
       "  </thead>\n",
       "  <tbody>\n",
       "    <tr>\n",
       "      <th>0</th>\n",
       "      <td>1627</td>\n",
       "      <td>990.0</td>\n",
       "    </tr>\n",
       "    <tr>\n",
       "      <th>1</th>\n",
       "      <td>3185</td>\n",
       "      <td>690.0</td>\n",
       "    </tr>\n",
       "    <tr>\n",
       "      <th>2</th>\n",
       "      <td>25973</td>\n",
       "      <td>690.0</td>\n",
       "    </tr>\n",
       "    <tr>\n",
       "      <th>3</th>\n",
       "      <td>26280</td>\n",
       "      <td>690.0</td>\n",
       "    </tr>\n",
       "    <tr>\n",
       "      <th>4</th>\n",
       "      <td>100300</td>\n",
       "      <td>990.0</td>\n",
       "    </tr>\n",
       "  </tbody>\n",
       "</table>\n",
       "</div>"
      ],
      "text/plain": [
       "   student_id    rev\n",
       "0        1627  990.0\n",
       "1        3185  690.0\n",
       "2       25973  690.0\n",
       "3       26280  690.0\n",
       "4      100300  990.0"
      ]
     },
     "metadata": {},
     "output_type": "display_data"
    },
    {
     "name": "stdout",
     "output_type": "stream",
     "text": [
      "++++++++++++++++++++++++++++++++++++++++++++++++++\n"
     ]
    }
   ],
   "source": [
    "info_table(tables)"
   ]
  },
  {
   "cell_type": "markdown",
   "id": "efa068fa",
   "metadata": {},
   "source": [
    "Переименнуем столбцы"
   ]
  },
  {
   "cell_type": "code",
   "execution_count": 6,
   "id": "28505fb5",
   "metadata": {},
   "outputs": [],
   "source": [
    "groups = groups.rename(columns={'id':'student_id'})"
   ]
  },
  {
   "cell_type": "markdown",
   "id": "44a3fdcd",
   "metadata": {},
   "source": [
    "Проверим на дубликаты наши таблицы и на пользователей которые могли оказаться в двух группах одновременно"
   ]
  },
  {
   "cell_type": "markdown",
   "id": "4468fd70",
   "metadata": {},
   "source": [
    "__groups__:"
   ]
  },
  {
   "cell_type": "code",
   "execution_count": 7,
   "id": "ce26ad6e",
   "metadata": {},
   "outputs": [
    {
     "data": {
      "text/plain": [
       "0"
      ]
     },
     "execution_count": 7,
     "metadata": {},
     "output_type": "execute_result"
    }
   ],
   "source": [
    "groups.duplicated().sum()"
   ]
  },
  {
   "cell_type": "code",
   "execution_count": 8,
   "id": "4bba5b9b",
   "metadata": {},
   "outputs": [
    {
     "data": {
      "text/plain": [
       "[]"
      ]
     },
     "execution_count": 8,
     "metadata": {},
     "output_type": "execute_result"
    }
   ],
   "source": [
    "list(set(groups.query('grp==\"A\"')['student_id']) & set(groups.query('grp==\"B\"')['student_id']))"
   ]
  },
  {
   "cell_type": "markdown",
   "id": "4f9186e8",
   "metadata": {},
   "source": [
    "__active_studs__:"
   ]
  },
  {
   "cell_type": "code",
   "execution_count": 9,
   "id": "1b22bfe0",
   "metadata": {},
   "outputs": [
    {
     "data": {
      "text/plain": [
       "0"
      ]
     },
     "execution_count": 9,
     "metadata": {},
     "output_type": "execute_result"
    }
   ],
   "source": [
    "active_studs.duplicated().sum()"
   ]
  },
  {
   "cell_type": "markdown",
   "id": "0661cbc8",
   "metadata": {},
   "source": [
    "__checks__:"
   ]
  },
  {
   "cell_type": "code",
   "execution_count": 10,
   "id": "636f559c",
   "metadata": {},
   "outputs": [
    {
     "data": {
      "text/html": [
       "<div>\n",
       "<style scoped>\n",
       "    .dataframe tbody tr th:only-of-type {\n",
       "        vertical-align: middle;\n",
       "    }\n",
       "\n",
       "    .dataframe tbody tr th {\n",
       "        vertical-align: top;\n",
       "    }\n",
       "\n",
       "    .dataframe thead th {\n",
       "        text-align: right;\n",
       "    }\n",
       "</style>\n",
       "<table border=\"1\" class=\"dataframe\">\n",
       "  <thead>\n",
       "    <tr style=\"text-align: right;\">\n",
       "      <th></th>\n",
       "      <th>rev</th>\n",
       "    </tr>\n",
       "    <tr>\n",
       "      <th>student_id</th>\n",
       "      <th></th>\n",
       "    </tr>\n",
       "  </thead>\n",
       "  <tbody>\n",
       "    <tr>\n",
       "      <th>1627</th>\n",
       "      <td>990.0</td>\n",
       "    </tr>\n",
       "    <tr>\n",
       "      <th>3185</th>\n",
       "      <td>690.0</td>\n",
       "    </tr>\n",
       "    <tr>\n",
       "      <th>25973</th>\n",
       "      <td>690.0</td>\n",
       "    </tr>\n",
       "    <tr>\n",
       "      <th>26280</th>\n",
       "      <td>690.0</td>\n",
       "    </tr>\n",
       "    <tr>\n",
       "      <th>100300</th>\n",
       "      <td>990.0</td>\n",
       "    </tr>\n",
       "    <tr>\n",
       "      <th>...</th>\n",
       "      <td>...</td>\n",
       "    </tr>\n",
       "    <tr>\n",
       "      <th>5645737</th>\n",
       "      <td>1900.0</td>\n",
       "    </tr>\n",
       "    <tr>\n",
       "      <th>5651566</th>\n",
       "      <td>1900.0</td>\n",
       "    </tr>\n",
       "    <tr>\n",
       "      <th>5662322</th>\n",
       "      <td>1900.0</td>\n",
       "    </tr>\n",
       "    <tr>\n",
       "      <th>5681918</th>\n",
       "      <td>1900.0</td>\n",
       "    </tr>\n",
       "    <tr>\n",
       "      <th>5740903</th>\n",
       "      <td>1900.0</td>\n",
       "    </tr>\n",
       "  </tbody>\n",
       "</table>\n",
       "<p>541 rows × 1 columns</p>\n",
       "</div>"
      ],
      "text/plain": [
       "               rev\n",
       "student_id        \n",
       "1627         990.0\n",
       "3185         690.0\n",
       "25973        690.0\n",
       "26280        690.0\n",
       "100300       990.0\n",
       "...            ...\n",
       "5645737     1900.0\n",
       "5651566     1900.0\n",
       "5662322     1900.0\n",
       "5681918     1900.0\n",
       "5740903     1900.0\n",
       "\n",
       "[541 rows x 1 columns]"
      ]
     },
     "execution_count": 10,
     "metadata": {},
     "output_type": "execute_result"
    }
   ],
   "source": [
    "checks.groupby('student_id').sum()"
   ]
  },
  {
   "cell_type": "markdown",
   "id": "b1bc1f66",
   "metadata": {},
   "source": [
    "    Всего было поделено на группы 74 575 пользователей, из них во время проведения экспиремента зашло на платформу 8 340 и всего 541 оплатили покупки"
   ]
  },
  {
   "cell_type": "markdown",
   "id": "054223cd",
   "metadata": {},
   "source": [
    "### Рассмотрим в каком процентном соотношении разделены у нас группы изначально "
   ]
  },
  {
   "cell_type": "code",
   "execution_count": 11,
   "id": "22a56825",
   "metadata": {},
   "outputs": [
    {
     "data": {
      "text/html": [
       "<div>\n",
       "<style scoped>\n",
       "    .dataframe tbody tr th:only-of-type {\n",
       "        vertical-align: middle;\n",
       "    }\n",
       "\n",
       "    .dataframe tbody tr th {\n",
       "        vertical-align: top;\n",
       "    }\n",
       "\n",
       "    .dataframe thead th {\n",
       "        text-align: right;\n",
       "    }\n",
       "</style>\n",
       "<table border=\"1\" class=\"dataframe\">\n",
       "  <thead>\n",
       "    <tr style=\"text-align: right;\">\n",
       "      <th></th>\n",
       "      <th>student_id</th>\n",
       "    </tr>\n",
       "    <tr>\n",
       "      <th>grp</th>\n",
       "      <th></th>\n",
       "    </tr>\n",
       "  </thead>\n",
       "  <tbody>\n",
       "    <tr>\n",
       "      <th>A</th>\n",
       "      <td>14693</td>\n",
       "    </tr>\n",
       "    <tr>\n",
       "      <th>B</th>\n",
       "      <td>59883</td>\n",
       "    </tr>\n",
       "  </tbody>\n",
       "</table>\n",
       "</div>"
      ],
      "text/plain": [
       "     student_id\n",
       "grp            \n",
       "A         14693\n",
       "B         59883"
      ]
     },
     "execution_count": 11,
     "metadata": {},
     "output_type": "execute_result"
    }
   ],
   "source": [
    "count_user_groups = groups.groupby('grp').count()\n",
    "count_user_groups"
   ]
  },
  {
   "cell_type": "code",
   "execution_count": 12,
   "id": "e571d0c6",
   "metadata": {},
   "outputs": [
    {
     "data": {
      "image/png": "[encoded data removed]",
      "text/plain": [
       "<Figure size 720x576 with 1 Axes>"
      ]
     },
     "metadata": {},
     "output_type": "display_data"
    }
   ],
   "source": [
    "fig = plt.figure(figsize=(10,8))\n",
    "\n",
    "ax = fig.add_subplot(1,1,1)\n",
    "\n",
    "\n",
    "count_user_groups.plot.pie(autopct=\"%.1f%%\", subplots=True, ax=ax)\n",
    "\n",
    "plt.title('События на пользователя')\n",
    "plt.show()"
   ]
  },
  {
   "cell_type": "markdown",
   "id": "4745fd45",
   "metadata": {},
   "source": [
    "Изначально пользрвателей разделили В=80,3%, А=19,7%"
   ]
  },
  {
   "cell_type": "code",
   "execution_count": 13,
   "id": "61437ac1",
   "metadata": {},
   "outputs": [
    {
     "data": {
      "text/html": [
       "<div>\n",
       "<style scoped>\n",
       "    .dataframe tbody tr th:only-of-type {\n",
       "        vertical-align: middle;\n",
       "    }\n",
       "\n",
       "    .dataframe tbody tr th {\n",
       "        vertical-align: top;\n",
       "    }\n",
       "\n",
       "    .dataframe thead th {\n",
       "        text-align: right;\n",
       "    }\n",
       "</style>\n",
       "<table border=\"1\" class=\"dataframe\">\n",
       "  <thead>\n",
       "    <tr style=\"text-align: right;\">\n",
       "      <th></th>\n",
       "      <th>student_id</th>\n",
       "    </tr>\n",
       "    <tr>\n",
       "      <th>grp</th>\n",
       "      <th></th>\n",
       "    </tr>\n",
       "  </thead>\n",
       "  <tbody>\n",
       "    <tr>\n",
       "      <th>A</th>\n",
       "      <td>1538</td>\n",
       "    </tr>\n",
       "    <tr>\n",
       "      <th>B</th>\n",
       "      <td>6803</td>\n",
       "    </tr>\n",
       "  </tbody>\n",
       "</table>\n",
       "</div>"
      ],
      "text/plain": [
       "     student_id\n",
       "grp            \n",
       "A          1538\n",
       "B          6803"
      ]
     },
     "execution_count": 13,
     "metadata": {},
     "output_type": "execute_result"
    }
   ],
   "source": [
    "count_user_active_groups = groups.merge(active_studs, on='student_id', how='right').groupby('grp').count()\n",
    "count_user_active_groups"
   ]
  },
  {
   "cell_type": "code",
   "execution_count": 14,
   "id": "2811ea92",
   "metadata": {},
   "outputs": [
    {
     "data": {
      "image/png": "[encoded data removed]",
      "text/plain": [
       "<Figure size 720x576 with 1 Axes>"
      ]
     },
     "metadata": {},
     "output_type": "display_data"
    }
   ],
   "source": [
    "fig = plt.figure(figsize=(10,8))\n",
    "\n",
    "ax = fig.add_subplot(1,1,1)\n",
    "\n",
    "\n",
    "count_user_active_groups.plot.pie(autopct=\"%.1f%%\", subplots=True, ax=ax)\n",
    "\n",
    "plt.title('События на пользователя')\n",
    "plt.show()"
   ]
  },
  {
   "cell_type": "markdown",
   "id": "cef09f47",
   "metadata": {},
   "source": [
    "Активные пользрватели разделились В=81,6%, А=18,4%. Процентное соотношение можно считать сохранилось!"
   ]
  },
  {
   "cell_type": "code",
   "execution_count": 15,
   "id": "5c0a7acb",
   "metadata": {},
   "outputs": [],
   "source": [
    "df = checks.merge(active_studs, on='student_id', how='inner').merge(groups, on='student_id', how='left')"
   ]
  },
  {
   "cell_type": "code",
   "execution_count": 16,
   "id": "7448df9d",
   "metadata": {},
   "outputs": [
    {
     "data": {
      "text/html": [
       "<div>\n",
       "<style scoped>\n",
       "    .dataframe tbody tr th:only-of-type {\n",
       "        vertical-align: middle;\n",
       "    }\n",
       "\n",
       "    .dataframe tbody tr th {\n",
       "        vertical-align: top;\n",
       "    }\n",
       "\n",
       "    .dataframe thead tr th {\n",
       "        text-align: left;\n",
       "    }\n",
       "\n",
       "    .dataframe thead tr:last-of-type th {\n",
       "        text-align: right;\n",
       "    }\n",
       "</style>\n",
       "<table border=\"1\" class=\"dataframe\">\n",
       "  <thead>\n",
       "    <tr>\n",
       "      <th></th>\n",
       "      <th>sum</th>\n",
       "      <th>count</th>\n",
       "    </tr>\n",
       "    <tr>\n",
       "      <th></th>\n",
       "      <th>rev</th>\n",
       "      <th>rev</th>\n",
       "    </tr>\n",
       "    <tr>\n",
       "      <th>grp</th>\n",
       "      <th></th>\n",
       "      <th></th>\n",
       "    </tr>\n",
       "  </thead>\n",
       "  <tbody>\n",
       "    <tr>\n",
       "      <th>A</th>\n",
       "      <td>72820.0</td>\n",
       "      <td>78</td>\n",
       "    </tr>\n",
       "    <tr>\n",
       "      <th>B</th>\n",
       "      <td>394974.0</td>\n",
       "      <td>314</td>\n",
       "    </tr>\n",
       "  </tbody>\n",
       "</table>\n",
       "</div>"
      ],
      "text/plain": [
       "          sum count\n",
       "          rev   rev\n",
       "grp                \n",
       "A     72820.0    78\n",
       "B    394974.0   314"
      ]
     },
     "execution_count": 16,
     "metadata": {},
     "output_type": "execute_result"
    }
   ],
   "source": [
    "count_user_checks_groups = round(df.pivot_table(index='grp', values='rev', aggfunc=['sum', 'count']), 1)\n",
    "count_user_checks_groups"
   ]
  },
  {
   "cell_type": "raw",
   "id": "7ca77d3e",
   "metadata": {},
   "source": [
    "count_user_checks_groups = checks.merge(\n",
    "                            active_studs, on='student_id', how='inner').merge(\n",
    "                                    groups, on='student_id', how='left').groupby('grp').count()\n",
    "count_user_checks_groups"
   ]
  },
  {
   "cell_type": "code",
   "execution_count": 17,
   "id": "c00f89aa",
   "metadata": {},
   "outputs": [
    {
     "data": {
      "image/png": "[encoded data removed]",
      "text/plain": [
       "<Figure size 720x576 with 1 Axes>"
      ]
     },
     "metadata": {},
     "output_type": "display_data"
    }
   ],
   "source": [
    "fig = plt.figure(figsize=(10,8))\n",
    "\n",
    "ax = fig.add_subplot(1,1,1)\n",
    "\n",
    "\n",
    "count_user_checks_groups[('count', 'rev')].plot.pie(autopct=\"%.1f%%\", subplots=True, ax=ax)\n",
    "\n",
    "plt.title('События на пользователя')\n",
    "plt.show()"
   ]
  },
  {
   "cell_type": "markdown",
   "id": "93e80b9e",
   "metadata": {},
   "source": [
    "Платящие пользрватели разделились В=80,1%, А=19,9%. Процентное соотношение можно считать сохранилось!"
   ]
  },
  {
   "cell_type": "markdown",
   "id": "50b4d508",
   "metadata": {},
   "source": [
    "## Рассмотрим следующие метрики:\n",
    "* SAU = Доля активных пользователей\n",
    "* CR = Конверсия (из активных в покупателей)\n",
    "* ARPU = Средняя выручка одного пользоваетля\n",
    "* ARPPU = Средняя выручка на одного активного пользователя "
   ]
  },
  {
   "cell_type": "markdown",
   "id": "b1d2a8d3",
   "metadata": {},
   "source": [
    "**SAU**"
   ]
  },
  {
   "cell_type": "code",
   "execution_count": 18,
   "id": "84399d37",
   "metadata": {},
   "outputs": [
    {
     "data": {
      "text/html": [
       "<div>\n",
       "<style scoped>\n",
       "    .dataframe tbody tr th:only-of-type {\n",
       "        vertical-align: middle;\n",
       "    }\n",
       "\n",
       "    .dataframe tbody tr th {\n",
       "        vertical-align: top;\n",
       "    }\n",
       "\n",
       "    .dataframe thead th {\n",
       "        text-align: right;\n",
       "    }\n",
       "</style>\n",
       "<table border=\"1\" class=\"dataframe\">\n",
       "  <thead>\n",
       "    <tr style=\"text-align: right;\">\n",
       "      <th></th>\n",
       "      <th>share_actibe_users</th>\n",
       "    </tr>\n",
       "    <tr>\n",
       "      <th>grp</th>\n",
       "      <th></th>\n",
       "    </tr>\n",
       "  </thead>\n",
       "  <tbody>\n",
       "    <tr>\n",
       "      <th>A</th>\n",
       "      <td>0.104676</td>\n",
       "    </tr>\n",
       "    <tr>\n",
       "      <th>B</th>\n",
       "      <td>0.113605</td>\n",
       "    </tr>\n",
       "  </tbody>\n",
       "</table>\n",
       "</div>"
      ],
      "text/plain": [
       "     share_actibe_users\n",
       "grp                    \n",
       "A              0.104676\n",
       "B              0.113605"
      ]
     },
     "execution_count": 18,
     "metadata": {},
     "output_type": "execute_result"
    }
   ],
   "source": [
    "SAU = count_user_groups.merge(count_user_active_groups, on='grp')\n",
    "SAU['share_actibe_users'] = SAU['student_id_y']/SAU['student_id_x']\n",
    "SAU\n",
    "SAU = pd.DataFrame(data =SAU['share_actibe_users'])\n",
    "SAU"
   ]
  },
  {
   "cell_type": "markdown",
   "id": "cbd03871",
   "metadata": {},
   "source": [
    "**CR**"
   ]
  },
  {
   "cell_type": "code",
   "execution_count": 28,
   "id": "5634b1b5",
   "metadata": {},
   "outputs": [
    {
     "name": "stderr",
     "output_type": "stream",
     "text": [
      "C:\\Users\\a.vechkanov\\Anaconda3\\lib\\site-packages\\pandas\\core\\frame.py:9190: FutureWarning: merging between different levels is deprecated and will be removed in a future version. (1 levels on the left,2 on the right)\n",
      "  return merge(\n"
     ]
    },
    {
     "data": {
      "text/html": [
       "<div>\n",
       "<style scoped>\n",
       "    .dataframe tbody tr th:only-of-type {\n",
       "        vertical-align: middle;\n",
       "    }\n",
       "\n",
       "    .dataframe tbody tr th {\n",
       "        vertical-align: top;\n",
       "    }\n",
       "\n",
       "    .dataframe thead th {\n",
       "        text-align: right;\n",
       "    }\n",
       "</style>\n",
       "<table border=\"1\" class=\"dataframe\">\n",
       "  <thead>\n",
       "    <tr style=\"text-align: right;\">\n",
       "      <th></th>\n",
       "      <th>CR</th>\n",
       "    </tr>\n",
       "    <tr>\n",
       "      <th>grp</th>\n",
       "      <th></th>\n",
       "    </tr>\n",
       "  </thead>\n",
       "  <tbody>\n",
       "    <tr>\n",
       "      <th>A</th>\n",
       "      <td>19.717949</td>\n",
       "    </tr>\n",
       "    <tr>\n",
       "      <th>B</th>\n",
       "      <td>21.665605</td>\n",
       "    </tr>\n",
       "  </tbody>\n",
       "</table>\n",
       "</div>"
      ],
      "text/plain": [
       "            CR\n",
       "grp           \n",
       "A    19.717949\n",
       "B    21.665605"
      ]
     },
     "execution_count": 28,
     "metadata": {},
     "output_type": "execute_result"
    }
   ],
   "source": [
    "CR = count_user_active_groups.merge(count_user_checks_groups, on='grp')\n",
    "CR\n",
    "CR['CR'] = CR['student_id']/CR[('count', 'rev')]\n",
    "CR\n",
    "CR = pd.DataFrame(data =CR['CR'])\n",
    "CR"
   ]
  },
  {
   "cell_type": "markdown",
   "id": "d0266ef5",
   "metadata": {},
   "source": [
    "**ARPU**"
   ]
  },
  {
   "cell_type": "code",
   "execution_count": 20,
   "id": "410b4b17",
   "metadata": {},
   "outputs": [
    {
     "name": "stderr",
     "output_type": "stream",
     "text": [
      "C:\\Users\\a.vechkanov\\Anaconda3\\lib\\site-packages\\pandas\\core\\frame.py:9190: FutureWarning: merging between different levels is deprecated and will be removed in a future version. (1 levels on the left,2 on the right)\n",
      "  return merge(\n"
     ]
    },
    {
     "data": {
      "text/html": [
       "<div>\n",
       "<style scoped>\n",
       "    .dataframe tbody tr th:only-of-type {\n",
       "        vertical-align: middle;\n",
       "    }\n",
       "\n",
       "    .dataframe tbody tr th {\n",
       "        vertical-align: top;\n",
       "    }\n",
       "\n",
       "    .dataframe thead th {\n",
       "        text-align: right;\n",
       "    }\n",
       "</style>\n",
       "<table border=\"1\" class=\"dataframe\">\n",
       "  <thead>\n",
       "    <tr style=\"text-align: right;\">\n",
       "      <th></th>\n",
       "      <th>ARPU</th>\n",
       "    </tr>\n",
       "    <tr>\n",
       "      <th>grp</th>\n",
       "      <th></th>\n",
       "    </tr>\n",
       "  </thead>\n",
       "  <tbody>\n",
       "    <tr>\n",
       "      <th>A</th>\n",
       "      <td>47.347204</td>\n",
       "    </tr>\n",
       "    <tr>\n",
       "      <th>B</th>\n",
       "      <td>58.058798</td>\n",
       "    </tr>\n",
       "  </tbody>\n",
       "</table>\n",
       "</div>"
      ],
      "text/plain": [
       "          ARPU\n",
       "grp           \n",
       "A    47.347204\n",
       "B    58.058798"
      ]
     },
     "execution_count": 20,
     "metadata": {},
     "output_type": "execute_result"
    }
   ],
   "source": [
    "ARPU = count_user_active_groups.merge(count_user_checks_groups, on='grp')\n",
    "ARPU\n",
    "ARPU['ARPU'] = ARPU[('sum', 'rev')]/ARPU['student_id']\n",
    "ARPU\n",
    "ARPU = pd.DataFrame(data =ARPU['ARPU'])\n",
    "ARPU"
   ]
  },
  {
   "cell_type": "markdown",
   "id": "78e37ea2",
   "metadata": {},
   "source": [
    "**ARPPU**"
   ]
  },
  {
   "cell_type": "code",
   "execution_count": 21,
   "id": "cdf50de0",
   "metadata": {},
   "outputs": [
    {
     "data": {
      "text/html": [
       "<div>\n",
       "<style scoped>\n",
       "    .dataframe tbody tr th:only-of-type {\n",
       "        vertical-align: middle;\n",
       "    }\n",
       "\n",
       "    .dataframe tbody tr th {\n",
       "        vertical-align: top;\n",
       "    }\n",
       "\n",
       "    .dataframe thead th {\n",
       "        text-align: right;\n",
       "    }\n",
       "</style>\n",
       "<table border=\"1\" class=\"dataframe\">\n",
       "  <thead>\n",
       "    <tr style=\"text-align: right;\">\n",
       "      <th></th>\n",
       "      <th>ARPPU</th>\n",
       "    </tr>\n",
       "    <tr>\n",
       "      <th>grp</th>\n",
       "      <th></th>\n",
       "    </tr>\n",
       "  </thead>\n",
       "  <tbody>\n",
       "    <tr>\n",
       "      <th>A</th>\n",
       "      <td>933.589744</td>\n",
       "    </tr>\n",
       "    <tr>\n",
       "      <th>B</th>\n",
       "      <td>1257.878981</td>\n",
       "    </tr>\n",
       "  </tbody>\n",
       "</table>\n",
       "</div>"
      ],
      "text/plain": [
       "           ARPPU\n",
       "grp             \n",
       "A     933.589744\n",
       "B    1257.878981"
      ]
     },
     "execution_count": 21,
     "metadata": {},
     "output_type": "execute_result"
    }
   ],
   "source": [
    "ARPPU = count_user_checks_groups\n",
    "ARPPU\n",
    "ARPPU['ARPPU'] = ARPPU[('sum', 'rev')]/ARPPU[('count', 'rev')]\n",
    "ARPPU\n",
    "ARPPU = pd.DataFrame(data =ARPPU['ARPPU'])\n",
    "ARPPU"
   ]
  },
  {
   "cell_type": "code",
   "execution_count": 29,
   "id": "dcfe234b",
   "metadata": {},
   "outputs": [
    {
     "data": {
      "text/html": [
       "<div>\n",
       "<style scoped>\n",
       "    .dataframe tbody tr th:only-of-type {\n",
       "        vertical-align: middle;\n",
       "    }\n",
       "\n",
       "    .dataframe tbody tr th {\n",
       "        vertical-align: top;\n",
       "    }\n",
       "\n",
       "    .dataframe thead th {\n",
       "        text-align: right;\n",
       "    }\n",
       "</style>\n",
       "<table border=\"1\" class=\"dataframe\">\n",
       "  <thead>\n",
       "    <tr style=\"text-align: right;\">\n",
       "      <th></th>\n",
       "      <th>share_actibe_users</th>\n",
       "      <th>CR</th>\n",
       "      <th>ARPU</th>\n",
       "      <th>ARPPU</th>\n",
       "    </tr>\n",
       "    <tr>\n",
       "      <th>grp</th>\n",
       "      <th></th>\n",
       "      <th></th>\n",
       "      <th></th>\n",
       "      <th></th>\n",
       "    </tr>\n",
       "  </thead>\n",
       "  <tbody>\n",
       "    <tr>\n",
       "      <th>A</th>\n",
       "      <td>0.104676</td>\n",
       "      <td>19.717949</td>\n",
       "      <td>47.347204</td>\n",
       "      <td>933.589744</td>\n",
       "    </tr>\n",
       "    <tr>\n",
       "      <th>B</th>\n",
       "      <td>0.113605</td>\n",
       "      <td>21.665605</td>\n",
       "      <td>58.058798</td>\n",
       "      <td>1257.878981</td>\n",
       "    </tr>\n",
       "  </tbody>\n",
       "</table>\n",
       "</div>"
      ],
      "text/plain": [
       "     share_actibe_users         CR       ARPU        ARPPU\n",
       "grp                                                       \n",
       "A              0.104676  19.717949  47.347204   933.589744\n",
       "B              0.113605  21.665605  58.058798  1257.878981"
      ]
     },
     "execution_count": 29,
     "metadata": {},
     "output_type": "execute_result"
    }
   ],
   "source": [
    "data = SAU.merge(CR, on='grp').merge(ARPU, on='grp').merge(ARPPU, on='grp')\n",
    "data"
   ]
  },
  {
   "cell_type": "code",
   "execution_count": 30,
   "id": "3be35ff2",
   "metadata": {},
   "outputs": [
    {
     "name": "stderr",
     "output_type": "stream",
     "text": [
      "C:\\Users\\a.vechkanov\\Anaconda3\\lib\\site-packages\\pandas\\core\\frame.py:9190: FutureWarning: merging between different levels is deprecated and will be removed in a future version. (1 levels on the left,2 on the right)\n",
      "  return merge(\n"
     ]
    },
    {
     "data": {
      "text/html": [
       "<div>\n",
       "<style scoped>\n",
       "    .dataframe tbody tr th:only-of-type {\n",
       "        vertical-align: middle;\n",
       "    }\n",
       "\n",
       "    .dataframe tbody tr th {\n",
       "        vertical-align: top;\n",
       "    }\n",
       "\n",
       "    .dataframe thead th {\n",
       "        text-align: right;\n",
       "    }\n",
       "</style>\n",
       "<table border=\"1\" class=\"dataframe\">\n",
       "  <thead>\n",
       "    <tr style=\"text-align: right;\">\n",
       "      <th></th>\n",
       "      <th>student_id_x</th>\n",
       "      <th>student_id_y</th>\n",
       "      <th>(sum, rev)</th>\n",
       "      <th>(count, rev)</th>\n",
       "      <th>(ARPPU, )</th>\n",
       "    </tr>\n",
       "    <tr>\n",
       "      <th>grp</th>\n",
       "      <th></th>\n",
       "      <th></th>\n",
       "      <th></th>\n",
       "      <th></th>\n",
       "      <th></th>\n",
       "    </tr>\n",
       "  </thead>\n",
       "  <tbody>\n",
       "    <tr>\n",
       "      <th>A</th>\n",
       "      <td>14693</td>\n",
       "      <td>1538</td>\n",
       "      <td>72820.0</td>\n",
       "      <td>78</td>\n",
       "      <td>933.589744</td>\n",
       "    </tr>\n",
       "    <tr>\n",
       "      <th>B</th>\n",
       "      <td>59883</td>\n",
       "      <td>6803</td>\n",
       "      <td>394974.0</td>\n",
       "      <td>314</td>\n",
       "      <td>1257.878981</td>\n",
       "    </tr>\n",
       "  </tbody>\n",
       "</table>\n",
       "</div>"
      ],
      "text/plain": [
       "     student_id_x  student_id_y  (sum, rev)  (count, rev)    (ARPPU, )\n",
       "grp                                                                   \n",
       "A           14693          1538     72820.0            78   933.589744\n",
       "B           59883          6803    394974.0           314  1257.878981"
      ]
     },
     "execution_count": 30,
     "metadata": {},
     "output_type": "execute_result"
    }
   ],
   "source": [
    "data_1 = count_user_groups.merge(count_user_active_groups, on='grp'\n",
    "                                ).merge(count_user_checks_groups, on='grp')\n",
    "data_1"
   ]
  },
  {
   "cell_type": "markdown",
   "id": "abc68503",
   "metadata": {},
   "source": [
    "    Группа А - от общего 14693 → 1538 → 78\n",
    "    Группа В - от общего 59883 → 6803 → 314"
   ]
  },
  {
   "cell_type": "markdown",
   "id": "287b1535",
   "metadata": {},
   "source": [
    "## Сравним пропорции "
   ]
  },
  {
   "cell_type": "code",
   "execution_count": 32,
   "id": "fe371ff6",
   "metadata": {},
   "outputs": [],
   "source": [
    "from statsmodels.stats.proportion import proportions_ztest\n",
    "import numpy as np"
   ]
  },
  {
   "attachments": {
    "%D0%B8%D0%B7%D0%BE%D0%B1%D1%80%D0%B0%D0%B6%D0%B5%D0%BD%D0%B8%D0%B5.png": {
     "image/png": "[encoded data removed]"
    }
   },
   "cell_type": "markdown",
   "id": "17735c5a",
   "metadata": {},
   "source": [
    "![%D0%B8%D0%B7%D0%BE%D0%B1%D1%80%D0%B0%D0%B6%D0%B5%D0%BD%D0%B8%D0%B5.png](attachment:%D0%B8%D0%B7%D0%BE%D0%B1%D1%80%D0%B0%D0%B6%D0%B5%D0%BD%D0%B8%D0%B5.png)\n",
    "\n",
    "* Если pval < alpha статистическая разница ЕСТЬ\n",
    "* Если pval > alpha статистическая разница НЕТ"
   ]
  },
  {
   "cell_type": "markdown",
   "id": "5b2aaa51",
   "metadata": {},
   "source": [
    "## Первая пропорция"
   ]
  },
  {
   "cell_type": "markdown",
   "id": "26d1e03f",
   "metadata": {},
   "source": [
    "* Н0 - Между пропорциями *Всего пользователей - Активных пользователей* НЕТ разница \n",
    "* Н1 - Между пропорциями *Всего пользователей - Активных пользователей* ЕСТЬ разница\n"
   ]
  },
  {
   "cell_type": "code",
   "execution_count": 49,
   "id": "b7e89815",
   "metadata": {},
   "outputs": [
    {
     "name": "stdout",
     "output_type": "stream",
     "text": [
      "0.0021\n",
      "Результат: 0.0021 Нулевая гипотеза отвергнута: между долями есть значимая разница\n",
      "\n"
     ]
    }
   ],
   "source": [
    "count = data_1['student_id_y'] # np.array([14693, 1538])\n",
    "nobs =  data_1['student_id_x'] # np.array([59883, 6803])\n",
    "alpha = 0.05 # Уровень значимости\n",
    "\n",
    "stat, pval = proportions_ztest(count, nobs)\n",
    "print('{0:0.4f}'.format(pval))\n",
    "\n",
    "if pval < alpha:\n",
    "    print('Результат: {0:0.4f}'.format(pval), \"Нулевая гипотеза отвергнута: между долями есть значимая разница\\n\")\n",
    "else:\n",
    "    print('Результат: {0:0.4f}.'.format(pval), \"Нулевая гипотеза не отвергнута: нет оснований считать доли разными\\n\")"
   ]
  },
  {
   "cell_type": "markdown",
   "id": "2ab3a77e",
   "metadata": {},
   "source": [
    "    У нас пристуствует неравномерный переход между пользователями которые были поделены на группы и пользователями которпые зашли на платформу"
   ]
  },
  {
   "cell_type": "markdown",
   "id": "c0897879",
   "metadata": {},
   "source": [
    "## Вторая пропорция"
   ]
  },
  {
   "cell_type": "markdown",
   "id": "dee758a6",
   "metadata": {},
   "source": [
    "* Н0 - Между пропорциями *Активных пользователей - Платящий пользователь* НЕТ разница \n",
    "* Н1 - Между пропорциями *Активных пользователей - Платящий пользователь* ЕСТЬ разница"
   ]
  },
  {
   "cell_type": "code",
   "execution_count": 54,
   "id": "c3564b43",
   "metadata": {},
   "outputs": [
    {
     "name": "stdout",
     "output_type": "stream",
     "text": [
      "0.4455\n",
      "Результат: 0.4455. Нулевая гипотеза не отвергнута: нет оснований считать доли разными\n",
      "\n"
     ]
    }
   ],
   "source": [
    "count = data_1[('count', 'rev')] # np.array([14693, 1538])\n",
    "nobs = data_1['student_id_y'] # np.array([59883, 6803])\n",
    "alpha = 0.05 # Уровень значимости\n",
    "\n",
    "stat, pval = proportions_ztest(count, nobs)\n",
    "print('{0:0.4f}'.format(pval))\n",
    "\n",
    "if pval < alpha:\n",
    "    print('Результат: {0:0.4f}'.format(pval), \"Нулевая гипотеза отвергнута: между долями есть значимая разница\\n\")\n",
    "else:\n",
    "    print('Результат: {0:0.4f}.'.format(pval), \"Нулевая гипотеза не отвергнута: нет оснований считать доли разными\\n\")"
   ]
  },
  {
   "cell_type": "markdown",
   "id": "a9e7b58d",
   "metadata": {},
   "source": [
    "    У нас получился равномерный переход между пользователями которые прошли на платформу и пользоваетлями которые заплатили. Значит Можно сравнивать эти выборки!"
   ]
  },
  {
   "cell_type": "markdown",
   "id": "3286f2b5",
   "metadata": {},
   "source": [
    "## Третья пропорция"
   ]
  },
  {
   "cell_type": "markdown",
   "id": "1aed7547",
   "metadata": {},
   "source": [
    "* Н0 - Между пропорциями *Платящий пользователь - Сумма трат* НЕТ разница \n",
    "* Н1 - Между пропорциями *Платящий пользователь - Сумма трат* ЕСТЬ разница"
   ]
  },
  {
   "cell_type": "code",
   "execution_count": 55,
   "id": "03ca3a36",
   "metadata": {},
   "outputs": [
    {
     "name": "stdout",
     "output_type": "stream",
     "text": [
      "0.0180\n",
      "Результат: 0.0180 Нулевая гипотеза отвергнута: между долями есть значимая разница\n",
      "\n"
     ]
    }
   ],
   "source": [
    "count = data_1[('count', 'rev')] # np.array([14693, 1538])\n",
    "nobs = data_1[('sum', 'rev')] # np.array([59883, 6803])\n",
    "alpha = 0.05 # Уровень значимости\n",
    "\n",
    "stat, pval = proportions_ztest(count, nobs)\n",
    "print('{0:0.4f}'.format(pval))\n",
    "\n",
    "if pval < alpha:\n",
    "    print('Результат: {0:0.4f}'.format(pval), \"Нулевая гипотеза отвергнута: между долями есть значимая разница\\n\")\n",
    "else:\n",
    "    print('Результат: {0:0.4f}.'.format(pval), \"Нулевая гипотеза не отвергнута: нет оснований считать доли разными\\n\")"
   ]
  },
  {
   "cell_type": "markdown",
   "id": "a7342c59",
   "metadata": {},
   "source": [
    "Между пропорциями есть разница, значит палата пользователей отличаалась, знаем что средняя плата выше у группы В. Узнаем, повлияла ли на это новая механика оплаты?"
   ]
  },
  {
   "cell_type": "markdown",
   "id": "c523bb9b",
   "metadata": {},
   "source": [
    "## Посмтрим распледеление платежей по группам"
   ]
  },
  {
   "cell_type": "code",
   "execution_count": 23,
   "id": "b8dab77e",
   "metadata": {},
   "outputs": [
    {
     "data": {
      "text/html": [
       "<div>\n",
       "<style scoped>\n",
       "    .dataframe tbody tr th:only-of-type {\n",
       "        vertical-align: middle;\n",
       "    }\n",
       "\n",
       "    .dataframe tbody tr th {\n",
       "        vertical-align: top;\n",
       "    }\n",
       "\n",
       "    .dataframe thead th {\n",
       "        text-align: right;\n",
       "    }\n",
       "</style>\n",
       "<table border=\"1\" class=\"dataframe\">\n",
       "  <thead>\n",
       "    <tr style=\"text-align: right;\">\n",
       "      <th></th>\n",
       "      <th>student_id</th>\n",
       "      <th>rev</th>\n",
       "      <th>grp</th>\n",
       "    </tr>\n",
       "  </thead>\n",
       "  <tbody>\n",
       "    <tr>\n",
       "      <th>0</th>\n",
       "      <td>1627</td>\n",
       "      <td>990.0000</td>\n",
       "      <td>A</td>\n",
       "    </tr>\n",
       "    <tr>\n",
       "      <th>1</th>\n",
       "      <td>100300</td>\n",
       "      <td>990.0000</td>\n",
       "      <td>B</td>\n",
       "    </tr>\n",
       "    <tr>\n",
       "      <th>2</th>\n",
       "      <td>108270</td>\n",
       "      <td>290.0000</td>\n",
       "      <td>B</td>\n",
       "    </tr>\n",
       "    <tr>\n",
       "      <th>3</th>\n",
       "      <td>264473</td>\n",
       "      <td>1900.0001</td>\n",
       "      <td>B</td>\n",
       "    </tr>\n",
       "    <tr>\n",
       "      <th>4</th>\n",
       "      <td>274352</td>\n",
       "      <td>690.0000</td>\n",
       "      <td>B</td>\n",
       "    </tr>\n",
       "    <tr>\n",
       "      <th>...</th>\n",
       "      <td>...</td>\n",
       "      <td>...</td>\n",
       "      <td>...</td>\n",
       "    </tr>\n",
       "    <tr>\n",
       "      <th>387</th>\n",
       "      <td>5645737</td>\n",
       "      <td>1900.0000</td>\n",
       "      <td>B</td>\n",
       "    </tr>\n",
       "    <tr>\n",
       "      <th>388</th>\n",
       "      <td>5651566</td>\n",
       "      <td>1900.0000</td>\n",
       "      <td>B</td>\n",
       "    </tr>\n",
       "    <tr>\n",
       "      <th>389</th>\n",
       "      <td>5662322</td>\n",
       "      <td>1900.0000</td>\n",
       "      <td>B</td>\n",
       "    </tr>\n",
       "    <tr>\n",
       "      <th>390</th>\n",
       "      <td>5681918</td>\n",
       "      <td>1900.0000</td>\n",
       "      <td>B</td>\n",
       "    </tr>\n",
       "    <tr>\n",
       "      <th>391</th>\n",
       "      <td>5740903</td>\n",
       "      <td>1900.0000</td>\n",
       "      <td>B</td>\n",
       "    </tr>\n",
       "  </tbody>\n",
       "</table>\n",
       "<p>392 rows × 3 columns</p>\n",
       "</div>"
      ],
      "text/plain": [
       "     student_id        rev grp\n",
       "0          1627   990.0000   A\n",
       "1        100300   990.0000   B\n",
       "2        108270   290.0000   B\n",
       "3        264473  1900.0001   B\n",
       "4        274352   690.0000   B\n",
       "..          ...        ...  ..\n",
       "387     5645737  1900.0000   B\n",
       "388     5651566  1900.0000   B\n",
       "389     5662322  1900.0000   B\n",
       "390     5681918  1900.0000   B\n",
       "391     5740903  1900.0000   B\n",
       "\n",
       "[392 rows x 3 columns]"
      ]
     },
     "execution_count": 23,
     "metadata": {},
     "output_type": "execute_result"
    }
   ],
   "source": [
    "df"
   ]
  },
  {
   "cell_type": "markdown",
   "id": "5b40c23e",
   "metadata": {},
   "source": [
    "    Получилось что из 541 пльзователя которые оплатили, только 392 те, кто участвует в эксперементе. Отлично, дальше будем работать с таблицей df "
   ]
  },
  {
   "cell_type": "markdown",
   "id": "33c8fc68",
   "metadata": {},
   "source": [
    "Посмотрим describe по двум группам, возможно есть выбросы "
   ]
  },
  {
   "cell_type": "code",
   "execution_count": 24,
   "id": "c5f47a02",
   "metadata": {},
   "outputs": [
    {
     "data": {
      "text/plain": [
       "count      78.000000\n",
       "mean      933.589744\n",
       "std       919.932711\n",
       "min       199.000000\n",
       "25%       290.000000\n",
       "50%       585.000000\n",
       "75%      1114.750000\n",
       "max      3660.000000\n",
       "Name: rev, dtype: float64"
      ]
     },
     "execution_count": 24,
     "metadata": {},
     "output_type": "execute_result"
    }
   ],
   "source": [
    "df.query('grp==\"A\"')['rev'].describe()"
   ]
  },
  {
   "cell_type": "code",
   "execution_count": 25,
   "id": "72441baf",
   "metadata": {},
   "outputs": [
    {
     "data": {
      "text/plain": [
       "count     314.000000\n",
       "mean     1257.878992\n",
       "std       790.864254\n",
       "min       199.000000\n",
       "25%       511.750000\n",
       "50%      1140.000000\n",
       "75%      1900.000000\n",
       "max      4650.000000\n",
       "Name: rev, dtype: float64"
      ]
     },
     "execution_count": 25,
     "metadata": {},
     "output_type": "execute_result"
    }
   ],
   "source": [
    "df.query('grp==\"B\"')['rev'].describe()"
   ]
  },
  {
   "cell_type": "markdown",
   "id": "ab01bfe8",
   "metadata": {},
   "source": [
    "    Итог:\n",
    "    1 Сред больше у группы В\n",
    "    2 Стд отклнение больше у группы А, значит разброс трат больше у группы А(есть выбросы)\n",
    "    3 Мин 199 одинаково\n",
    "    4 Медиана сильно отличается, у группы А она в два раза меньше"
   ]
  },
  {
   "cell_type": "markdown",
   "id": "cacbc778",
   "metadata": {},
   "source": [
    "Посмтроим наглядно графики распределения дву групп"
   ]
  },
  {
   "cell_type": "code",
   "execution_count": 26,
   "id": "38aba888",
   "metadata": {},
   "outputs": [
    {
     "data": {
      "image/png": "[encoded data removed]",
      "text/plain": [
       "<Figure size 720x576 with 1 Axes>"
      ]
     },
     "metadata": {
      "needs_background": "light"
     },
     "output_type": "display_data"
    }
   ],
   "source": [
    "fig = plt.figure(figsize=(10,8))\n",
    "\n",
    "ax = fig.add_subplot(1,1,1)\n",
    "\n",
    "sns.histplot(\n",
    "    data=df, \n",
    "    x='rev', \n",
    "    hue='grp',\n",
    "    kde=True,\n",
    "    ax=ax,\n",
    ")\n",
    "\n",
    "plt.title('События на пользователя')\n",
    "plt.show()"
   ]
  },
  {
   "cell_type": "markdown",
   "id": "53abda39",
   "metadata": {},
   "source": [
    "    Теперь более наглядно видим какое разное распределение сумм трат в группах А и В. Вряд ли новая механика оплаты могла повлиять на это "
   ]
  },
  {
   "cell_type": "markdown",
   "id": "f583cb40",
   "metadata": {},
   "source": [
    "## Сравним есть ли различия в наших выборках оплаты "
   ]
  },
  {
   "cell_type": "markdown",
   "id": "067ddb32",
   "metadata": {},
   "source": [
    "Проверяет, равны ли распределения двух независимых выборок или нет."
   ]
  },
  {
   "cell_type": "code",
   "execution_count": 56,
   "id": "a50bf5d3",
   "metadata": {},
   "outputs": [],
   "source": [
    "from scipy import stats as st"
   ]
  },
  {
   "cell_type": "code",
   "execution_count": 57,
   "id": "610f7690",
   "metadata": {},
   "outputs": [
    {
     "name": "stdout",
     "output_type": "stream",
     "text": [
      "p-значение:  0.0002511393831406922\n",
      "Отвергаем нулевую гипотезу: разница статистически значима\n"
     ]
    }
   ],
   "source": [
    "alpha = 0.05  # критический уровень статистической значимости\n",
    "\n",
    "results = st.mannwhitneyu(df.query('grp==\"A\"')['rev'], df.query('grp==\"B\"')['rev'])\n",
    "\n",
    "print('p-значение: ', results.pvalue)\n",
    "\n",
    "if results.pvalue < alpha:\n",
    "    print('Отвергаем нулевую гипотезу: разница статистически значима')\n",
    "else:\n",
    "    print(\n",
    "        'Не получилось отвергнуть нулевую гипотезу, вывод о различии сделать нельзя'\n",
    "    ) "
   ]
  },
  {
   "cell_type": "markdown",
   "id": "2c7835e0",
   "metadata": {},
   "source": [
    "Да, разница значимая, значит люди стали платить больше или меньше!"
   ]
  },
  {
   "cell_type": "markdown",
   "id": "835a996a",
   "metadata": {},
   "source": [
    "Проверим гипотезу с помощью scipy.stats.ttest_ind, так как с его помощью можно сравнить средние двух совокупностей."
   ]
  },
  {
   "cell_type": "code",
   "execution_count": 59,
   "id": "cf813606",
   "metadata": {},
   "outputs": [],
   "source": [
    "from  scipy.stats import ttest_ind, levene"
   ]
  },
  {
   "cell_type": "code",
   "execution_count": 61,
   "id": "a110a62b",
   "metadata": {},
   "outputs": [
    {
     "name": "stdout",
     "output_type": "stream",
     "text": [
      "Ttest_indResult(statistic=-2.861689755269415, pvalue=0.005069734012800116)\n"
     ]
    }
   ],
   "source": [
    "print(ttest_ind(df.query('grp==\"A\"')['rev'],df.query('grp==\"B\"')['rev'],equal_var=False)) # дисперсия неравномерная"
   ]
  },
  {
   "cell_type": "markdown",
   "id": "6565d509",
   "metadata": {},
   "source": [
    "Да, разница значимая, значит люди стали платить больше или меньше!"
   ]
  },
  {
   "cell_type": "markdown",
   "id": "82588c48",
   "metadata": {},
   "source": [
    "## проведем ttest выборок оплат "
   ]
  },
  {
   "cell_type": "markdown",
   "id": "78102c77",
   "metadata": {},
   "source": [
    "\n",
    "    H0: средства образцов равны.\n",
    "    H1: средства образцов неравны.\n"
   ]
  },
  {
   "cell_type": "code",
   "execution_count": 70,
   "id": "98d04b58",
   "metadata": {},
   "outputs": [
    {
     "name": "stdout",
     "output_type": "stream",
     "text": [
      "p-значение:  0.9990718987367116\n",
      "Не получилось отвергнуть нулевую гипотезу, вывод о различии сделать нельзя\n"
     ]
    }
   ],
   "source": [
    "alpha = 0.05  # критический уровень статистической значимости\n",
    "\n",
    "results = st.ttest_ind(df.query('grp==\"A\"')['rev'], df.query('grp==\"B\"')['rev'], alternative='greater')\n",
    "\n",
    "print('p-значение: ', results.pvalue)\n",
    "\n",
    "if results.pvalue < alpha:\n",
    "    print('Отвергаем нулевую гипотезу: разница статистически значима')\n",
    "else:\n",
    "    print(\n",
    "        'Не получилось отвергнуть нулевую гипотезу, вывод о различии сделать нельзя'\n",
    "    ) "
   ]
  },
  {
   "cell_type": "markdown",
   "id": "81739981",
   "metadata": {},
   "source": [
    "среднее значение распределения, лежащего в основе первой выборки, больше, чем среднее значение распределения, лежащего в основе второй выборки."
   ]
  },
  {
   "cell_type": "markdown",
   "id": "9e47d7ee",
   "metadata": {},
   "source": [
    "**ВЫВОД**    \n",
    "    \n",
    "    Новая механика оплаты не повлияла на урвовень оплаты \n",
    "    "
   ]
  },
  {
   "cell_type": "code",
   "execution_count": null,
   "id": "4b9da4ca",
   "metadata": {},
   "outputs": [],
   "source": []
  }
 ],
 "metadata": {
  "kernelspec": {
   "display_name": "Python 3 (ipykernel)",
   "language": "python",
   "name": "python3"
  },
  "language_info": {
   "codemirror_mode": {
    "name": "ipython",
    "version": 3
   },
   "file_extension": ".py",
   "mimetype": "text/x-python",
   "name": "python",
   "nbconvert_exporter": "python",
   "pygments_lexer": "ipython3",
   "version": "3.9.7"
  },
  "toc": {
   "base_numbering": 1,
   "nav_menu": {},
   "number_sections": true,
   "sideBar": true,
   "skip_h1_title": false,
   "title_cell": "Table of Contents",
   "title_sidebar": "Contents",
   "toc_cell": false,
   "toc_position": {},
   "toc_section_display": true,
   "toc_window_display": false
  }
 },
 "nbformat": 4,
 "nbformat_minor": 5
}

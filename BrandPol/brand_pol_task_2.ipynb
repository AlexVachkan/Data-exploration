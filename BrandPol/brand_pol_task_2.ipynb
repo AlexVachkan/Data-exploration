{
 "cells": [
  {
   "cell_type": "markdown",
   "id": "b9e3b6f1",
   "metadata": {},
   "source": [
    " \n",
    "### Проанализировать отчет.\n",
    " \n",
    "Аптечная сеть \"Доктор Док\" заказала услугу мониторинг цен. Состав услуги:\n",
    " \n",
    "Ежедневный мониторинг цен на сайтах:\n",
    " \n",
    "    acmespb.ru\n",
    "    apteka.ru\n",
    "    aptekamos.ru\n",
    "    aptekiplus.ru\n",
    "    maksavit.ru\n",
    "    ozerki.ru\n",
    "    planetazdorovo.ru\n",
    "    po-aptekam.ru\n",
    "    rigla.ru\n",
    "    stolichki.ru\n",
    " \n",
    "В регионах:\n",
    " \n",
    "    Казань\n",
    "    Уфа\n",
    "    Белгород\n",
    "    Тула\n",
    "    Санкт-Петербург\n",
    "    Владимир\n",
    "    Екатеринбург\n",
    "    Воронеж\n",
    "    Астрахань\n",
    " \n",
    "Количество уникальных товаров, собираемых на каждом из сайтов должно составлять не менее 1000 в день.\n",
    " \n",
    "Задача: Проанализировать отчет за 12.01.2022 (https://docs.google.com/spreadsheets/d/1D9aXswZlSxJsFmW671v_cB3O9cDB39ROfZy7qCIvygo/edit#gid=853852798) и определить в нем несоответствия составу услуги."
   ]
  },
  {
   "cell_type": "markdown",
   "id": "e5209133",
   "metadata": {},
   "source": [
    "# Загржаем библиотеки"
   ]
  },
  {
   "cell_type": "code",
   "execution_count": 1,
   "id": "ed0f0f91",
   "metadata": {},
   "outputs": [],
   "source": [
    "import pandas as pd\n",
    "import requests\n",
    "from io import BytesIO"
   ]
  },
  {
   "cell_type": "markdown",
   "id": "f94e5d09",
   "metadata": {},
   "source": [
    "# Загружаем файл из docs.google"
   ]
  },
  {
   "cell_type": "code",
   "execution_count": 2,
   "id": "563634cd",
   "metadata": {},
   "outputs": [],
   "source": [
    "spreadsheet_id = '1D9aXswZlSxJsFmW671v_cB3O9cDB39ROfZy7qCIvygo'\n",
    "file_name = 'https://docs.google.com/spreadsheets/d/{}/export?format=csv'.format(spreadsheet_id)\n",
    "r = requests.get(file_name)\n",
    "df = pd.read_csv(BytesIO(r.content))"
   ]
  },
  {
   "cell_type": "code",
   "execution_count": 3,
   "id": "d20bf498",
   "metadata": {},
   "outputs": [
    {
     "data": {
      "text/html": [
       "<div>\n",
       "<style scoped>\n",
       "    .dataframe tbody tr th:only-of-type {\n",
       "        vertical-align: middle;\n",
       "    }\n",
       "\n",
       "    .dataframe tbody tr th {\n",
       "        vertical-align: top;\n",
       "    }\n",
       "\n",
       "    .dataframe thead th {\n",
       "        text-align: right;\n",
       "    }\n",
       "</style>\n",
       "<table border=\"1\" class=\"dataframe\">\n",
       "  <thead>\n",
       "    <tr style=\"text-align: right;\">\n",
       "      <th></th>\n",
       "      <th>Товар (офф. Наименование)</th>\n",
       "      <th>Цена</th>\n",
       "      <th>Регион</th>\n",
       "      <th>Федеральный округ</th>\n",
       "      <th>Наименование на сайте</th>\n",
       "      <th>Цена на сайте</th>\n",
       "      <th>Сайт</th>\n",
       "      <th>Дата выкачки</th>\n",
       "      <th>Время выкачки</th>\n",
       "      <th>Ссылка</th>\n",
       "    </tr>\n",
       "  </thead>\n",
       "  <tbody>\n",
       "    <tr>\n",
       "      <th>0</th>\n",
       "      <td>Жидкость для рук 80мл</td>\n",
       "      <td>NaN</td>\n",
       "      <td>Казань</td>\n",
       "      <td>Приволжский федеральный округ</td>\n",
       "      <td>ЖИДКОСТЬ ДЛЯ РУК АММИАК+ГЛИЦЕРОЛ+ЭТАНОЛ 80МЛ Р...</td>\n",
       "      <td>0,00</td>\n",
       "      <td>apteka.ru</td>\n",
       "      <td>12.01.2022</td>\n",
       "      <td>00:39</td>\n",
       "      <td>https://apteka.ru/product/zhidkost-dlya-ruk-am...</td>\n",
       "    </tr>\n",
       "    <tr>\n",
       "      <th>1</th>\n",
       "      <td>Мильгамма р-р д/в/м введ. 2мл №5 амп.</td>\n",
       "      <td>NaN</td>\n",
       "      <td>Уфа</td>\n",
       "      <td>Приволжский федеральный округ</td>\n",
       "      <td>МИЛЬГАММА 2МЛ N5 АМП Р-Р В/М</td>\n",
       "      <td>0,00</td>\n",
       "      <td>apteka.ru</td>\n",
       "      <td>12.01.2022</td>\n",
       "      <td>00:39</td>\n",
       "      <td>https://apteka.ru/product/milgamma-2ml-n5-amp-...</td>\n",
       "    </tr>\n",
       "    <tr>\n",
       "      <th>2</th>\n",
       "      <td>Назол Бэби капли наз. 0.125% 10мл д/младенцев ...</td>\n",
       "      <td>NaN</td>\n",
       "      <td>Белгород</td>\n",
       "      <td>Центральный федеральный округ</td>\n",
       "      <td>НАЗОЛ БЭБИ 0,125% 10МЛ ФЛАК/КАП КАПЛИ НАЗАЛ</td>\n",
       "      <td>0,00</td>\n",
       "      <td>apteka.ru</td>\n",
       "      <td>12.01.2022</td>\n",
       "      <td>00:40</td>\n",
       "      <td>https://apteka.ru/product/nazol-bebi-0125-10ml...</td>\n",
       "    </tr>\n",
       "    <tr>\n",
       "      <th>3</th>\n",
       "      <td>Тантум Прополис пастилки №15 лес.ягоды БАД</td>\n",
       "      <td>NaN</td>\n",
       "      <td>Тула</td>\n",
       "      <td>Центральный федеральный округ</td>\n",
       "      <td>ТАНТУМ ПРОПОЛИС СО ВКУСОМ ЛЕСНЫХ ЯГОД N15 ПАСТ...</td>\n",
       "      <td>0,00</td>\n",
       "      <td>apteka.ru</td>\n",
       "      <td>12.01.2022</td>\n",
       "      <td>00:40</td>\n",
       "      <td>https://apteka.ru/product/tantum-propolis-so-v...</td>\n",
       "    </tr>\n",
       "    <tr>\n",
       "      <th>4</th>\n",
       "      <td>Нозефрин спрей наз. 50мкг/доза 120доз</td>\n",
       "      <td>NaN</td>\n",
       "      <td>Казань</td>\n",
       "      <td>Приволжский федеральный округ</td>\n",
       "      <td>НОЗЕФРИН 50МКГ/ДОЗА 18,0 СПРЕЙ НАЗАЛЬН ДОЗИР 1...</td>\n",
       "      <td>0,00</td>\n",
       "      <td>apteka.ru</td>\n",
       "      <td>12.01.2022</td>\n",
       "      <td>00:40</td>\n",
       "      <td>https://apteka.ru/product/nozefrin-50mkgdoza-1...</td>\n",
       "    </tr>\n",
       "  </tbody>\n",
       "</table>\n",
       "</div>"
      ],
      "text/plain": [
       "                           Товар (офф. Наименование)  Цена    Регион  \\\n",
       "0                              Жидкость для рук 80мл   NaN    Казань   \n",
       "1              Мильгамма р-р д/в/м введ. 2мл №5 амп.   NaN       Уфа   \n",
       "2  Назол Бэби капли наз. 0.125% 10мл д/младенцев ...   NaN  Белгород   \n",
       "3         Тантум Прополис пастилки №15 лес.ягоды БАД   NaN      Тула   \n",
       "4              Нозефрин спрей наз. 50мкг/доза 120доз   NaN    Казань   \n",
       "\n",
       "               Федеральный округ  \\\n",
       "0  Приволжский федеральный округ   \n",
       "1  Приволжский федеральный округ   \n",
       "2  Центральный федеральный округ   \n",
       "3  Центральный федеральный округ   \n",
       "4  Приволжский федеральный округ   \n",
       "\n",
       "                               Наименование на сайте Цена на сайте       Сайт  \\\n",
       "0  ЖИДКОСТЬ ДЛЯ РУК АММИАК+ГЛИЦЕРОЛ+ЭТАНОЛ 80МЛ Р...          0,00  apteka.ru   \n",
       "1                       МИЛЬГАММА 2МЛ N5 АМП Р-Р В/М          0,00  apteka.ru   \n",
       "2        НАЗОЛ БЭБИ 0,125% 10МЛ ФЛАК/КАП КАПЛИ НАЗАЛ          0,00  apteka.ru   \n",
       "3  ТАНТУМ ПРОПОЛИС СО ВКУСОМ ЛЕСНЫХ ЯГОД N15 ПАСТ...          0,00  apteka.ru   \n",
       "4  НОЗЕФРИН 50МКГ/ДОЗА 18,0 СПРЕЙ НАЗАЛЬН ДОЗИР 1...          0,00  apteka.ru   \n",
       "\n",
       "  Дата выкачки Время выкачки  \\\n",
       "0   12.01.2022         00:39   \n",
       "1   12.01.2022         00:39   \n",
       "2   12.01.2022         00:40   \n",
       "3   12.01.2022         00:40   \n",
       "4   12.01.2022         00:40   \n",
       "\n",
       "                                              Ссылка  \n",
       "0  https://apteka.ru/product/zhidkost-dlya-ruk-am...  \n",
       "1  https://apteka.ru/product/milgamma-2ml-n5-amp-...  \n",
       "2  https://apteka.ru/product/nazol-bebi-0125-10ml...  \n",
       "3  https://apteka.ru/product/tantum-propolis-so-v...  \n",
       "4  https://apteka.ru/product/nozefrin-50mkgdoza-1...  "
      ]
     },
     "execution_count": 3,
     "metadata": {},
     "output_type": "execute_result"
    }
   ],
   "source": [
    "df.head()"
   ]
  },
  {
   "cell_type": "markdown",
   "id": "bcf0ffdd",
   "metadata": {},
   "source": [
    "# Проверяем все ли регионы представлены в таблице"
   ]
  },
  {
   "cell_type": "code",
   "execution_count": 4,
   "id": "161a8cfc",
   "metadata": {},
   "outputs": [
    {
     "data": {
      "text/plain": [
       "array(['Казань', 'Уфа', 'Белгород', 'Тула', 'Санкт-Петербург', 'Владимир',\n",
       "       'Екатеринбург', 'Воронеж', 'Астрахань'], dtype=object)"
      ]
     },
     "execution_count": 4,
     "metadata": {},
     "output_type": "execute_result"
    }
   ],
   "source": [
    "df['Регион'].unique()"
   ]
  },
  {
   "cell_type": "markdown",
   "id": "59338192",
   "metadata": {},
   "source": [
    "    Отлично, все регионы, которые нам необходимы есть"
   ]
  },
  {
   "cell_type": "markdown",
   "id": "8f38e063",
   "metadata": {},
   "source": [
    "# Проверяем все ли сайты представлены в таблице"
   ]
  },
  {
   "cell_type": "code",
   "execution_count": 5,
   "id": "c1005d4a",
   "metadata": {},
   "outputs": [
    {
     "data": {
      "text/plain": [
       "array(['apteka.ru', 'aptekiplus.ru', 'planetazdorovo.ru', 'stolichki.ru',\n",
       "       'acmespb.ru', 'maksavit.ru'], dtype=object)"
      ]
     },
     "execution_count": 5,
     "metadata": {},
     "output_type": "execute_result"
    }
   ],
   "source": [
    "df['Сайт'].unique()"
   ]
  },
  {
   "cell_type": "markdown",
   "id": "e75f94d0",
   "metadata": {},
   "source": [
    "    Сайтов данных аптек нет в нашей таблице: aptekamos.ru, ozerki.ru, po-aptekam.ru, rigla.ru"
   ]
  },
  {
   "cell_type": "markdown",
   "id": "c0ea46b3",
   "metadata": {},
   "source": [
    "# Проверяем уникальные наименования в таблице"
   ]
  },
  {
   "cell_type": "code",
   "execution_count": 6,
   "id": "e6dc07b8",
   "metadata": {},
   "outputs": [
    {
     "data": {
      "text/html": [
       "<div>\n",
       "<style scoped>\n",
       "    .dataframe tbody tr th:only-of-type {\n",
       "        vertical-align: middle;\n",
       "    }\n",
       "\n",
       "    .dataframe tbody tr th {\n",
       "        vertical-align: top;\n",
       "    }\n",
       "\n",
       "    .dataframe thead th {\n",
       "        text-align: right;\n",
       "    }\n",
       "</style>\n",
       "<table border=\"1\" class=\"dataframe\">\n",
       "  <thead>\n",
       "    <tr style=\"text-align: right;\">\n",
       "      <th></th>\n",
       "      <th>Сайт</th>\n",
       "      <th>Наименование на сайте</th>\n",
       "    </tr>\n",
       "  </thead>\n",
       "  <tbody>\n",
       "    <tr>\n",
       "      <th>0</th>\n",
       "      <td>acmespb.ru</td>\n",
       "      <td>3430</td>\n",
       "    </tr>\n",
       "    <tr>\n",
       "      <th>1</th>\n",
       "      <td>apteka.ru</td>\n",
       "      <td>2815</td>\n",
       "    </tr>\n",
       "    <tr>\n",
       "      <th>2</th>\n",
       "      <td>aptekiplus.ru</td>\n",
       "      <td>4514</td>\n",
       "    </tr>\n",
       "    <tr>\n",
       "      <th>3</th>\n",
       "      <td>maksavit.ru</td>\n",
       "      <td>4821</td>\n",
       "    </tr>\n",
       "    <tr>\n",
       "      <th>4</th>\n",
       "      <td>planetazdorovo.ru</td>\n",
       "      <td>2447</td>\n",
       "    </tr>\n",
       "    <tr>\n",
       "      <th>5</th>\n",
       "      <td>stolichki.ru</td>\n",
       "      <td>5566</td>\n",
       "    </tr>\n",
       "  </tbody>\n",
       "</table>\n",
       "</div>"
      ],
      "text/plain": [
       "                Сайт  Наименование на сайте\n",
       "0         acmespb.ru                   3430\n",
       "1          apteka.ru                   2815\n",
       "2      aptekiplus.ru                   4514\n",
       "3        maksavit.ru                   4821\n",
       "4  planetazdorovo.ru                   2447\n",
       "5       stolichki.ru                   5566"
      ]
     },
     "execution_count": 6,
     "metadata": {},
     "output_type": "execute_result"
    }
   ],
   "source": [
    "df.pivot_table(index='Сайт', values='Наименование на сайте', aggfunc='nunique').reset_index()"
   ]
  },
  {
   "cell_type": "markdown",
   "id": "bbc01469",
   "metadata": {},
   "source": [
    "    Количество уникальных товаров превышает 1000 позиций."
   ]
  },
  {
   "cell_type": "markdown",
   "id": "ed5c8e17",
   "metadata": {},
   "source": [
    "# Вывод:\n",
    "\n",
    "    1) Количество сайтов несоответствует услуге. Всего 6 из 10 мониторится по ценам.\n",
    "    2) Список уникальных наименований намного превышает 1000 позиций"
   ]
  },
  {
   "cell_type": "code",
   "execution_count": null,
   "id": "c041d98c",
   "metadata": {},
   "outputs": [],
   "source": []
  }
 ],
 "metadata": {
  "kernelspec": {
   "display_name": "Python 3 (ipykernel)",
   "language": "python",
   "name": "python3"
  },
  "language_info": {
   "codemirror_mode": {
    "name": "ipython",
    "version": 3
   },
   "file_extension": ".py",
   "mimetype": "text/x-python",
   "name": "python",
   "nbconvert_exporter": "python",
   "pygments_lexer": "ipython3",
   "version": "3.9.7"
  },
  "toc": {
   "base_numbering": 1,
   "nav_menu": {},
   "number_sections": true,
   "sideBar": true,
   "skip_h1_title": false,
   "title_cell": "Table of Contents",
   "title_sidebar": "Contents",
   "toc_cell": false,
   "toc_position": {},
   "toc_section_display": true,
   "toc_window_display": false
  }
 },
 "nbformat": 4,
 "nbformat_minor": 5
}

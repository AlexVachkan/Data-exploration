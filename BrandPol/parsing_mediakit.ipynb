{
 "cells": [
  {
   "cell_type": "markdown",
   "id": "91f384f5",
   "metadata": {},
   "source": [
    "# Парсинг страницы mediakit, необходимо получить данные работников портала: фио, город, должность, е-почту. "
   ]
  },
  {
   "cell_type": "markdown",
   "id": "f05e8381",
   "metadata": {},
   "source": [
    "## Цель\n",
    "    Посчитать сколько фамилий сотрудников начинаются на каждую из букв русского алфавита (а - 10, б - 0 и т.д.)"
   ]
  },
  {
   "cell_type": "markdown",
   "id": "dbecf8a2",
   "metadata": {},
   "source": [
    "## Импортируем библиотеки"
   ]
  },
  {
   "cell_type": "code",
   "execution_count": 1,
   "id": "1efa203c",
   "metadata": {},
   "outputs": [],
   "source": [
    "from bs4 import BeautifulSoup\n",
    "import requests"
   ]
  },
  {
   "cell_type": "markdown",
   "id": "77517673",
   "metadata": {},
   "source": [
    "## Парсим страницы сайта"
   ]
  },
  {
   "cell_type": "code",
   "execution_count": 84,
   "id": "cb1d91f8",
   "metadata": {
    "scrolled": true
   },
   "outputs": [
    {
     "name": "stdout",
     "output_type": "stream",
     "text": [
      "200\n"
     ]
    },
    {
     "data": {
      "text/plain": [
       "' \\n\\n    \\nЕкатеринбург \\nАртем Беседин \\n    \\n  \\nГлавный редакторe1@iportal.ru \\nНовосибирск \\n    \\n  \\nИО главного редактораngs@iportal.ru \\n    \\nЕлена Гурьянова  '"
      ]
     },
     "execution_count": 84,
     "metadata": {},
     "output_type": "execute_result"
    }
   ],
   "source": [
    "card_elements = []\n",
    "URL = 'https://mediakit.iportal.ru/our-team/'\n",
    "HEADERS = {\"User-Agent\": \"Mozilla/5.0 (Windows NT 10.0; Win64; x64)\"}\n",
    "\n",
    "data = requests.get(URL, headers=HEADERS)\n",
    "print(data.status_code)\n",
    "soup = BeautifulSoup(data.text, 'html.parser')\n",
    "data = soup.findAll('div', class_='t396')\n",
    "data[4].text\n",
    "\n",
    "# card_tags = []\n",
    "# user_data = []\n",
    "# cities = []\n",
    "# emails = []\n",
    "# all_data = []\n",
    "\n",
    "# for data in all_cards:\n",
    "#     card_tags.append(data.find_all_next('div', attrs={'class': 'tn-atom'}))"
   ]
  },
  {
   "cell_type": "markdown",
   "id": "a0beedb8",
   "metadata": {},
   "source": [
    "Теперь поработаем с текстом"
   ]
  },
  {
   "cell_type": "code",
   "execution_count": 5,
   "id": "57baa9a6",
   "metadata": {},
   "outputs": [],
   "source": [
    "from natasha import (\n",
    "    Segmenter,\n",
    "    \n",
    "    NewsEmbedding, \n",
    "    NewsMorphTagger,\n",
    "    NewsSyntaxParser, \n",
    "    \n",
    "    Doc\n",
    ")\n",
    "\n",
    "from natasha import NewsNERTagger\n",
    "\n",
    "from razdel import tokenize\n",
    "\n",
    "import re"
   ]
  },
  {
   "cell_type": "code",
   "execution_count": 6,
   "id": "681f2121",
   "metadata": {},
   "outputs": [],
   "source": [
    "segmenter = Segmenter() # сегментация\n",
    "\n",
    "emb = NewsEmbedding() # встраиваю в функции\n",
    "morph_tagger = NewsMorphTagger(emb) # морфология\n",
    "syntax_parser = NewsSyntaxParser(emb) # синтаксис"
   ]
  },
  {
   "cell_type": "code",
   "execution_count": 172,
   "id": "5dfe62d4",
   "metadata": {},
   "outputs": [],
   "source": [
    "# создаю текст\n",
    "text = data[10].text\n",
    "\n",
    "text = re.sub(r'([А-Я])', r' \\1', text) # ставлю пробел между перед заглавной буквой\n",
    "text = re.sub(r'([a-z])', r' \\1', text) # ставлю пробел между перед english буквой\n",
    "text = re.sub(r'([a-z])', r' \\1', text) # ставлю пробел между перед english буквой\n",
    "text = re.sub(r'|[\\d]+', r'',text).strip()\n",
    "# display(text)\n",
    "\n",
    "doc = Doc(text) # создаю doc текста\n",
    "# display(doc)\n",
    "\n",
    "doc.segment(segmenter) # делю на сегменты\n",
    "# display(doc)\n",
    "\n",
    "doc.tag_morph(morph_tagger) # разбиваю на морфологию\n",
    "# display(doc)\n",
    "\n",
    "doc.parse_syntax(syntax_parser) # разбираю синтаксис\n",
    "# display(doc)\n",
    "\n",
    "# display(doc.sents) # рассматриваю инфу по тексту # [:5]\n",
    "# display(doc.tokens) # рассматриваю инфу по токенам # [:5]\n",
    "\n",
    "# display(doc.sents[0].morph.print()) # рассматриваем морфологию слов\n",
    "\n",
    "# display(doc.sents[0].syntax.print()) # рассматриваем синтаксис слов\n",
    "\n",
    "# display(doc.sents[0]..print())"
   ]
  },
  {
   "cell_type": "code",
   "execution_count": 173,
   "id": "13ecd357",
   "metadata": {},
   "outputs": [
    {
     "name": "stdout",
     "output_type": "stream",
     "text": [
      "Иркутск \n",
      "ORG──── \n",
      " Екатерина  Шайтанова \n",
      " PER───────────────── \n",
      "    \n",
      "  \n",
      " Главный редактор  i  n  f  o@  c  h  i  t  a.  r  u \n",
      " Чита \n",
      " LOC─ \n",
      "    \n",
      "  \n",
      "    \n",
      " Зоя  Кузнецова \n",
      " PER─────────── \n",
      " Главный редактор  i  n  f  o@  i  r  c  i  t  y.  r  u\n"
     ]
    }
   ],
   "source": [
    "ner_tagger = NewsNERTagger(emb) # извлечение именннованых сущностей, как видим у нас их нет так как они с мал буквы написаны \n",
    "doc.tag_ner(ner_tagger)\n",
    "\n",
    "doc.ner.print()"
   ]
  },
  {
   "cell_type": "markdown",
   "id": "d429a724",
   "metadata": {},
   "source": [
    "Извлечем имена и добавим их в список "
   ]
  },
  {
   "cell_type": "code",
   "execution_count": 174,
   "id": "c2d96509",
   "metadata": {},
   "outputs": [
    {
     "name": "stdout",
     "output_type": "stream",
     "text": [
      "['Чита']\n",
      "['Екатерина  Шайтанова', 'Зоя  Кузнецова']\n"
     ]
    }
   ],
   "source": [
    "from natasha import (\n",
    "    PER,\n",
    "    NamesExtractor,\n",
    ")\n",
    "\n",
    "from natasha import MorphVocab\n",
    "\n",
    "morph_vocab = MorphVocab()\n",
    "\n",
    "names_extractor = NamesExtractor(morph_vocab)\n",
    "\n",
    "for span in doc.spans: # приводим к нормальному виду именнованные сущности\n",
    "    span.normalize(morph_vocab) \n",
    "\n",
    "\n",
    "for span in doc.spans:\n",
    "    if span.type == PER:\n",
    "        span.extract_fact(names_extractor)\n",
    "\n",
    "name = [span.normal for span in doc.spans if span.type == PER ]\n",
    "\n",
    "location=[]\n",
    "for span in doc.spans:\n",
    "    if span.type == 'LOC':\n",
    "        location.append(span.normal)\n",
    "        \n",
    "\n",
    "\n",
    "print(location)\n",
    "print(name)"
   ]
  },
  {
   "cell_type": "code",
   "execution_count": 175,
   "id": "f52e71bb",
   "metadata": {},
   "outputs": [
    {
     "data": {
      "text/plain": [
       "['', 'лавный редактор u ', 'лавный редактор']"
      ]
     },
     "execution_count": 175,
     "metadata": {},
     "output_type": "execute_result"
    }
   ],
   "source": [
    "prof = []\n",
    "for i in range(len(doc.tokens)):\n",
    "    if doc.tokens[i].pos != 'PROPN' and doc.tokens[i].pos != 'X' and doc.tokens[i].pos != 'PUNCT':\n",
    "        prof.append(doc.tokens[i].text)\n",
    "\n",
    " \n",
    "prof = \" \".join(prof)\n",
    "prof\n",
    "\n",
    "for i in range(len(prof)):\n",
    "    if i != 0 and len(re.findall(r'[А-Я]', prof[i])) == 1:\n",
    "        break_ = i\n",
    "        break\n",
    "break_   \n",
    "prof[break_]\n",
    "x = prof.split(prof[break_])\n",
    "x"
   ]
  },
  {
   "cell_type": "code",
   "execution_count": 176,
   "id": "6abd36d9",
   "metadata": {},
   "outputs": [
    {
     "data": {
      "text/plain": [
       "['info@chita.rinfo@ircity.r', '']"
      ]
     },
     "execution_count": 176,
     "metadata": {},
     "output_type": "execute_result"
    }
   ],
   "source": [
    "mail = []\n",
    "for i in range(len(doc.tokens)):\n",
    "    if doc.tokens[i].pos == 'X' or doc.tokens[i].pos == 'PUNCT':\n",
    "        mail.append(doc.tokens[i].text)\n",
    "mail\n",
    "\n",
    "mail = \"\".join(mail)\n",
    "\n",
    "mail\n",
    "\n",
    "mail.split('u', 1)"
   ]
  },
  {
   "attachments": {
    "%D0%B8%D0%B7%D0%BE%D0%B1%D1%80%D0%B0%D0%B6%D0%B5%D0%BD%D0%B8%D0%B5.png": {
     "image/png": "[encoded data removed]"
    }
   },
   "cell_type": "markdown",
   "id": "0f891848",
   "metadata": {},
   "source": [
    "![%D0%B8%D0%B7%D0%BE%D0%B1%D1%80%D0%B0%D0%B6%D0%B5%D0%BD%D0%B8%D0%B5.png](attachment:%D0%B8%D0%B7%D0%BE%D0%B1%D1%80%D0%B0%D0%B6%D0%B5%D0%BD%D0%B8%D0%B5.png)"
   ]
  },
  {
   "cell_type": "markdown",
   "id": "c38ec72a",
   "metadata": {},
   "source": [
    "Далее я пытаюсь поделить cписок `all_data`, на списки, разделенные почтой работников. "
   ]
  },
  {
   "cell_type": "code",
   "execution_count": 10,
   "id": "e0725bd8",
   "metadata": {
    "scrolled": true
   },
   "outputs": [
    {
     "name": "stdout",
     "output_type": "stream",
     "text": [
      "[]\n"
     ]
    }
   ],
   "source": [
    "person_data = []\n",
    "for i in all_data:\n",
    "        if 'Москва' in i:\n",
    "            person_data.append(all_data[0:all_data.index(i)+10])\n",
    "        elif '.ru' in i:\n",
    "            person_data.append(all_data[all_data.index(i)-1:all_data.index(i)+1])\n",
    "            \n",
    "print(person_data)"
   ]
  },
  {
   "cell_type": "markdown",
   "id": "36b6f36c",
   "metadata": {},
   "source": [
    "Попытаюсь выделить город"
   ]
  },
  {
   "cell_type": "code",
   "execution_count": 11,
   "id": "909cdb8f",
   "metadata": {},
   "outputs": [],
   "source": [
    "for i in range(len(all_data)):\n",
    "    cities.append(all_data[0])\n",
    "    if '.ru' in all_data[i] and all_data[i+1] != '':\n",
    "        cities.append(all_data[i+1])\n",
    "cities = list(set(cities))"
   ]
  },
  {
   "cell_type": "code",
   "execution_count": 12,
   "id": "246aeced",
   "metadata": {},
   "outputs": [
    {
     "name": "stdout",
     "output_type": "stream",
     "text": [
      "[]\n"
     ]
    }
   ],
   "source": [
    "print(cities)"
   ]
  },
  {
   "cell_type": "markdown",
   "id": "010168a0",
   "metadata": {},
   "source": [
    "Город выделить не получается..."
   ]
  },
  {
   "cell_type": "code",
   "execution_count": 13,
   "id": "12ad605c",
   "metadata": {},
   "outputs": [
    {
     "ename": "NameError",
     "evalue": "name 'pd' is not defined",
     "output_type": "error",
     "traceback": [
      "\u001b[1;31m---------------------------------------------------------------------------\u001b[0m",
      "\u001b[1;31mNameError\u001b[0m                                 Traceback (most recent call last)",
      "\u001b[1;32mC:\\Users\\A01C0~1.VEC\\AppData\\Local\\Temp/ipykernel_91496/1472259040.py\u001b[0m in \u001b[0;36m<module>\u001b[1;34m\u001b[0m\n\u001b[1;32m----> 1\u001b[1;33m \u001b[0mdf\u001b[0m\u001b[1;33m=\u001b[0m\u001b[0mpd\u001b[0m\u001b[1;33m.\u001b[0m\u001b[0mDataFrame\u001b[0m\u001b[1;33m(\u001b[0m\u001b[1;33m)\u001b[0m\u001b[1;33m\u001b[0m\u001b[1;33m\u001b[0m\u001b[0m\n\u001b[0m\u001b[0;32m      2\u001b[0m \u001b[0mdf\u001b[0m\u001b[1;33m[\u001b[0m\u001b[1;34m'emails'\u001b[0m\u001b[1;33m]\u001b[0m \u001b[1;33m=\u001b[0m \u001b[0memails\u001b[0m\u001b[1;33m\u001b[0m\u001b[1;33m\u001b[0m\u001b[0m\n\u001b[0;32m      3\u001b[0m \u001b[1;33m\u001b[0m\u001b[0m\n\u001b[0;32m      4\u001b[0m \u001b[0mdf\u001b[0m\u001b[1;33m.\u001b[0m\u001b[0mhead\u001b[0m\u001b[1;33m(\u001b[0m\u001b[1;33m)\u001b[0m\u001b[1;33m\u001b[0m\u001b[1;33m\u001b[0m\u001b[0m\n",
      "\u001b[1;31mNameError\u001b[0m: name 'pd' is not defined"
     ]
    }
   ],
   "source": [
    "df=pd.DataFrame()\n",
    "df['emails'] = emails\n",
    "\n",
    "df.head()"
   ]
  },
  {
   "cell_type": "markdown",
   "id": "25f247f9",
   "metadata": {},
   "source": [
    "**Вывод**\n",
    "\n",
    "    Данный сайт является лендинговоой страничкой. Фио, город, должность, е-почта находится в одном контейнере. Спарсить по тегам не получается, можно выделить только весь текст(к тому же появляются ФИО, которых нет на сайте). \n",
    "    И уже по тексту выделять, НО там нет никакой закономерности!  "
   ]
  },
  {
   "cell_type": "code",
   "execution_count": null,
   "id": "d9980c15",
   "metadata": {},
   "outputs": [],
   "source": []
  }
 ],
 "metadata": {
  "kernelspec": {
   "display_name": "Python 3 (ipykernel)",
   "language": "python",
   "name": "python3"
  },
  "language_info": {
   "codemirror_mode": {
    "name": "ipython",
    "version": 3
   },
   "file_extension": ".py",
   "mimetype": "text/x-python",
   "name": "python",
   "nbconvert_exporter": "python",
   "pygments_lexer": "ipython3",
   "version": "3.9.7"
  },
  "toc": {
   "base_numbering": 1,
   "nav_menu": {},
   "number_sections": true,
   "sideBar": true,
   "skip_h1_title": false,
   "title_cell": "Table of Contents",
   "title_sidebar": "Contents",
   "toc_cell": false,
   "toc_position": {},
   "toc_section_display": true,
   "toc_window_display": false
  }
 },
 "nbformat": 4,
 "nbformat_minor": 5
}

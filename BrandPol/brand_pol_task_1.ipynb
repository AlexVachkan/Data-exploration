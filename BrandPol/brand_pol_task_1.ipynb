{
 "cells": [
  {
   "cell_type": "markdown",
   "id": "69693cc3",
   "metadata": {},
   "source": [
    "### Написать парсер страницы сайта https://mediakit.iportal.ru/our-team\n",
    "На странице надо собрать данные и выгрузить в csv в формате Город, Имя, Должность, email.\n",
    "Далее посчитать сколько фамилий сотрудников начинаются на каждую из букв русского алфавита (а - 10, б - 0 и т.д.)\n",
    "Файлы с кодом  и результатом парсинга просим выслать на почту @brandpolgroup.com вместе с Вашим резюме. Удачи!\n"
   ]
  },
  {
   "cell_type": "markdown",
   "id": "2fb39bfb",
   "metadata": {},
   "source": [
    "# Загружаем библиотеки"
   ]
  },
  {
   "cell_type": "code",
   "execution_count": 1,
   "id": "6449668e",
   "metadata": {},
   "outputs": [],
   "source": [
    "import requests\n",
    "from bs4 import BeautifulSoup\n",
    "import pandas as pd\n",
    "import re"
   ]
  },
  {
   "cell_type": "markdown",
   "id": "939a21e3",
   "metadata": {},
   "source": [
    "# Получаем soup страницы"
   ]
  },
  {
   "cell_type": "code",
   "execution_count": 2,
   "id": "14855f84",
   "metadata": {},
   "outputs": [
    {
     "name": "stdout",
     "output_type": "stream",
     "text": [
      "200\n"
     ]
    }
   ],
   "source": [
    "URL = 'https://mediakit.iportal.ru/our-team/'\n",
    "HEADERS = {\"User-Agent\": \"Mozilla/5.0 (Windows NT 10.0; Win64; x64)\"}\n",
    "\n",
    "data = requests.get(URL, headers=HEADERS)\n",
    "print(data.status_code)\n",
    "soup = BeautifulSoup(data.text, 'html.parser')"
   ]
  },
  {
   "cell_type": "markdown",
   "id": "49e74a81",
   "metadata": {},
   "source": [
    "Смотрим, как выклядит контейнер с данными:"
   ]
  },
  {
   "attachments": {
    "image.png": {
     "image/png": "[encoded data removed]"
    }
   },
   "cell_type": "markdown",
   "id": "114bcccc",
   "metadata": {},
   "source": [
    "![image.png](attachment:image.png)"
   ]
  },
  {
   "cell_type": "markdown",
   "id": "a2c0c36f",
   "metadata": {},
   "source": [
    "# Выделяем города"
   ]
  },
  {
   "cell_type": "code",
   "execution_count": 3,
   "id": "33f11420",
   "metadata": {},
   "outputs": [],
   "source": [
    "# города в soup под data-field-top-value=0 и =1\n",
    "city_1 = soup.find('div', {'id': 'allrecords'}).findAll('div', \n",
    "                                                        {'data-elem-type': 'text',\n",
    "                                                         'data-field-top-value': 1}\n",
    "                                                       )\n",
    "city_2 = soup.find('div', {'id': 'allrecords'}).findAll('div', \n",
    "                                                        {'data-elem-type': 'text',\n",
    "                                                         'data-field-top-value': 0}\n",
    "                                                       )\n",
    "city_1+=city_2\n",
    "\n",
    "# создаем список городов\n",
    "city = []\n",
    "for i in city_1:\n",
    "    city.append(i.text.replace('\\n', ''))  "
   ]
  },
  {
   "cell_type": "markdown",
   "id": "cd3de003",
   "metadata": {},
   "source": [
    "# Выделяем имена"
   ]
  },
  {
   "cell_type": "code",
   "execution_count": 4,
   "id": "af4b33da",
   "metadata": {},
   "outputs": [],
   "source": [
    "# имена в soup под data-field-top-value=200 и =209\n",
    "name_1 = soup.find('div', {'id': 'allrecords'}).findAll('div', \n",
    "                                                        {'data-elem-type': 'text',\n",
    "                                                         'data-field-top-value': 200}\n",
    "                                                       )\n",
    "name_2 = soup.find('div', {'id': 'allrecords'}).findAll('div', \n",
    "                                                        {'data-elem-type': 'text',\n",
    "                                                         'data-field-top-value': 209}\n",
    "                                                       )\n",
    "name_1+=name_2\n",
    "\n",
    "# создаем список имен\n",
    "name = []\n",
    "for i in name_1:\n",
    "    name.append(i.text.replace('\\n', ''))"
   ]
  },
  {
   "cell_type": "markdown",
   "id": "702de6dd",
   "metadata": {},
   "source": [
    "# Выделяем должности"
   ]
  },
  {
   "cell_type": "code",
   "execution_count": 5,
   "id": "16da9bd5",
   "metadata": {},
   "outputs": [],
   "source": [
    "# работа в soup под data-field-top-value=237 и =245\n",
    "job_1 = soup.find('div', {'id': 'allrecords'}).findAll('div', \n",
    "                                                        {'data-elem-type': 'text',\n",
    "                                                         'data-field-top-value': 237}\n",
    "                                                       )\n",
    "job_2 = soup.find('div', {'id': 'allrecords'}).findAll('div', \n",
    "                                                        {'data-elem-type': 'text',\n",
    "                                                         'data-field-top-value': 245}\n",
    "                                                       )\n",
    "job_1+=job_2\n",
    "\n",
    "# создаем список работ\n",
    "job = []\n",
    "for i in job_1:\n",
    "    job.append(''.join(i.text.replace('\\n', '').split('8 800 2000-383, доб.')[:1]))\n",
    "    \n"
   ]
  },
  {
   "cell_type": "markdown",
   "id": "f3897084",
   "metadata": {},
   "source": [
    "# Выделяем почту"
   ]
  },
  {
   "cell_type": "code",
   "execution_count": 6,
   "id": "2fd3d6b8",
   "metadata": {},
   "outputs": [],
   "source": [
    "mail = []\n",
    "for i in job_1:\n",
    "    \n",
    "    try:\n",
    "        mail.append(i.text.replace('\\n', '').split('8 800 2000-383, доб.')[1][5:]) \n",
    "    except:\n",
    "        mail.append(i.text.replace('\\n', '').split('8 800 2000-383, доб.')[0][16:])"
   ]
  },
  {
   "cell_type": "markdown",
   "id": "aaf1e0ca",
   "metadata": {},
   "source": [
    "# Создаем датафрейм"
   ]
  },
  {
   "cell_type": "code",
   "execution_count": 7,
   "id": "ff72b0e5",
   "metadata": {},
   "outputs": [],
   "source": [
    "df=pd.DataFrame()\n",
    "df['city'] = pd.Series(city)\n",
    "df['name'] = pd.Series(name)\n",
    "df['job'] = pd.Series(job)\n",
    "df['mail'] = pd.Series(mail)"
   ]
  },
  {
   "cell_type": "code",
   "execution_count": 8,
   "id": "162aa747",
   "metadata": {},
   "outputs": [
    {
     "data": {
      "text/html": [
       "<div>\n",
       "<style scoped>\n",
       "    .dataframe tbody tr th:only-of-type {\n",
       "        vertical-align: middle;\n",
       "    }\n",
       "\n",
       "    .dataframe tbody tr th {\n",
       "        vertical-align: top;\n",
       "    }\n",
       "\n",
       "    .dataframe thead th {\n",
       "        text-align: right;\n",
       "    }\n",
       "</style>\n",
       "<table border=\"1\" class=\"dataframe\">\n",
       "  <thead>\n",
       "    <tr style=\"text-align: right;\">\n",
       "      <th></th>\n",
       "      <th>city</th>\n",
       "      <th>name</th>\n",
       "      <th>job</th>\n",
       "      <th>mail</th>\n",
       "    </tr>\n",
       "  </thead>\n",
       "  <tbody>\n",
       "    <tr>\n",
       "      <th>0</th>\n",
       "      <td>Москва</td>\n",
       "      <td>Андрей Затирко</td>\n",
       "      <td>Главный редактор</td>\n",
       "      <td></td>\n",
       "    </tr>\n",
       "    <tr>\n",
       "      <th>1</th>\n",
       "      <td>Национальная редакция</td>\n",
       "      <td>Илья Ненко</td>\n",
       "      <td>Шеф-редакторrednews@iportal.ru</td>\n",
       "      <td>ews@iportal.ru</td>\n",
       "    </tr>\n",
       "    <tr>\n",
       "      <th>2</th>\n",
       "      <td>Екатеринбург</td>\n",
       "      <td>Артем Беседин</td>\n",
       "      <td>Главный редакторe1@iportal.ru</td>\n",
       "      <td>e1@iportal.ru</td>\n",
       "    </tr>\n",
       "    <tr>\n",
       "      <th>3</th>\n",
       "      <td>Новосибирск</td>\n",
       "      <td>Марина Малкова</td>\n",
       "      <td>Главный редакторnn@iportal.ru</td>\n",
       "      <td>nn@iportal.ru</td>\n",
       "    </tr>\n",
       "    <tr>\n",
       "      <th>4</th>\n",
       "      <td>Нижний Новгород</td>\n",
       "      <td>Денис Стрелков</td>\n",
       "      <td>Главный редактор74@iportal.ru</td>\n",
       "      <td>74@iportal.ru</td>\n",
       "    </tr>\n",
       "  </tbody>\n",
       "</table>\n",
       "</div>"
      ],
      "text/plain": [
       "                     city             name                              job  \\\n",
       "0                 Москва   Андрей Затирко                 Главный редактор    \n",
       "1  Национальная редакция       Илья Ненко   Шеф-редакторrednews@iportal.ru    \n",
       "2           Екатеринбург    Артем Беседин    Главный редакторe1@iportal.ru    \n",
       "3            Новосибирск   Марина Малкова    Главный редакторnn@iportal.ru    \n",
       "4        Нижний Новгород   Денис Стрелков    Главный редактор74@iportal.ru    \n",
       "\n",
       "              mail  \n",
       "0                   \n",
       "1  ews@iportal.ru   \n",
       "2   e1@iportal.ru   \n",
       "3   nn@iportal.ru   \n",
       "4   74@iportal.ru   "
      ]
     },
     "execution_count": 8,
     "metadata": {},
     "output_type": "execute_result"
    }
   ],
   "source": [
    "df.head()"
   ]
  },
  {
   "cell_type": "markdown",
   "id": "2874fd3c",
   "metadata": {},
   "source": [
    "# Сохраняем файл csv"
   ]
  },
  {
   "cell_type": "code",
   "execution_count": 9,
   "id": "509b2d88",
   "metadata": {},
   "outputs": [],
   "source": [
    "df.to_csv('mediakit.csv', sep=',', encoding='utf-8')"
   ]
  },
  {
   "cell_type": "markdown",
   "id": "2ab0a4f5",
   "metadata": {},
   "source": [
    "# Посчитаем первые буквы фамилий"
   ]
  },
  {
   "cell_type": "markdown",
   "id": "cc9bad10",
   "metadata": {},
   "source": [
    "Для начала заменим NAN, что бы могли применить функции split() столбцу name"
   ]
  },
  {
   "cell_type": "code",
   "execution_count": 10,
   "id": "867d5bb3",
   "metadata": {},
   "outputs": [],
   "source": [
    "df = df.fillna('ь')"
   ]
  },
  {
   "cell_type": "code",
   "execution_count": 11,
   "id": "f2b8944d",
   "metadata": {},
   "outputs": [
    {
     "data": {
      "text/html": [
       "<div>\n",
       "<style scoped>\n",
       "    .dataframe tbody tr th:only-of-type {\n",
       "        vertical-align: middle;\n",
       "    }\n",
       "\n",
       "    .dataframe tbody tr th {\n",
       "        vertical-align: top;\n",
       "    }\n",
       "\n",
       "    .dataframe thead th {\n",
       "        text-align: right;\n",
       "    }\n",
       "</style>\n",
       "<table border=\"1\" class=\"dataframe\">\n",
       "  <thead>\n",
       "    <tr style=\"text-align: right;\">\n",
       "      <th></th>\n",
       "      <th>city</th>\n",
       "      <th>name</th>\n",
       "      <th>job</th>\n",
       "      <th>mail</th>\n",
       "    </tr>\n",
       "  </thead>\n",
       "  <tbody>\n",
       "    <tr>\n",
       "      <th>39</th>\n",
       "      <td>Чита</td>\n",
       "      <td>Екатерина Царёва</td>\n",
       "      <td>Менеджер по продажам</td>\n",
       "      <td>i.elkina@iportal.ru</td>\n",
       "    </tr>\n",
       "    <tr>\n",
       "      <th>40</th>\n",
       "      <td>Москва</td>\n",
       "      <td>Мария Ревина</td>\n",
       "      <td>ь</td>\n",
       "      <td>ь</td>\n",
       "    </tr>\n",
       "    <tr>\n",
       "      <th>41</th>\n",
       "      <td>SHKULEVMEDIAHOLDING</td>\n",
       "      <td>Оксана Маклакова</td>\n",
       "      <td>ь</td>\n",
       "      <td>ь</td>\n",
       "    </tr>\n",
       "    <tr>\n",
       "      <th>42</th>\n",
       "      <td>Ханты-Мансийск</td>\n",
       "      <td>ь</td>\n",
       "      <td>ь</td>\n",
       "      <td>ь</td>\n",
       "    </tr>\n",
       "    <tr>\n",
       "      <th>43</th>\n",
       "      <td>Красноярск</td>\n",
       "      <td>ь</td>\n",
       "      <td>ь</td>\n",
       "      <td>ь</td>\n",
       "    </tr>\n",
       "  </tbody>\n",
       "</table>\n",
       "</div>"
      ],
      "text/plain": [
       "                    city               name                   job  \\\n",
       "39                 Чита   Екатерина Царёва   Менеджер по продажам   \n",
       "40               Москва       Мария Ревина                      ь   \n",
       "41  SHKULEVMEDIAHOLDING   Оксана Маклакова                      ь   \n",
       "42       Ханты-Мансийск                   ь                     ь   \n",
       "43           Красноярск                   ь                     ь   \n",
       "\n",
       "                    mail  \n",
       "39  i.elkina@iportal.ru   \n",
       "40                     ь  \n",
       "41                     ь  \n",
       "42                     ь  \n",
       "43                     ь  "
      ]
     },
     "execution_count": 11,
     "metadata": {},
     "output_type": "execute_result"
    }
   ],
   "source": [
    "df.tail()"
   ]
  },
  {
   "cell_type": "markdown",
   "id": "5e59a6ae",
   "metadata": {},
   "source": [
    "Выделяем первые буквы фамилий"
   ]
  },
  {
   "cell_type": "code",
   "execution_count": 12,
   "id": "6fa881a0",
   "metadata": {
    "scrolled": false
   },
   "outputs": [
    {
     "ename": "IndexError",
     "evalue": "list index out of range",
     "output_type": "error",
     "traceback": [
      "\u001b[1;31m---------------------------------------------------------------------------\u001b[0m",
      "\u001b[1;31mIndexError\u001b[0m                                Traceback (most recent call last)",
      "\u001b[1;32mC:\\Users\\A01C0~1.VEC\\AppData\\Local\\Temp/ipykernel_8732/2359012202.py\u001b[0m in \u001b[0;36m<module>\u001b[1;34m\u001b[0m\n\u001b[0;32m      1\u001b[0m \u001b[0mletter\u001b[0m \u001b[1;33m=\u001b[0m \u001b[1;33m[\u001b[0m\u001b[1;33m]\u001b[0m\u001b[1;33m\u001b[0m\u001b[1;33m\u001b[0m\u001b[0m\n\u001b[0;32m      2\u001b[0m \u001b[1;32mfor\u001b[0m \u001b[0mi\u001b[0m \u001b[1;32min\u001b[0m \u001b[0mrange\u001b[0m\u001b[1;33m(\u001b[0m\u001b[0mlen\u001b[0m\u001b[1;33m(\u001b[0m\u001b[0mdf\u001b[0m\u001b[1;33m[\u001b[0m\u001b[1;34m'name'\u001b[0m\u001b[1;33m]\u001b[0m\u001b[1;33m)\u001b[0m\u001b[1;33m)\u001b[0m\u001b[1;33m:\u001b[0m\u001b[1;33m\u001b[0m\u001b[1;33m\u001b[0m\u001b[0m\n\u001b[1;32m----> 3\u001b[1;33m     \u001b[0ma\u001b[0m \u001b[1;33m=\u001b[0m \u001b[0mdf\u001b[0m\u001b[1;33m[\u001b[0m\u001b[1;34m'name'\u001b[0m\u001b[1;33m]\u001b[0m\u001b[1;33m[\u001b[0m\u001b[0mi\u001b[0m\u001b[1;33m]\u001b[0m\u001b[1;33m.\u001b[0m\u001b[0msplit\u001b[0m\u001b[1;33m(\u001b[0m\u001b[1;33m)\u001b[0m\u001b[1;33m[\u001b[0m\u001b[1;36m1\u001b[0m\u001b[1;33m]\u001b[0m\u001b[1;33m[\u001b[0m\u001b[1;36m0\u001b[0m\u001b[1;33m]\u001b[0m\u001b[1;33m\u001b[0m\u001b[1;33m\u001b[0m\u001b[0m\n\u001b[0m\u001b[0;32m      4\u001b[0m     \u001b[0mletter\u001b[0m\u001b[1;33m.\u001b[0m\u001b[0mappend\u001b[0m\u001b[1;33m(\u001b[0m\u001b[0ma\u001b[0m\u001b[1;33m)\u001b[0m\u001b[1;33m\u001b[0m\u001b[1;33m\u001b[0m\u001b[0m\n",
      "\u001b[1;31mIndexError\u001b[0m: list index out of range"
     ]
    }
   ],
   "source": [
    "letter = []\n",
    "for i in range(len(df['name'])):\n",
    "    a = df['name'][i].split()[1][0]\n",
    "    letter.append(a)\n"
   ]
  },
  {
   "cell_type": "markdown",
   "id": "e9738f0b",
   "metadata": {},
   "source": [
    "Добаляем их в датафрейм"
   ]
  },
  {
   "cell_type": "code",
   "execution_count": 13,
   "id": "b864a000",
   "metadata": {},
   "outputs": [],
   "source": [
    "df['letter'] = pd.Series(letter)"
   ]
  },
  {
   "cell_type": "markdown",
   "id": "5c25bdc3",
   "metadata": {},
   "source": [
    "Группируем по буквам"
   ]
  },
  {
   "cell_type": "code",
   "execution_count": 14,
   "id": "d0e72c3c",
   "metadata": {},
   "outputs": [
    {
     "data": {
      "text/plain": [
       "letter\n",
       "М    6\n",
       "Б    6\n",
       "К    5\n",
       "З    3\n",
       "И    3\n",
       "Т    2\n",
       "Г    2\n",
       "Ц    2\n",
       "П    2\n",
       "Ф    2\n",
       "С    2\n",
       "Ё    1\n",
       "Ш    1\n",
       "Н    1\n",
       "Р    1\n",
       "Д    1\n",
       "В    1\n",
       "Ю    1\n",
       "Name: city, dtype: int64"
      ]
     },
     "execution_count": 14,
     "metadata": {},
     "output_type": "execute_result"
    }
   ],
   "source": [
    "df.groupby(by=['letter'])['city'].count().sort_values(ascending=False)"
   ]
  },
  {
   "cell_type": "markdown",
   "id": "47815cfc",
   "metadata": {},
   "source": [
    "# Вывод:\n",
    "    \n",
    "    Получилось у нас, что шесть фамилий на букву М и Б, на букву К - 5 фамилий."
   ]
  }
 ],
 "metadata": {
  "kernelspec": {
   "display_name": "Python 3 (ipykernel)",
   "language": "python",
   "name": "python3"
  },
  "language_info": {
   "codemirror_mode": {
    "name": "ipython",
    "version": 3
   },
   "file_extension": ".py",
   "mimetype": "text/x-python",
   "name": "python",
   "nbconvert_exporter": "python",
   "pygments_lexer": "ipython3",
   "version": "3.9.7"
  },
  "toc": {
   "base_numbering": 1,
   "nav_menu": {},
   "number_sections": true,
   "sideBar": true,
   "skip_h1_title": false,
   "title_cell": "Table of Contents",
   "title_sidebar": "Contents",
   "toc_cell": false,
   "toc_position": {},
   "toc_section_display": true,
   "toc_window_display": false
  }
 },
 "nbformat": 4,
 "nbformat_minor": 5
}

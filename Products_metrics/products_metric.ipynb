{
 "cells": [
  {
   "cell_type": "markdown",
   "id": "4a6bb19b",
   "metadata": {},
   "source": [
    "    Таблица visits (лог сервера с информацией о посещениях сайта):\n",
    "\n",
    "    User Id — уникальный идентификатор пользователя\n",
    "    Device — категория устройства пользователя\n",
    "    Session start — дата и время начала сессии\n",
    "    Session End — дата и время окончания сессии\n",
    "    Channel — идентификатор рекламного источника, из которого пришел пользователь\n",
    "    Region - страна пользователя\n",
    "    \n",
    "    Таблица orders (информация о заказах):\n",
    "\n",
    "    User Id — уникальный id пользователя, который сделал заказ\n",
    "    Event Dt — дата и время покупки\n",
    "    Revenue — выручка\n",
    "    \n",
    "    Таблица costs (информация о затратах на маркетинг):\n",
    "\n",
    "    Channel — идентификатор рекламного источника\n",
    "    Dt — дата\n",
    "    Costs — затраты на этот рекламный источник в этот день"
   ]
  },
  {
   "cell_type": "markdown",
   "id": "82ca9dcd",
   "metadata": {},
   "source": [
    "    LTV -  общая сумма денег, которую один клиент в среднем приносит компании (выручка еа текущий день / размер когорты) (1, 3, 7, 14 дней)\n",
    "    ROI - окупаемость LTV/САС\n",
    "    САС - стоимость привлечения одного клиента ( Расход на рекламу / размер когорты )\n",
    "    ARPU - средняя выручка с пользователя \n",
    "    ARPPU - средняя выручка с платящего пользователя\n",
    "    удержание \n",
    "    CTR - показов рекламного баннера в клики называют(конверсия клики/показы)\n",
    "    CR - переход пользователя от одного состояния в другое(конверсия)\n",
    "    DAU - количество уникальных пользователей за день \n",
    "    WAU - количество уникальных пользователей за неделю \n",
    "    MAU - количество уникальных пользователей за месяц \n",
    "    ASL - Средняя продолжительность сессии \n",
    "    CPM -  стоимость тысячи показов рекламного объявления.\n",
    "    RPM - доход за тысячу показов.\n",
    "    СPC - оплата за каждого пользователя, кликнувшего на рекламное объявление, то есть перешедшего на сайт.\n",
    "    CPL - оплата за каждого пользователя, оставившего свои контакты\n",
    "    CPA - оплата за определённое действие, совершённое пользователем. Например, за покупку."
   ]
  },
  {
   "cell_type": "markdown",
   "id": "354010c2",
   "metadata": {},
   "source": [
    "Загружаем библиотеки"
   ]
  },
  {
   "cell_type": "code",
   "execution_count": 1,
   "id": "c4c6bd8c",
   "metadata": {},
   "outputs": [],
   "source": [
    "import pandas as pd\n",
    "import numpy as np\n",
    "from datetime import datetime, timedelta\n",
    "import matplotlib.pyplot as plt\n",
    "import seaborn as sns"
   ]
  },
  {
   "cell_type": "markdown",
   "id": "ee992994",
   "metadata": {},
   "source": [
    "Загружаем таблицы"
   ]
  },
  {
   "cell_type": "code",
   "execution_count": 2,
   "id": "0e9d545b",
   "metadata": {},
   "outputs": [],
   "source": [
    "job = 'C:\\\\Users\\\\a.vechkanov\\\\Desktop\\\\Госты, Литература\\\\Остальное\\\\Data analitics\\\\Проекты\\\\Продуктовые метрики\\\\'\n",
    "home = 'C:\\\\Users\\\\Александр\\\\OneDrive\\\\Рабочий стол\\\\Python\\\\ЯндексПрактикум\\\\Project\\\\Продуктовые метрики\\\\'\n",
    "try:   \n",
    "    visits = pd.read_csv(\n",
    "        job+'visits_info_short.csv'\n",
    "    )\n",
    "    \n",
    "    orders = pd.read_csv(\n",
    "        job+'orders_info_short.csv'\n",
    "    )\n",
    "        \n",
    "    costs = pd.read_csv(\n",
    "        job+'costs_info_short.csv'\n",
    "    )\n",
    "    \n",
    "except:\n",
    "    visits = pd.read_csv(\n",
    "        home+'visits_info_short.csv'\n",
    "    )\n",
    "    orders = pd.read_csv(\n",
    "        home+'orders_info_short.csv'\n",
    "    )\n",
    "    costs = pd.read_csv(\n",
    "        home+'costs_info_short.csv'\n",
    "    )\n",
    "    "
   ]
  },
  {
   "cell_type": "markdown",
   "id": "43a20f07",
   "metadata": {},
   "source": [
    "Подготовим наши данные к работе"
   ]
  },
  {
   "cell_type": "code",
   "execution_count": 3,
   "id": "c900480a",
   "metadata": {},
   "outputs": [
    {
     "name": "stdout",
     "output_type": "stream",
     "text": [
      "ТАБЛИЦА:  visits\n"
     ]
    },
    {
     "data": {
      "text/plain": [
       "(309901, 6)"
      ]
     },
     "metadata": {},
     "output_type": "display_data"
    },
    {
     "data": {
      "text/html": [
       "<div>\n",
       "<style scoped>\n",
       "    .dataframe tbody tr th:only-of-type {\n",
       "        vertical-align: middle;\n",
       "    }\n",
       "\n",
       "    .dataframe tbody tr th {\n",
       "        vertical-align: top;\n",
       "    }\n",
       "\n",
       "    .dataframe thead th {\n",
       "        text-align: right;\n",
       "    }\n",
       "</style>\n",
       "<table border=\"1\" class=\"dataframe\">\n",
       "  <thead>\n",
       "    <tr style=\"text-align: right;\">\n",
       "      <th></th>\n",
       "      <th>User Id</th>\n",
       "      <th>Region</th>\n",
       "      <th>Device</th>\n",
       "      <th>Channel</th>\n",
       "      <th>Session Start</th>\n",
       "      <th>Session End</th>\n",
       "    </tr>\n",
       "  </thead>\n",
       "  <tbody>\n",
       "    <tr>\n",
       "      <th>251250</th>\n",
       "      <td>172005068825</td>\n",
       "      <td>Germany</td>\n",
       "      <td>PC</td>\n",
       "      <td>OppleCreativeMedia</td>\n",
       "      <td>2019-07-28 18:20:12</td>\n",
       "      <td>2019-07-28 18:36:16</td>\n",
       "    </tr>\n",
       "    <tr>\n",
       "      <th>122283</th>\n",
       "      <td>121675088294</td>\n",
       "      <td>United States</td>\n",
       "      <td>iPhone</td>\n",
       "      <td>TipTop</td>\n",
       "      <td>2019-08-26 15:57:46</td>\n",
       "      <td>2019-08-26 17:38:20</td>\n",
       "    </tr>\n",
       "    <tr>\n",
       "      <th>15544</th>\n",
       "      <td>136522509076</td>\n",
       "      <td>United States</td>\n",
       "      <td>Mac</td>\n",
       "      <td>TipTop</td>\n",
       "      <td>2019-05-17 23:39:04</td>\n",
       "      <td>2019-05-18 00:30:38</td>\n",
       "    </tr>\n",
       "  </tbody>\n",
       "</table>\n",
       "</div>"
      ],
      "text/plain": [
       "             User Id         Region  Device             Channel  \\\n",
       "251250  172005068825        Germany      PC  OppleCreativeMedia   \n",
       "122283  121675088294  United States  iPhone              TipTop   \n",
       "15544   136522509076  United States     Mac              TipTop   \n",
       "\n",
       "              Session Start          Session End  \n",
       "251250  2019-07-28 18:20:12  2019-07-28 18:36:16  \n",
       "122283  2019-08-26 15:57:46  2019-08-26 17:38:20  \n",
       "15544   2019-05-17 23:39:04  2019-05-18 00:30:38  "
      ]
     },
     "metadata": {},
     "output_type": "display_data"
    },
    {
     "name": "stdout",
     "output_type": "stream",
     "text": [
      "<class 'pandas.core.frame.DataFrame'>\n",
      "RangeIndex: 309901 entries, 0 to 309900\n",
      "Data columns (total 6 columns):\n",
      " #   Column         Non-Null Count   Dtype \n",
      "---  ------         --------------   ----- \n",
      " 0   User Id        309901 non-null  int64 \n",
      " 1   Region         309901 non-null  object\n",
      " 2   Device         309901 non-null  object\n",
      " 3   Channel        309901 non-null  object\n",
      " 4   Session Start  309901 non-null  object\n",
      " 5   Session End    309901 non-null  object\n",
      "dtypes: int64(1), object(5)\n",
      "memory usage: 14.2+ MB\n",
      "\n",
      "\n",
      "ТАБЛИЦА:  orders\n"
     ]
    },
    {
     "data": {
      "text/plain": [
       "(40212, 3)"
      ]
     },
     "metadata": {},
     "output_type": "display_data"
    },
    {
     "data": {
      "text/html": [
       "<div>\n",
       "<style scoped>\n",
       "    .dataframe tbody tr th:only-of-type {\n",
       "        vertical-align: middle;\n",
       "    }\n",
       "\n",
       "    .dataframe tbody tr th {\n",
       "        vertical-align: top;\n",
       "    }\n",
       "\n",
       "    .dataframe thead th {\n",
       "        text-align: right;\n",
       "    }\n",
       "</style>\n",
       "<table border=\"1\" class=\"dataframe\">\n",
       "  <thead>\n",
       "    <tr style=\"text-align: right;\">\n",
       "      <th></th>\n",
       "      <th>User Id</th>\n",
       "      <th>Event Dt</th>\n",
       "      <th>Revenue</th>\n",
       "    </tr>\n",
       "  </thead>\n",
       "  <tbody>\n",
       "    <tr>\n",
       "      <th>4761</th>\n",
       "      <td>535839189397</td>\n",
       "      <td>2019-06-25 06:01:16</td>\n",
       "      <td>4.99</td>\n",
       "    </tr>\n",
       "    <tr>\n",
       "      <th>11499</th>\n",
       "      <td>219335074792</td>\n",
       "      <td>2019-08-08 10:45:43</td>\n",
       "      <td>4.99</td>\n",
       "    </tr>\n",
       "    <tr>\n",
       "      <th>26388</th>\n",
       "      <td>620496139495</td>\n",
       "      <td>2019-10-24 18:57:37</td>\n",
       "      <td>4.99</td>\n",
       "    </tr>\n",
       "  </tbody>\n",
       "</table>\n",
       "</div>"
      ],
      "text/plain": [
       "            User Id             Event Dt  Revenue\n",
       "4761   535839189397  2019-06-25 06:01:16     4.99\n",
       "11499  219335074792  2019-08-08 10:45:43     4.99\n",
       "26388  620496139495  2019-10-24 18:57:37     4.99"
      ]
     },
     "metadata": {},
     "output_type": "display_data"
    },
    {
     "name": "stdout",
     "output_type": "stream",
     "text": [
      "<class 'pandas.core.frame.DataFrame'>\n",
      "RangeIndex: 40212 entries, 0 to 40211\n",
      "Data columns (total 3 columns):\n",
      " #   Column    Non-Null Count  Dtype  \n",
      "---  ------    --------------  -----  \n",
      " 0   User Id   40212 non-null  int64  \n",
      " 1   Event Dt  40212 non-null  object \n",
      " 2   Revenue   40212 non-null  float64\n",
      "dtypes: float64(1), int64(1), object(1)\n",
      "memory usage: 942.6+ KB\n",
      "\n",
      "\n",
      "ТАБЛИЦА:  costs\n"
     ]
    },
    {
     "data": {
      "text/plain": [
       "(1800, 3)"
      ]
     },
     "metadata": {},
     "output_type": "display_data"
    },
    {
     "data": {
      "text/html": [
       "<div>\n",
       "<style scoped>\n",
       "    .dataframe tbody tr th:only-of-type {\n",
       "        vertical-align: middle;\n",
       "    }\n",
       "\n",
       "    .dataframe tbody tr th {\n",
       "        vertical-align: top;\n",
       "    }\n",
       "\n",
       "    .dataframe thead th {\n",
       "        text-align: right;\n",
       "    }\n",
       "</style>\n",
       "<table border=\"1\" class=\"dataframe\">\n",
       "  <thead>\n",
       "    <tr style=\"text-align: right;\">\n",
       "      <th></th>\n",
       "      <th>dt</th>\n",
       "      <th>Channel</th>\n",
       "      <th>costs</th>\n",
       "    </tr>\n",
       "  </thead>\n",
       "  <tbody>\n",
       "    <tr>\n",
       "      <th>270</th>\n",
       "      <td>2019-07-30</td>\n",
       "      <td>MediaTornado</td>\n",
       "      <td>3.84</td>\n",
       "    </tr>\n",
       "    <tr>\n",
       "      <th>168</th>\n",
       "      <td>2019-10-16</td>\n",
       "      <td>FaceBoom</td>\n",
       "      <td>154.00</td>\n",
       "    </tr>\n",
       "    <tr>\n",
       "      <th>160</th>\n",
       "      <td>2019-10-08</td>\n",
       "      <td>FaceBoom</td>\n",
       "      <td>201.30</td>\n",
       "    </tr>\n",
       "  </tbody>\n",
       "</table>\n",
       "</div>"
      ],
      "text/plain": [
       "             dt       Channel   costs\n",
       "270  2019-07-30  MediaTornado    3.84\n",
       "168  2019-10-16      FaceBoom  154.00\n",
       "160  2019-10-08      FaceBoom  201.30"
      ]
     },
     "metadata": {},
     "output_type": "display_data"
    },
    {
     "name": "stdout",
     "output_type": "stream",
     "text": [
      "<class 'pandas.core.frame.DataFrame'>\n",
      "RangeIndex: 1800 entries, 0 to 1799\n",
      "Data columns (total 3 columns):\n",
      " #   Column   Non-Null Count  Dtype  \n",
      "---  ------   --------------  -----  \n",
      " 0   dt       1800 non-null   object \n",
      " 1   Channel  1800 non-null   object \n",
      " 2   costs    1800 non-null   float64\n",
      "dtypes: float64(1), object(2)\n",
      "memory usage: 42.3+ KB\n",
      "\n",
      "\n"
     ]
    }
   ],
   "source": [
    "names = ['visits', 'orders', 'costs']\n",
    "tables = [visits, orders, costs]\n",
    "for table,name in zip(tables, names):\n",
    "    print('ТАБЛИЦА: ',name)\n",
    "    display(table.shape)\n",
    "    display(table.sample(3))\n",
    "    table.info()\n",
    "    print('\\n')"
   ]
  },
  {
   "cell_type": "markdown",
   "id": "3b473bda",
   "metadata": {},
   "source": [
    "Пропусков нет, проверим данные на дубликаты"
   ]
  },
  {
   "cell_type": "code",
   "execution_count": 4,
   "id": "63f2b1f2",
   "metadata": {},
   "outputs": [
    {
     "name": "stdout",
     "output_type": "stream",
     "text": [
      "0\n",
      "0\n",
      "0\n"
     ]
    }
   ],
   "source": [
    "for table in tables:\n",
    "    print(table.duplicated().sum())"
   ]
  },
  {
   "cell_type": "markdown",
   "id": "2b14ed0f",
   "metadata": {},
   "source": [
    "Приведем таблицы к удобному для работы виду "
   ]
  },
  {
   "cell_type": "code",
   "execution_count": 5,
   "id": "05e751d1",
   "metadata": {},
   "outputs": [
    {
     "data": {
      "text/plain": [
       "Index(['User Id', 'Region', 'Device', 'Channel', 'Session Start',\n",
       "       'Session End'],\n",
       "      dtype='object')"
      ]
     },
     "execution_count": 5,
     "metadata": {},
     "output_type": "execute_result"
    }
   ],
   "source": [
    "visits.columns"
   ]
  },
  {
   "cell_type": "code",
   "execution_count": 6,
   "id": "db620752",
   "metadata": {},
   "outputs": [],
   "source": [
    "visits = visits.rename(\n",
    "    columns = {\n",
    "        visits.columns[0]:'user_id',\n",
    "        visits.columns[1]:'region',\n",
    "        visits.columns[2]:'device',\n",
    "        visits.columns[3]:'channel',\n",
    "        visits.columns[4]:'session_start',\n",
    "        visits.columns[5]:'session_end'\n",
    "    }\n",
    ")\n",
    "\n",
    "orders = orders.rename(\n",
    "    columns = {\n",
    "        orders.columns[0]:'user_id',\n",
    "        orders.columns[1]:'event_dt',\n",
    "        orders.columns[2]:'revenue',\n",
    "    }\n",
    ")\n",
    "\n",
    "costs = costs.rename(\n",
    "    columns = {\n",
    "        costs.columns[0]:'dt',\n",
    "        costs.columns[1]:'channel',\n",
    "        costs.columns[2]:'costs',\n",
    "    }\n",
    ")"
   ]
  },
  {
   "cell_type": "markdown",
   "id": "092719b6",
   "metadata": {},
   "source": [
    "Посчитаем длину сессии пльзователей из таблицы visits"
   ]
  },
  {
   "cell_type": "code",
   "execution_count": 7,
   "id": "7462eb1e",
   "metadata": {},
   "outputs": [],
   "source": [
    "visits['session_start'] = pd.to_datetime(visits['session_start'])\n",
    "visits['session_end'] = pd.to_datetime(visits['session_end'])"
   ]
  },
  {
   "cell_type": "markdown",
   "id": "b82da543",
   "metadata": {},
   "source": [
    "Преобразуем тип данных"
   ]
  },
  {
   "cell_type": "code",
   "execution_count": 8,
   "id": "003646a8",
   "metadata": {},
   "outputs": [],
   "source": [
    "costs['dt'] = pd.to_datetime(costs['dt'])"
   ]
  },
  {
   "cell_type": "code",
   "execution_count": 9,
   "id": "8ad1f42e",
   "metadata": {},
   "outputs": [
    {
     "data": {
      "text/html": [
       "<div>\n",
       "<style scoped>\n",
       "    .dataframe tbody tr th:only-of-type {\n",
       "        vertical-align: middle;\n",
       "    }\n",
       "\n",
       "    .dataframe tbody tr th {\n",
       "        vertical-align: top;\n",
       "    }\n",
       "\n",
       "    .dataframe thead th {\n",
       "        text-align: right;\n",
       "    }\n",
       "</style>\n",
       "<table border=\"1\" class=\"dataframe\">\n",
       "  <thead>\n",
       "    <tr style=\"text-align: right;\">\n",
       "      <th></th>\n",
       "      <th>user_id</th>\n",
       "      <th>region</th>\n",
       "      <th>device</th>\n",
       "      <th>channel</th>\n",
       "      <th>session_start</th>\n",
       "      <th>session_end</th>\n",
       "      <th>session_length</th>\n",
       "    </tr>\n",
       "  </thead>\n",
       "  <tbody>\n",
       "    <tr>\n",
       "      <th>110558</th>\n",
       "      <td>267068500935</td>\n",
       "      <td>United States</td>\n",
       "      <td>iPhone</td>\n",
       "      <td>organic</td>\n",
       "      <td>2019-08-16 02:08:57</td>\n",
       "      <td>2019-08-16 02:16:38</td>\n",
       "      <td>0 days 00:07:41</td>\n",
       "    </tr>\n",
       "    <tr>\n",
       "      <th>111588</th>\n",
       "      <td>267068500935</td>\n",
       "      <td>United States</td>\n",
       "      <td>iPhone</td>\n",
       "      <td>organic</td>\n",
       "      <td>2019-08-17 13:27:23</td>\n",
       "      <td>2019-08-17 14:15:08</td>\n",
       "      <td>0 days 00:47:45</td>\n",
       "    </tr>\n",
       "    <tr>\n",
       "      <th>121264</th>\n",
       "      <td>267068500935</td>\n",
       "      <td>United States</td>\n",
       "      <td>iPhone</td>\n",
       "      <td>organic</td>\n",
       "      <td>2019-08-25 18:45:22</td>\n",
       "      <td>2019-08-25 18:47:31</td>\n",
       "      <td>0 days 00:02:09</td>\n",
       "    </tr>\n",
       "  </tbody>\n",
       "</table>\n",
       "</div>"
      ],
      "text/plain": [
       "             user_id         region  device  channel       session_start  \\\n",
       "110558  267068500935  United States  iPhone  organic 2019-08-16 02:08:57   \n",
       "111588  267068500935  United States  iPhone  organic 2019-08-17 13:27:23   \n",
       "121264  267068500935  United States  iPhone  organic 2019-08-25 18:45:22   \n",
       "\n",
       "               session_end  session_length  \n",
       "110558 2019-08-16 02:16:38 0 days 00:07:41  \n",
       "111588 2019-08-17 14:15:08 0 days 00:47:45  \n",
       "121264 2019-08-25 18:47:31 0 days 00:02:09  "
      ]
     },
     "execution_count": 9,
     "metadata": {},
     "output_type": "execute_result"
    }
   ],
   "source": [
    "visits['session_length'] = pd.to_datetime(visits['session_end']) - pd.to_datetime(visits['session_start'])\n",
    "\n",
    "visits.query('user_id == 267068500935')"
   ]
  },
  {
   "cell_type": "markdown",
   "id": "f0c201c8",
   "metadata": {},
   "source": [
    "Создадим функцию для создания профилелй пользователей"
   ]
  },
  {
   "cell_type": "code",
   "execution_count": 11,
   "id": "0f70250c",
   "metadata": {},
   "outputs": [
    {
     "data": {
      "text/html": [
       "<div>\n",
       "<style scoped>\n",
       "    .dataframe tbody tr th:only-of-type {\n",
       "        vertical-align: middle;\n",
       "    }\n",
       "\n",
       "    .dataframe tbody tr th {\n",
       "        vertical-align: top;\n",
       "    }\n",
       "\n",
       "    .dataframe thead th {\n",
       "        text-align: right;\n",
       "    }\n",
       "</style>\n",
       "<table border=\"1\" class=\"dataframe\">\n",
       "  <thead>\n",
       "    <tr style=\"text-align: right;\">\n",
       "      <th></th>\n",
       "      <th>user_id</th>\n",
       "      <th>channel</th>\n",
       "      <th>device</th>\n",
       "      <th>region</th>\n",
       "      <th>session_start</th>\n",
       "      <th>month</th>\n",
       "      <th>dt</th>\n",
       "      <th>payer</th>\n",
       "      <th>count_user_id</th>\n",
       "      <th>costs</th>\n",
       "      <th>acquisition_cost</th>\n",
       "    </tr>\n",
       "  </thead>\n",
       "  <tbody>\n",
       "    <tr>\n",
       "      <th>0</th>\n",
       "      <td>382394863972</td>\n",
       "      <td>MediaTornado</td>\n",
       "      <td>Mac</td>\n",
       "      <td>United States</td>\n",
       "      <td>2019-05-01 00:00:41</td>\n",
       "      <td>2019-05-01</td>\n",
       "      <td>2019-05-01</td>\n",
       "      <td>False</td>\n",
       "      <td>26</td>\n",
       "      <td>6.24</td>\n",
       "      <td>0.24</td>\n",
       "    </tr>\n",
       "    <tr>\n",
       "      <th>1</th>\n",
       "      <td>428935481941</td>\n",
       "      <td>AdNonSense</td>\n",
       "      <td>PC</td>\n",
       "      <td>UK</td>\n",
       "      <td>2019-05-01 00:01:35</td>\n",
       "      <td>2019-05-01</td>\n",
       "      <td>2019-05-01</td>\n",
       "      <td>False</td>\n",
       "      <td>39</td>\n",
       "      <td>40.95</td>\n",
       "      <td>1.05</td>\n",
       "    </tr>\n",
       "    <tr>\n",
       "      <th>2</th>\n",
       "      <td>86266511938</td>\n",
       "      <td>organic</td>\n",
       "      <td>Android</td>\n",
       "      <td>Germany</td>\n",
       "      <td>2019-05-01 00:02:38</td>\n",
       "      <td>2019-05-01</td>\n",
       "      <td>2019-05-01</td>\n",
       "      <td>False</td>\n",
       "      <td>519</td>\n",
       "      <td>NaN</td>\n",
       "      <td>NaN</td>\n",
       "    </tr>\n",
       "    <tr>\n",
       "      <th>3</th>\n",
       "      <td>763000657462</td>\n",
       "      <td>organic</td>\n",
       "      <td>PC</td>\n",
       "      <td>UK</td>\n",
       "      <td>2019-05-01 00:04:21</td>\n",
       "      <td>2019-05-01</td>\n",
       "      <td>2019-05-01</td>\n",
       "      <td>False</td>\n",
       "      <td>519</td>\n",
       "      <td>NaN</td>\n",
       "      <td>NaN</td>\n",
       "    </tr>\n",
       "    <tr>\n",
       "      <th>4</th>\n",
       "      <td>791058813280</td>\n",
       "      <td>LeapBob</td>\n",
       "      <td>Android</td>\n",
       "      <td>France</td>\n",
       "      <td>2019-05-01 00:05:17</td>\n",
       "      <td>2019-05-01</td>\n",
       "      <td>2019-05-01</td>\n",
       "      <td>False</td>\n",
       "      <td>12</td>\n",
       "      <td>2.52</td>\n",
       "      <td>0.21</td>\n",
       "    </tr>\n",
       "  </tbody>\n",
       "</table>\n",
       "</div>"
      ],
      "text/plain": [
       "        user_id       channel   device         region       session_start  \\\n",
       "0  382394863972  MediaTornado      Mac  United States 2019-05-01 00:00:41   \n",
       "1  428935481941    AdNonSense       PC             UK 2019-05-01 00:01:35   \n",
       "2   86266511938       organic  Android        Germany 2019-05-01 00:02:38   \n",
       "3  763000657462       organic       PC             UK 2019-05-01 00:04:21   \n",
       "4  791058813280       LeapBob  Android         France 2019-05-01 00:05:17   \n",
       "\n",
       "       month         dt  payer  count_user_id  costs  acquisition_cost  \n",
       "0 2019-05-01 2019-05-01  False             26   6.24              0.24  \n",
       "1 2019-05-01 2019-05-01  False             39  40.95              1.05  \n",
       "2 2019-05-01 2019-05-01  False            519    NaN               NaN  \n",
       "3 2019-05-01 2019-05-01  False            519    NaN               NaN  \n",
       "4 2019-05-01 2019-05-01  False             12   2.52              0.21  "
      ]
     },
     "execution_count": 11,
     "metadata": {},
     "output_type": "execute_result"
    }
   ],
   "source": [
    "# выделяем первое песещение пользователя \n",
    "profiles = visits.pivot_table(\n",
    "    index = 'user_id',\n",
    "    values = ['session_start', 'channel', 'device', 'region'],\n",
    "    aggfunc = 'first'\n",
    "). reset_index().sort_values(by = 'session_start')\n",
    "\n",
    "# выделяем месяц\n",
    "profiles['month'] = profiles['session_start'].astype('datetime64[M]')\n",
    "profiles['dt'] = profiles['session_start'].astype('datetime64[D]')\n",
    "\n",
    "# является ли платящим(хоть раз платил) клиент или нет(пересечение в таблице orders)\n",
    "profiles['payer'] = profiles['user_id'].isin(orders['user_id'].unique()) \n",
    "\n",
    "# посчитаем стоимость привлечения одного пользователя\n",
    "acquisition_cost = profiles.pivot_table(index = ['dt','channel'], values = 'user_id', aggfunc = 'nunique').reset_index().merge(\n",
    "        costs.pivot_table(index = ['dt','channel'], values = 'costs').reset_index(), \n",
    "        on = ['dt','channel'],\n",
    "        how = 'left'\n",
    "                      ).rename(columns = {'user_id':'count_user_id'})\n",
    "\n",
    "acquisition_cost['acquisition_cost'] = acquisition_cost['costs']/acquisition_cost['count_user_id']\n",
    "\n",
    "profiles = profiles.merge(acquisition_cost, on=['dt','channel'], how='left')\n",
    "\n",
    "profiles.head()"
   ]
  },
  {
   "cell_type": "code",
   "execution_count": null,
   "id": "a12ab7bf",
   "metadata": {},
   "outputs": [],
   "source": [
    "\n",
    "\n",
    "def get_profiles(sessions, orders, ad_costs): #events, 3 поз. и , event_names=[] 5 поз.\n",
    "\n",
    "    # находим параметры первых посещений\n",
    "    profiles = (\n",
    "        sessions.sort_values(by=['user_id', 'session_start'])\n",
    "        .groupby('user_id')\n",
    "        .agg(\n",
    "            {\n",
    "                'session_start': 'first',\n",
    "                'channel': 'first',\n",
    "                'device': 'first',\n",
    "                'region': 'first',\n",
    "            }\n",
    "        )\n",
    "        .rename(columns={'session_start': 'first_ts'})\n",
    "        .reset_index()\n",
    "    )\n",
    "\n",
    "    # для когортного анализа определяем дату первого посещения\n",
    "    # и первый день месяца, в который это посещение произошло\n",
    "    profiles['dt'] = profiles['first_ts'].dt.date.astype('datetime64') # ПОМЕНЯЛ ТИП ДАННЫХ \n",
    "    profiles['month'] = profiles['first_ts'].astype('datetime64[M]')\n",
    "\n",
    "    # добавляем признак платящих пользователей\n",
    "    profiles['payer'] = profiles['user_id'].isin(orders['user_id'].unique())\n",
    "\n",
    "    # добавляем флаги для всех событий из event_names\n",
    "#     for event in event_names:\n",
    "#         if event in events['event_name'].unique():\n",
    "#             profiles[event] = profiles['user_id'].isin(\n",
    "#                 events.query('event_name == @event')['user_id'].unique()\n",
    "#             )\n",
    "\n",
    "    # считаем количество уникальных пользователей\n",
    "    # с одинаковыми источником и датой привлечения\n",
    "    new_users = (\n",
    "        profiles.groupby(['dt', 'channel'])\n",
    "        .agg({'user_id': 'nunique'})\n",
    "        .rename(columns={'user_id': 'unique_users'})\n",
    "        .reset_index()\n",
    "    )\n",
    "\n",
    "    # объединяем траты на рекламу и число привлечённых пользователей\n",
    "    ad_costs = ad_costs.merge(new_users, on=['dt', 'channel'], how='left')\n",
    "\n",
    "    # делим рекламные расходы на число привлечённых пользователей\n",
    "    ad_costs['acquisition_cost'] = ad_costs['costs'] / ad_costs['unique_users']\n",
    "\n",
    "    # добавляем стоимость привлечения в профили\n",
    "    profiles = profiles.merge(\n",
    "        ad_costs[['dt', 'channel', 'acquisition_cost']],\n",
    "        on=['dt', 'channel'],\n",
    "        how='left',\n",
    "    )\n",
    "\n",
    "    # стоимость привлечения органических пользователей равна нулю\n",
    "    profiles['acquisition_cost'] = profiles['acquisition_cost'].fillna(0)\n",
    "\n",
    "    return profiles"
   ]
  },
  {
   "cell_type": "code",
   "execution_count": null,
   "id": "a29658bc",
   "metadata": {},
   "outputs": [],
   "source": []
  }
 ],
 "metadata": {
  "kernelspec": {
   "display_name": "Python 3 (ipykernel)",
   "language": "python",
   "name": "python3"
  },
  "language_info": {
   "codemirror_mode": {
    "name": "ipython",
    "version": 3
   },
   "file_extension": ".py",
   "mimetype": "text/x-python",
   "name": "python",
   "nbconvert_exporter": "python",
   "pygments_lexer": "ipython3",
   "version": "3.9.7"
  },
  "toc": {
   "base_numbering": 1,
   "nav_menu": {},
   "number_sections": true,
   "sideBar": true,
   "skip_h1_title": false,
   "title_cell": "Table of Contents",
   "title_sidebar": "Contents",
   "toc_cell": false,
   "toc_position": {},
   "toc_section_display": true,
   "toc_window_display": false
  }
 },
 "nbformat": 4,
 "nbformat_minor": 5
}

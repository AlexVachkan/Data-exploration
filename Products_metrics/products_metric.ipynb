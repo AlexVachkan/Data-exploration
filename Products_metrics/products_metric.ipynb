{
 "cells": [
  {
   "cell_type": "markdown",
   "id": "4a6bb19b",
   "metadata": {},
   "source": [
    "    Таблица visits (лог сервера с информацией о посещениях сайта):\n",
    "\n",
    "    User Id — уникальный идентификатор пользователя\n",
    "    Device — категория устройства пользователя\n",
    "    Session start — дата и время начала сессии\n",
    "    Session End — дата и время окончания сессии\n",
    "    Channel — идентификатор рекламного источника, из которого пришел пользователь\n",
    "    Region - страна пользователя\n",
    "    \n",
    "    Таблица orders (информация о заказах):\n",
    "\n",
    "    User Id — уникальный id пользователя, который сделал заказ\n",
    "    Event Dt — дата и время покупки\n",
    "    Revenue — выручка\n",
    "    \n",
    "    Таблица costs (информация о затратах на маркетинг):\n",
    "\n",
    "    Channel — идентификатор рекламного источника\n",
    "    Dt — дата\n",
    "    Costs — затраты на этот рекламный источник в этот день"
   ]
  },
  {
   "cell_type": "markdown",
   "id": "82ca9dcd",
   "metadata": {},
   "source": [
    "    LTV -  общая сумма денег, которую один клиент в среднем приносит компании (выручка еа текущий день / размер когорты) (1, 3, 7, 14 дней)\n",
    "    ROI - окупаемость LTV/САС\n",
    "    САС - стоимость привлечения одного клиента ( Расход на рекламу / размер когорты )\n",
    "    ARPU - средняя выручка с пользователя \n",
    "    ARPPU - средняя выручка с платящего пользователя\n",
    "    удержание \n",
    "    CTR - показов рекламного баннера в клики называют(конверсия клики/показы)\n",
    "    CR - переход пользователя от одного состояния в другое(конверсия)\n",
    "    DAU - количество уникальных пользователей за день \n",
    "    WAU - количество уникальных пользователей за неделю \n",
    "    MAU - количество уникальных пользователей за месяц \n",
    "    ASL - Средняя продолжительность сессии \n",
    "    CPM -  стоимость тысячи показов рекламного объявления.\n",
    "    RPM - доход за тысячу показов.\n",
    "    СPC - оплата за каждого пользователя, кликнувшего на рекламное объявление, то есть перешедшего на сайт.\n",
    "    CPL - оплата за каждого пользователя, оставившего свои контакты\n",
    "    CPA - оплата за определённое действие, совершённое пользователем. Например, за покупку."
   ]
  },
  {
   "cell_type": "markdown",
   "id": "354010c2",
   "metadata": {},
   "source": [
    "Загружаем библиотеки"
   ]
  },
  {
   "cell_type": "code",
   "execution_count": 1,
   "id": "c4c6bd8c",
   "metadata": {},
   "outputs": [],
   "source": [
    "import pandas as pd\n",
    "import numpy as np\n",
    "from datetime import datetime, timedelta\n",
    "import matplotlib.pyplot as plt\n",
    "import seaborn as sns"
   ]
  },
  {
   "cell_type": "markdown",
   "id": "ee992994",
   "metadata": {},
   "source": [
    "Загружаем таблицы"
   ]
  },
  {
   "cell_type": "code",
   "execution_count": 2,
   "id": "0e9d545b",
   "metadata": {},
   "outputs": [],
   "source": [
    "job = 'C:\\\\Users\\\\a.vechkanov\\\\Desktop\\\\Госты, Литература\\\\Остальное\\\\Data analitics\\\\Проекты\\\\Продуктовые метрики\\\\'\n",
    "home = 'C:\\\\Users\\\\Александр\\\\OneDrive\\\\Рабочий стол\\\\Python\\\\ЯндексПрактикум\\\\Project\\\\Продуктовые метрики\\\\'\n",
    "try:   \n",
    "    visits = pd.read_csv(\n",
    "        job+'visits_info_short.csv'\n",
    "    )\n",
    "    \n",
    "    orders = pd.read_csv(\n",
    "        job+'orders_info_short.csv'\n",
    "    )\n",
    "        \n",
    "    costs = pd.read_csv(\n",
    "        job+'costs_info_short.csv'\n",
    "    )\n",
    "    \n",
    "except:\n",
    "    visits = pd.read_csv(\n",
    "        home+'visits_info_short.csv'\n",
    "    )\n",
    "    orders = pd.read_csv(\n",
    "        home+'orders_info_short.csv'\n",
    "    )\n",
    "    costs = pd.read_csv(\n",
    "        home+'costs_info_short.csv'\n",
    "    )\n",
    "    "
   ]
  },
  {
   "cell_type": "markdown",
   "id": "43a20f07",
   "metadata": {},
   "source": [
    "Подготовим наши данные к работе"
   ]
  },
  {
   "cell_type": "code",
   "execution_count": 3,
   "id": "c900480a",
   "metadata": {},
   "outputs": [
    {
     "name": "stdout",
     "output_type": "stream",
     "text": [
      "ТАБЛИЦА:  visits\n"
     ]
    },
    {
     "data": {
      "text/plain": [
       "(309901, 6)"
      ]
     },
     "metadata": {},
     "output_type": "display_data"
    },
    {
     "data": {
      "text/html": [
       "<div>\n",
       "<style scoped>\n",
       "    .dataframe tbody tr th:only-of-type {\n",
       "        vertical-align: middle;\n",
       "    }\n",
       "\n",
       "    .dataframe tbody tr th {\n",
       "        vertical-align: top;\n",
       "    }\n",
       "\n",
       "    .dataframe thead th {\n",
       "        text-align: right;\n",
       "    }\n",
       "</style>\n",
       "<table border=\"1\" class=\"dataframe\">\n",
       "  <thead>\n",
       "    <tr style=\"text-align: right;\">\n",
       "      <th></th>\n",
       "      <th>User Id</th>\n",
       "      <th>Region</th>\n",
       "      <th>Device</th>\n",
       "      <th>Channel</th>\n",
       "      <th>Session Start</th>\n",
       "      <th>Session End</th>\n",
       "    </tr>\n",
       "  </thead>\n",
       "  <tbody>\n",
       "    <tr>\n",
       "      <th>165274</th>\n",
       "      <td>32664835623</td>\n",
       "      <td>United States</td>\n",
       "      <td>iPhone</td>\n",
       "      <td>organic</td>\n",
       "      <td>2019-09-29 18:07:37</td>\n",
       "      <td>2019-09-29 18:33:46</td>\n",
       "    </tr>\n",
       "    <tr>\n",
       "      <th>42390</th>\n",
       "      <td>568696249723</td>\n",
       "      <td>United States</td>\n",
       "      <td>iPhone</td>\n",
       "      <td>FaceBoom</td>\n",
       "      <td>2019-06-14 19:06:02</td>\n",
       "      <td>2019-06-14 19:07:52</td>\n",
       "    </tr>\n",
       "    <tr>\n",
       "      <th>194059</th>\n",
       "      <td>461338487253</td>\n",
       "      <td>United States</td>\n",
       "      <td>iPhone</td>\n",
       "      <td>RocketSuperAds</td>\n",
       "      <td>2019-10-20 22:46:28</td>\n",
       "      <td>2019-10-20 22:57:04</td>\n",
       "    </tr>\n",
       "  </tbody>\n",
       "</table>\n",
       "</div>"
      ],
      "text/plain": [
       "             User Id         Region  Device         Channel  \\\n",
       "165274   32664835623  United States  iPhone         organic   \n",
       "42390   568696249723  United States  iPhone        FaceBoom   \n",
       "194059  461338487253  United States  iPhone  RocketSuperAds   \n",
       "\n",
       "              Session Start          Session End  \n",
       "165274  2019-09-29 18:07:37  2019-09-29 18:33:46  \n",
       "42390   2019-06-14 19:06:02  2019-06-14 19:07:52  \n",
       "194059  2019-10-20 22:46:28  2019-10-20 22:57:04  "
      ]
     },
     "metadata": {},
     "output_type": "display_data"
    },
    {
     "name": "stdout",
     "output_type": "stream",
     "text": [
      "<class 'pandas.core.frame.DataFrame'>\n",
      "RangeIndex: 309901 entries, 0 to 309900\n",
      "Data columns (total 6 columns):\n",
      " #   Column         Non-Null Count   Dtype \n",
      "---  ------         --------------   ----- \n",
      " 0   User Id        309901 non-null  int64 \n",
      " 1   Region         309901 non-null  object\n",
      " 2   Device         309901 non-null  object\n",
      " 3   Channel        309901 non-null  object\n",
      " 4   Session Start  309901 non-null  object\n",
      " 5   Session End    309901 non-null  object\n",
      "dtypes: int64(1), object(5)\n",
      "memory usage: 14.2+ MB\n",
      "\n",
      "\n",
      "ТАБЛИЦА:  orders\n"
     ]
    },
    {
     "data": {
      "text/plain": [
       "(40212, 3)"
      ]
     },
     "metadata": {},
     "output_type": "display_data"
    },
    {
     "data": {
      "text/html": [
       "<div>\n",
       "<style scoped>\n",
       "    .dataframe tbody tr th:only-of-type {\n",
       "        vertical-align: middle;\n",
       "    }\n",
       "\n",
       "    .dataframe tbody tr th {\n",
       "        vertical-align: top;\n",
       "    }\n",
       "\n",
       "    .dataframe thead th {\n",
       "        text-align: right;\n",
       "    }\n",
       "</style>\n",
       "<table border=\"1\" class=\"dataframe\">\n",
       "  <thead>\n",
       "    <tr style=\"text-align: right;\">\n",
       "      <th></th>\n",
       "      <th>User Id</th>\n",
       "      <th>Event Dt</th>\n",
       "      <th>Revenue</th>\n",
       "    </tr>\n",
       "  </thead>\n",
       "  <tbody>\n",
       "    <tr>\n",
       "      <th>17337</th>\n",
       "      <td>616716176403</td>\n",
       "      <td>2019-09-11 11:52:24</td>\n",
       "      <td>4.99</td>\n",
       "    </tr>\n",
       "    <tr>\n",
       "      <th>20688</th>\n",
       "      <td>496735319082</td>\n",
       "      <td>2019-09-28 22:48:10</td>\n",
       "      <td>4.99</td>\n",
       "    </tr>\n",
       "    <tr>\n",
       "      <th>38649</th>\n",
       "      <td>339315537943</td>\n",
       "      <td>2019-10-16 23:53:17</td>\n",
       "      <td>4.99</td>\n",
       "    </tr>\n",
       "  </tbody>\n",
       "</table>\n",
       "</div>"
      ],
      "text/plain": [
       "            User Id             Event Dt  Revenue\n",
       "17337  616716176403  2019-09-11 11:52:24     4.99\n",
       "20688  496735319082  2019-09-28 22:48:10     4.99\n",
       "38649  339315537943  2019-10-16 23:53:17     4.99"
      ]
     },
     "metadata": {},
     "output_type": "display_data"
    },
    {
     "name": "stdout",
     "output_type": "stream",
     "text": [
      "<class 'pandas.core.frame.DataFrame'>\n",
      "RangeIndex: 40212 entries, 0 to 40211\n",
      "Data columns (total 3 columns):\n",
      " #   Column    Non-Null Count  Dtype  \n",
      "---  ------    --------------  -----  \n",
      " 0   User Id   40212 non-null  int64  \n",
      " 1   Event Dt  40212 non-null  object \n",
      " 2   Revenue   40212 non-null  float64\n",
      "dtypes: float64(1), int64(1), object(1)\n",
      "memory usage: 942.6+ KB\n",
      "\n",
      "\n",
      "ТАБЛИЦА:  costs\n"
     ]
    },
    {
     "data": {
      "text/plain": [
       "(1800, 3)"
      ]
     },
     "metadata": {},
     "output_type": "display_data"
    },
    {
     "data": {
      "text/html": [
       "<div>\n",
       "<style scoped>\n",
       "    .dataframe tbody tr th:only-of-type {\n",
       "        vertical-align: middle;\n",
       "    }\n",
       "\n",
       "    .dataframe tbody tr th {\n",
       "        vertical-align: top;\n",
       "    }\n",
       "\n",
       "    .dataframe thead th {\n",
       "        text-align: right;\n",
       "    }\n",
       "</style>\n",
       "<table border=\"1\" class=\"dataframe\">\n",
       "  <thead>\n",
       "    <tr style=\"text-align: right;\">\n",
       "      <th></th>\n",
       "      <th>dt</th>\n",
       "      <th>Channel</th>\n",
       "      <th>costs</th>\n",
       "    </tr>\n",
       "  </thead>\n",
       "  <tbody>\n",
       "    <tr>\n",
       "      <th>1605</th>\n",
       "      <td>2019-10-13</td>\n",
       "      <td>WahooNetBanner</td>\n",
       "      <td>30.6</td>\n",
       "    </tr>\n",
       "    <tr>\n",
       "      <th>666</th>\n",
       "      <td>2019-09-04</td>\n",
       "      <td>TipTop</td>\n",
       "      <td>325.5</td>\n",
       "    </tr>\n",
       "    <tr>\n",
       "      <th>283</th>\n",
       "      <td>2019-08-12</td>\n",
       "      <td>MediaTornado</td>\n",
       "      <td>6.0</td>\n",
       "    </tr>\n",
       "  </tbody>\n",
       "</table>\n",
       "</div>"
      ],
      "text/plain": [
       "              dt         Channel  costs\n",
       "1605  2019-10-13  WahooNetBanner   30.6\n",
       "666   2019-09-04          TipTop  325.5\n",
       "283   2019-08-12    MediaTornado    6.0"
      ]
     },
     "metadata": {},
     "output_type": "display_data"
    },
    {
     "name": "stdout",
     "output_type": "stream",
     "text": [
      "<class 'pandas.core.frame.DataFrame'>\n",
      "RangeIndex: 1800 entries, 0 to 1799\n",
      "Data columns (total 3 columns):\n",
      " #   Column   Non-Null Count  Dtype  \n",
      "---  ------   --------------  -----  \n",
      " 0   dt       1800 non-null   object \n",
      " 1   Channel  1800 non-null   object \n",
      " 2   costs    1800 non-null   float64\n",
      "dtypes: float64(1), object(2)\n",
      "memory usage: 42.3+ KB\n",
      "\n",
      "\n"
     ]
    }
   ],
   "source": [
    "names = ['visits', 'orders', 'costs']\n",
    "tables = [visits, orders, costs]\n",
    "for table,name in zip(tables, names):\n",
    "    print('ТАБЛИЦА: ',name)\n",
    "    display(table.shape)\n",
    "    display(table.sample(3))\n",
    "    table.info()\n",
    "    print('\\n')"
   ]
  },
  {
   "cell_type": "markdown",
   "id": "3b473bda",
   "metadata": {},
   "source": [
    "Пропусков нет, проверим данные на дубликаты"
   ]
  },
  {
   "cell_type": "code",
   "execution_count": 4,
   "id": "63f2b1f2",
   "metadata": {},
   "outputs": [
    {
     "name": "stdout",
     "output_type": "stream",
     "text": [
      "0\n",
      "0\n",
      "0\n"
     ]
    }
   ],
   "source": [
    "for table in tables:\n",
    "    print(table.duplicated().sum())"
   ]
  },
  {
   "cell_type": "markdown",
   "id": "2b14ed0f",
   "metadata": {},
   "source": [
    "Приведем таблицы к удобному для работы виду "
   ]
  },
  {
   "cell_type": "code",
   "execution_count": 5,
   "id": "05e751d1",
   "metadata": {},
   "outputs": [
    {
     "data": {
      "text/plain": [
       "Index(['User Id', 'Region', 'Device', 'Channel', 'Session Start',\n",
       "       'Session End'],\n",
       "      dtype='object')"
      ]
     },
     "execution_count": 5,
     "metadata": {},
     "output_type": "execute_result"
    }
   ],
   "source": [
    "visits.columns"
   ]
  },
  {
   "cell_type": "code",
   "execution_count": 6,
   "id": "db620752",
   "metadata": {},
   "outputs": [],
   "source": [
    "visits = visits.rename(\n",
    "    columns = {\n",
    "        visits.columns[0]:'user_id',\n",
    "        visits.columns[1]:'region',\n",
    "        visits.columns[2]:'device',\n",
    "        visits.columns[3]:'channel',\n",
    "        visits.columns[4]:'session_start',\n",
    "        visits.columns[5]:'session_end'\n",
    "    }\n",
    ")\n",
    "\n",
    "orders = orders.rename(\n",
    "    columns = {\n",
    "        orders.columns[0]:'user_id',\n",
    "        orders.columns[1]:'event_dt',\n",
    "        orders.columns[2]:'revenue',\n",
    "    }\n",
    ")\n",
    "\n",
    "costs = costs.rename(\n",
    "    columns = {\n",
    "        costs.columns[0]:'dt',\n",
    "        costs.columns[1]:'channel',\n",
    "        costs.columns[2]:'costs',\n",
    "    }\n",
    ")"
   ]
  },
  {
   "cell_type": "markdown",
   "id": "092719b6",
   "metadata": {},
   "source": [
    "Посчитаем длину сессии пльзователей из таблицы visits"
   ]
  },
  {
   "cell_type": "code",
   "execution_count": 7,
   "id": "7462eb1e",
   "metadata": {},
   "outputs": [],
   "source": [
    "visits['session_start'] = pd.to_datetime(visits['session_start'])\n",
    "visits['session_end'] = pd.to_datetime(visits['session_end'])"
   ]
  },
  {
   "cell_type": "markdown",
   "id": "b82da543",
   "metadata": {},
   "source": [
    "Преобразуем тип данных"
   ]
  },
  {
   "cell_type": "code",
   "execution_count": 8,
   "id": "003646a8",
   "metadata": {},
   "outputs": [],
   "source": [
    "costs['dt'] = pd.to_datetime(costs['dt'])"
   ]
  },
  {
   "cell_type": "code",
   "execution_count": 9,
   "id": "8ad1f42e",
   "metadata": {},
   "outputs": [
    {
     "data": {
      "text/html": [
       "<div>\n",
       "<style scoped>\n",
       "    .dataframe tbody tr th:only-of-type {\n",
       "        vertical-align: middle;\n",
       "    }\n",
       "\n",
       "    .dataframe tbody tr th {\n",
       "        vertical-align: top;\n",
       "    }\n",
       "\n",
       "    .dataframe thead th {\n",
       "        text-align: right;\n",
       "    }\n",
       "</style>\n",
       "<table border=\"1\" class=\"dataframe\">\n",
       "  <thead>\n",
       "    <tr style=\"text-align: right;\">\n",
       "      <th></th>\n",
       "      <th>user_id</th>\n",
       "      <th>region</th>\n",
       "      <th>device</th>\n",
       "      <th>channel</th>\n",
       "      <th>session_start</th>\n",
       "      <th>session_end</th>\n",
       "      <th>session_length</th>\n",
       "    </tr>\n",
       "  </thead>\n",
       "  <tbody>\n",
       "    <tr>\n",
       "      <th>110558</th>\n",
       "      <td>267068500935</td>\n",
       "      <td>United States</td>\n",
       "      <td>iPhone</td>\n",
       "      <td>organic</td>\n",
       "      <td>2019-08-16 02:08:57</td>\n",
       "      <td>2019-08-16 02:16:38</td>\n",
       "      <td>0 days 00:07:41</td>\n",
       "    </tr>\n",
       "    <tr>\n",
       "      <th>111588</th>\n",
       "      <td>267068500935</td>\n",
       "      <td>United States</td>\n",
       "      <td>iPhone</td>\n",
       "      <td>organic</td>\n",
       "      <td>2019-08-17 13:27:23</td>\n",
       "      <td>2019-08-17 14:15:08</td>\n",
       "      <td>0 days 00:47:45</td>\n",
       "    </tr>\n",
       "    <tr>\n",
       "      <th>121264</th>\n",
       "      <td>267068500935</td>\n",
       "      <td>United States</td>\n",
       "      <td>iPhone</td>\n",
       "      <td>organic</td>\n",
       "      <td>2019-08-25 18:45:22</td>\n",
       "      <td>2019-08-25 18:47:31</td>\n",
       "      <td>0 days 00:02:09</td>\n",
       "    </tr>\n",
       "  </tbody>\n",
       "</table>\n",
       "</div>"
      ],
      "text/plain": [
       "             user_id         region  device  channel       session_start  \\\n",
       "110558  267068500935  United States  iPhone  organic 2019-08-16 02:08:57   \n",
       "111588  267068500935  United States  iPhone  organic 2019-08-17 13:27:23   \n",
       "121264  267068500935  United States  iPhone  organic 2019-08-25 18:45:22   \n",
       "\n",
       "               session_end  session_length  \n",
       "110558 2019-08-16 02:16:38 0 days 00:07:41  \n",
       "111588 2019-08-17 14:15:08 0 days 00:47:45  \n",
       "121264 2019-08-25 18:47:31 0 days 00:02:09  "
      ]
     },
     "execution_count": 9,
     "metadata": {},
     "output_type": "execute_result"
    }
   ],
   "source": [
    "visits['session_length'] = pd.to_datetime(visits['session_end']) - pd.to_datetime(visits['session_start'])\n",
    "\n",
    "visits.query('user_id == 267068500935')"
   ]
  },
  {
   "cell_type": "markdown",
   "id": "f0c201c8",
   "metadata": {},
   "source": [
    "    Создадим профиль пользователей\n",
    "    id, channel, device, region, session start, month, dt, payer, costs, acquisition_cost"
   ]
  },
  {
   "cell_type": "code",
   "execution_count": 10,
   "id": "0f70250c",
   "metadata": {},
   "outputs": [],
   "source": [
    "# выделяем первое песещение пользователя \n",
    "profiles = visits.pivot_table(\n",
    "    index = 'user_id',\n",
    "    values = ['session_start', 'channel', 'device', 'region'],\n",
    "    aggfunc = 'first'\n",
    "). reset_index().sort_values(by = 'session_start')\n",
    "\n",
    "# выделяем месяц\n",
    "profiles['month'] = profiles['session_start'].astype('datetime64[M]')\n",
    "profiles['dt'] = profiles['session_start'].astype('datetime64[D]')\n",
    "\n",
    "# является ли платящим(хоть раз платил) клиент или нет(пересечение в таблице orders)\n",
    "profiles['payer'] = profiles['user_id'].isin(orders['user_id'].unique()) \n",
    "\n",
    "# посчитаем стоимость привлечения одного пользователя\n",
    "acquisition_cost = profiles.pivot_table(index = ['dt','channel'], values = 'user_id', aggfunc = 'nunique').reset_index().merge(\n",
    "        costs.pivot_table(index = ['dt','channel'], values = 'costs').reset_index(), \n",
    "        on = ['dt','channel'],\n",
    "        how = 'left'\n",
    "                      ).rename(columns = {'user_id':'count_user_id'})\n",
    "\n",
    "acquisition_cost['acquisition_cost'] = acquisition_cost['costs']/acquisition_cost['count_user_id']\n",
    "\n",
    "profiles = profiles.merge(acquisition_cost, on=['dt','channel'], how='left')"
   ]
  },
  {
   "cell_type": "code",
   "execution_count": 17,
   "id": "ac4b04d3",
   "metadata": {},
   "outputs": [
    {
     "data": {
      "text/html": [
       "<div>\n",
       "<style scoped>\n",
       "    .dataframe tbody tr th:only-of-type {\n",
       "        vertical-align: middle;\n",
       "    }\n",
       "\n",
       "    .dataframe tbody tr th {\n",
       "        vertical-align: top;\n",
       "    }\n",
       "\n",
       "    .dataframe thead th {\n",
       "        text-align: right;\n",
       "    }\n",
       "</style>\n",
       "<table border=\"1\" class=\"dataframe\">\n",
       "  <thead>\n",
       "    <tr style=\"text-align: right;\">\n",
       "      <th></th>\n",
       "      <th>user_id</th>\n",
       "      <th>channel</th>\n",
       "      <th>device</th>\n",
       "      <th>region</th>\n",
       "      <th>session_start</th>\n",
       "      <th>month</th>\n",
       "      <th>dt</th>\n",
       "      <th>payer</th>\n",
       "      <th>count_user_id</th>\n",
       "      <th>costs</th>\n",
       "      <th>acquisition_cost</th>\n",
       "    </tr>\n",
       "  </thead>\n",
       "  <tbody>\n",
       "    <tr>\n",
       "      <th>149712</th>\n",
       "      <td>329994900775</td>\n",
       "      <td>LeapBob</td>\n",
       "      <td>PC</td>\n",
       "      <td>UK</td>\n",
       "      <td>2019-10-27 18:17:40</td>\n",
       "      <td>2019-10-01</td>\n",
       "      <td>2019-10-27</td>\n",
       "      <td>True</td>\n",
       "      <td>58</td>\n",
       "      <td>12.81</td>\n",
       "      <td>0.220862</td>\n",
       "    </tr>\n",
       "  </tbody>\n",
       "</table>\n",
       "</div>"
      ],
      "text/plain": [
       "             user_id  channel device region       session_start      month  \\\n",
       "149712  329994900775  LeapBob     PC     UK 2019-10-27 18:17:40 2019-10-01   \n",
       "\n",
       "               dt  payer  count_user_id  costs  acquisition_cost  \n",
       "149712 2019-10-27   True             58  12.81          0.220862  "
      ]
     },
     "execution_count": 17,
     "metadata": {},
     "output_type": "execute_result"
    }
   ],
   "source": [
    "profiles.query('user_id == 329994900775')"
   ]
  },
  {
   "cell_type": "code",
   "execution_count": 28,
   "id": "d67af1d2",
   "metadata": {},
   "outputs": [
    {
     "data": {
      "text/plain": [
       "MultiIndex([('count', 'payer'),\n",
       "            (  'sum', 'payer')],\n",
       "           )"
      ]
     },
     "execution_count": 28,
     "metadata": {},
     "output_type": "execute_result"
    }
   ],
   "source": [
    "profiles.pivot_table(index='region', values='payer', aggfunc=['count', 'sum']).columns"
   ]
  },
  {
   "cell_type": "code",
   "execution_count": null,
   "id": "a40daf4a",
   "metadata": {},
   "outputs": [],
   "source": []
  }
 ],
 "metadata": {
  "kernelspec": {
   "display_name": "Python 3 (ipykernel)",
   "language": "python",
   "name": "python3"
  },
  "language_info": {
   "codemirror_mode": {
    "name": "ipython",
    "version": 3
   },
   "file_extension": ".py",
   "mimetype": "text/x-python",
   "name": "python",
   "nbconvert_exporter": "python",
   "pygments_lexer": "ipython3",
   "version": "3.9.7"
  },
  "toc": {
   "base_numbering": 1,
   "nav_menu": {},
   "number_sections": true,
   "sideBar": true,
   "skip_h1_title": false,
   "title_cell": "Table of Contents",
   "title_sidebar": "Contents",
   "toc_cell": false,
   "toc_position": {},
   "toc_section_display": true,
   "toc_window_display": false
  }
 },
 "nbformat": 4,
 "nbformat_minor": 5
}

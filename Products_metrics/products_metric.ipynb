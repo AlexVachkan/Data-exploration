{
 "cells": [
  {
   "cell_type": "markdown",
   "id": "4a6bb19b",
   "metadata": {},
   "source": [
    "    Таблица visits (лог сервера с информацией о посещениях сайта):\n",
    "\n",
    "    User Id — уникальный идентификатор пользователя\n",
    "    Device — категория устройства пользователя\n",
    "    Session start — дата и время начала сессии\n",
    "    Session End — дата и время окончания сессии\n",
    "    Channel — идентификатор рекламного источника, из которого пришел пользователь\n",
    "    Region - страна пользователя\n",
    "    \n",
    "    Таблица orders (информация о заказах):\n",
    "\n",
    "    User Id — уникальный id пользователя, который сделал заказ\n",
    "    Event Dt — дата и время покупки\n",
    "    Revenue — выручка\n",
    "    \n",
    "    Таблица costs (информация о затратах на маркетинг):\n",
    "\n",
    "    Channel — идентификатор рекламного источника\n",
    "    Dt — дата\n",
    "    Costs — затраты на этот рекламный источник в этот день"
   ]
  },
  {
   "cell_type": "markdown",
   "id": "82ca9dcd",
   "metadata": {},
   "source": [
    "    LTV -  общая сумма денег, которую один клиент в среднем приносит компании (выручка еа текущий день / размер когорты) (1, 3, 7, 14 дней)\n",
    "    ROI - окупаемость LTV/САС\n",
    "    САС - стоимость привлечения одного клиента ( Расход на рекламу / размер когорты )\n",
    "    ARPU - средняя выручка с пользователя \n",
    "    ARPPU - средняя выручка с платящего пользователя\n",
    "    удержание \n",
    "    CTR - показов рекламного баннера в клики называют(конверсия клики/показы)\n",
    "    CR - переход пользователя от одного состояния в другое(конверсия)\n",
    "    DAU - количество уникальных пользователей за день \n",
    "    WAU - количество уникальных пользователей за неделю \n",
    "    MAU - количество уникальных пользователей за месяц \n",
    "    ASL - Средняя продолжительность сессии \n",
    "    CPM -  стоимость тысячи показов рекламного объявления.\n",
    "    RPM - доход за тысячу показов.\n",
    "    СPC - оплата за каждого пользователя, кликнувшего на рекламное объявление, то есть перешедшего на сайт.\n",
    "    CPL - оплата за каждого пользователя, оставившего свои контакты\n",
    "    CPA - оплата за определённое действие, совершённое пользователем. Например, за покупку."
   ]
  },
  {
   "cell_type": "markdown",
   "id": "354010c2",
   "metadata": {},
   "source": [
    "Загружаем библиотеки"
   ]
  },
  {
   "cell_type": "code",
   "execution_count": 1,
   "id": "c4c6bd8c",
   "metadata": {},
   "outputs": [],
   "source": [
    "import pandas as pd\n",
    "import numpy as np\n",
    "from datetime import datetime, timedelta\n",
    "import matplotlib.pyplot as plt\n",
    "import seaborn as sns"
   ]
  },
  {
   "cell_type": "markdown",
   "id": "ee992994",
   "metadata": {},
   "source": [
    "Загружаем таблицы"
   ]
  },
  {
   "cell_type": "code",
   "execution_count": 2,
   "id": "0e9d545b",
   "metadata": {},
   "outputs": [],
   "source": [
    "job = 'C:\\\\Users\\\\a.vechkanov\\\\Desktop\\\\Госты, Литература\\\\Остальное\\\\Data analitics\\\\Проекты\\\\Продуктовые метрики\\\\'\n",
    "home = 'C:\\\\Users\\\\Александр\\\\OneDrive\\\\Рабочий стол\\\\Python\\\\ЯндексПрактикум\\\\Project\\\\Продуктовые метрики\\\\'\n",
    "try:   \n",
    "    visits = pd.read_csv(\n",
    "        job+'visits_info_short.csv'\n",
    "    )\n",
    "    \n",
    "    orders = pd.read_csv(\n",
    "        job+'orders_info_short.csv'\n",
    "    )\n",
    "        \n",
    "    costs = pd.read_csv(\n",
    "        job+'costs_info_short.csv'\n",
    "    )\n",
    "    \n",
    "except:\n",
    "    visits = pd.read_csv(\n",
    "        home+'visits_info_short.csv'\n",
    "    )\n",
    "    orders = pd.read_csv(\n",
    "        home+'orders_info_short.csv'\n",
    "    )\n",
    "    costs = pd.read_csv(\n",
    "        home+'costs_info_short.csv'\n",
    "    )\n",
    "    "
   ]
  },
  {
   "cell_type": "markdown",
   "id": "43a20f07",
   "metadata": {},
   "source": [
    "Подготовим наши данные к работе"
   ]
  },
  {
   "cell_type": "code",
   "execution_count": 3,
   "id": "c900480a",
   "metadata": {},
   "outputs": [
    {
     "name": "stdout",
     "output_type": "stream",
     "text": [
      "ТАБЛИЦА:  visits\n"
     ]
    },
    {
     "data": {
      "text/plain": [
       "(309901, 6)"
      ]
     },
     "metadata": {},
     "output_type": "display_data"
    },
    {
     "data": {
      "text/html": [
       "<div>\n",
       "<style scoped>\n",
       "    .dataframe tbody tr th:only-of-type {\n",
       "        vertical-align: middle;\n",
       "    }\n",
       "\n",
       "    .dataframe tbody tr th {\n",
       "        vertical-align: top;\n",
       "    }\n",
       "\n",
       "    .dataframe thead th {\n",
       "        text-align: right;\n",
       "    }\n",
       "</style>\n",
       "<table border=\"1\" class=\"dataframe\">\n",
       "  <thead>\n",
       "    <tr style=\"text-align: right;\">\n",
       "      <th></th>\n",
       "      <th>User Id</th>\n",
       "      <th>Region</th>\n",
       "      <th>Device</th>\n",
       "      <th>Channel</th>\n",
       "      <th>Session Start</th>\n",
       "      <th>Session End</th>\n",
       "    </tr>\n",
       "  </thead>\n",
       "  <tbody>\n",
       "    <tr>\n",
       "      <th>226834</th>\n",
       "      <td>98630804492</td>\n",
       "      <td>UK</td>\n",
       "      <td>iPhone</td>\n",
       "      <td>lambdaMediaAds</td>\n",
       "      <td>2019-06-09 17:25:32</td>\n",
       "      <td>2019-06-09 17:51:10</td>\n",
       "    </tr>\n",
       "    <tr>\n",
       "      <th>219643</th>\n",
       "      <td>295795879965</td>\n",
       "      <td>Germany</td>\n",
       "      <td>PC</td>\n",
       "      <td>WahooNetBanner</td>\n",
       "      <td>2019-05-26 11:02:13</td>\n",
       "      <td>2019-05-26 11:51:55</td>\n",
       "    </tr>\n",
       "    <tr>\n",
       "      <th>22406</th>\n",
       "      <td>820357630215</td>\n",
       "      <td>United States</td>\n",
       "      <td>Android</td>\n",
       "      <td>TipTop</td>\n",
       "      <td>2019-05-24 11:57:22</td>\n",
       "      <td>2019-05-24 12:01:13</td>\n",
       "    </tr>\n",
       "  </tbody>\n",
       "</table>\n",
       "</div>"
      ],
      "text/plain": [
       "             User Id         Region   Device         Channel  \\\n",
       "226834   98630804492             UK   iPhone  lambdaMediaAds   \n",
       "219643  295795879965        Germany       PC  WahooNetBanner   \n",
       "22406   820357630215  United States  Android          TipTop   \n",
       "\n",
       "              Session Start          Session End  \n",
       "226834  2019-06-09 17:25:32  2019-06-09 17:51:10  \n",
       "219643  2019-05-26 11:02:13  2019-05-26 11:51:55  \n",
       "22406   2019-05-24 11:57:22  2019-05-24 12:01:13  "
      ]
     },
     "metadata": {},
     "output_type": "display_data"
    },
    {
     "name": "stdout",
     "output_type": "stream",
     "text": [
      "<class 'pandas.core.frame.DataFrame'>\n",
      "RangeIndex: 309901 entries, 0 to 309900\n",
      "Data columns (total 6 columns):\n",
      " #   Column         Non-Null Count   Dtype \n",
      "---  ------         --------------   ----- \n",
      " 0   User Id        309901 non-null  int64 \n",
      " 1   Region         309901 non-null  object\n",
      " 2   Device         309901 non-null  object\n",
      " 3   Channel        309901 non-null  object\n",
      " 4   Session Start  309901 non-null  object\n",
      " 5   Session End    309901 non-null  object\n",
      "dtypes: int64(1), object(5)\n",
      "memory usage: 14.2+ MB\n",
      "\n",
      "\n",
      "ТАБЛИЦА:  orders\n"
     ]
    },
    {
     "data": {
      "text/plain": [
       "(40212, 3)"
      ]
     },
     "metadata": {},
     "output_type": "display_data"
    },
    {
     "data": {
      "text/html": [
       "<div>\n",
       "<style scoped>\n",
       "    .dataframe tbody tr th:only-of-type {\n",
       "        vertical-align: middle;\n",
       "    }\n",
       "\n",
       "    .dataframe tbody tr th {\n",
       "        vertical-align: top;\n",
       "    }\n",
       "\n",
       "    .dataframe thead th {\n",
       "        text-align: right;\n",
       "    }\n",
       "</style>\n",
       "<table border=\"1\" class=\"dataframe\">\n",
       "  <thead>\n",
       "    <tr style=\"text-align: right;\">\n",
       "      <th></th>\n",
       "      <th>User Id</th>\n",
       "      <th>Event Dt</th>\n",
       "      <th>Revenue</th>\n",
       "    </tr>\n",
       "  </thead>\n",
       "  <tbody>\n",
       "    <tr>\n",
       "      <th>17874</th>\n",
       "      <td>123643365833</td>\n",
       "      <td>2019-09-14 00:03:38</td>\n",
       "      <td>4.99</td>\n",
       "    </tr>\n",
       "    <tr>\n",
       "      <th>34491</th>\n",
       "      <td>966689987328</td>\n",
       "      <td>2019-09-01 06:02:32</td>\n",
       "      <td>4.99</td>\n",
       "    </tr>\n",
       "    <tr>\n",
       "      <th>26818</th>\n",
       "      <td>967329450194</td>\n",
       "      <td>2019-10-26 00:38:25</td>\n",
       "      <td>4.99</td>\n",
       "    </tr>\n",
       "  </tbody>\n",
       "</table>\n",
       "</div>"
      ],
      "text/plain": [
       "            User Id             Event Dt  Revenue\n",
       "17874  123643365833  2019-09-14 00:03:38     4.99\n",
       "34491  966689987328  2019-09-01 06:02:32     4.99\n",
       "26818  967329450194  2019-10-26 00:38:25     4.99"
      ]
     },
     "metadata": {},
     "output_type": "display_data"
    },
    {
     "name": "stdout",
     "output_type": "stream",
     "text": [
      "<class 'pandas.core.frame.DataFrame'>\n",
      "RangeIndex: 40212 entries, 0 to 40211\n",
      "Data columns (total 3 columns):\n",
      " #   Column    Non-Null Count  Dtype  \n",
      "---  ------    --------------  -----  \n",
      " 0   User Id   40212 non-null  int64  \n",
      " 1   Event Dt  40212 non-null  object \n",
      " 2   Revenue   40212 non-null  float64\n",
      "dtypes: float64(1), int64(1), object(1)\n",
      "memory usage: 942.6+ KB\n",
      "\n",
      "\n",
      "ТАБЛИЦА:  costs\n"
     ]
    },
    {
     "data": {
      "text/plain": [
       "(1800, 3)"
      ]
     },
     "metadata": {},
     "output_type": "display_data"
    },
    {
     "data": {
      "text/html": [
       "<div>\n",
       "<style scoped>\n",
       "    .dataframe tbody tr th:only-of-type {\n",
       "        vertical-align: middle;\n",
       "    }\n",
       "\n",
       "    .dataframe tbody tr th {\n",
       "        vertical-align: top;\n",
       "    }\n",
       "\n",
       "    .dataframe thead th {\n",
       "        text-align: right;\n",
       "    }\n",
       "</style>\n",
       "<table border=\"1\" class=\"dataframe\">\n",
       "  <thead>\n",
       "    <tr style=\"text-align: right;\">\n",
       "      <th></th>\n",
       "      <th>dt</th>\n",
       "      <th>Channel</th>\n",
       "      <th>costs</th>\n",
       "    </tr>\n",
       "  </thead>\n",
       "  <tbody>\n",
       "    <tr>\n",
       "      <th>1492</th>\n",
       "      <td>2019-06-22</td>\n",
       "      <td>WahooNetBanner</td>\n",
       "      <td>41.40</td>\n",
       "    </tr>\n",
       "    <tr>\n",
       "      <th>1421</th>\n",
       "      <td>2019-10-09</td>\n",
       "      <td>OppleCreativeMedia</td>\n",
       "      <td>12.25</td>\n",
       "    </tr>\n",
       "    <tr>\n",
       "      <th>1541</th>\n",
       "      <td>2019-08-10</td>\n",
       "      <td>WahooNetBanner</td>\n",
       "      <td>43.20</td>\n",
       "    </tr>\n",
       "  </tbody>\n",
       "</table>\n",
       "</div>"
      ],
      "text/plain": [
       "              dt             Channel  costs\n",
       "1492  2019-06-22      WahooNetBanner  41.40\n",
       "1421  2019-10-09  OppleCreativeMedia  12.25\n",
       "1541  2019-08-10      WahooNetBanner  43.20"
      ]
     },
     "metadata": {},
     "output_type": "display_data"
    },
    {
     "name": "stdout",
     "output_type": "stream",
     "text": [
      "<class 'pandas.core.frame.DataFrame'>\n",
      "RangeIndex: 1800 entries, 0 to 1799\n",
      "Data columns (total 3 columns):\n",
      " #   Column   Non-Null Count  Dtype  \n",
      "---  ------   --------------  -----  \n",
      " 0   dt       1800 non-null   object \n",
      " 1   Channel  1800 non-null   object \n",
      " 2   costs    1800 non-null   float64\n",
      "dtypes: float64(1), object(2)\n",
      "memory usage: 42.3+ KB\n",
      "\n",
      "\n"
     ]
    }
   ],
   "source": [
    "names = ['visits', 'orders', 'costs']\n",
    "tables = [visits, orders, costs]\n",
    "for table,name in zip(tables, names):\n",
    "    print('ТАБЛИЦА: ',name)\n",
    "    display(table.shape)\n",
    "    display(table.sample(3))\n",
    "    table.info()\n",
    "    print('\\n')"
   ]
  },
  {
   "cell_type": "markdown",
   "id": "3b473bda",
   "metadata": {},
   "source": [
    "Пропусков нет, проверим данные на дубликаты"
   ]
  },
  {
   "cell_type": "code",
   "execution_count": 4,
   "id": "63f2b1f2",
   "metadata": {},
   "outputs": [
    {
     "name": "stdout",
     "output_type": "stream",
     "text": [
      "0\n",
      "0\n",
      "0\n"
     ]
    }
   ],
   "source": [
    "for table in tables:\n",
    "    print(table.duplicated().sum())"
   ]
  },
  {
   "cell_type": "markdown",
   "id": "2b14ed0f",
   "metadata": {},
   "source": [
    "Приведем таблицы к удобному для работы виду "
   ]
  },
  {
   "cell_type": "code",
   "execution_count": 5,
   "id": "05e751d1",
   "metadata": {},
   "outputs": [
    {
     "data": {
      "text/plain": [
       "Index(['User Id', 'Region', 'Device', 'Channel', 'Session Start',\n",
       "       'Session End'],\n",
       "      dtype='object')"
      ]
     },
     "execution_count": 5,
     "metadata": {},
     "output_type": "execute_result"
    }
   ],
   "source": [
    "visits.columns"
   ]
  },
  {
   "cell_type": "code",
   "execution_count": 6,
   "id": "db620752",
   "metadata": {},
   "outputs": [],
   "source": [
    "visits = visits.rename(\n",
    "    columns = {\n",
    "        visits.columns[0]:'user_id',\n",
    "        visits.columns[1]:'region',\n",
    "        visits.columns[2]:'device',\n",
    "        visits.columns[3]:'channel',\n",
    "        visits.columns[4]:'session_start',\n",
    "        visits.columns[5]:'session_end'\n",
    "    }\n",
    ")\n",
    "\n",
    "orders = orders.rename(\n",
    "    columns = {\n",
    "        orders.columns[0]:'user_id',\n",
    "        orders.columns[1]:'event_dt',\n",
    "        orders.columns[2]:'revenue',\n",
    "    }\n",
    ")\n",
    "\n",
    "costs = costs.rename(\n",
    "    columns = {\n",
    "        costs.columns[0]:'dt',\n",
    "        costs.columns[1]:'channel',\n",
    "        costs.columns[2]:'costs',\n",
    "    }\n",
    ")"
   ]
  },
  {
   "cell_type": "markdown",
   "id": "092719b6",
   "metadata": {},
   "source": [
    "Посчитаем длину сессии пльзователей из таблицы visits"
   ]
  },
  {
   "cell_type": "code",
   "execution_count": 7,
   "id": "7462eb1e",
   "metadata": {},
   "outputs": [],
   "source": [
    "visits['session_start'] = pd.to_datetime(visits['session_start'])\n",
    "visits['session_end'] = pd.to_datetime(visits['session_end'])"
   ]
  },
  {
   "cell_type": "markdown",
   "id": "b82da543",
   "metadata": {},
   "source": [
    "Преобразуем тип данных"
   ]
  },
  {
   "cell_type": "code",
   "execution_count": 8,
   "id": "003646a8",
   "metadata": {},
   "outputs": [],
   "source": [
    "costs['dt'] = pd.to_datetime(costs['dt'])"
   ]
  },
  {
   "cell_type": "code",
   "execution_count": 9,
   "id": "8ad1f42e",
   "metadata": {},
   "outputs": [
    {
     "data": {
      "text/html": [
       "<div>\n",
       "<style scoped>\n",
       "    .dataframe tbody tr th:only-of-type {\n",
       "        vertical-align: middle;\n",
       "    }\n",
       "\n",
       "    .dataframe tbody tr th {\n",
       "        vertical-align: top;\n",
       "    }\n",
       "\n",
       "    .dataframe thead th {\n",
       "        text-align: right;\n",
       "    }\n",
       "</style>\n",
       "<table border=\"1\" class=\"dataframe\">\n",
       "  <thead>\n",
       "    <tr style=\"text-align: right;\">\n",
       "      <th></th>\n",
       "      <th>user_id</th>\n",
       "      <th>region</th>\n",
       "      <th>device</th>\n",
       "      <th>channel</th>\n",
       "      <th>session_start</th>\n",
       "      <th>session_end</th>\n",
       "      <th>session_length</th>\n",
       "    </tr>\n",
       "  </thead>\n",
       "  <tbody>\n",
       "    <tr>\n",
       "      <th>110558</th>\n",
       "      <td>267068500935</td>\n",
       "      <td>United States</td>\n",
       "      <td>iPhone</td>\n",
       "      <td>organic</td>\n",
       "      <td>2019-08-16 02:08:57</td>\n",
       "      <td>2019-08-16 02:16:38</td>\n",
       "      <td>0 days 00:07:41</td>\n",
       "    </tr>\n",
       "    <tr>\n",
       "      <th>111588</th>\n",
       "      <td>267068500935</td>\n",
       "      <td>United States</td>\n",
       "      <td>iPhone</td>\n",
       "      <td>organic</td>\n",
       "      <td>2019-08-17 13:27:23</td>\n",
       "      <td>2019-08-17 14:15:08</td>\n",
       "      <td>0 days 00:47:45</td>\n",
       "    </tr>\n",
       "    <tr>\n",
       "      <th>121264</th>\n",
       "      <td>267068500935</td>\n",
       "      <td>United States</td>\n",
       "      <td>iPhone</td>\n",
       "      <td>organic</td>\n",
       "      <td>2019-08-25 18:45:22</td>\n",
       "      <td>2019-08-25 18:47:31</td>\n",
       "      <td>0 days 00:02:09</td>\n",
       "    </tr>\n",
       "  </tbody>\n",
       "</table>\n",
       "</div>"
      ],
      "text/plain": [
       "             user_id         region  device  channel       session_start  \\\n",
       "110558  267068500935  United States  iPhone  organic 2019-08-16 02:08:57   \n",
       "111588  267068500935  United States  iPhone  organic 2019-08-17 13:27:23   \n",
       "121264  267068500935  United States  iPhone  organic 2019-08-25 18:45:22   \n",
       "\n",
       "               session_end  session_length  \n",
       "110558 2019-08-16 02:16:38 0 days 00:07:41  \n",
       "111588 2019-08-17 14:15:08 0 days 00:47:45  \n",
       "121264 2019-08-25 18:47:31 0 days 00:02:09  "
      ]
     },
     "execution_count": 9,
     "metadata": {},
     "output_type": "execute_result"
    }
   ],
   "source": [
    "visits['session_length'] = pd.to_datetime(visits['session_end']) - pd.to_datetime(visits['session_start'])\n",
    "\n",
    "visits.query('user_id == 267068500935')"
   ]
  },
  {
   "cell_type": "markdown",
   "id": "f0c201c8",
   "metadata": {},
   "source": [
    "    Создадим профиль пользователей\n",
    "    id, channel, device, region, session start, month, dt, payer, costs, acquisition_cost"
   ]
  },
  {
   "cell_type": "code",
   "execution_count": 10,
   "id": "0f70250c",
   "metadata": {},
   "outputs": [],
   "source": [
    "# выделяем первое песещение пользователя \n",
    "profiles = visits.pivot_table(\n",
    "    index = 'user_id',\n",
    "    values = ['session_start', 'channel', 'device', 'region'],\n",
    "    aggfunc = 'first'\n",
    "). reset_index().sort_values(by = 'session_start')\n",
    "\n",
    "# выделяем месяц\n",
    "profiles['month'] = profiles['session_start'].astype('datetime64[M]')\n",
    "profiles['dt'] = profiles['session_start'].astype('datetime64[D]')\n",
    "\n",
    "# является ли платящим(хоть раз платил) клиент или нет(пересечение в таблице orders)\n",
    "profiles['payer'] = profiles['user_id'].isin(orders['user_id'].unique()) \n",
    "\n",
    "# посчитаем стоимость привлечения одного пользователя\n",
    "acquisition_cost = profiles.pivot_table(index = ['dt','channel'], values = 'user_id', aggfunc = 'nunique').reset_index().merge(\n",
    "        costs.pivot_table(index = ['dt','channel'], values = 'costs').reset_index(), \n",
    "        on = ['dt','channel'],\n",
    "        how = 'left'\n",
    "                      ).rename(columns = {'user_id':'count_user_id'})\n",
    "\n",
    "acquisition_cost['acquisition_cost'] = acquisition_cost['costs']/acquisition_cost['count_user_id']\n",
    "\n",
    "profiles = profiles.merge(acquisition_cost, on=['dt','channel'], how='left')"
   ]
  },
  {
   "cell_type": "code",
   "execution_count": 11,
   "id": "0a495c61",
   "metadata": {},
   "outputs": [
    {
     "data": {
      "text/html": [
       "<div>\n",
       "<style scoped>\n",
       "    .dataframe tbody tr th:only-of-type {\n",
       "        vertical-align: middle;\n",
       "    }\n",
       "\n",
       "    .dataframe tbody tr th {\n",
       "        vertical-align: top;\n",
       "    }\n",
       "\n",
       "    .dataframe thead th {\n",
       "        text-align: right;\n",
       "    }\n",
       "</style>\n",
       "<table border=\"1\" class=\"dataframe\">\n",
       "  <thead>\n",
       "    <tr style=\"text-align: right;\">\n",
       "      <th></th>\n",
       "      <th>user_id</th>\n",
       "      <th>channel</th>\n",
       "      <th>device</th>\n",
       "      <th>region</th>\n",
       "      <th>session_start</th>\n",
       "      <th>month</th>\n",
       "      <th>dt</th>\n",
       "      <th>payer</th>\n",
       "      <th>count_user_id</th>\n",
       "      <th>costs</th>\n",
       "      <th>acquisition_cost</th>\n",
       "    </tr>\n",
       "  </thead>\n",
       "  <tbody>\n",
       "    <tr>\n",
       "      <th>149712</th>\n",
       "      <td>329994900775</td>\n",
       "      <td>LeapBob</td>\n",
       "      <td>PC</td>\n",
       "      <td>UK</td>\n",
       "      <td>2019-10-27 18:17:40</td>\n",
       "      <td>2019-10-01</td>\n",
       "      <td>2019-10-27</td>\n",
       "      <td>True</td>\n",
       "      <td>58</td>\n",
       "      <td>12.81</td>\n",
       "      <td>0.220862</td>\n",
       "    </tr>\n",
       "  </tbody>\n",
       "</table>\n",
       "</div>"
      ],
      "text/plain": [
       "             user_id  channel device region       session_start      month  \\\n",
       "149712  329994900775  LeapBob     PC     UK 2019-10-27 18:17:40 2019-10-01   \n",
       "\n",
       "               dt  payer  count_user_id  costs  acquisition_cost  \n",
       "149712 2019-10-27   True             58  12.81          0.220862  "
      ]
     },
     "execution_count": 11,
     "metadata": {},
     "output_type": "execute_result"
    }
   ],
   "source": [
    "profiles.query('user_id == 329994900775')"
   ]
  },
  {
   "cell_type": "markdown",
   "id": "57018d9d",
   "metadata": {},
   "source": [
    "Рассмотрим наших пользователей по регионам"
   ]
  },
  {
   "cell_type": "markdown",
   "id": "13404af4",
   "metadata": {},
   "source": [
    "1 вариант"
   ]
  },
  {
   "cell_type": "code",
   "execution_count": 85,
   "id": "121658ac",
   "metadata": {},
   "outputs": [
    {
     "data": {
      "text/html": [
       "<div>\n",
       "<style scoped>\n",
       "    .dataframe tbody tr th:only-of-type {\n",
       "        vertical-align: middle;\n",
       "    }\n",
       "\n",
       "    .dataframe tbody tr th {\n",
       "        vertical-align: top;\n",
       "    }\n",
       "\n",
       "    .dataframe thead tr th {\n",
       "        text-align: left;\n",
       "    }\n",
       "</style>\n",
       "<table border=\"1\" class=\"dataframe\">\n",
       "  <thead>\n",
       "    <tr>\n",
       "      <th></th>\n",
       "      <th>region</th>\n",
       "      <th>count</th>\n",
       "      <th>sum</th>\n",
       "      <th>%_payer</th>\n",
       "      <th>%_count_all</th>\n",
       "    </tr>\n",
       "    <tr>\n",
       "      <th></th>\n",
       "      <th></th>\n",
       "      <th>payer</th>\n",
       "      <th>payer</th>\n",
       "      <th></th>\n",
       "      <th></th>\n",
       "    </tr>\n",
       "  </thead>\n",
       "  <tbody>\n",
       "    <tr>\n",
       "      <th>0</th>\n",
       "      <td>France</td>\n",
       "      <td>17450</td>\n",
       "      <td>663</td>\n",
       "      <td>3.8</td>\n",
       "      <td>11.6</td>\n",
       "    </tr>\n",
       "    <tr>\n",
       "      <th>1</th>\n",
       "      <td>Germany</td>\n",
       "      <td>14981</td>\n",
       "      <td>616</td>\n",
       "      <td>4.1</td>\n",
       "      <td>10.0</td>\n",
       "    </tr>\n",
       "    <tr>\n",
       "      <th>2</th>\n",
       "      <td>UK</td>\n",
       "      <td>17575</td>\n",
       "      <td>700</td>\n",
       "      <td>4.0</td>\n",
       "      <td>11.7</td>\n",
       "    </tr>\n",
       "    <tr>\n",
       "      <th>3</th>\n",
       "      <td>United States</td>\n",
       "      <td>100002</td>\n",
       "      <td>6902</td>\n",
       "      <td>6.9</td>\n",
       "      <td>66.7</td>\n",
       "    </tr>\n",
       "  </tbody>\n",
       "</table>\n",
       "</div>"
      ],
      "text/plain": [
       "          region   count   sum %_payer %_count_all\n",
       "                   payer payer                    \n",
       "0         France   17450   663     3.8        11.6\n",
       "1        Germany   14981   616     4.1        10.0\n",
       "2             UK   17575   700     4.0        11.7\n",
       "3  United States  100002  6902     6.9        66.7"
      ]
     },
     "execution_count": 85,
     "metadata": {},
     "output_type": "execute_result"
    }
   ],
   "source": [
    "users_region = profiles.pivot_table(index='region', values='payer', aggfunc=['count', 'sum']).reset_index()\n",
    "users_region['%_payer'] = round(users_region[('sum','payer')]/users_region[('count','payer')]*100, 1)\n",
    "users_region['%_count_all'] = round(users_region[('count','payer')]/users_region[('count','payer')].sum()*100, 1)\n",
    "users_region"
   ]
  },
  {
   "cell_type": "code",
   "execution_count": 86,
   "id": "9fa0b8fa",
   "metadata": {},
   "outputs": [
    {
     "data": {
      "image/png": "[encoded data removed]",
      "text/plain": [
       "<Figure size 720x504 with 3 Axes>"
      ]
     },
     "metadata": {
      "needs_background": "light"
     },
     "output_type": "display_data"
    }
   ],
   "source": [
    "fig = plt.figure(figsize=(10,7))\n",
    "\n",
    "colors = sns.color_palette('pastel')\n",
    "\n",
    "ax1 = fig.add_subplot(2,2,1)\n",
    "plt.pie(\n",
    "    x = users_region['%_count_all'],\n",
    "    labels = users_region['region'],\n",
    "    colors = colors,\n",
    "    autopct='%1.1f%%'\n",
    ")\n",
    "plt.title('Всего пользователей')\n",
    "\n",
    "ax2 = fig.add_subplot(2,2,2)\n",
    "plt.pie(\n",
    "    x = users_region[('sum','payer')],\n",
    "    labels = users_region['region'],\n",
    "    colors = colors,\n",
    "    autopct='%1.1f%%'\n",
    ")\n",
    "plt.title('Платящие пользователи')\n",
    "\n",
    "ax2 = fig.add_subplot(2,2,3)\n",
    "plt.bar(\n",
    "    x = users_region['region'],\n",
    "    height = users_region['%_payer']\n",
    ")\n",
    "plt.title('Процент платящих пользователей от общего')\n",
    "\n",
    "plt.show()\n"
   ]
  },
  {
   "cell_type": "markdown",
   "id": "e0b41d05",
   "metadata": {},
   "source": [
    "    Вывод \n",
    "    66% клиентов приходится на США \n",
    "    11,5% на бритов и французов\n",
    "    10% на немцев\n",
    "    \n",
    "    из них платящих\n",
    "    77% процентов сша\n",
    "    7,6% на бритов и французов\n",
    "    7% на немцев\n",
    "    \n",
    "    7% переходят в платящие в сша\n",
    "    4% - бриты, французы, немцы"
   ]
  },
  {
   "cell_type": "markdown",
   "id": "42855219",
   "metadata": {},
   "source": [
    "2 вариант"
   ]
  },
  {
   "cell_type": "code",
   "execution_count": 166,
   "id": "d0616c05",
   "metadata": {},
   "outputs": [
    {
     "data": {
      "text/html": [
       "<div>\n",
       "<style scoped>\n",
       "    .dataframe tbody tr th:only-of-type {\n",
       "        vertical-align: middle;\n",
       "    }\n",
       "\n",
       "    .dataframe tbody tr th {\n",
       "        vertical-align: top;\n",
       "    }\n",
       "\n",
       "    .dataframe thead tr th {\n",
       "        text-align: left;\n",
       "    }\n",
       "</style>\n",
       "<table border=\"1\" class=\"dataframe\">\n",
       "  <thead>\n",
       "    <tr>\n",
       "      <th></th>\n",
       "      <th>region</th>\n",
       "      <th>device</th>\n",
       "      <th>channel</th>\n",
       "      <th>month</th>\n",
       "      <th>count</th>\n",
       "      <th>sum</th>\n",
       "      <th>%_payer</th>\n",
       "      <th>%_count_all</th>\n",
       "    </tr>\n",
       "    <tr>\n",
       "      <th></th>\n",
       "      <th></th>\n",
       "      <th></th>\n",
       "      <th></th>\n",
       "      <th></th>\n",
       "      <th>payer</th>\n",
       "      <th>payer</th>\n",
       "      <th></th>\n",
       "      <th></th>\n",
       "    </tr>\n",
       "  </thead>\n",
       "  <tbody>\n",
       "    <tr>\n",
       "      <th>0</th>\n",
       "      <td>France</td>\n",
       "      <td>Android</td>\n",
       "      <td>AdNonSense</td>\n",
       "      <td>2019-05-01</td>\n",
       "      <td>123</td>\n",
       "      <td>12</td>\n",
       "      <td>9.8</td>\n",
       "      <td>0.1</td>\n",
       "    </tr>\n",
       "    <tr>\n",
       "      <th>1</th>\n",
       "      <td>France</td>\n",
       "      <td>Android</td>\n",
       "      <td>AdNonSense</td>\n",
       "      <td>2019-06-01</td>\n",
       "      <td>61</td>\n",
       "      <td>10</td>\n",
       "      <td>16.4</td>\n",
       "      <td>0.0</td>\n",
       "    </tr>\n",
       "    <tr>\n",
       "      <th>2</th>\n",
       "      <td>France</td>\n",
       "      <td>Android</td>\n",
       "      <td>AdNonSense</td>\n",
       "      <td>2019-07-01</td>\n",
       "      <td>56</td>\n",
       "      <td>4</td>\n",
       "      <td>7.1</td>\n",
       "      <td>0.0</td>\n",
       "    </tr>\n",
       "    <tr>\n",
       "      <th>3</th>\n",
       "      <td>France</td>\n",
       "      <td>Android</td>\n",
       "      <td>AdNonSense</td>\n",
       "      <td>2019-08-01</td>\n",
       "      <td>64</td>\n",
       "      <td>7</td>\n",
       "      <td>10.9</td>\n",
       "      <td>0.0</td>\n",
       "    </tr>\n",
       "    <tr>\n",
       "      <th>4</th>\n",
       "      <td>France</td>\n",
       "      <td>Android</td>\n",
       "      <td>AdNonSense</td>\n",
       "      <td>2019-09-01</td>\n",
       "      <td>44</td>\n",
       "      <td>5</td>\n",
       "      <td>11.4</td>\n",
       "      <td>0.0</td>\n",
       "    </tr>\n",
       "  </tbody>\n",
       "</table>\n",
       "</div>"
      ],
      "text/plain": [
       "   region   device     channel      month count   sum %_payer %_count_all\n",
       "                                          payer payer                    \n",
       "0  France  Android  AdNonSense 2019-05-01   123    12     9.8         0.1\n",
       "1  France  Android  AdNonSense 2019-06-01    61    10    16.4         0.0\n",
       "2  France  Android  AdNonSense 2019-07-01    56     4     7.1         0.0\n",
       "3  France  Android  AdNonSense 2019-08-01    64     7    10.9         0.0\n",
       "4  France  Android  AdNonSense 2019-09-01    44     5    11.4         0.0"
      ]
     },
     "execution_count": 166,
     "metadata": {},
     "output_type": "execute_result"
    }
   ],
   "source": [
    "z = profiles.pivot_table(index=['region', 'device', 'channel', 'month'], values='payer', aggfunc=['count', 'sum']).reset_index()\n",
    "z['%_payer'] = round(z[('sum','payer')]/z[('count','payer')]*100, 1)\n",
    "z['%_count_all'] = round(z[('count','payer')]/z[('count','payer')].sum()*100, 1)\n",
    "z.head()"
   ]
  },
  {
   "cell_type": "code",
   "execution_count": 154,
   "id": "7bb4a6ce",
   "metadata": {},
   "outputs": [
    {
     "data": {
      "image/png": "[encoded data removed]",
      "text/plain": [
       "<Figure size 720x504 with 3 Axes>"
      ]
     },
     "metadata": {
      "needs_background": "light"
     },
     "output_type": "display_data"
    }
   ],
   "source": [
    "fig = plt.figure(figsize=(10,7))\n",
    "\n",
    "colors = sns.color_palette('pastel')\n",
    "\n",
    "ax1 = fig.add_subplot(2,2,1)\n",
    "plt.pie(\n",
    "    x = z.groupby('region')['%_count_all'].sum(),\n",
    "    labels = z['region'].unique(),\n",
    "    colors = colors,\n",
    "    autopct='%1.1f%%'\n",
    ")\n",
    "plt.title('Всего пользователей')\n",
    "\n",
    "ax2 = fig.add_subplot(2,2,2)\n",
    "plt.pie(\n",
    "    x = z.pivot_table(index='region', values=z.columns[5][0], aggfunc='sum').reset_index()['payer'],\n",
    "    labels = z.pivot_table(index='region', values=z.columns[5][0], aggfunc='sum').reset_index()['region'],\n",
    "    colors = colors,\n",
    "    autopct='%1.1f%%'\n",
    ")\n",
    "plt.title('Платящие пользователи')\n",
    "\n",
    "ax2 = fig.add_subplot(2,2,3)\n",
    "plt.bar(\n",
    "    x = z.pivot_table(index='region', values=z.columns[6][0], aggfunc='sum').reset_index()['region'],\n",
    "    height = z.pivot_table(index='region', values=z.columns[6][0], aggfunc='median').reset_index()['']\n",
    ")\n",
    "plt.title('Процент платящих пользователей от общего')\n",
    "\n",
    "\n",
    "plt.show()"
   ]
  },
  {
   "cell_type": "markdown",
   "id": "1a76985a",
   "metadata": {},
   "source": [
    "    Вывод \n",
    "    66% клиентов приходится на США \n",
    "    11,5% на бритов и французов\n",
    "    10% на немцев\n",
    "    \n",
    "    из них платящих\n",
    "    77% процентов сша\n",
    "    7,6% на бритов и французов\n",
    "    7% на немцев\n",
    "    \n",
    "    7% переходят в платящие в сша\n",
    "    4% - бриты, французы, немцы"
   ]
  },
  {
   "cell_type": "code",
   "execution_count": 168,
   "id": "f58bbb60",
   "metadata": {},
   "outputs": [
    {
     "data": {
      "image/png": "[encoded data removed]",
      "text/plain": [
       "<Figure size 720x504 with 3 Axes>"
      ]
     },
     "metadata": {
      "needs_background": "light"
     },
     "output_type": "display_data"
    }
   ],
   "source": [
    "fig = plt.figure(figsize=(10,7))\n",
    "\n",
    "colors = sns.color_palette('pastel')\n",
    "\n",
    "ax1 = fig.add_subplot(2,2,1)\n",
    "plt.pie(\n",
    "    x = z.groupby('device')['%_count_all'].sum(),\n",
    "    labels = z['device'].unique(),\n",
    "    colors = colors,\n",
    "    autopct='%1.1f%%'\n",
    ")\n",
    "plt.title('Всего пользователей')\n",
    "\n",
    "ax2 = fig.add_subplot(2,2,2)\n",
    "plt.pie(\n",
    "    x = z.pivot_table(index='device', values=z.columns[5][0], aggfunc='sum').reset_index()['payer'],\n",
    "    labels = z.pivot_table(index='device', values=z.columns[5][0], aggfunc='sum').reset_index()['device'],\n",
    "    colors = colors,\n",
    "    autopct='%1.1f%%'\n",
    ")\n",
    "plt.title('Платящие пользователи')\n",
    "\n",
    "ax2 = fig.add_subplot(2,2,3)\n",
    "plt.bar(\n",
    "    x = z.pivot_table(index='device', values=z.columns[6][0], aggfunc='sum').reset_index()['device'],\n",
    "    height = z.pivot_table(index='device', values=z.columns[6][0], aggfunc='median').reset_index()['']\n",
    ")\n",
    "plt.title('Процент платящих пользователей от общего')\n",
    "\n",
    "\n",
    "plt.show()"
   ]
  },
  {
   "cell_type": "markdown",
   "id": "70b6bbfe",
   "metadata": {},
   "source": [
    "По девайсам картина почти равномерная "
   ]
  },
  {
   "cell_type": "code",
   "execution_count": 192,
   "id": "5b85c4bd",
   "metadata": {},
   "outputs": [
    {
     "data": {
      "text/plain": [
       "Text(0.5, 1.0, 'Процент платящих пользователей от общего')"
      ]
     },
     "execution_count": 192,
     "metadata": {},
     "output_type": "execute_result"
    },
    {
     "data": {
      "image/png": "[encoded data removed]",
      "text/plain": [
       "<Figure size 1440x720 with 3 Axes>"
      ]
     },
     "metadata": {
      "needs_background": "light"
     },
     "output_type": "display_data"
    }
   ],
   "source": [
    "fig = plt.figure(figsize=(20,10))\n",
    "\n",
    "colors = sns.color_palette('pastel')\n",
    "\n",
    "ax1 = fig.add_subplot(2,2,1)\n",
    "plt.pie(\n",
    "    x = z.groupby('channel')['%_count_all'].sum(),\n",
    "    labels = z['channel'].unique(),\n",
    "    colors = colors,\n",
    "    autopct='%1.1f%%'\n",
    ")\n",
    "plt.title('Всего пользователей')\n",
    "\n",
    "ax2 = fig.add_subplot(2,2,2)\n",
    "plt.pie(\n",
    "    x = z.pivot_table(index='channel', values=z.columns[5][0], aggfunc='sum').reset_index()['payer'],\n",
    "    labels = z.pivot_table(index='channel', values=z.columns[5][0], aggfunc='sum').reset_index()['channel'],\n",
    "    colors = colors,\n",
    "    autopct='%1.1f%%'\n",
    ")\n",
    "plt.title('Платящие пользователи')\n",
    "\n",
    "ax2 = fig.add_subplot(2,2,3)\n",
    "plt.bar(\n",
    "    x = z.pivot_table(index='channel', values=z.columns[6][0], aggfunc='sum').reset_index()['channel'],\n",
    "    height = z.pivot_table(index='channel', values=z.columns[6][0], aggfunc='median').reset_index()['']\n",
    ")\n",
    "plt.title('Процент платящих пользователей от общего')\n",
    "\n",
    "\n",
    "# plt.show()"
   ]
  },
  {
   "cell_type": "code",
   "execution_count": null,
   "id": "6f478ba6",
   "metadata": {},
   "outputs": [],
   "source": []
  }
 ],
 "metadata": {
  "kernelspec": {
   "display_name": "Python 3 (ipykernel)",
   "language": "python",
   "name": "python3"
  },
  "language_info": {
   "codemirror_mode": {
    "name": "ipython",
    "version": 3
   },
   "file_extension": ".py",
   "mimetype": "text/x-python",
   "name": "python",
   "nbconvert_exporter": "python",
   "pygments_lexer": "ipython3",
   "version": "3.9.7"
  },
  "toc": {
   "base_numbering": 1,
   "nav_menu": {},
   "number_sections": true,
   "sideBar": true,
   "skip_h1_title": false,
   "title_cell": "Table of Contents",
   "title_sidebar": "Contents",
   "toc_cell": false,
   "toc_position": {},
   "toc_section_display": true,
   "toc_window_display": false
  }
 },
 "nbformat": 4,
 "nbformat_minor": 5
}
